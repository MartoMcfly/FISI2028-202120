{
 "cells": [
  {
   "cell_type": "code",
   "execution_count": 1,
   "metadata": {},
   "outputs": [],
   "source": [
    "import numpy as np\n",
    "import pandas as pd\n",
    "import scipy as sp\n",
    "import sklearn as sl\n",
    "\n",
    "import seaborn as sns; sns.set()\n",
    "import matplotlib as mpl\n",
    "from matplotlib import pyplot as plt\n",
    "from mpl_toolkits.mplot3d import axes3d\n",
    "from matplotlib import cm\n",
    "%matplotlib inline"
   ]
  },
  {
   "cell_type": "markdown",
   "metadata": {},
   "source": [
    "# Tarea 3: Encuentre la regresión\n",
    "\n",
    "Ud recibe unos datos $x$ y $y$ cómo se muestran a continuación. Ud debe responder cuatro preguntas a partir de estos datos. Suponga que ud tiene un modelo tal que $y=f(x)$ más aún desconoce $f$."
   ]
  },
  {
   "cell_type": "code",
=======
   "execution_count": 2,
   "metadata": {},
   "outputs": [
    {
     "data": {
      "image/png": "iVBORw0KGgoAAAANSUhEUgAAAYkAAAEMCAYAAAAxoErWAAAAOXRFWHRTb2Z0d2FyZQBNYXRwbG90bGliIHZlcnNpb24zLjQuMiwgaHR0cHM6Ly9tYXRwbG90bGliLm9yZy8rg+JYAAAACXBIWXMAAAsTAAALEwEAmpwYAAAnr0lEQVR4nO3de5Bc5Xnn8W/3aEbS3BDqaSGhCyiy5wnrCFOStVqRgG1sxV5qs3KwQVZMyCa2g8IaslCuIuuKicpxUmZDhYIYRRT2JsTaKECMIeVVYFGIAzaYcJEMtuVXCAuNEJI1GhCjGd2G6d4/+syop6dP38/p092/T5UKTffpnofTrfOc9/a8sXQ6jYiISD7xegcgIiLRpSQhIiK+lCRERMSXkoSIiPhSkhAREV8z6h1ADc0EVgGHgPE6xyIi0ijagAXA88Dp3CebKUmsAp6udxAiIg3qMuD7uQ82U5I4BPD226OkUuWt/UgkuhkaGgkkqGoorvIorvJFNTbFVZ5q4orHY5x7bhd419BczZQkxgFSqXTZSWLidVGkuMqjuMoX1dgUV3lqEFfebnoNXIuIiC8lCRER8aUkISIivpQkRETEl5KENIYYDJ8cY2BwlOFT70Ks3gGJtIZmmt0kzSoGuwfe4e4Hd3F6bJyZ7W3cdM0lXLTkHIjmRBORpqGWhETe8ImxyQQBcHpsnLsf3MXwibE6RybS/JQkJPKOjZyZTBATTo+Nc2z0TJ0iEmkdShISeXN6ZjKzvW3KYzPb25jT1VGniERah5KERF7v7BncdM0lk4liYkyit7O9zpGJNL9QBq7N7A7gk8CFwHLn3I8LHGvATmCzc+6LYcQnEZeGi5acw+03XMqx0TPM6erIJAgNWosELqyWxCPA5cD+QgeZWRtwr3e8yFlp6J3dzpK+LnpnK0GIhCWUloRz7vsAmUZCQX8EfBfo9v6ITBfLzHg6NnKGOT0z6Z09Q0lDJCCRWSdhZhcDHwM+DHy5zuFIGCq52BdaMyEiNReJJGFm7cB9wO8658ZLaHH4SiQqa4Akkz0V/84gNWtcqVSaZ185xJ3bXpq82N+8YQVrli8gHvdfTn3wyEjeNRN/fsOvcnjvIHN7Z7Ogr6vge9RDVD9HiG5siqs8QcUViSRBZuu8ZcB2L0HMAWJm1uuc+/1y3mhoaKTsuurJZA+Dg8fLek0Ymjmu4ZNjkwkCMhf7O7e9xPxzL82MOfg4fHQ075qJ5396mH94Yk8kV2NH9XOE6MamuMpTTVzxeKzgzXUkkoRzbgDom/jZzDYB3Zrd1LwKLZArlCQm1kxkv3Zmexup1Nn3uPvBXdx+Q+FkIyKlCWV2k5ndbWZvAIuAHWb2E+/x7Wb2gTBikGipdIFcvjUT69f28+SLA5PHVLUaW4UERaYIa3bTTcBNeR6/0uf4TUHHJPU1cbHPHYAuuv4hZ81E16x2/nLbSxw9dmrykIpXY6uQoMg0kehukhZUzQI5b81E7+x2iMG1H7+o/GSTh18hQXVdSStTkpD6ybnYV7T2ISvZnBgbp7O9reLV2JWOk4g0MyUJqb9qu3m8ZLNsydzMDI8Ku4b8BsVVSFBamQr8Sd1FZb8IFRIUmU4tCam7yHTzqJCgyDRKElJ3kermyR4n8X4WaWXqbpK6UzePSHSpJSH1p24ekchSkpBoUDePSCSpu0lERHwpSYiIiC8lCRER8aUkIdGliqwidaeBa4mmICqyam9skbIpSUgk1bwiq8qAi1RE3U0SSYVKdVQiKvWhRBqNkoREUtk718Xg4JER3nzrBEMjZxg4OnUco9ZJR6RVqLtJIqmsneu8rqStj+1m7eoLeOCJPdO6lCJVH0qkgShJSDSVUapjoitp3eXLJhME5IxjdLZXtl2qSIsLJUmY2R3AJ4ELgeXOuR/nOebLwKeBd70/X3LOPR5GfBJRJZbqmOxKilGw5LjqQ4mUL6wxiUeAy4H9BY75d2CVc+79wO8BD5jZ7BBikwaXPX5RcBzDSzpL+royiUcJQqSoUJKEc+77zrkDRY553Dl3wvvxZTJDjonAg5OGNzF+8fTON1i/tl8lx0VqKJZOh3c7ZWavA/8lX3dTznG/A/yhc25FGW9/IbCv8uikEqlUmkNHR3lr+CRze2ezoK+LeDyW97nz5nbyi7dO5D22VnG8c+IUM+JtnDrzLoka/w6RJrcUeD33wcgNXJvZB4E/BdZW8vqhoRFSqfISXzLZw+Dg8Up+XaAiH1ehBWpMf27jVct5cMceDg2dCGQx28J5PXQMem82ewaQZmhopDZvXoWofo4Q3dgUV3mqiSsej5FIdPs/X2lQQTCzNcBW4BPOOVfveKSwQgvU8j235eFXuOySRdOOFZHoikxLwsxWAQ8An3LOvVTveKS4ggvU0vlnGmUX6cueeSQi0RRKS8LM7jazN4BFwA4z+4n3+HYz+4B32GZgNnCvme3y/iwPIz6pTKFV0X7PZXctVbWYTRViRUIRSkvCOXcTcFOex6/M+vuqMGKR2im4KhqmPTcxJgFUt5jNZywkMde/X1VEKhOZ7iZpQEVWRU97rqudpfNXVr2YzW8sZNmiOXSoRSFSU0oSUp1Cq6Jzn0uVtoK6GL+xkLeOn2R+76zK3lRE8orU7CaRUviNd8zt0QJ9kVpTkpCGMzEWkruyekFfV50jE2k+6m6SxuMzFqKV1SK1pyQhjanECrEiUh11N4mIiC8lCRER8aUkISIivpQkpPYasWRGI8YsEgINXEttFSofHtXB5UaMWSQkaklITRUqHx5VjRizSFiUJKSmCpYPjyi/mI8eP61uJ2l5ShJSU4XKh0eVX8x7D7zD7oF3lCikpSlJSE35lcyYKB8eRfliXr+2nx3P71e3k7Q8DVxLbRUpHx5JXsxf/uxqXt57FNKw/Zl9HD12CkC750lLU5KQ2mvEkhlp6J41g0f/7bUp4xNR7yoTCZq6m0Q8jdhVJhK0UFoSZnYH8EngQmC5c+7HeY5pA+4GPk7m3vNrzrlvhBGfCFC8qyyWmS57bOQMc3pm0jt7RmO0kkSqEFZ30yPAXcDTBY75DPAe4L1AAthpZjucc68HHp2c1eoXQr+uMi24kxYVSneTc+77zrkDRQ5bD9znnEs55wbJJJarAw9OzvIuhLdufoZN33yOW+/5gaaAerTgTlpVlAaulwD7s34eABaX+yaJRHdFvzyZ7KnodUELM66DR0byXgjvuuVDLJw39by22vk6vHcw74K7E2PjLFsyt25x1UJUY1Nc5QkqrigliZoYGhohlSqv/Z9M9jA4eDygiCoXdlyHj47mvRAeHhqhI3b2nLbi+eqcOYOZ7W3TZj51trcV/Z1RPV8Q3dgUV3mqiSsejxW8uY7S7KYB4IKsn5cAxbqopIYacbV0WDTzSVpVlFoSDwGfN7OHyQxcfwK4vK4RtZiJC2Hu4GzkF8MFKWsgf2Gyiztu+jXeGR3j1Ol36TtnVklvkUqlGT7ZwpMBpKGFNQX2buAqYD6ww8yGnHPvM7PtwG3OuReAbwGrgVe9l33FOffzMOITT6EpoFkXyzPpGB1xmv9ClzOjaUGik2s+2s+Wh18pfYZTDJ595RB3bntJs6KkIcXS6ab5pl4I7NOYRAAaZPpnrc/X8Mkxbt38zOQ4xDUf6efRp6avyL79hkt9y3bkvkcprwlTZL5jORRXeWo0JrEUeH3a81VFJi2hJad/xuDg0ImpA/kxyi6D3oil00WyKUlIUa14oRs+McaBX4zkHcjP/XlOV4fv9qeaDCCNTklCimrFC92xkTPseH4/69f2T/6/P73zDa6/avn0GU5d7b6LEHtnz+DmDSs0K0oaVpRmN0lEteKspzk9Mzk+Osb2Z/ax7vJlEIN4LMZ7F00f2B8ezd8dNzHusGb5Auaf20Cl00WyKElIcTmznuYnuumIp5v6QpedGB/8lz2TibGrow3a26bUdirUHdc7u514PNZ4pdNFPEoSUpqswnfJZHckZ3jUVBmbJ010x2kfCmlGGpMQ8eMlxiV9XZlWgE8LQKuxpZmpJSFSrUbcslWkREoSraDV94gIQyNu2SpSAiWJZhaDkVPv8vNDx/nrb79c/mppJReRlqck0ay8UhoHjozwne/t9Z2eWez1eUtxiEjL0MB1k5oopZFKpytaLd2SpThEZBoliSaVPXe/ktXSrViKQ0SmU5JoUhNz9598YWBKaYlSp2e2YikOEZlOYxJNKnvF8PZn9vGbH3oPi8/rZmGis6TpmQVLcYhIy1CSaFaF5u6XMkNJc/9FBCWJ5lbt3H3N/RdpeRqTEBERX6G1JMysH7gfSABDwHXOuVdzjpkH/A2wGOgAngRucs69G1acIqHQQkVpEGG2JLYA9zjn+oF7gHvzHPMlYLdz7mJgObASuCq8EJucz+5pEjJvoWK+TYpEoiaUJOG1EFYA27yHtgErzCyZc2ga6DGzODCTTGviYBgxNj1dmOorK0EPHT/D1sd2a6GiNISwWhKLgYPOuXEA779veo9n+1OgHzgEHAYed879IKQYm5pWUNdPKpWekqD/+N5nWbv6AvrmzJo8RgsVJaqiNrvpauBl4CNAD/DPZvYp59w/lvoGiUR3Rb84meyp6HVBq1Vch/cO5l1BfWJsnGVL5tYtrlqLYlwHj4xMS9APPLGHdZcv48F/2QNkFirOT3STTFb2/a1GFM8ZKK5yBRVXWEniALDQzNqcc+Nm1gac7z2e7Ubg95xzKeAdM3sU+DBQcpIYGhohlSpvBDCZ7InkTmu1jKtz5oy8u6d1treV/Tta4XzV0lvDp/Im6LjXjp9YqNgRT4cef1TPmeIqTzVxxeOxgjfXoXQ3OeeOALuADd5DG4CdzrnBnEP3AR8HMLMO4KPAj8OIsdlp97QaqHDgf27v7LwlTlbaPDZ9bjW333BpaaXbReogzO6mjcD9ZnYb8DZwHYCZbQduc869APwPYIuZvQK0Af8K3BdijM1LK6irU6h0epFzuKCvK2+Jk0RPB4lurxaWPgeJqFg63TTfzguBfepuCl4rxjV8coxbNz8zrbuu6L4cE3EdPZ5ZF1FKgg5xDUUrfpbVaMa4srqblgKv5z4ftYFrkUgqVDq9WJIASi9xUkWLRSQIKsvRaLQgri7CKp3uN1V56PgZfdZSFyUnCTP7SzO7JMBYpBgtiKubsAb+/VosL7oj+qylLsrpbmoHHjezQeBbwP9xzr0RTFiSj99dZin94lKlkAb+J1osuWMfqRT6rKUuSm5JOOduJLO24Y+AS4DdZrbDzK4zs/BXALWgQv3i6oIKgTeusKSvK3OhDmCMIF+LZf3afp58cUCrsqUuyhq49sppfBf4rpm9D/h74G+BzWb2D8CfOOdUaykgfneZsVhscuaNBjobnNdi+er1a3jRHSGVgu3P7OPosVPaPlbqoqyBazPrNbPPmtm/Ak8BzwGXARcBI8A/1z5EmZDvLvMLV7+fLQ+/rJpMzSQNiZ4OFs/r4dGnXptMEFr8KPVQckvCzP4R+BiZ5LAFeMQ5dzrr+VuAd2oeoZyVp1/85Jl3ueySRZNdTE++MMDRY6dKn5qpfQ2iSYsfJSLK6W76IfAF59zhfE8651Jmdl5twhJf2fPtY3BgcJRHn3ptsqtp/dp+nnhuf2ndEpqTH23aPlYioJyB6zv8EkTWMSeqD0lKNXxijK8/9KNp1UU3XnVxSd0SKh8uIsVoMV0D85vtlE6nS7rrLDRbSkQElCQaWrWrgMNaRSwijUtJotFkleWIx2NVrQJW+fA6UnkVaRAq8NdI8gw0f/G3VlQ+A0YzaOpDEwakgagl0UDyDTTf8fcvAVS+CjiEVcQylSYMSCNRkqi3MrodNNDc4LzP+vDbJ1n3wWX0zZk1+ZQ+R4kqdTfVU5ndDn5lOTTQ3ADyfNbr1/ar5IZEnloSdVRut4MGmhtXvs/6gSf2cMXKJfocJdJCa0mYWT9wP5AAhoDrnHOv5jnuGuDLZDpe0sBHnXO/CCvOMBXrPjq8d5DOmTPOlsrQQHPD8vusf2lhb6b8tz5Hiagwu5u2APc457aa2bXAvcAV2QeY2QeATcAVzrnDZnYOcHraOzWJiqq6qlRDQ/L7rOefO1sTBiTSQuluMrN5wApgm/fQNmCFmSVzDr0ZmCz/4Zx7xzl3KowY60FVXVuHugqlUYXVklgMHPT2o8A5N25mb3qPD2Yd9x+AfWb2FNANPAz8mXOuOe+z8nQfjZwc49DQ2RJYfXNmccXKJRx++yTEYqrS2qjUVSgNKmqzm2YAFwNrgQ7gMWAA+LtS3yCRqGyTvGSyp6LX1UJ2c+rgkZHJbom+ObO48tKlPPDEnsmup5s3rGDN8gXE4/VdolvP81VI1OPKbTpHQdTPWdS0WlxhJYkDwEIza/NaEW1ktkI9kHPcfuAfvX0qTpvZo8B/pIwkMTQ0QipV3u1ZMtnD4ODxsl4TlI443HTNJdz94C6uWLlkMkFApuvpzm0vMf/c+u5zHKXzlU1xlS+qsSmu8lQTVzweK3hzHcqYhHPuCLAL2OA9tAHY6ZwbzDn074FfN7OYmbUDHwF+FEaMkZHVLbFs8TlaPCcidRXmOomNwI1mtge40fsZM9vuzWoC+AfgCPBTMknlJ8A3Q4wxGrwZTBec16sqrSJSV6GNSTjnfgaszvP4lVl/TwG3eH9a3oK+rsmup+zpsBMzYrTtqIgELWoD15IlHo/lnxGDqoiKSDhUliPqJqq0JrsAGDgyytDxM6oiKiKhUEuiEeQUh/v02n7fAe16znqSkMXU5SjBU5JoALnF4VJpVA221eQmhM4Z7N6fuXHo6Wrno6suYPF53Szs61KykJpSkmgAucXhnnxhgPVr+6csspsc0NbFofnkKTP+pf+2ajJB5C641PiU1JKSRC0F1PzPLQ539NgpnnhuP1+9fg2jp8ZU4qHJDZ8YY+tju1l3+bLJTaleP/QOp8fGWbdy2bQFl3c/uCtTWVZdj1IDShK1EuC+xRPF4bLf+9qPX0Sip4NEt9fFpATRtEZOjrF29QVTWguf/a/vY0GiE2JofEoCpSRRI34bCH31+jUkejqqu4irOFxLm9kxY1pr4Zv/9BP+5++s4mf739b4lARKU2BrxG9TmRfdEXYPvFNw7+qSTEyF7evS/gMtZvTUWN7vFqS59FfO4w8+ebFKkEtg1JKoEb9NZVIp1EcsVZnT7b+3effMGVy89Fy1MiUwaknUSL5NZdav7efJFwdUlE+qUnTDokZqZcZg+OQYA4OjDJ96t/oWtgROLYla8cYNvnr9Gl50R0ilYPsz+zh67FTFfcSpVJrhk1os1fKaZUwqwMkdEhy1JGopDYmeDhbP6+HRp16bTBAV9RHH4UevDvLDn/6Cn+5/m9u/9UJtxjakMTVSa8GH3+QOlZOJNrUkKuW3JqIWd30x+Mnrx/j6Qz+avONav7afrY/t5tZrV2psQxqS3+QOTdeNNiWJShRrNnt3fZNf/DLv+oZPjE0mCMj8Q3rgiT2su3yZ/kFJw/Kb3KHputGm7qYKBN1s9rvjisfRPyhpWEUH4CWS1JKoQNDNZr87rosunNuYA5bSmGpdZqZZBuBbjJJEBYJuNucrw/GFq9/P4mQnpGryK0QgBgePjHD46Oj0JBDUTKQqu2IlfKElCTPrB+4HEsAQcJ1z7lWfYw3YCWx2zn0xrBhLle8iXtMqrN4d1123fIjDQyNn77iUIMRPuXf9RZKAX5eqFoW2njBbEluAe5xzW83sWuBe4Ircg8yszXvukRBjK0+xZnMtmulpWDivm45YevJnkbwquOsvlgQ0E0kmhDJwbWbzgBXANu+hbcAKM0vmOfyPgO8Ce8KIrWJ+89a9f7C3bn6GTd98jtu/9QIHjp5g4KhWmEowKplIUSgJwNku1WyaidSawprdtBg46JwbB/D++6b3+CQzuxj4GHBnSHHVXPY/2L45s1i7+gL+/G+fZ9M3nuPWe36gBXFSc8Uu+PkUSwKaiSQTIjNwbWbtwH3A7zrnxjPDEuVLJLorel0y2VPR63Id3js4+Q/2ipVL8m4Ic9ctH2LhvNLirFVctaa4yhNkXGfSsbwTKeYnukkm83/PEqk0N29YwZ3bXprsorp5wwqWLjqXeDxzF5OY282yRXN46/hJ5vbMZkFf1+RzYWjFz7IaQcUVVpI4ACw0szYvAbQB53uPT1gALAO2ewliDhAzs17n3O+X+ouGhkZIpcrrwE8mexgcPF7Wa/zGHTpnzjj7D9ZnQ5jDQyNnxxpqHVcIFFd5go6rI07eiRQd8XTB39u/sGfa5IihoZGp7x2D+b2zgPS054LUqp9lpaqJKx6PFby5DiVJOOeOmNkuYAOw1fvvTufcYNYxA0DfxM9mtgnojuLsJt+BwgvOIR6DP/jkxfz1t18G0ApTCV6+iRRd7QyPFpk8UenkiIC26ZVoCrO7aSNwv5ndBrwNXAdgZtuB25xzL4QYS1XyDRRufWw3v/WxX+brD/2Inq52fvND72HZwl6+cPX7p9RgqulUWZEJ2esPYrB7f0DVVlXJteXE0umm+WQvBPaF0d00MDjKpm8+N+Wxaz7Sz6NPvTat1fAXX/hVUql0RStMm7FpGyTFlTF8coxbNz8z7buYb41DubGV897V0GdZnhp1Ny0FXp/2fFWRtah8M0Pi8fzjD28dP93wJZ6lsVQy2ykK7y3RpCRRgXzTAy+6cK7mlUskBLnGQesnWo+SRCWyBgo3fW41t99wKYuTnZpXLpEQ5BoHrZ9oPZFZJ9FwcguVpVThUiIiyGqrquTacpQkakkVLiUqgvwuNvv3XFN8p1CSyKUviDQLfZfLpym+0yhJZNMXRJqFvssVUYn06TRwnSXobUlFAhPLrGEYGMxUG9Z3uTKa4judWhJZVENfGlK+VsP6S/RdrkDQu042IrUksmgOuDSifK2GA78Y0Xe5ApriO51aEll6O2ew8arlbHn4lck7so1XLae3S1uHSnTlawHveH7/ZKFJ1Q0rQyNO8S20V3kNKElkGR4d48Ede1h3+bLMxkBpeHDHHpbOX6kmukRWvi6S46Nj/NKCnsa62BVSaKZWrWdxNdIU3xAmKChJZDk2coZDQyd48F+m7pyqflyJsokuktwLRfesGZMXPCBaF7tyLuyFLoS09iyuMGZjKUlk0aCVNKRG6yIp8+4390LY09XOgSMjzOxo45yuDrY+trtlp6yGMdlGA9dZNGglDctrMTRCteFyp+dmXwj75sziykuX8p3v7eWrf/Pv/PG9z7J29QX0zZk1eXwrTVkNY7KNWhLZGu2OTKQBlXv3m93Cz7dv/ANPZMYRJ7qJC14km2wVul9XYy2vW0oSuRpp0EqkAZXbrZt9IfTbNz4eP/s+vhfJcgd58yWUevFLbt6Nbe5e5ZrdJCLBCvCOu+y736wW/ujpcR79t+k7QK60efzyBecWvEiWNcjrk1ASc7trcxLKUSy5VbpXeYmUJERkqqCnVZbarZubqDrb6e1sz5tgEj0dJLo7Jt8/n3K6ufz2sZ/f18XxkdOhdlXVu55UaEnCzPqB+4EEMARc55x7NeeYLwOfBt71/nzJOfd4oIEFvBBFpNGEclEq0q2bSqV9E1Wl44bldHPlJpS+ObNYu/oCvrT5B6FPta13uaAwZzdtAe5xzvUD9wD35jnm34FVzrn3A78HPGBmswOLyLtj+sO//B6bvvkct97zA3YPvJNZSCfSoqJQ5O7Q0VH/GVAVzuQqZ/Zi7qyhiQHznq52rvlIP+s+uIwDR0YYOfVu9f+zRdS7XFAoScLM5gErgG3eQ9uAFWaWzD7OOfe4c+6E9+PLZC7XiaDiUqVMkenqfVECeGv4ZO0TVZ5th/1aArkJJR7PrM+48tKlPPrUazy4Yw/f+d5efn7oeOA3lfWemh9Wd9Ni4KBzbhzAOTduZm96jw/6vOY64DXn3Bvl/KJEovSBpcN7B/N+EU+MjbNsydxyfm1gksmeeoeQl+IqT1TjgumxJVJpbt6wgju3vTTZtXLzhhUsXXQu8Xg4zewz6VjerqH5iW6SyeL/xlOpNIeOjvLW8Enm9s5mQV/XZOzJIq+dkJjbzbJFc3jr+Elmts8AYtOm3/71t1/mrls+xMJ5wQ5oZ8cyt2fq/8+EoL5jkRy4NrMPAn8KrC33tUNDI6RSpbU/O2fOyPtF7GxvY3DweLm/uuaSyZ5IxJFLcZUnqnGBf2z9C6fXfRoaGgktrgV93XkHqDvi6Uy8RWo51WrgvSMG83tnQQwWn9ed96by8NDI2ZlFAZqMhfS0z6Ka71g8Hit4cx1WkjgALDSzNq8V0Qac7z0+hZmtAbYC65xzLsigwliIItKQ6rxeKB6P+Q9QF0kCJQ28lzvFNw0L+7pasmxPKEnCOXfEzHYBG8gkgA3ATufclK4mM1sFPAB8yjn3UuCBhbAQRUQq5JOoiiWBorOBKmxp9M6eMa0brqKbygZb9R1md9NG4H4zuw14m8yYA2a2HbjNOfcCsBmYDdxrZhOv+23n3CuBRRXwQhQRqa1iSaDYVNeKp/imYc3yBcw/t4qyPQ2493hoScI59zNgdZ7Hr8z6+6qw4hGRiPO54y6WBIp1I1ez7iAej1XVDVf1GpQ6tEIiOXAtIq2t0GK6omOJRVZ013NLgKoWxhXZVyMoKhUuIpFTbDFd0fUOBRbc1XPdQTVrUOq1rkstCRGJnEKL6Xo726vrcqnjlgDVzKis10p4JQkRiZy5vbPzdgnN7ZlZm4HfoKb4FhszqCJBzemZyYJEJ5ddsmhylffTO98IvJtMSUJEImdBX1feO+5UKl3XiqgFlTpzqcIE1ds5g2s+2s+Wh1+ZfP+NVy2ntyvY/28lCRGJHL/FdANHRutaEbUQv/Lit2xYwejJMa/c+QyGR8c4NnqGrlntvDs+zoy2NkZPjTGnu3DX2fDo2GSCmHj/LQ+/wu03XEoysAp3ShIiElV57rhrOjOpxtNJ/cqL//G9z3J6bJwFic4pLYEFiU6u+vB7+cajPy6p66xeYxKa3SQiDaNmM5O8rqFbNz9Ts20C/MqLT1zYL7tk0ZSWwGWXLJpMEFB8tlK9qvMqSYhI4yij3HchQUwnzVdefMqdf+7+3D77dfu1DOo1dVfdTSLSWGowMymQ3d5yZi51zWrnO9+bvh93sZ99WwZ1mrqrloSItJzAum6yFvElejqm3Pk/vfMNNl61fMrPn1v3K+W1DCrcla8aakmISMsJZZuAfHf+Xe1TWhrvpsb56vVrMrObIlqFWklCRFpPWF03uV1jqZyfPYnujsnjS5Y1O+tMOkZHvMzXl0hJQkRaUwVjG6lUmuGTEdgLIsSS40oSIiKliMGzrxyatulQPfaCqLrkeBk0cC0iUoLhE2OTCQLCq8KaT5gL65QkRERKUK8Vz/mEubBOSUJEpAT1WvGcT5gL60IbkzCzfuB+IAEMAdc5517NOaYNuBv4OJlevq85574RVowiIn56Z8/g5g0rpo1JBDpt1a++VM7srPmJbjri6Yaf3bQFuMc5t9XMrgXuBa7IOeYzwHuA95JJJjvNbIdz7vUQ4xQRmS4Na5YvYP65Ia14LjaDKWt2VjLZzeDg8UDCCKW7yczmASuAbd5D24AVZpbMOXQ9cJ9zLuWcGwQeAa4OI0YRkWLi8VhoK57rtV1prrBaEouBg865cQDn3LiZvek9Pph13BJgf9bPA94xJUskuisKMJnsqeh1QVNc5VFc5YtqbK0e1+G9g3kHyk+MjbNsydzQ4mq6dRJDQyOkUuWl92SyJ7CmWjUUV3kUV/miGpvigs6ZM/IWAOxsb5sWQzVxxeOxgjfXYc1uOgAs9AamJwaoz/cezzYAXJD185I8x4iINL16lQbPFUpLwjl3xMx2ARuArd5/d3rjDtkeAj5vZg+TGbj+BHB5GDGKiERKnUqD5wpzncRG4EYz2wPc6P2MmW03sw94x3wL+DnwKvBD4CvOuZ+HGKOISHTUoTR4rtDGJJxzPwNW53n8yqy/jwN/EFZMIiJSmFZci4iILyUJERHxpSQhIiK+mmmdRBtk5vxWotLXBU1xlUdxlS+qsSmu8tTg2teW7/lYOh2xDVUr92vA0/UOQkSkQV0GfD/3wWZKEjOBVcAhYLzIsSIiktEGLACeB07nPtlMSUJERGpMA9ciIuJLSUJERHwpSYiIiC8lCRER8aUkISIivpQkRETEl5KEiIj4aqayHAWZWT9wP5nNjIaA65xzr+Yc0wbcDXycTOX2rznnvhGBuDYBNwBveg/9wDn33wOO6w7gk8CFwHLn3I/zHFOP81VKXJsI/3wlyOyHsozMgqS9wPW5G2uFfc7KiGsT4Z+zR4ClQAoYAW50zu3KOaYe37FS4tpEyOcr63f/CbCJPN//IM5XyyQJYAtwj3Nuq5ldC9wLXJFzzGeA9wDvJXPR3mlmO5xzr9c5LoC/c859McA4cj0C3EXhUif1OF+lxAXhn6808L+cc98DMLO/AL4GfDbnuLDPWalxQfjn7Hecc+94ca0D/jewIueYenzHSokLwj9fmNkK4D+R2eo5n5qfr5bobjKzeWQ+5G3eQ9uAFWaWzDl0PXCfcy7l3Wk9AlwdgbhC55z7vnOu2P7ioZ6vMuIKnXPurYkLseeHTN2vfUKo56yMuEI3cSH2nEPmzj1XPb5jpcQVOjObCdxDpgXjVyqj5uerVVoSi4GD3s53OOfGzexN7/HsZvcSYH/WzwPeMfWOC+DTZvbrwGHgT5xzzwYYV6nCPl/lqNv5MrM4mR0W/ynP03U7Z0XigjqcMzP7BvDrQIxMF0muupyvEuKC8M/XV4Ctzrl9ZuZ3TM3PV0u0JJrAFmCpc+5i4C+AR72+Zsmv3ufrr8j0ZX89xN9ZikJx1eWcOec+55xbAnzJ+72RUEJcoZ4vM1tDpoDp5qB+h59WSRIHgIXeoM7E4M753uPZBpjaFF+S55jQ43LOHXbOjXl/f8J7/lcCjKtUYZ+vktTzfHkD6+8F1jvn8nVT1OWcFYur3t8x59y3gA/nudDW9TvmF1cdztcHgV8G9pnZ68Ai4HGvJZOt5uerJZKEc+4IsAvY4D20AdiZO8MDeAj4vJnFvXGBTwDfrndcZrYw6++XkJnZ44KKqwyhnq9S1et8mdmfASuBTzjnppVc9oR+zkqJK+xzZmbdZrY46+ffAN7y/mQL9XyVGlfY58s59zXn3PnOuQudcxcCbwAfc879v5xDa36+WmVMAmAjcL+Z3Qa8DVwHYGbbgduccy+QmSq4GpiYgvoV59zPIxDXn5vZSjL7ZJwBfts5dzjIoMzsbuAqYD6ww8yGnHPvq/f5KjGuepyv95HpmtgDPOP1Ge9zzv1mPc9ZGXGFfc66gIfMrMv7nW8Bv+GcS9f5O1ZqXKF/x/wEfb60n4SIiPhqie4mERGpjJKEiIj4UpIQERFfShIiIuJLSUJERHwpSYiIiC8lCRER8aUkISIivlppxbVIqMxsGfA88FHn3Etmdj7wMvCpnPLdIpGlFdciATKzzwO3kKmd9B3glbA3qhGphpKESMDM7J/IbIeZBlYVKP4nEjkakxAJ3n1kykj/lRKENBq1JEQCZGbdwI+AfwX+M5nN63PLYYtElloSIsG6C3jROfc54P+S2dFMpGEoSYgExMzWkdkfeaP30C3ACjP7TP2iEimPuptERMSXWhIiIuJLSUJERHwpSYiIiC8lCRER8aUkISIivpQkRETEl5KEiIj4UpIQERFfShIiIuLr/wOqOUMGXkXaEgAAAABJRU5ErkJggg==\n",
      "text/plain": [
       "<Figure size 432x288 with 1 Axes>"
      ]
     },
     "metadata": {
      "needs_background": "light"
     },
     "output_type": "display_data"
    },
    {
     "data": {
      "text/html": [
       "<div>\n",
       "<style scoped>\n",
       "    .dataframe tbody tr th:only-of-type {\n",
       "        vertical-align: middle;\n",
       "    }\n",
       "\n",
       "    .dataframe tbody tr th {\n",
       "        vertical-align: top;\n",
       "    }\n",
       "\n",
       "    .dataframe thead th {\n",
       "        text-align: right;\n",
       "    }\n",
       "</style>\n",
       "<table border=\"1\" class=\"dataframe\">\n",
       "  <thead>\n",
       "    <tr style=\"text-align: right;\">\n",
       "      <th></th>\n",
       "      <th>x</th>\n",
       "      <th>y</th>\n",
       "    </tr>\n",
       "  </thead>\n",
       "  <tbody>\n",
       "    <tr>\n",
       "      <th>0</th>\n",
       "      <td>0.065859</td>\n",
       "      <td>0.277413</td>\n",
       "    </tr>\n",
       "    <tr>\n",
       "      <th>1</th>\n",
       "      <td>0.020931</td>\n",
       "      <td>0.202239</td>\n",
       "    </tr>\n",
       "    <tr>\n",
       "      <th>2</th>\n",
       "      <td>0.070312</td>\n",
       "      <td>0.307369</td>\n",
       "    </tr>\n",
       "    <tr>\n",
       "      <th>3</th>\n",
       "      <td>0.206166</td>\n",
       "      <td>0.367530</td>\n",
       "    </tr>\n",
       "    <tr>\n",
       "      <th>4</th>\n",
       "      <td>0.286572</td>\n",
       "      <td>0.491144</td>\n",
       "    </tr>\n",
       "    <tr>\n",
       "      <th>...</th>\n",
       "      <td>...</td>\n",
       "      <td>...</td>\n",
       "    </tr>\n",
       "    <tr>\n",
       "      <th>95</th>\n",
       "      <td>3.922613</td>\n",
       "      <td>0.225565</td>\n",
       "    </tr>\n",
       "    <tr>\n",
       "      <th>96</th>\n",
       "      <td>3.898473</td>\n",
       "      <td>0.000000</td>\n",
       "    </tr>\n",
       "    <tr>\n",
       "      <th>97</th>\n",
       "      <td>3.952111</td>\n",
       "      <td>0.141005</td>\n",
       "    </tr>\n",
       "    <tr>\n",
       "      <th>98</th>\n",
       "      <td>3.939211</td>\n",
       "      <td>0.115500</td>\n",
       "    </tr>\n",
       "    <tr>\n",
       "      <th>99</th>\n",
       "      <td>3.987120</td>\n",
       "      <td>0.048689</td>\n",
       "    </tr>\n",
       "  </tbody>\n",
       "</table>\n",
       "<p>100 rows × 2 columns</p>\n",
       "</div>"
      ],
      "text/plain": [
       "           x         y\n",
       "0   0.065859  0.277413\n",
       "1   0.020931  0.202239\n",
       "2   0.070312  0.307369\n",
       "3   0.206166  0.367530\n",
       "4   0.286572  0.491144\n",
       "..       ...       ...\n",
       "95  3.922613  0.225565\n",
       "96  3.898473  0.000000\n",
       "97  3.952111  0.141005\n",
       "98  3.939211  0.115500\n",
       "99  3.987120  0.048689\n",
       "\n",
       "[100 rows x 2 columns]"
      ]
     },
     "execution_count": 2,
     "metadata": {},
     "output_type": "execute_result"
    }
   ],
   "source": [
    "df = pd.read_pickle('ex1.gz')\n",
    "sns.scatterplot(x='x',y='y',data=df)\n",
    "plt.show()\n",
    "df"
   ]
  },
  {
   "cell_type": "markdown",
   "metadata": {},
   "source": [
    "## (A) Pendiente e intercepto\n",
    "Determine la pendiente de los datos en el intervalo $[0,1.5]$ y el valor del intercepto con el eje $y$. Es decir, $f(0)=?$. ¿Cuál es el valor de $r^2$?"
   ]
  },
  {
   "cell_type": "code",
   "execution_count": null,
   "metadata": {},
   "outputs": [],
   "source": []
  },
  {
   "cell_type": "markdown",
   "metadata": {},
   "source": [
    "## (B) Regresión polinomial\n",
    "Suponga que quiere realizar la siguiente regresión polinomial,\n",
    "$$y=\\beta_1+\\beta_2x+\\beta_2x^2+\\beta_2x^3+\\beta_2x^4+\\beta_2x^5.$$\n",
    "Plantee la función de costo que le permita calcular los coeficientes y calcule $\\beta_1$, $\\beta_2$, $\\beta_3$, $\\beta_4$, y $\\beta_5$. ¿Cuál es el $r^2$?\n",
    "\n",
    "Calcule $f(0)$ y compare con los resultados anteriores"
   ]
  },
  {
   "cell_type": "code",
   "execution_count": null,
   "metadata": {},
   "outputs": [],
   "source": []
  },
  {
   "cell_type": "markdown",
   "metadata": {},
   "source": [
    "## (C) Regresión polinomial exacta\n",
    "Resulta, que cuando se quiere hacer alguna regresión polinomial esta se puede hacer de forma exacta. ¿Cómo? Suponga que ud va a considerar que su problema en lugar de tener $1$ variable ($x$) tiene $n+1$, siendo $n$ el orden del polinomio a ajustar. Es decir, sus nuevas variables van a ser $\\{x_0,\\,x_1,\\,x_2,\\,x_3,\\dots,\\,x_n\\}$ definiendo $x_j=x^j$. Así pues, siguiendo el mismo procedimiento para la regresión lineal multidimensional que realizamos para el ejercicio de datos inmobiliarios, puede encontrar los valores de los coeficientes $\\beta_1$, $\\beta_2$, $\\beta_3$, $\\beta_4$, y $\\beta_5$. Encuentre estos valores y compare con los resultados en la sección **(B)**.\n",
    "\n",
    "Calcule $f(0)$ y compare con los resultados anteriores.\n",
    "\n",
    "> Si ud se pregunta si esto es posible la respuesta es sí. Inclusive, esto se puede extender a cualquier a cualquier conjunto de funciones, tal que $x_j=f_j(x)$, que represente un conjunto \"linealmente independiente\" (¡Me estoy adelantando a *Fourier*!). Para quienes quieran explorar algunas curiosidades matemáticas, cuando $n+1$ es igual al número de puntos o valores de $x$ (y todos diferentes) la matriz es siempre invertible y resulta ser la inversa de una matriz de Vandermonde."
   ]
  },
  {
   "cell_type": "code",
   "execution_count": null,
   "metadata": {},
   "outputs": [],
   "source": [
    "Y = df.loc[:, ['y']]\n",
    "\n",
    "Y"
   ]
  },
  {
   "cell_type": "code",
   "execution_count": null,
   "metadata": {},
   "outputs": [],
   "source": [
    "X = df.loc[:, ['x']].rename(columns={'x': 'x1'})\n",
    "X.insert(0, 'x0', 1)\n",
    "X['x2'] = X['x1']*X['x1']\n",
    "\n",
    "X"
   ]
  },
  {
   "cell_type": "markdown",
   "metadata": {
    "jp-MarkdownHeadingCollapsed": true,
    "tags": []
   },
   "source": [
    "## (D) Regresión a un modelo teórico\n",
    "\n",
    "Suponga que su modelo teórico es el siguiente:\n",
    "$$y=\\frac{a}{\\left[(x-b)^2+c\\right]^\\gamma}.$$\n",
    "Halle $a$, $b$, $c$ y $\\gamma$.\n",
    "\n",
    "Calcule $f(0)$ y compare con los resultados anteriores"
   ]
  },
  {
   "cell_type": "code",
   "execution_count": null,
   "metadata": {},
   "outputs": [],
   "source": []
  },
  {
   "cell_type": "markdown",
   "metadata": {},
   "source": [
    "# Tarea 4\n",
    "\n",
    "Con base a los métodos vistos en clase resuelva las siguientes dos preguntas"
   ]
  },
  {
   "cell_type": "markdown",
   "metadata": {},
   "source": [
    "## (A) Integrales\n",
    "\n",
    "* $\\int_{0}^{1}x^{-1/2}\\,\\text{d}x$\n",
    "* $\\int_{0}^{\\infty}e^{-x}\\ln{x}\\,\\text{d}x$\n",
    "* $\\int_{0}^{\\infty}\\frac{\\sin{x}}{x}\\,\\text{d}x$"
   ]
  },
  {
   "cell_type": "code",
   "execution_count": null,
   "metadata": {},
   "outputs": [],
   "source": []
  },
  {
   "cell_type": "markdown",
   "metadata": {},
   "source": [
    "## (B) Fourier\n",
    "\n",
    "Calcule la transformada rápida de Fourier para la función de la **Tarea 3 (D)** en el intervalo $[0,4]$ ($k$ máximo $2\\pi n/L$ para $n=25$). Ajuste la transformada de Fourier para los datos de la **Tarea 3** usando el método de regresión exacto de la **Tarea 3 (C)** y compare con el anterior resultado. Para ambos ejercicios haga una interpolación y grafique para comparar."
   ]
  },
  {
   "cell_type": "code",
   "execution_count": null,
   "metadata": {},
   "outputs": [],
   "source": []
  }
 ],
 "metadata": {
  "kernelspec": {
   "language": "python",
   "name": "python3"
  },
  "language_info": {
   "codemirror_mode": {
    "name": "ipython",
    "version": 3
   },
   "file_extension": ".py",
   "mimetype": "text/x-python",
   "name": "python",
   "nbconvert_exporter": "python",
   "pygments_lexer": "ipython3",
   "version": "3.9.7"
  }
 },
 "nbformat": 4,
 "nbformat_minor": 5
}
