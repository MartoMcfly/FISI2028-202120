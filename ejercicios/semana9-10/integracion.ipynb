{
 "cells": [
  {
   "cell_type": "code",
   "execution_count": 1,
   "id": "7cbf9e92-6ee3-488c-b656-3000ffac66e4",
   "metadata": {},
   "outputs": [],
   "source": [
    "import numpy as np\n",
    "import pandas as pd\n",
    "import scipy as sp\n",
    "import sklearn as sl\n",
    "import seaborn as sns; sns.set()\n",
    "import matplotlib as mpl\n",
    "import matplotlib.pyplot as plt\n",
    "%matplotlib inline"
   ]
  },
  {
   "cell_type": "code",
   "execution_count": 19,
   "id": "0491f3d4-a861-4f7f-929d-5bc3b323de7c",
   "metadata": {},
   "outputs": [],
   "source": [
    "def f(x):\n",
    "    if x >= 0:\n",
    "        return np.exp(np.sqrt(x))\n",
    "    return 0\n",
    "f_v = np.vectorize(f)"
   ]
  },
  {
   "cell_type": "code",
   "execution_count": 46,
   "id": "784c325b-3c02-4f81-8bf0-ca45c12d81de",
   "metadata": {},
   "outputs": [],
   "source": [
    "N = 1000\n",
    "d = 10.0 / (N-1)\n",
    "X = np.linspace(0,10,N)\n",
    "Y = f_v(X)\n",
    "# plt.scatter(X,Y)"
   ]
  },
  {
   "cell_type": "markdown",
   "id": "1cce515b-51c7-4114-b3af-fe5fe093e3cd",
   "metadata": {},
   "source": [
    "# integracion: metodo inf, sup y trapecio"
   ]
  },
  {
   "cell_type": "code",
   "execution_count": 47,
   "id": "f83b1aa1-6362-40bc-9b0e-943d0c1d46ce",
   "metadata": {},
   "outputs": [
    {
     "name": "stdout",
     "output_type": "stream",
     "text": [
      "Area Metodo INF: 104.05136169743453\n"
     ]
    }
   ],
   "source": [
    "w = np.zeros(N)\n",
    "w = w + 1\n",
    "w[N-1] = 0\n",
    "print(\"Area Metodo INF:\",d*np.dot(w,Y))"
   ]
  },
  {
   "cell_type": "code",
   "execution_count": 48,
   "id": "99f19626-4394-4e54-b991-53dcfcf2e542",
   "metadata": {},
   "outputs": [
    {
     "name": "stdout",
     "output_type": "stream",
     "text": [
      "Area Metodo SUP: 104.27783159655384\n"
     ]
    }
   ],
   "source": [
    "w = np.zeros(N)\n",
    "w = w + 1\n",
    "w[0] = 0\n",
    "print(\"Area Metodo SUP:\",d*np.dot(w,Y))"
   ]
  },
  {
   "cell_type": "code",
   "execution_count": 49,
   "id": "166a276a-73d9-49a3-b046-6b1254c857dc",
   "metadata": {},
   "outputs": [
    {
     "name": "stdout",
     "output_type": "stream",
     "text": [
      "Area Metodo trapecio: 104.16459664699418\n"
     ]
    }
   ],
   "source": [
    "w = np.zeros(N)\n",
    "w = w + 1\n",
    "w[0] = 1/2\n",
    "w[N-1] = 1/2\n",
    "print(\"Area Metodo trapecio:\",d*np.dot(w,Y))"
   ]
  },
  {
   "cell_type": "code",
   "execution_count": 51,
   "id": "31066033-b7b2-4c72-942e-fac69e87ba70",
   "metadata": {},
   "outputs": [
    {
     "data": {
      "text/plain": [
       "104.16459664699418"
      ]
     },
     "execution_count": 51,
     "metadata": {},
     "output_type": "execute_result"
    }
   ],
   "source": [
    "sp.integrate.trapezoid(y=Y, x=X)"
   ]
  },
  {
   "cell_type": "code",
   "execution_count": 52,
   "id": "ea98291b-40fa-4c56-ae42-96e0a3207b7b",
   "metadata": {},
   "outputs": [
    {
     "data": {
      "text/plain": [
       "104.16465325000541"
      ]
     },
     "execution_count": 52,
     "metadata": {},
     "output_type": "execute_result"
    }
   ],
   "source": [
    "sp.integrate.simpson(y=Y, x=X)"
   ]
  },
  {
   "cell_type": "markdown",
   "id": "561851b5-66ea-436a-a7f1-7f5c4e440a44",
   "metadata": {},
   "source": [
    "$$I_n=\\int_0^{10}x^ndx = \\frac{10^{n+1}}{n+1}$$"
   ]
  },
  {
   "cell_type": "markdown",
   "id": "4a4b7358-7cb1-4e04-8c38-3cfec3794184",
   "metadata": {},
   "source": [
    "# Gaussian Quadrature"
   ]
  },
  {
   "cell_type": "markdown",
   "id": "1ae5ec1d-eb25-4d03-bbe1-439fbf2a2127",
   "metadata": {},
   "source": [
    "## Vandermonde Matrix"
   ]
  },
  {
   "cell_type": "code",
   "execution_count": 39,
   "id": "4cba3d6b-8e9f-4140-9bc9-58187b8a9da8",
   "metadata": {},
   "outputs": [],
   "source": [
    "X = np.array([0,1/4,-2/5,1/2,-1/7,-1/2,9/10,1/10])"
   ]
  },
  {
   "cell_type": "code",
   "execution_count": 42,
   "id": "5337f086-f338-42b8-b0be-43c0c067b49f",
   "metadata": {},
   "outputs": [
    {
     "data": {
      "text/plain": [
       "matrix([[ 1.00000000e+00,  1.00000000e+00,  1.00000000e+00,\n",
       "          1.00000000e+00,  1.00000000e+00,  1.00000000e+00,\n",
       "          1.00000000e+00,  1.00000000e+00],\n",
       "        [ 0.00000000e+00,  2.50000000e-01, -4.00000000e-01,\n",
       "          5.00000000e-01, -1.42857143e-01, -5.00000000e-01,\n",
       "          9.00000000e-01,  1.00000000e-01],\n",
       "        [ 0.00000000e+00,  6.25000000e-02,  1.60000000e-01,\n",
       "          2.50000000e-01,  2.04081633e-02,  2.50000000e-01,\n",
       "          8.10000000e-01,  1.00000000e-02],\n",
       "        [ 0.00000000e+00,  1.56250000e-02, -6.40000000e-02,\n",
       "          1.25000000e-01, -2.91545190e-03, -1.25000000e-01,\n",
       "          7.29000000e-01,  1.00000000e-03],\n",
       "        [ 0.00000000e+00,  3.90625000e-03,  2.56000000e-02,\n",
       "          6.25000000e-02,  4.16493128e-04,  6.25000000e-02,\n",
       "          6.56100000e-01,  1.00000000e-04],\n",
       "        [ 0.00000000e+00,  9.76562500e-04, -1.02400000e-02,\n",
       "          3.12500000e-02, -5.94990183e-05, -3.12500000e-02,\n",
       "          5.90490000e-01,  1.00000000e-05],\n",
       "        [ 0.00000000e+00,  2.44140625e-04,  4.09600000e-03,\n",
       "          1.56250000e-02,  8.49985975e-06,  1.56250000e-02,\n",
       "          5.31441000e-01,  1.00000000e-06],\n",
       "        [ 0.00000000e+00,  6.10351562e-05, -1.63840000e-03,\n",
       "          7.81250000e-03, -1.21426568e-06, -7.81250000e-03,\n",
       "          4.78296900e-01,  1.00000000e-07]])"
      ]
     },
     "execution_count": 42,
     "metadata": {},
     "output_type": "execute_result"
    }
   ],
   "source": [
    "V = np.matrix([X**0, X**1, X**2, X**3, X**4, X**5, X**6, X**7]) # det... (x0-x1)(x0-x2)(x0-x3)...(x1-x2)(x1-x3)....()\n",
    "V"
   ]
  },
  {
   "cell_type": "markdown",
   "id": "a4d7a9fc-1766-4afe-880c-1446d7b1469e",
   "metadata": {},
   "source": [
    "$$I_n=\\int_{-1}^{1}x^ndx = \\frac{1-(-1)^{n+1}}{n+1}$$"
   ]
  },
  {
   "cell_type": "code",
   "execution_count": 45,
   "id": "4f968819-35a8-488e-be08-e63f54639912",
   "metadata": {},
   "outputs": [
    {
     "data": {
      "text/plain": [
       "matrix([[2.        ],\n",
       "        [0.        ],\n",
       "        [0.66666667],\n",
       "        [0.        ],\n",
       "        [0.4       ],\n",
       "        [0.        ],\n",
       "        [0.28571429],\n",
       "        [0.        ]])"
      ]
     },
     "execution_count": 45,
     "metadata": {},
     "output_type": "execute_result"
    }
   ],
   "source": [
    "def In(n):\n",
    "    return (1-(-1)**(n+1))/(n+1)\n",
    "I = np.matrix([In(i) for i in range(8)]).T\n",
    "I"
   ]
  },
  {
   "cell_type": "code",
   "execution_count": 47,
   "id": "af9d1080-4a5d-4031-a352-557698070d8e",
   "metadata": {},
   "outputs": [
    {
     "data": {
      "text/plain": [
       "matrix([[1.        ],\n",
       "        [0.92387953],\n",
       "        [0.80901699],\n",
       "        [0.70710678],\n",
       "        [0.97492791],\n",
       "        [0.70710678],\n",
       "        [0.15643447],\n",
       "        [0.98768834]])"
      ]
     },
     "execution_count": 47,
     "metadata": {},
     "output_type": "execute_result"
    }
   ],
   "source": [
    "def P(x):\n",
    "    #return x**3-x**2+x-1\n",
    "    return np.cos(x*np.pi/2)\n",
    "vecP = np.vectorize(P)\n",
    "vP = np.matrix(vecP(X)).T\n",
    "vP"
   ]
  },
  {
   "cell_type": "code",
   "execution_count": 49,
   "id": "68211efd-c9fb-4116-bb2d-49ae3d11e833",
   "metadata": {},
   "outputs": [
    {
     "data": {
      "text/plain": [
       "1.2732395447351628"
      ]
     },
     "execution_count": 49,
     "metadata": {},
     "output_type": "execute_result"
    }
   ],
   "source": [
    "4/np.pi"
   ]
  },
  {
   "cell_type": "code",
   "execution_count": 48,
   "id": "d3e80f2b-fe1c-427f-a041-3a892a5f7a7d",
   "metadata": {},
   "outputs": [
    {
     "name": "stdout",
     "output_type": "stream",
     "text": [
      "The integration of P(x) is: 1.2731505138432624\n"
     ]
    }
   ],
   "source": [
    "print('The integration of P(x) is:', (vP.T*(np.linalg.inv(V)*I))[0,0])"
   ]
  },
  {
   "cell_type": "code",
   "execution_count": 50,
   "id": "b1284c8e-17f7-4987-bdf0-a68a59c084e1",
   "metadata": {},
   "outputs": [
    {
     "data": {
      "text/plain": [
       "[<matplotlib.lines.Line2D at 0x7f50ba7de790>]"
      ]
     },
     "execution_count": 50,
     "metadata": {},
     "output_type": "execute_result"
    },
    {
     "data": {
      "image/png": "[encoded data removed]",
      "text/plain": [
       "<Figure size 432x288 with 1 Axes>"
      ]
     },
     "metadata": {
      "needs_background": "light"
     },
     "output_type": "display_data"
    }
   ],
   "source": [
    "_x = np.linspace(-1,1,1000)\n",
    "_y = vecP(_x)\n",
    "plt.plot(_x,_y)"
   ]
  },
  {
   "cell_type": "code",
   "execution_count": 52,
   "id": "08d315ca-501d-4c74-97d6-f65f8b455ed9",
   "metadata": {},
   "outputs": [
    {
     "data": {
      "text/plain": [
       "matrix([[-3.43438095e+02],\n",
       "        [-7.44016143e+01],\n",
       "        [-5.10155008e+01],\n",
       "        [ 6.71175779e+00],\n",
       "        [ 1.56554506e+02],\n",
       "        [ 2.27215117e+01],\n",
       "        [ 9.65825659e-02],\n",
       "        [ 2.84770853e+02]])"
      ]
     },
     "execution_count": 52,
     "metadata": {},
     "output_type": "execute_result"
    }
   ],
   "source": [
    "np.linalg.inv(V)*I # -> como evitar tanta variabilidad"
   ]
  },
  {
   "cell_type": "code",
   "execution_count": 54,
   "id": "90d683d7-f9be-477d-8399-4423edc328ba",
   "metadata": {},
   "outputs": [],
   "source": [
    "RL = sp.special.roots_legendre(10)"
   ]
  },
  {
   "cell_type": "code",
   "execution_count": 58,
   "id": "aae8c395-d1a1-431f-a7bc-b6b34bd7304b",
   "metadata": {},
   "outputs": [],
   "source": [
    "X = RL[0]\n",
    "w = RL[1]"
   ]
  },
  {
   "cell_type": "code",
   "execution_count": 60,
   "id": "339f7e49-f25c-4d27-8318-6c7fdc276930",
   "metadata": {},
   "outputs": [
    {
     "name": "stdout",
     "output_type": "stream",
     "text": [
      "The integration of P(x) is: 1.2732395447351645\n"
     ]
    }
   ],
   "source": [
    "print('The integration of P(x) is:', np.dot(w,vecP(X)))"
   ]
  },
  {
   "cell_type": "code",
   "execution_count": 61,
   "id": "7968b498-53cf-4cbf-9a87-67da708168e1",
   "metadata": {},
   "outputs": [
    {
     "data": {
      "text/plain": [
       "1.2732395447351628"
      ]
     },
     "execution_count": 61,
     "metadata": {},
     "output_type": "execute_result"
    }
   ],
   "source": [
    "4/np.pi"
   ]
  },
  {
   "cell_type": "code",
   "execution_count": null,
   "id": "c940a48c-9589-45bc-8f30-f256aaf51af3",
   "metadata": {},
   "outputs": [],
   "source": []
  }
 ],
 "metadata": {
  "kernelspec": {
   "display_name": "fisi2028",
   "language": "python",
   "name": "fisi2028"
  },
  "language_info": {
   "codemirror_mode": {
    "name": "ipython",
    "version": 3
   },
   "file_extension": ".py",
   "mimetype": "text/x-python",
   "name": "python",
   "nbconvert_exporter": "python",
   "pygments_lexer": "ipython3",
   "version": "3.9.7"
  }
 },
 "nbformat": 4,
 "nbformat_minor": 5
}
