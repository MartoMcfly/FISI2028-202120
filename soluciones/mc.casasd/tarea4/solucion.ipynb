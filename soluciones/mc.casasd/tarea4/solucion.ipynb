{
 "cells": [
  {
   "cell_type": "code",
   "execution_count": 1,
   "id": "6a56ce41-2397-4ecb-aa9e-6a5e647c1501",
   "metadata": {},
   "outputs": [
    {
     "data": {
      "text/plain": [
       "'\\n * Asignatura: Laboratorio Métodos Computacionales en Ciencias\\n * Nombre: María Camila Casas Díaz\\n * Código: 201813057\\n'"
      ]
     },
     "execution_count": 1,
     "metadata": {},
     "output_type": "execute_result"
    }
   ],
   "source": [
    "\"\"\"\n",
    " * Asignatura: Laboratorio Métodos Computacionales en Ciencias\n",
    " * Nombre: María Camila Casas Díaz\n",
    " * Código: 201813057\n",
    "\"\"\""
   ]
  },
  {
   "cell_type": "code",
   "execution_count": 2,
   "id": "73c4722d",
   "metadata": {},
   "outputs": [],
   "source": [
    "import numpy as np\n",
    "import pandas as pd\n",
    "import scipy as sp\n",
    "import sklearn as sl\n",
    "\n",
    "import seaborn as sns; sns.set()\n",
    "import matplotlib as mpl\n",
    "from matplotlib import pyplot as plt\n",
    "from mpl_toolkits.mplot3d import axes3d\n",
    "from matplotlib import cm\n",
    "%matplotlib inline"
   ]
  },
  {
   "cell_type": "markdown",
   "id": "5d31ab86-97bc-4d71-88e0-73fb3cb1705c",
   "metadata": {},
   "source": [
    "# Tarea 4\n",
    "\n",
    "Con base a los métodos vistos en clase resuelva las siguientes dos preguntas"
   ]
  },
  {
   "cell_type": "markdown",
   "id": "54407221-b08d-4356-92b1-55a4487e8372",
   "metadata": {},
   "source": [
    "## (A) Integrales\n",
    "\n",
    "* $\\int_{0}^{1}x^{-1/2}\\,\\text{d}x$\n",
    "* $\\int_{0}^{\\infty}e^{-x}\\ln{x}\\,\\text{d}x$\n",
    "* $\\int_{0}^{\\infty}\\frac{\\sin{x}}{x}\\,\\text{d}x$"
   ]
  },
  {
   "cell_type": "code",
   "execution_count": 3,
   "id": "fdf71410-140b-45bc-a254-618e048c2ce0",
   "metadata": {},
   "outputs": [
    {
     "name": "stdout",
     "output_type": "stream",
     "text": [
      "La integral de x^(-1/2) dx en el intervalo de 0 a 1 es: 2.0 Aprox\n",
      "La integral de e^(-x)ln(x) dx en el intervalo de 0 a infinito es: -0.570908293475386 Aprox\n",
      "La integral de sin(x)/x dx en el intervalo de 0 a infinito es: 1.5707962293172444 Aprox\n"
     ]
    }
   ],
   "source": [
    "# Primera Integral\n",
    "def f(x):\n",
    "    return 2*np.sqrt(x)\n",
    "xi = 1\n",
    "xf = 0\n",
    "f1 = f(xi) - f(xf)\n",
    "print(\"La integral de x^(-1/2) dx en el intervalo de 0 a 1 es:\",f1,\"Aprox\")\n",
    "\n",
    "# Segunda Integral\n",
    "u1,w1 = np.polynomial.laguerre.laggauss(100)\n",
    "f2 = np.log(u1) @ w1\n",
    "print(\"La integral de e^(-x)ln(x) dx en el intervalo de 0 a infinito es:\",f2,\"Aprox\")\n",
    "\n",
    "# Tercera Integral\n",
    "x = np.arange(1e-5,1e5,0.1) # Evitamos que la integral sea divergente\n",
    "f = np.sin(x)/x\n",
    "f3 = sum((f[:-1] + f[1:])/2)*0.1\n",
    "print(\"La integral de sin(x)/x dx en el intervalo de 0 a infinito es:\",f3,\"Aprox\")\n"
   ]
  },
  {
   "cell_type": "markdown",
   "id": "f53599bd-b47f-47d7-80f7-5789fd7a5c2a",
   "metadata": {},
   "source": [
    "## (B) Fourier\n",
    "\n",
    "Calcule la transformada rápida de Fourier para la función de la **Tarea 3 (D)** ;\n",
    "$$y=\\frac{a}{\\left[(x-b)^2+c\\right]^\\gamma}.$$\n",
    "en el intervalo $[0,4]$ ($k$ máximo $2\\pi n/L$ para $n=25$). Ajuste la transformada de Fourier para los datos de la **Tarea 3** usando el método de regresión exacto de la **Tarea 3 (C)** y compare con el anterior resultado. Para ambos ejercicios haga una interpolación y grafique para comparar."
   ]
  },
  {
   "cell_type": "code",
   "execution_count": 4,
   "id": "77f911d9-f823-4704-9f0f-45d3dafc5af5",
   "metadata": {},
   "outputs": [
    {
     "name": "stdout",
     "output_type": "stream",
     "text": [
      "Valores tranformada en x [ 0.    0.24  0.48  0.72  0.96  1.2   1.44  1.68  1.92  2.16  2.4   2.64\n",
      "  2.88 -2.88 -2.64 -2.4  -2.16 -1.92 -1.68 -1.44 -1.2  -0.96 -0.72 -0.48\n",
      " -0.24]\n",
      "Valores tranformada en y [14.24189808  6.63558255  1.77707323  0.71258898  0.37923268  0.0682459\n",
      "  0.14221717  0.11396422  0.09858762  0.09563531  0.08999097  0.08711802\n",
      "  0.08585882  0.08585882  0.08711802  0.08999097  0.09563531  0.09858762\n",
      "  0.11396422  0.14221717  0.0682459   0.37923268  0.71258898  1.77707323\n",
      "  6.63558255]\n"
     ]
    },
    {
     "data": {
      "image/png": "[encoded data removed]",
      "text/plain": [
       "<Figure size 432x288 with 1 Axes>"
      ]
     },
     "metadata": {
      "needs_background": "light"
     },
     "output_type": "display_data"
    }
   ],
   "source": [
    "# Datos Tarea 3\n",
    "X,Y = pd.read_pickle(\"ex1.gz\").T.values\n",
    "\n",
    "# Función Tarea 3(D)\n",
    "def f(x,a,b,c,y):\n",
    "    return  a/((x-b)**2+c)**y\n",
    "\n",
    "# Valores en el Intervalo\n",
    "popt,pcov = sp.optimize.curve_fit(f,X,Y) # popt: parametros (a,b,c,y) que mejor se ajustan. \n",
    "                                         # pcov: variancia y covariancia de los parametros.\n",
    "x1 = np.linspace(0,4,25)\n",
    "y1 = f(x1,*popt)\n",
    "\n",
    "# Fourier \n",
    "frecuencies = np.fft.fftfreq(25, x1[1])\n",
    "fourier = abs(np.fft.fft(y1))\n",
    "\n",
    "# Interpolación\n",
    "fftfregMin = frecuencies.min()\n",
    "fftfregMax = frecuencies.max()\n",
    "\n",
    "frecuencies_interpolated = np.linspace(fftfregMin,fftfregMax,100)\n",
    "fourier_interpolated = sp.interpolate.interp1d(frecuencies,fourier)\n",
    "\n",
    "y2 = fourier_interpolated(frecuencies_interpolated)\n",
    "\n",
    "# Ajuste\n",
    "van = np.vander(frecuencies,25)\n",
    "inverse = np.linalg.pinv(van) @ fourier\n",
    "\n",
    "# Valores Transformada\n",
    "print(\"Valores tranformada en x\",frecuencies)\n",
    "print(\"Valores tranformada en y\",fourier)\n",
    "\n",
    "# Limites Grafica\n",
    "plt.ylim(-5,25)\n",
    "plt.xlim(-3,3)\n",
    "\n",
    "# Grafica de Comparación\n",
    "plt.scatter(frecuencies,fourier,color=\"black\",label=\"Transformada Rapida de Fourier\")\n",
    "plt.plot(frecuencies_interpolated,np.vander(frecuencies_interpolated,25) @ inverse, label=\"Ajuste de la Transformada\")\n",
    "plt.plot(frecuencies_interpolated,y2,label=\"Interpolación de fourier\")\n",
    "plt.legend()\n",
    "\n",
    "# Guardar Grafica\n",
    "plt.savefig(\"CasasCamila_GraficaFourierT4.png\")"
   ]
  },
  {
   "cell_type": "code",
   "execution_count": null,
   "id": "19167c06-98cf-4a16-ab2d-0db985e4f7f8",
   "metadata": {},
   "outputs": [],
   "source": []
  }
 ],
 "metadata": {
  "interpreter": {
   "hash": "b8ea58ba7bc645faec393e8f2c6ffb7c83e496cb476d519a2a6361b4dcea70fb"
  },
  "kernelspec": {
   "display_name": "Python [conda env:fisi2028]",
   "language": "python",
   "name": "conda-env-fisi2028-py"
  },
  "language_info": {
   "codemirror_mode": {
    "name": "ipython",
    "version": 3
   },
   "file_extension": ".py",
   "mimetype": "text/x-python",
   "name": "python",
   "nbconvert_exporter": "python",
   "pygments_lexer": "ipython3",
   "version": "3.10.0"
  }
 },
 "nbformat": 4,
 "nbformat_minor": 5
}
