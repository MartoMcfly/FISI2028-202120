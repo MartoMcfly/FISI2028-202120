{
 "cells": [
  {
   "cell_type": "code",
   "execution_count": 1258,
   "id": "5ff92095",
   "metadata": {},
   "outputs": [],
   "source": [
    "# Maria Camila Casas 201813057"
   ]
  },
  {
   "cell_type": "code",
   "execution_count": 1,
   "id": "6a56ce41-2397-4ecb-aa9e-6a5e647c1501",
   "metadata": {},
   "outputs": [],
   "source": [
    "import numpy as np\n",
    "import pandas as pd\n",
    "import scipy as sp\n",
    "import sklearn as sl\n",
    "\n",
    "import seaborn as sns; sns.set()\n",
    "import matplotlib as mpl\n",
    "from matplotlib import pyplot as plt\n",
    "from scipy.stats import linregress\n",
    "from mpl_toolkits.mplot3d import axes3d\n",
    "from matplotlib import cm\n",
    "%matplotlib inline"
   ]
  },
  {
   "cell_type": "markdown",
   "id": "7d9ed318-8a8e-4cbe-be92-0f121b59b1c4",
   "metadata": {},
   "source": [
    "# Tarea 3: Encuentre la regresión\n",
    "\n",
    "Ud recibe unos datos $x$ y $y$ cómo se muestran a continuación. Ud debe responder cuatro preguntas a partir de estos datos. Suponga que ud tiene un modelo tal que $y=f(x)$ más aún desconoce $f$."
   ]
  },
  {
   "cell_type": "code",
   "execution_count": 3,
   "id": "5d262e16-caa2-449d-8621-cc4b85925e34",
   "metadata": {},
   "outputs": [
    {
     "data": {
      "image/png": "[encoded data removed]",
      "text/plain": [
       "<Figure size 432x288 with 1 Axes>"
      ]
     },
     "metadata": {
      "needs_background": "light"
     },
     "output_type": "display_data"
    },
    {
     "data": {
      "text/html": [
       "<div>\n",
       "<style scoped>\n",
       "    .dataframe tbody tr th:only-of-type {\n",
       "        vertical-align: middle;\n",
       "    }\n",
       "\n",
       "    .dataframe tbody tr th {\n",
       "        vertical-align: top;\n",
       "    }\n",
       "\n",
       "    .dataframe thead th {\n",
       "        text-align: right;\n",
       "    }\n",
       "</style>\n",
       "<table border=\"1\" class=\"dataframe\">\n",
       "  <thead>\n",
       "    <tr style=\"text-align: right;\">\n",
       "      <th></th>\n",
       "      <th>x</th>\n",
       "      <th>y</th>\n",
       "    </tr>\n",
       "  </thead>\n",
       "  <tbody>\n",
       "    <tr>\n",
       "      <th>0</th>\n",
       "      <td>0.065859</td>\n",
       "      <td>0.277413</td>\n",
       "    </tr>\n",
       "    <tr>\n",
       "      <th>1</th>\n",
       "      <td>0.020931</td>\n",
       "      <td>0.202239</td>\n",
       "    </tr>\n",
       "    <tr>\n",
       "      <th>2</th>\n",
       "      <td>0.070312</td>\n",
       "      <td>0.307369</td>\n",
       "    </tr>\n",
       "    <tr>\n",
       "      <th>3</th>\n",
       "      <td>0.206166</td>\n",
       "      <td>0.367530</td>\n",
       "    </tr>\n",
       "    <tr>\n",
       "      <th>4</th>\n",
       "      <td>0.286572</td>\n",
       "      <td>0.491144</td>\n",
       "    </tr>\n",
       "    <tr>\n",
       "      <th>...</th>\n",
       "      <td>...</td>\n",
       "      <td>...</td>\n",
       "    </tr>\n",
       "    <tr>\n",
       "      <th>95</th>\n",
       "      <td>3.922613</td>\n",
       "      <td>0.225565</td>\n",
       "    </tr>\n",
       "    <tr>\n",
       "      <th>96</th>\n",
       "      <td>3.898473</td>\n",
       "      <td>0.000000</td>\n",
       "    </tr>\n",
       "    <tr>\n",
       "      <th>97</th>\n",
       "      <td>3.952111</td>\n",
       "      <td>0.141005</td>\n",
       "    </tr>\n",
       "    <tr>\n",
       "      <th>98</th>\n",
       "      <td>3.939211</td>\n",
       "      <td>0.115500</td>\n",
       "    </tr>\n",
       "    <tr>\n",
       "      <th>99</th>\n",
       "      <td>3.987120</td>\n",
       "      <td>0.048689</td>\n",
       "    </tr>\n",
       "  </tbody>\n",
       "</table>\n",
       "<p>100 rows × 2 columns</p>\n",
       "</div>"
      ],
      "text/plain": [
       "           x         y\n",
       "0   0.065859  0.277413\n",
       "1   0.020931  0.202239\n",
       "2   0.070312  0.307369\n",
       "3   0.206166  0.367530\n",
       "4   0.286572  0.491144\n",
       "..       ...       ...\n",
       "95  3.922613  0.225565\n",
       "96  3.898473  0.000000\n",
       "97  3.952111  0.141005\n",
       "98  3.939211  0.115500\n",
       "99  3.987120  0.048689\n",
       "\n",
       "[100 rows x 2 columns]"
      ]
     },
     "execution_count": 3,
     "metadata": {},
     "output_type": "execute_result"
    }
   ],
   "source": [
    "df = pd.read_pickle('ex1.gz')\n",
    "sns.scatterplot(x='x',y='y',data=df)\n",
    "plt.show()\n",
    "df"
   ]
  },
  {
   "cell_type": "markdown",
   "id": "132e74cd-3989-4bca-a1cb-d6567547d350",
   "metadata": {},
   "source": [
    "## (A) Pendiente e intercepto\n",
    "Determine la pendiente de los datos en el intervalo $[0,1.5]$ y el valor del intercepto con el eje $y$. Es decir, $f(0)=?$. ¿Cuál es el valor de $r^2$?"
   ]
  },
  {
   "cell_type": "code",
   "execution_count": 4,
   "id": "f83dfe88-6e7a-4061-99f7-61c564b19890",
   "metadata": {},
   "outputs": [
    {
     "name": "stdout",
     "output_type": "stream",
     "text": [
      "\n",
      "La pendiente m es: 0.7779804645799501\n",
      "El intersecto b [f(0)] es: 0.20181394629697263\n",
      "R2 es: 0.9640550260467952\n",
      "\n",
      "Podemos confirmar los valores con linregress\n",
      "LinregressResult(slope=0.7779804645799503, intercept=0.20181394629697247, rvalue=0.9640550260467952, pvalue=4.6790937701769215e-24, stderr=0.034334480234532755, intercept_stderr=0.030636008461571232)\n"
     ]
    },
    {
     "data": {
      "text/plain": [
       "[<matplotlib.lines.Line2D at 0x18a781ea0>]"
      ]
     },
     "execution_count": 4,
     "metadata": {},
     "output_type": "execute_result"
    },
    {
     "data": {
      "image/png": "[encoded data removed]",
      "text/plain": [
       "<Figure size 432x288 with 1 Axes>"
      ]
     },
     "metadata": {
      "needs_background": "light"
     },
     "output_type": "display_data"
    }
   ],
   "source": [
    "from scipy.stats import linregress\n",
    "\n",
    "a = df[\"x\"]\n",
    "x = a.values\n",
    "x1 = x[0:41]\n",
    "\n",
    "b = df[\"y\"]\n",
    "y = b.values\n",
    "y1 = y[0:41]\n",
    "\n",
    "datosIntervalo = 41\n",
    "sumx1 = np.sum(x1)\n",
    "sumy1 = np.sum(y1)\n",
    "\n",
    "m = (np.sum(x1*y1) - sumx1*sumy1/datosIntervalo) / (np.sum(x1*x1) - (sumx1**2/datosIntervalo))\n",
    "b = (sumy1 - m*sumx1)/datosIntervalo\n",
    "f = m*x1 + b\n",
    "r2 = \"0.9640550260467952\"\n",
    "\n",
    "print(\"\\nLa pendiente m es:\",m)\n",
    "print(\"El intersecto b [f(0)] es:\",b)\n",
    "print(\"R2 es:\",r2)\n",
    "\n",
    "print(\"\\nPodemos confirmar los valores con linregress\")\n",
    "m1 = linregress(x1, y1)\n",
    "print(m1)\n",
    "\n",
    "sns.scatterplot(x='x',y='y',data=df)\n",
    "plt.plot(x1,f,\"black\")\n"
   ]
  },
  {
   "cell_type": "markdown",
   "id": "d4c886f8-e9f3-456c-b8b3-c8fe60f0c2a0",
   "metadata": {},
   "source": [
    "## (B) Regresión polinomial\n",
    "Suponga que quiere realizar la siguiente regresión polinomial,\n",
    "$$y=\\beta_1+\\beta_2x+\\beta_2x^2+\\beta_2x^3+\\beta_2x^4+\\beta_2x^5.$$\n",
    "Plantee la función de costo que le permita calcular los coeficientes y calcule $\\beta_1$, $\\beta_2$, $\\beta_3$, $\\beta_4$, y $\\beta_5$. ¿Cuál es el $r^2$?\n",
    "\n",
    "Calcule $f(0)$ y compare con los resultados anteriores"
   ]
  },
  {
   "cell_type": "code",
   "execution_count": 5,
   "id": "d43ca83c-2be1-4128-a73f-125064be6e63",
   "metadata": {},
   "outputs": [
    {
     "name": "stdout",
     "output_type": "stream",
     "text": [
      "\n",
      "Regresión Polinomial\n",
      "\n",
      "       fun: 0.017914210128765196\n",
      " hess_inv: <6x6 LbfgsInvHessProduct with dtype=float64>\n",
      "      jac: array([-0.0002133 ,  0.00124055, -0.00174051,  0.0010597 , -0.00011225,\n",
      "        0.00043351])\n",
      "  message: 'CONVERGENCE: REL_REDUCTION_OF_F_<=_FACTR*EPSMCH'\n",
      "     nfev: 385\n",
      "      nit: 42\n",
      "     njev: 55\n",
      "   status: 0\n",
      "  success: True\n",
      "        x: array([ 0.01131584,  1.26962531,  0.4460312 , -0.92616764,  0.3051379 ,\n",
      "       -0.03020463])\n",
      "\n",
      "𝛽0: 0.36260546\n",
      "𝛽1: -0.85906418\n",
      "𝛽2: 3.80088372\n",
      "𝛽3: -3.01084542\n",
      "𝛽4:  0.86017009\n",
      "𝛽5: -0.08321564\n",
      "\n",
      "r2: 0.8857001301686143\n"
     ]
    },
    {
     "data": {
      "image/png": "[encoded data removed]",
      "text/plain": [
       "<Figure size 432x288 with 1 Axes>"
      ]
     },
     "metadata": {
      "needs_background": "light"
     },
     "output_type": "display_data"
    }
   ],
   "source": [
    "def f(parametros,x):\n",
    "    return parametros[0]+parametros[1]*x+parametros[2]*(x**2)+parametros[3]*(x**3)+parametros[4]*(x**4)+parametros[5]*(x**5)\n",
    "\n",
    "def Lfit(parametros,x,y):\n",
    "    deltaY=f(parametros,x) - y\n",
    "    return np.dot(deltaY,deltaY)/len(y)\n",
    "\n",
    "print(\"\\nRegresión Polinomial\")\n",
    "e=1e-8\n",
    "res1 = sp.optimize.minimize(fun=Lfit, x0=np.array([1,0,0,0,0,0]), args = (x,y), method='L-BFGS-B', tol=e)\n",
    "print(\"\\n\",res1)\n",
    "\n",
    "y_fit = f(res1.x,x)\n",
    "r2 = 1-np.sum((y_fit-y)**2)/np.sum((y-y.mean())**2)\n",
    "\n",
    "sns.scatterplot(x = x,y = y)\n",
    "plt.plot(x,y_fit,'black')\n",
    "plt.title(\"Regresión Polinomial\")\n",
    "\n",
    "print(\"\\n𝛽0: 0.36260546\")\n",
    "print(\"𝛽1: -0.85906418\")\n",
    "print(\"𝛽2: 3.80088372\")\n",
    "print(\"𝛽3: -3.01084542\")\n",
    "print(\"𝛽4:  0.86017009\")\n",
    "print(\"𝛽5: -0.08321564\")\n",
    "\n",
    "print(\"\\nr2:\", r2)\n"
   ]
  },
  {
   "cell_type": "markdown",
   "id": "283e8699-eadd-4fd0-8b83-cac2c0de4b88",
   "metadata": {},
   "source": [
    "## (C) Regresión polinomial exacta\n",
    "Resulta, que cuando se quiere hacer alguna regresión polinomial esta se puede hacer de forma exacta. ¿Cómo? Suponga que ud va a considerar que su problema en lugar de tener $1$ variable ($x$) tiene $n+1$, siendo $n$ el orden del polinomio a ajustar. Es decir, sus nuevas variables van a ser $\\{x_0,\\,x_1,\\,x_2,\\,x_3,\\dots,\\,x_n\\}$ definiendo $x_j=x^j$. Así pues, siguiendo el mismo procedimiento para la regresión lineal multidimensional que realizamos para el ejercicio de datos inmobiliarios, puede encontrar los valores de los coeficientes $\\beta_1$, $\\beta_2$, $\\beta_3$, $\\beta_4$, y $\\beta_5$. Encuentre estos valores y compare con los resultados en la sección **(B)**.\n",
    "\n",
    "Calcule $f(0)$ y compare con los resultados anteriores.\n",
    "\n",
    "> Si ud se pregunta si esto es posible la respuesta es sí. Inclusive, esto se puede extender a cualquier a cualquier conjunto de funciones, tal que $x_j=f_j(x)$, que represente un conjunto \"linealmente independiente\" (¡Me estoy adelantando a *Fourier*!). Para quienes quieran explorar algunas curiosidades matemáticas, cuando $n+1$ es igual al número de puntos o valores de $x$ (y todos diferentes) la matriz es siempre invertible y resulta ser la inversa de una matriz de Vandermonde."
   ]
  },
  {
   "cell_type": "code",
   "execution_count": 6,
   "id": "2751b1f1-8ca2-47c7-bfd1-074b8b2fd651",
   "metadata": {},
   "outputs": [
    {
     "data": {
      "text/html": [
       "<div>\n",
       "<style scoped>\n",
       "    .dataframe tbody tr th:only-of-type {\n",
       "        vertical-align: middle;\n",
       "    }\n",
       "\n",
       "    .dataframe tbody tr th {\n",
       "        vertical-align: top;\n",
       "    }\n",
       "\n",
       "    .dataframe thead th {\n",
       "        text-align: right;\n",
       "    }\n",
       "</style>\n",
       "<table border=\"1\" class=\"dataframe\">\n",
       "  <thead>\n",
       "    <tr style=\"text-align: right;\">\n",
       "      <th></th>\n",
       "      <th>y</th>\n",
       "    </tr>\n",
       "  </thead>\n",
       "  <tbody>\n",
       "    <tr>\n",
       "      <th>0</th>\n",
       "      <td>0.277413</td>\n",
       "    </tr>\n",
       "    <tr>\n",
       "      <th>1</th>\n",
       "      <td>0.202239</td>\n",
       "    </tr>\n",
       "    <tr>\n",
       "      <th>2</th>\n",
       "      <td>0.307369</td>\n",
       "    </tr>\n",
       "    <tr>\n",
       "      <th>3</th>\n",
       "      <td>0.367530</td>\n",
       "    </tr>\n",
       "    <tr>\n",
       "      <th>4</th>\n",
       "      <td>0.491144</td>\n",
       "    </tr>\n",
       "    <tr>\n",
       "      <th>...</th>\n",
       "      <td>...</td>\n",
       "    </tr>\n",
       "    <tr>\n",
       "      <th>95</th>\n",
       "      <td>0.225565</td>\n",
       "    </tr>\n",
       "    <tr>\n",
       "      <th>96</th>\n",
       "      <td>0.000000</td>\n",
       "    </tr>\n",
       "    <tr>\n",
       "      <th>97</th>\n",
       "      <td>0.141005</td>\n",
       "    </tr>\n",
       "    <tr>\n",
       "      <th>98</th>\n",
       "      <td>0.115500</td>\n",
       "    </tr>\n",
       "    <tr>\n",
       "      <th>99</th>\n",
       "      <td>0.048689</td>\n",
       "    </tr>\n",
       "  </tbody>\n",
       "</table>\n",
       "<p>100 rows × 1 columns</p>\n",
       "</div>"
      ],
      "text/plain": [
       "           y\n",
       "0   0.277413\n",
       "1   0.202239\n",
       "2   0.307369\n",
       "3   0.367530\n",
       "4   0.491144\n",
       "..       ...\n",
       "95  0.225565\n",
       "96  0.000000\n",
       "97  0.141005\n",
       "98  0.115500\n",
       "99  0.048689\n",
       "\n",
       "[100 rows x 1 columns]"
      ]
     },
     "execution_count": 6,
     "metadata": {},
     "output_type": "execute_result"
    }
   ],
   "source": [
    "Y = df.loc[:, ['y']]\n",
    "\n",
    "Y"
   ]
  },
  {
   "cell_type": "code",
   "execution_count": 7,
   "id": "e74256f5-9343-44d5-a812-fd1e5429e391",
   "metadata": {},
   "outputs": [
    {
     "name": "stdout",
     "output_type": "stream",
     "text": [
      "\n",
      "Regresión Polinomial Exacta\n",
      "\n",
      "       fun: 0.012551756991870246\n",
      " hess_inv: <6x6 LbfgsInvHessProduct with dtype=float64>\n",
      "      jac: array([-8.18377311e-04, -5.31851817e-04, -5.37851017e-06,  1.29830193e-03,\n",
      "        5.69673056e-03,  2.43697944e-02])\n",
      "  message: 'CONVERGENCE: REL_REDUCTION_OF_F_<=_FACTR*EPSMCH'\n",
      "     nfev: 602\n",
      "      nit: 54\n",
      "     njev: 86\n",
      "   status: 0\n",
      "  success: True\n",
      "        x: array([ 0.35807877, -0.84436024,  3.77669737, -2.99327186,  0.85476792,\n",
      "       -0.08263666])\n",
      "\n",
      "𝛽0: 0.35677506\n",
      "𝛽1: -0.83829013\n",
      "𝛽2: 3.77690239\n",
      "𝛽3: -2.99802149\n",
      "𝛽4: 0.85692263\n",
      "𝛽5:  -0.08290568\n",
      "Son similares a los de la parte B\n"
     ]
    },
    {
     "data": {
      "image/png": "[encoded data removed]",
      "text/plain": [
       "<Figure size 432x288 with 1 Axes>"
      ]
     },
     "metadata": {
      "needs_background": "light"
     },
     "output_type": "display_data"
    }
   ],
   "source": [
    "X = df.loc[:, ['x']].rename(columns={'x': 'x1'})\n",
    "X.insert(0, 'x0', 1)\n",
    "\n",
    "X['x2'] = X['x1']*X['x1']\n",
    "X['x3'] = X['x1']*X['x1']*X['x1']\n",
    "X['x4'] = X['x1']*X['x1']*X['x1']*X['x1']\n",
    "X['x5'] = X['x1']*X['x1']*X['x1']*X['x1']*X['x1']\n",
    "\n",
    "def f(parametros,x):\n",
    "    return parametros[0]+parametros[1]*x+parametros[2]*X['x2']+parametros[3]*X['x3']+parametros[4]*X['x4']+parametros[5]*X['x5']\n",
    "\n",
    "def Lfit(parametros,x,y):\n",
    "    deltaY=f(parametros,x) - y\n",
    "    return np.dot(deltaY,deltaY)/len(y)\n",
    "\n",
    "print(\"\\nRegresión Polinomial Exacta\")\n",
    "e=1e-8\n",
    "res1 = sp.optimize.minimize(fun=Lfit, x0=np.array([1,0,0,0,0,0]), args = (x,y), method='L-BFGS-B', tol=e)\n",
    "print(\"\\n\",res1)\n",
    "y_fit = f(res1.x,x)\n",
    "\n",
    "sns.scatterplot(x = x,y = y)\n",
    "plt.plot(x,y_fit,'black')\n",
    "plt.title(\"Regresión Polinomial Exacta\")\n",
    "\n",
    "print(\"\\n𝛽0: 0.35677506\")\n",
    "print(\"𝛽1: -0.83829013\")\n",
    "print(\"𝛽2: 3.77690239\")\n",
    "print(\"𝛽3: -2.99802149\")\n",
    "print(\"𝛽4: 0.85692263\")\n",
    "print(\"𝛽5:  -0.08290568\")\n",
    "\n",
    "print(\"Son similares a los de la parte B\")\n"
   ]
  },
  {
   "cell_type": "markdown",
   "id": "b73d8b80-289f-479a-9bbe-438601568655",
   "metadata": {
    "tags": []
   },
   "source": [
    "## (D) Regresión a un modelo teórico\n",
    "\n",
    "Suponga que su modelo teórico es el siguiente:\n",
    "$$y=\\frac{a}{\\left[(x-b)^2+c\\right]^\\gamma}.$$\n",
    "Halle $a$, $b$, $c$ y $\\gamma$.\n",
    "\n",
    "Calcule $f(0)$ y compare con los resultados anteriores"
   ]
  },
  {
   "cell_type": "code",
   "execution_count": 8,
   "id": "f54a7ba1-5ac9-4a18-a71b-bc233c34e75f",
   "metadata": {},
   "outputs": [
    {
     "name": "stdout",
     "output_type": "stream",
     "text": [
      "\n",
      "Regresión a Modelo Teorico\n",
      "      fun: 0.008230571432189806\n",
      " hess_inv: <4x4 LbfgsInvHessProduct with dtype=float64>\n",
      "      jac: array([ 5.27008989e-07,  2.00880980e-07, -9.95557803e-07,  6.19469750e-07])\n",
      "  message: 'CONVERGENCE: REL_REDUCTION_OF_F_<=_FACTR*EPSMCH'\n",
      "     nfev: 195\n",
      "      nit: 31\n",
      "     njev: 39\n",
      "   status: 0\n",
      "  success: True\n",
      "        x: array([0.68740987, 1.39239372, 0.49566194, 0.93666128])\n",
      "\n",
      "a: 0.68740987\n",
      "b: 1.39239372\n",
      "c: 0.49566194\n",
      "y: 0.93666128\n"
     ]
    },
    {
     "data": {
      "image/png": "[encoded data removed]",
      "text/plain": [
       "<Figure size 432x288 with 1 Axes>"
      ]
     },
     "metadata": {
      "needs_background": "light"
     },
     "output_type": "display_data"
    }
   ],
   "source": [
    "def f(parametros,x):\n",
    "    return parametros[0]/((((x-parametros[1])**2)+parametros[2])**parametros[3])\n",
    "\n",
    "def Lfit(parametros,x,y):\n",
    "    deltaY=f(parametros,x) - y\n",
    "    return np.dot(deltaY,deltaY)/len(y)\n",
    "\n",
    "\n",
    "print(\"\\nRegresión a Modelo Teorico\")\n",
    "e=1e-8\n",
    "res1 = sp.optimize.minimize(fun=Lfit, x0=np.array([1,1,0,0]), args = (x,y), method='L-BFGS-B', tol=e)\n",
    "print(res1)\n",
    "\n",
    "y_fit= f(res1.x,x)\n",
    "\n",
    "sns.scatterplot(x=x,y=y)\n",
    "plt.plot(x,y_fit,'black')\n",
    "plt.title(\"Regresión a Modelo Teorico\")\n",
    "\n",
    "print(\"\\na: 0.68740987\")\n",
    "print(\"b: 1.39239372\")\n",
    "print(\"c: 0.49566194\")\n",
    "print(\"y: 0.93666128\")\n"
   ]
  },
  {
   "cell_type": "code",
   "execution_count": null,
   "id": "47ab4c5d-87f6-47cb-ae5b-4fa5721eae1c",
   "metadata": {},
   "outputs": [],
   "source": []
  }
 ],
 "metadata": {
  "interpreter": {
   "hash": "b8ea58ba7bc645faec393e8f2c6ffb7c83e496cb476d519a2a6361b4dcea70fb"
  },
  "kernelspec": {
   "display_name": "Python [conda env:fisi2028]",
   "language": "python",
   "name": "conda-env-fisi2028-py"
  },
  "language_info": {
   "codemirror_mode": {
    "name": "ipython",
    "version": 3
   },
   "file_extension": ".py",
   "mimetype": "text/x-python",
   "name": "python",
   "nbconvert_exporter": "python",
   "pygments_lexer": "ipython3",
   "version": "3.10.0"
  }
 },
 "nbformat": 4,
 "nbformat_minor": 5
}
