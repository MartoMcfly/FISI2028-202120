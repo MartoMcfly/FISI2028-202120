{
 "cells": [
  {
   "cell_type": "code",
   "execution_count": 1,
   "id": "f9d282cc-eeed-48f9-b1f5-47c031fe6fba",
   "metadata": {},
   "outputs": [],
   "source": [
    "import numpy as np\n",
    "import pandas as pd\n",
    "import scipy as sp\n",
    "import sklearn as sl\n",
    "\n",
    "import seaborn as sns; sns.set()\n",
    "import matplotlib as mpl\n",
    "from matplotlib import pyplot as plt\n",
    "from mpl_toolkits.mplot3d import axes3d\n",
    "from matplotlib import cm\n",
    "%matplotlib inline"
   ]
  },
  {
   "cell_type": "markdown",
   "id": "5593b87f-f69e-4a14-a8ce-a496073b8819",
   "metadata": {},
   "source": [
    "# Tarea 5 y 6: Ecuación de difusión en 3 dimensiones\n",
    "\n",
    "Uds se preguntarán, ¿por qué vamos a resolver la ecuación de difusión? La respuesta no es muy obvia, pero es interesante: Los procesos de difusión comparten algo muy bonito con los procesos estocásticos. Para ello, vamos a analizar un problema de COVID: el tiempo medio estimado de infección de los viriones.\n",
    "\n",
    "La transmisión de COVID se da preponderamente debido a la aspersión de aerosoles en el aire. Estas partículas *semi*-esféricas -cuyo orden de magnitud es de $\\sim1-10\\,\\mu m$ de radio- están compuestas principalmente por agua, lípidos orgánicos y viriones (se pueden considerar *quasi*-puntuales ya que son del orden de los $\\sim100\\,nm$). Cuando una particula del aerosol entra y se adhiere al tracto respiratorio, el virus toma un tiempo en entrar en contacto con las células para infectar el huésped debido al movimiento Browniano. Los viriones, a diferencia de las bacterias, no cuentan con cilios, flagelos u otros mecanismos para desplazarse en los medios, por lo cual, su única esperanza es que por fluctuaciones térmicas puedan llegar a la superficie de la gota de aerosol para replicar su ADN al entrar en contacto con los tejidos susceptibles. Este proceso es en esencia estocástico y se puede modelar mediante la ecuación de Difusión. Esta ecuación tiene dos partes. La idea es que uds resuelvan el problema de la manera más sencilla. La ecuación es la siguiente,\n",
    "$$\n",
    "\\frac{\\partial\\Psi}{\\partial t}=D\\nabla^2\\Psi,\n",
    "$$\n",
    "donde $D$ es la constante de difusión del medio y $\\Psi$ es la concentración de partículas. La taza de difusión depende de la temperatura y la viscosidad del medio y se puede modelar usando la relación de Einstein-Stokes,\n",
    "$$\n",
    "D=\\frac{k_BT}{6\\pi\\eta a},\n",
    "$$\n",
    "siendo $k_B$ la constante de Boltzmann, $T$ la temperatura en grados Kelvin, $\\eta$ la viscosidad del medio y $a$ el radio de los viriones. En esencia, lo que la ecuación de difusión me está diciendo es que la concentración media de viriones depende de la posición y el tiempo. No obstante, para poder calcular el tiempo que tardaría un virión en alcanzar la superficie se puede modelar en la media usando la siguiente ecuación de difusión,\n",
    "$$\n",
    "-\\nabla^2\\tau=\\frac{1}{D},\n",
    "$$\n",
    "donde $\\tau$ es el tiempo medio que dependería de la posición en la que se encuentra inicialmente."
   ]
  },
  {
   "cell_type": "markdown",
   "id": "6d059ea9-92b0-4849-8ef4-3db1b7f7ec20",
   "metadata": {},
   "source": [
    "## 1. Escriba la ecuación de difusión para el tiempo $\\tau$ en coordenadas esféricas y asuma que $\\tau(r,\\theta,\\phi)\\simeq\\tau(r)$ ya que por simetría esférica sólo dependerá de la posición radial respecto al centro de la gotica (Usar **LaTex**)"
   ]
  },
  {
   "cell_type": "markdown",
   "id": "99680b76-6d52-4096-83ab-d1379e7a9ee9",
   "metadata": {},
   "source": [
    "[**Escriba aquí**]\n",
    "\n",
    "$$\n",
    "\\frac{1}{r^2}\\frac{\\partial}{\\partial r}\\left(r^2\\frac{\\partial\\tau}{\\partial r}\\right)\\to\\frac{1}{r^2}\\frac{\\text{d}}{\\text{d} r}\\left(r^2\\frac{\\text{d}\\tau}{\\text{d} r}\\right)=-\\frac{1}{D}\n",
    "$$"
   ]
  },
  {
   "cell_type": "markdown",
   "id": "3f4121f6-7e73-4320-96c6-0a08b5e07dbe",
   "metadata": {},
   "source": [
    "## 2. Resuelva la ecuación diferencial para el tiempo de forma numérica y grafique\n",
    "\n",
    "Asuma las siguientes condiciones iniciales:\n",
    "1. $\\tau(r=R)=0$ ya que si el virión está en la superficie el tiempo debe ser naturalmente nulo.\n",
    "1. $\\tau^\\prime(r=0)=0$ ya que por simetría la derivada radial debe ser nula en el origen\n",
    "\n",
    "Suponga las siguientes condiciones:\n",
    "- $R=5\\mu m$ para el radio de la esfera de *quasi* agua (calcula el volumen $V$)\n",
    "- $\\eta_{\\text{H}_2\\text{O}}\\simeq1\\times10^{-3}\\,Pa\\cdot s$ (Pascales por segundo)\n",
    "- $\\frac{\\eta}{\\eta_{\\text{H}_2\\text{O}}}\\approx10^3\\to10^5$\n",
    "- $a\\simeq100\\,nm$\n",
    "- $V=\\frac{4}{3}\\pi R^3$\n",
    "- $k_BT\\simeq4.05\\times10^{-21}J$"
   ]
  },
  {
   "cell_type": "code",
   "execution_count": 2,
   "id": "ed1fd95a-74ed-4cea-b450-7b4aa809805e",
   "metadata": {},
   "outputs": [
    {
     "name": "stdout",
     "output_type": "stream",
     "text": [
      "D=0.0021485917317405866 micrometros^2*s\n"
     ]
    }
   ],
   "source": [
    "# vamos a utilizar micrometros como la unidad para las distancias. Hay que hacer unos ajustes\n",
    "R = 5\n",
    "eta_h2o = 1e-9 # en unidades de Kg/(micro m*s)\n",
    "eta = eta_h2o*1e3\n",
    "a = 0.1\n",
    "V = 4/3*np.pi*R**3\n",
    "kbT = 4.05e-9\n",
    "\n",
    "D = kbT/(6*np.pi*eta*a)\n",
    "print(f'D={D} micrometros^2*s')"
   ]
  },
  {
   "cell_type": "markdown",
   "id": "faffba04-15ae-48c6-9c73-1ca8713ac3fa",
   "metadata": {},
   "source": [
    "La solución analítica sin las condiciones de frontera es:\n",
    "$$\n",
    "\\tau(r)=c_1-\\frac{c_2}{r}-\\frac{r^2}{6D},\n",
    "$$\n",
    "y con las condiciones...\n",
    "$$\n",
    "\\tau(r)=\\frac{R^2-r^2}{6D},\n",
    "$$\n"
   ]
  },
  {
   "cell_type": "markdown",
   "id": "40a05315-bf33-405a-a929-efb3805eee66",
   "metadata": {
    "tags": []
   },
   "source": [
    "### La ecuación de recurrencia es la siguiente:\n",
    "$$\n",
    "r\\frac{\\text{d}^2\\tau}{\\text{d} r^2}+2\\frac{\\text{d} \\tau}{\\text{d} r}=-\\frac{r}{D}\\\\\n",
    "r_{n}\\frac{\\tau_{n+1}-2\\tau_{n}+\\tau_{n-1}}{\\delta r^2}+2\\frac{\\tau_{n+1}-\\tau_{n-1}}{2\\delta r}=-\\frac{r_{n}}{D}\\\\\n",
    "r_{n}\\,(\\tau_{n+1}-2\\tau_{n}+\\tau_{n-1})+\\delta r\\,(\\tau_{n+1}-\\tau_{n-1})=-r_{n}\\,\\frac{\\delta r^2}{D}\\\\\n",
    "(r_{n}+\\delta r)\\,\\tau_{n+1}-2r_n\\,\\tau_{n}+(r_{n}-\\delta r)\\,\\tau_{n-1}=-r_{n}\\,\\frac{\\delta r^2}{D},\\\\\n",
    "$$\n",
    "con $r_n=n\\,\\delta r$, que me representan $N+1$ ecuaciones **lineales** para los $N+1$ puntos con lo cual dividimos el intervalo de $[0,R]$. Hay dos términos \"locos\" que corresponden a las ecuaciones $n=0$ y $n=N$, $\\tau_{-1}$ y $\\tau_{N+1}$. Tenemos que sustituir las dos ecuaciones para esos $n$ para que no aparezcan esos términos. Esas son las condiciones de frontera, es decir,\n",
    "$$\n",
    "\\tau_{N}=0\\\\\n",
    "\\tau^{\\prime}(r=0)=0\\,\\to\\,\\frac{\\tau_{1}-\\tau_{-1}}{2\\delta x}=0.\n",
    "$$\n",
    "Para resolver el último acertijo, asumimos que $r_0=\\epsilon>0|\\epsilon\\to0$ y sustituimos en la ecuación diferencial y obtenemos,"
   ]
  },
  {
   "cell_type": "markdown",
   "id": "b0bfa2da-28b9-410d-b096-a9ad425a4012",
   "metadata": {},
   "source": [
    "$$\n",
    "(\\epsilon+\\delta r)\\,\\tau_{1}-2\\epsilon\\,\\tau_{0}+(\\epsilon-\\delta r)\\,\\tau_{-1}=-\\epsilon\\,\\frac{\\delta r^2}{D}\\\\\n",
    "(\\epsilon+\\delta r)\\,\\tau_{1}-2\\epsilon\\,\\tau_{0}+(\\epsilon-\\delta r)\\,\\tau_{1}=-\\epsilon\\,\\frac{\\delta r^2}{D}\\\\\n",
    "2\\epsilon\\,\\tau_{1}-2\\epsilon\\,\\tau_{0}=-\\epsilon\\,\\frac{\\delta r^2}{D}\\\\\n",
    "\\tau_{1}-\\tau_{0}=-\\frac{\\delta r^2}{2D}\n",
    "$$\n",
    "También es válido asumir que $\\tau_1-\\tau_0=0$ pero se introduce un error menor... No obstante, no hay problema. Al final, el error es pequeño.\n",
    "\n",
    "Entonces, reescribimos la ecuación diferencial como $\\mathbb{M}\\tau=\\mathbb{b}$"
   ]
  },
  {
   "cell_type": "code",
   "execution_count": 3,
   "id": "6b5fa389-1d86-4156-8ca9-3168d2a7b858",
   "metadata": {},
   "outputs": [],
   "source": [
    "# vamos a escoger N puntos\n",
    "N = 101\n",
    "r = np.linspace(0,R,N)\n",
    "dr = R/(N-1)"
   ]
  },
  {
   "cell_type": "code",
   "execution_count": 4,
   "id": "32de0594-e413-4366-b647-b59a0c14cb14",
   "metadata": {},
   "outputs": [],
   "source": [
    "M = np.matrix(np.vstack(\n",
    "    [np.array([-1, 1] + [0]*(N-2))]\n",
    "    + [np.array([0]*(j-1)+[r[j]-dr, -2*r[j], r[j]+dr] + [0]*(N-j-2)) for j in range(1, N-1)]\n",
    "    + [np.array([0]*(N-1)+[1])]\n",
    "))\n",
    "b = np.matrix(-r*(dr**2/D)).T\n",
    "# -> mas condiciones de frontera\n",
    "b[0,0] = -0.5*(dr**2/D)\n",
    "b[-1,0] = 0\n",
    "\n",
    "# resolviendo\n",
    "tau = np.array((np.linalg.inv(M) * b).T).flatten()"
   ]
  },
  {
   "cell_type": "code",
   "execution_count": 5,
   "id": "e2d8dcd7-c73d-46c3-abbc-783fd77042e4",
   "metadata": {},
   "outputs": [
    {
     "data": {
      "text/plain": [
       "[<matplotlib.lines.Line2D at 0x18794fb50>]"
      ]
     },
     "execution_count": 5,
     "metadata": {},
     "output_type": "execute_result"
    },
    {
     "data": {
      "image/png": "[encoded data removed]",
      "text/plain": [
       "<Figure size 432x288 with 1 Axes>"
      ]
     },
     "metadata": {
      "needs_background": "light"
     },
     "output_type": "display_data"
    }
   ],
   "source": [
    "tau_teo = (R**2-r**2)/(6*D)\n",
    "plt.plot(r,tau, 'k-', lw=3)\n",
    "plt.plot(r,tau_teo, 'r--', lw=4, alpha=0.8)"
   ]
  },
  {
   "cell_type": "markdown",
   "id": "a934f471-0cca-4297-91ff-cc29afb6b45f",
   "metadata": {
    "tags": []
   },
   "source": [
    "## 3. Si los viriones están distribuidos uniformemente, encuentre el tiempo que tardaría un virión en salir de la gota de aerosol.\n",
    "\n",
    "Tenga presente que debe promediar suponiendo que el virión tiene una distribución uniforme, i.e. $\\rho\\left(\\vec{r}\\right)=1/V$, usando la siguiente relación,\n",
    "$$\n",
    "\\bar{\\tau} = \\int_{\\mathcal{V}}\\tau\\left(\\vec{r}\\right)\\rho\\left(\\vec{r}\\right)\\,\\text{d}\\vec{r} = \\frac{4\\pi}{V}\\int_{0}^{R}\\tau(r)\\,r^2\\text{d}r.\n",
    "$$\n",
    "Realice la integral numéricamente."
   ]
  },
  {
   "cell_type": "code",
   "execution_count": 6,
   "id": "13e514c8-d448-407e-99d5-44053f8fd581",
   "metadata": {},
   "outputs": [
    {
     "name": "stdout",
     "output_type": "stream",
     "text": [
      "El tiempo promedio de escape es, en segundos: 775.7018820182277\n"
     ]
    }
   ],
   "source": [
    "tau_promedio = (4*np.pi/V)*sp.integrate.simpson(tau*r**2, r)\n",
    "print('El tiempo promedio de escape es, en segundos:',tau_promedio)"
   ]
  },
  {
   "cell_type": "markdown",
   "id": "f46b5ef1-3bdb-4041-8d8f-74f63a3c0ea1",
   "metadata": {},
   "source": [
    "## 4. Las cadenas de Markov.\n",
    "\n",
    "Vamos a resolver el problema anterior usando un proceso de Markov. Suponga que ud **divide** la esfera en cubitos de ancho $\\delta x=\\delta y=\\delta z=\\Delta=R/N$ con $N$ un número determinado de particiones. Para nuestro experimento, vamos a suponer que ponemos un virión en una posición inicial $\\vec{r}_0=(\\Delta\\,j, 0, 0)$, determinada por un índice $j\\in\\{0,1,2,\\dots,N\\}$. Ud va a actualizar la posición del virión en la malla discreta siguiendo las reglas a continuación:\n",
    "- Determine el número de divisiones $N$ y calcule $\\Delta$.\n",
    "- Ajuste la escala de tiempo $\\delta t$ y de tal manera que la probabilidad $\\alpha=D\\frac{\\delta t}{\\Delta^2}<\\frac{1}{6}$. (Recomiendo $\\leq1/12$)\n",
    "- Haga una corrida de Markov-Monte Carlo actualizando la posición con la probabilidad de transición $\\alpha$ hacia los primeros vecinos cercanos y calcule el número de pasos de tiempo para llegar a la superficie, i.e. $|\\vec{r}(t_m)|>R-\\Delta$\n",
    "- Repita este experimento para la misma posición un gran número de veces para obtener una estadística (media y desviación estándar).\n",
    "- Repita todos los pasos para todos los índices $j\\in\\{0,1,2,\\dots,N\\}$ y grafique. ¡Compare con los resultados anteriores!"
   ]
  },
  {
   "cell_type": "code",
   "execution_count": 7,
   "id": "8e8402bc-e7cb-415b-9fa8-8acabcd26ca3",
   "metadata": {},
   "outputs": [
    {
     "name": "stdout",
     "output_type": "stream",
     "text": [
      "Delta=0.050000 micrometros\n",
      "dt=0.096963 segundos\n",
      "alpha=0.083333\n"
     ]
    }
   ],
   "source": [
    "Delta = dr\n",
    "dt = Delta**2/(12*D)\n",
    "alpha = D*dt/(Delta**2)\n",
    "print(f'Delta={Delta:.6f} micrometros')\n",
    "print(f'dt={dt:.6f} segundos')\n",
    "print(f'alpha={alpha:.6f}')"
   ]
  },
  {
   "cell_type": "code",
   "execution_count": 10,
   "id": "afa14f55-1aff-4774-901a-43363d2190c3",
   "metadata": {},
   "outputs": [],
   "source": [
    "# sin perdida de generalidad puedo asumir que la posición de un virión es (j*Delta,0,0) para j entre 0 y N\n",
    "def marcha_aleatoria(j, /, dt, Delta, alpha, R):\n",
    "    r_virion = np.array([j, 0, 0], dtype=int) # lo puedo simplificar a las coordenadas con respecto a los bloques, despues multiplico por Delta\n",
    "    n_dt_elapsed = 0\n",
    "\n",
    "    # vamos a actualizar con un \"vector\" -> izquierda, derecha, arriba, abajo, adelante, atrás, o se queda quieto\n",
    "    dr_virion = [\n",
    "        (-1, 0, 0), # izquierda\n",
    "        (1, 0, 0), # derecha\n",
    "        (0, 0, 1), # arriba\n",
    "        (0, 0, -1), # abajo\n",
    "        (0, 1, 0), # adelante\n",
    "        (0, -1, 0), # atrás\n",
    "        (0, 0, 0), # quieto\n",
    "    ]\n",
    "    # rnd = np.random.default_rng(seed=[0,1,2,3])\n",
    "    rnd = np.random.default_rng()\n",
    "    while np.dot(r_virion, r_virion)*Delta**2 < (R-Delta/2)**2:\n",
    "        dr_random = rnd.choice(dr_virion, p=[alpha, alpha, alpha, alpha, alpha, alpha, 1-6*alpha])\n",
    "        r_virion += dr_random\n",
    "        n_dt_elapsed += 1\n",
    "    return n_dt_elapsed*dt"
   ]
  },
  {
   "cell_type": "code",
   "execution_count": 11,
   "id": "3118a6ee-7211-4cab-a846-59f8185036b8",
   "metadata": {},
   "outputs": [
    {
     "name": "stdout",
     "output_type": "stream",
     "text": [
      "Pasaron 2416.2144239137065 segundos para que el virion llegara a la superficie de la esferita\n",
      "Pasaron 2485.7367057848137 segundos para que el virion llegara a la superficie de la esferita\n",
      "Pasaron 1714.107250930876 segundos para que el virion llegara a la superficie de la esferita\n",
      "Pasaron 3353.650157707106 segundos para que el virion llegara a la superficie de la esferita\n",
      "Pasaron 2925.656640023607 segundos para que el virion llegara a la superficie de la esferita\n",
      "Pasaron 1510.485504864871 segundos para que el virion llegara a la superficie de la esferita\n",
      "Pasaron 528.931726090504 segundos para que el virion llegara a la superficie de la esferita\n",
      "Pasaron 854.6295570598904 segundos para que el virion llegara a la superficie de la esferita\n",
      "The slowest run took 7.57 times longer than the fastest. This could mean that an intermediate result is being cached.\n",
      "667 ms ± 375 ms per loop (mean ± std. dev. of 7 runs, 1 loop each)\n"
     ]
    }
   ],
   "source": [
    "%%timeit\n",
    "\n",
    "j = 0 # un ejemplo...\n",
    "t_ejemplo = marcha_aleatoria(j, dt=dt, Delta=Delta, alpha=alpha, R=R)\n",
    "print(f'Pasaron {t_ejemplo} segundos para que el virion llegara a la superficie de la esferita')"
   ]
  },
  {
   "cell_type": "markdown",
   "id": "7c45e596-7f05-4e91-9930-884635d3c14d",
   "metadata": {},
   "source": [
    "## 5. Diseñe un experimento para calcular el numeral (3) usando Markov-Monte Carlo"
   ]
  },
  {
   "cell_type": "code",
   "execution_count": 12,
   "id": "57b92ff0-a866-4c82-ad60-ecb129a4e45b",
   "metadata": {},
   "outputs": [
    {
     "name": "stdout",
     "output_type": "stream",
     "text": [
      "terminó j: 0\n",
      "terminó j: 1\n",
      "terminó j: 2\n",
      "terminó j: 3\n",
      "terminó j: 4\n",
      "terminó j: 5\n",
      "terminó j: 6\n",
      "terminó j: 7\n",
      "terminó j: 8\n",
      "terminó j: 9\n",
      "terminó j: 10\n",
      "terminó j: 11\n",
      "terminó j: 12\n",
      "terminó j: 13\n",
      "terminó j: 14\n",
      "terminó j: 15\n",
      "terminó j: 16\n",
      "terminó j: 17\n",
      "terminó j: 18\n",
      "terminó j: 19\n",
      "terminó j: 20\n",
      "terminó j: 21\n",
      "terminó j: 22\n",
      "terminó j: 23\n",
      "terminó j: 24\n",
      "terminó j: 25\n",
      "terminó j: 26\n",
      "terminó j: 27\n",
      "terminó j: 28\n",
      "terminó j: 29\n",
      "terminó j: 30\n",
      "terminó j: 31\n",
      "terminó j: 32\n",
      "terminó j: 33\n",
      "terminó j: 34\n",
      "terminó j: 35\n",
      "terminó j: 36\n",
      "terminó j: 37\n",
      "terminó j: 38\n",
      "terminó j: 39\n",
      "terminó j: 40\n",
      "terminó j: 41\n",
      "terminó j: 42\n",
      "terminó j: 43\n",
      "terminó j: 44\n",
      "terminó j: 45\n",
      "terminó j: 46\n",
      "terminó j: 47\n",
      "terminó j: 48\n",
      "terminó j: 49\n",
      "terminó j: 50\n",
      "terminó j: 51\n",
      "terminó j: 52\n",
      "terminó j: 53\n",
      "terminó j: 54\n",
      "terminó j: 55\n",
      "terminó j: 56\n",
      "terminó j: 57\n",
      "terminó j: 58\n",
      "terminó j: 59\n",
      "terminó j: 60\n",
      "terminó j: 61\n",
      "terminó j: 62\n",
      "terminó j: 63\n",
      "terminó j: 64\n",
      "terminó j: 65\n",
      "terminó j: 66\n",
      "terminó j: 67\n",
      "terminó j: 68\n",
      "terminó j: 69\n",
      "terminó j: 70\n",
      "terminó j: 71\n",
      "terminó j: 72\n",
      "terminó j: 73\n",
      "terminó j: 74\n",
      "terminó j: 75\n",
      "terminó j: 76\n",
      "terminó j: 77\n",
      "terminó j: 78\n",
      "terminó j: 79\n",
      "terminó j: 80\n",
      "terminó j: 81\n",
      "terminó j: 82\n",
      "terminó j: 83\n",
      "terminó j: 84\n",
      "terminó j: 85\n",
      "terminó j: 86\n",
      "terminó j: 87\n",
      "terminó j: 88\n",
      "terminó j: 89\n",
      "terminó j: 90\n",
      "terminó j: 91\n",
      "terminó j: 92\n",
      "terminó j: 93\n",
      "terminó j: 94\n",
      "terminó j: 95\n",
      "terminó j: 96\n",
      "terminó j: 97\n",
      "terminó j: 98\n",
      "terminó j: 99\n",
      "terminó j: 100\n",
      "terminó j: 101\n"
     ]
    }
   ],
   "source": [
    "def repeticiones_de_la_marcha(j, rep, /, dt, Delta, alpha, R):\n",
    "    res = [\n",
    "        marcha_aleatoria(j, dt=dt, Delta=Delta, alpha=alpha, R=R)\n",
    "        for _ in range(rep)\n",
    "    ]\n",
    "    print(f'terminó j: {j}')\n",
    "    return np.mean(res), np.std(res)\n",
    "\n",
    "resultados = np.array([\n",
    "    repeticiones_de_la_marcha(j, 100, dt=dt, Delta=Delta, alpha=alpha, R=R)\n",
    "    for j in range(0,N+1,1)\n",
    "])"
   ]
  },
  {
   "cell_type": "code",
   "execution_count": 23,
   "id": "1378e4c6-5307-4594-ac14-61428ed87e88",
   "metadata": {},
   "outputs": [
    {
     "data": {
      "text/plain": [
       "[<matplotlib.lines.Line2D at 0x187ee42b0>]"
      ]
     },
     "execution_count": 23,
     "metadata": {},
     "output_type": "execute_result"
    },
    {
     "data": {
      "image/png": "[encoded data removed]",
      "text/plain": [
       "<Figure size 432x288 with 1 Axes>"
      ]
     },
     "metadata": {
      "needs_background": "light"
     },
     "output_type": "display_data"
    }
   ],
   "source": [
    "plt.plot(r, resultados[:,0][:-1], 'bo')\n",
    "plt.plot(r, tau, 'r--')"
   ]
  },
  {
   "cell_type": "code",
   "execution_count": null,
   "id": "63831e88-2f5b-4353-b666-98a659ae38b3",
   "metadata": {},
   "outputs": [],
   "source": []
  }
 ],
 "metadata": {
  "kernelspec": {
   "display_name": "Python [conda env:fisi2028]",
   "language": "python",
   "name": "conda-env-fisi2028-py"
  },
  "language_info": {
   "codemirror_mode": {
    "name": "ipython",
    "version": 3
   },
   "file_extension": ".py",
   "mimetype": "text/x-python",
   "name": "python",
   "nbconvert_exporter": "python",
   "pygments_lexer": "ipython3",
   "version": "3.10.0"
  }
 },
 "nbformat": 4,
 "nbformat_minor": 5
}
