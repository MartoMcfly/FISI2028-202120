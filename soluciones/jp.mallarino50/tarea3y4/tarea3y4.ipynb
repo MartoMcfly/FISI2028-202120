{
 "cells": [
  {
   "cell_type": "code",
   "execution_count": 1,
   "id": "207dbaa9",
   "metadata": {},
   "outputs": [],
   "source": [
    "import numpy as np\n",
    "import pandas as pd\n",
    "import scipy as sp\n",
    "import sklearn as sl\n",
    "\n",
    "import seaborn as sns; sns.set()\n",
    "import matplotlib as mpl\n",
    "from matplotlib import pyplot as plt\n",
    "from mpl_toolkits.mplot3d import axes3d\n",
    "from matplotlib import cm\n",
    "%matplotlib inline"
   ]
  },
  {
   "cell_type": "markdown",
   "id": "d4bfc713",
   "metadata": {},
   "source": [
    "# Tarea 3: Encuentre la regresión\n",
    "\n",
    "Ud recibe unos datos $x$ y $y$ cómo se muestran a continuación. Ud debe responder cuatro preguntas a partir de estos datos. Suponga que ud tiene un modelo tal que $y=f(x)$ más aún desconoce $f$."
   ]
  },
  {
   "cell_type": "code",
   "execution_count": 2,
   "id": "8ceca941",
   "metadata": {},
   "outputs": [
    {
     "data": {
      "image/png": "[encoded data removed]",
      "text/plain": [
       "<Figure size 432x288 with 1 Axes>"
      ]
     },
     "metadata": {
      "needs_background": "light"
     },
     "output_type": "display_data"
    },
    {
     "data": {
      "text/html": [
       "<div>\n",
       "<style scoped>\n",
       "    .dataframe tbody tr th:only-of-type {\n",
       "        vertical-align: middle;\n",
       "    }\n",
       "\n",
       "    .dataframe tbody tr th {\n",
       "        vertical-align: top;\n",
       "    }\n",
       "\n",
       "    .dataframe thead th {\n",
       "        text-align: right;\n",
       "    }\n",
       "</style>\n",
       "<table border=\"1\" class=\"dataframe\">\n",
       "  <thead>\n",
       "    <tr style=\"text-align: right;\">\n",
       "      <th></th>\n",
       "      <th>x</th>\n",
       "      <th>y</th>\n",
       "    </tr>\n",
       "  </thead>\n",
       "  <tbody>\n",
       "    <tr>\n",
       "      <th>0</th>\n",
       "      <td>0.065859</td>\n",
       "      <td>0.277413</td>\n",
       "    </tr>\n",
       "    <tr>\n",
       "      <th>1</th>\n",
       "      <td>0.020931</td>\n",
       "      <td>0.202239</td>\n",
       "    </tr>\n",
       "    <tr>\n",
       "      <th>2</th>\n",
       "      <td>0.070312</td>\n",
       "      <td>0.307369</td>\n",
       "    </tr>\n",
       "    <tr>\n",
       "      <th>3</th>\n",
       "      <td>0.206166</td>\n",
       "      <td>0.367530</td>\n",
       "    </tr>\n",
       "    <tr>\n",
       "      <th>4</th>\n",
       "      <td>0.286572</td>\n",
       "      <td>0.491144</td>\n",
       "    </tr>\n",
       "    <tr>\n",
       "      <th>...</th>\n",
       "      <td>...</td>\n",
       "      <td>...</td>\n",
       "    </tr>\n",
       "    <tr>\n",
       "      <th>95</th>\n",
       "      <td>3.922613</td>\n",
       "      <td>0.225565</td>\n",
       "    </tr>\n",
       "    <tr>\n",
       "      <th>96</th>\n",
       "      <td>3.898473</td>\n",
       "      <td>0.000000</td>\n",
       "    </tr>\n",
       "    <tr>\n",
       "      <th>97</th>\n",
       "      <td>3.952111</td>\n",
       "      <td>0.141005</td>\n",
       "    </tr>\n",
       "    <tr>\n",
       "      <th>98</th>\n",
       "      <td>3.939211</td>\n",
       "      <td>0.115500</td>\n",
       "    </tr>\n",
       "    <tr>\n",
       "      <th>99</th>\n",
       "      <td>3.987120</td>\n",
       "      <td>0.048689</td>\n",
       "    </tr>\n",
       "  </tbody>\n",
       "</table>\n",
       "<p>100 rows × 2 columns</p>\n",
       "</div>"
      ],
      "text/plain": [
       "           x         y\n",
       "0   0.065859  0.277413\n",
       "1   0.020931  0.202239\n",
       "2   0.070312  0.307369\n",
       "3   0.206166  0.367530\n",
       "4   0.286572  0.491144\n",
       "..       ...       ...\n",
       "95  3.922613  0.225565\n",
       "96  3.898473  0.000000\n",
       "97  3.952111  0.141005\n",
       "98  3.939211  0.115500\n",
       "99  3.987120  0.048689\n",
       "\n",
       "[100 rows x 2 columns]"
      ]
     },
     "execution_count": 2,
     "metadata": {},
     "output_type": "execute_result"
    }
   ],
   "source": [
    "df = pd.read_pickle('ex1.gz')\n",
    "sns.scatterplot(x='x',y='y',data=df)\n",
    "plt.show()\n",
    "df"
   ]
  },
  {
   "cell_type": "markdown",
   "id": "31f7e043",
   "metadata": {},
   "source": [
    "## (A) Pendiente e intercepto\n",
    "Determine la pendiente de los datos en el intervalo $[0,1.5]$ y el valor del intercepto con el eje $y$. Es decir, $f(0)=?$. ¿Cuál es el valor de $r^2$?"
   ]
  },
  {
   "cell_type": "code",
   "execution_count": 3,
   "id": "d366a418",
   "metadata": {},
   "outputs": [],
   "source": [
    "df_filtrado = df.loc[df['x']<=1.5, :]\n",
    "# insertamos una columna de unos para calcular el intercepto\n",
    "df_filtrado.insert(0, 'x0', 1)"
   ]
  },
  {
   "cell_type": "code",
   "execution_count": 4,
   "id": "6060f94b-a9b2-4524-8a7b-6dcb0ea20508",
   "metadata": {},
   "outputs": [
    {
     "name": "stdout",
     "output_type": "stream",
     "text": [
      "Pendiente: 0.81638696\n",
      "Intercepto: 0.18270691\n",
      "r^2: 0.931642\n"
     ]
    }
   ],
   "source": [
    "# Método SciPy\n",
    "#   ver -> https://docs.scipy.org/doc/scipy/reference/generated/scipy.stats.linregress.html\n",
    "sol_3a = sp.stats.linregress(x=df_filtrado['x'], y=df_filtrado['y'])\n",
    "print(f'Pendiente: {sol_3a.slope:.8f}')\n",
    "print(f'Intercepto: {sol_3a.intercept:.8f}')\n",
    "print(f'r^2: {sol_3a.rvalue**2:.6f}')"
   ]
  },
  {
   "cell_type": "code",
   "execution_count": 5,
   "id": "fd077365-8c7f-4b4c-8830-8299481d96dc",
   "metadata": {},
   "outputs": [],
   "source": [
    "# calle 110 no 9 25 piso 5 oficina 512: jimmy guerrero\n",
    "# Método Matricial: Sistemas Lineales de la clase\n",
    "# => Vamos a crear una funcion que hace la regresion -> nos simplifica la vida\n",
    "def regresion_lineal(data):\n",
    "    assert isinstance(data, pd.DataFrame), 'FEATURE MISSING: `data` must be a Pandas Dataframe'\n",
    "    _data = data.copy()\n",
    "    _cols = list(map(lambda x: ''.join(str(x).split()).lower(), data.columns))\n",
    "    assert 'y' in _cols, 'ERROR: \\'y\\' not in the columns'\n",
    "    _data.columns = _cols\n",
    "\n",
    "    # creamos las matrices X y Y: X*beta = Y\n",
    "    _Y = np.matrix(_data.loc[:, ['y']].to_numpy(dtype=np.float64))\n",
    "    _cols.pop(_cols.index('y'))\n",
    "    _X = np.matrix(_data.loc[:, _cols].to_numpy(dtype=np.float64))\n",
    "\n",
    "    # calculamos beta estimado\n",
    "    _beta = np.linalg.inv(_X.T*_X)*_X.T*_Y\n",
    "\n",
    "    # calculamos las predicciones estimadas y \"reescribimos\" observaciones\n",
    "    _Y_pred = np.array(_X*_beta).flatten()\n",
    "    _Y_obs = np.array(_Y).flatten()\n",
    "    _Y_barra = _Y_obs.mean()\n",
    "    _r2 = 1-(np.linalg.norm(_Y_pred - _Y_obs)**2)/(np.linalg.norm(_Y_obs - _Y_barra)**2)\n",
    "\n",
    "    # organizamos el diccionario que vamos a retornar\n",
    "    _X = np.array(_X)\n",
    "    _X = _X.flatten() if 1 in _X.shape else _X\n",
    "    _beta = np.array(_beta).flatten()\n",
    "    _resultado = dict(zip(_cols, _beta), **{\n",
    "        'y_pred': _Y_pred, 'r2': _r2,\n",
    "        'beta': _beta, 'vars': _cols\n",
    "    })\n",
    "    return _resultado"
   ]
  },
  {
   "cell_type": "code",
   "execution_count": 6,
   "id": "5b6e2ec6-f9e2-477a-ae60-b0bbad4dc436",
   "metadata": {},
   "outputs": [
    {
     "name": "stdout",
     "output_type": "stream",
     "text": [
      "Pendiente: 0.81638696\n",
      "Intercepto: 0.18270691\n",
      "r^2: 0.931642\n"
     ]
    },
    {
     "data": {
      "image/png": "[encoded data removed]",
      "text/plain": [
       "<Figure size 432x288 with 1 Axes>"
      ]
     },
     "metadata": {
      "needs_background": "light"
     },
     "output_type": "display_data"
    }
   ],
   "source": [
    "sol_3a_alt = regresion_lineal(df_filtrado)\n",
    "print(f'Pendiente: {sol_3a_alt[\"x\"]:.8f}')\n",
    "print(f'Intercepto: {sol_3a_alt[\"x0\"]:.8f}')\n",
    "print(f'r^2: {sol_3a_alt[\"r2\"]:.6f}')\n",
    "\n",
    "sns.scatterplot(x='x', y='y', data=df_filtrado)\n",
    "plt.plot(df_filtrado['x'], sol_3a_alt['y_pred'], 'r--')\n",
    "plt.show()"
   ]
  },
  {
   "cell_type": "markdown",
   "id": "500b92f3",
   "metadata": {
    "tags": []
   },
   "source": [
    "## (B) Regresión polinomial\n",
    "Suponga que quiere realizar la siguiente regresión polinomial,\n",
    "$$y=\\beta_1+\\beta_2x+\\beta_2x^2+\\beta_2x^3+\\beta_2x^4+\\beta_2x^5.$$\n",
    "Plantee la función de costo que le permita calcular los coeficientes y calcule $\\beta_1$, $\\beta_2$, $\\beta_3$, $\\beta_4$, y $\\beta_5$. ¿Cuál es el $r^2$?\n",
    "\n",
    "Calcule $f(0)$ y compare con los resultados anteriores"
   ]
  },
  {
   "cell_type": "code",
   "execution_count": 7,
   "id": "c750518e-3821-4092-8c55-6af6a0fcb0da",
   "metadata": {},
   "outputs": [],
   "source": [
    "# => Vamos a crear una funcion que prepara los datos polinomiales -> nos simplifica la vida\n",
    "def preparar_datos(data, /, poly=1):\n",
    "    assert isinstance(data, pd.DataFrame), 'FEATURE MISSING: `data` must be a Pandas Dataframe'\n",
    "    _data = data.copy()\n",
    "    _cols = list(map(lambda x: ''.join(str(x).split()).lower(), data.columns))\n",
    "    assert 'y' in _cols, 'ERROR: \\'y\\' not in the columns'\n",
    "    _data.columns = _cols\n",
    "    _cols.pop(_cols.index('y'))\n",
    "    assert isinstance(poly, int) and poly>0\n",
    "\n",
    "    # 1. funciones auxiliares que me dan el nombre y los valores de la columna\n",
    "    # nombre_columna = lambda _cs, _n: '*'.join(((_cs+' ')*_n).split())\n",
    "    nombre_columna = lambda _cs, _n: str(_cs)+'^'+str(_n)\n",
    "    datos_columna = lambda _dc, _n: np.power(_dc, _n)\n",
    "    # 2. Agregar los terminos polinomiales columna a columna (no hace las combinaciones)\n",
    "    #    NOTA: si queremos las combinaciones, tenemos que usar `itertools`\n",
    "    #          https://docs.python.org/3/library/itertools.html#itertools.combinations_with_replacement\n",
    "    _data.insert(0, '_intercepto', 1)\n",
    "    _new_data = _data.loc[:, ['_intercepto', 'y']]\n",
    "    for _c in reversed(_cols):\n",
    "        for _p in range(poly, 0, -1):\n",
    "            _new_data.insert(\n",
    "                1,\n",
    "                nombre_columna(_c, _p),\n",
    "                datos_columna(_data[_c].values, _p)\n",
    "            )\n",
    "    return _new_data"
   ]
  },
  {
   "cell_type": "code",
   "execution_count": 8,
   "id": "c09be61d-316e-4b3e-a0df-a0e7ac3e5ea3",
   "metadata": {},
   "outputs": [],
   "source": [
    "# => Vamos a crear una funcion de costo que me toma los datos en formato DataFrame y una funcion\n",
    "#    NOTA: esa funcion puede ser por ejemplo la sigmoidal\n",
    "def FuncCosto(beta, data, func):\n",
    "    Y = data['y'].values\n",
    "    deltaY = func(x=data, params=beta) - Y\n",
    "    # vamos a usar el estimador de distancia cuadratica media\n",
    "    return np.dot(deltaY, deltaY)/len(deltaY)"
   ]
  },
  {
   "cell_type": "code",
   "execution_count": 9,
   "id": "f08735e3-69ed-4ca6-98aa-cf2a86461652",
   "metadata": {},
   "outputs": [],
   "source": [
    "# => Escribo las funciones\n",
    "def func_linear(x, params):\n",
    "    X = x.loc[:, x.columns != 'y'].values\n",
    "    return np.dot(X, params)\n",
    "##### dejo como ejemplo la funcion sigmoidal, pero vamos a usar la lineal\n",
    "def func_sigmoidal(x, params):\n",
    "    X = x.loc[:, x.columns != 'y'].values\n",
    "    return 1/(1+np.exp(-np.dot(X, params)))"
   ]
  },
  {
   "cell_type": "code",
   "execution_count": 10,
   "id": "d0c51918-d8d2-460a-a94b-421f3bff39c3",
   "metadata": {},
   "outputs": [
    {
     "data": {
      "text/html": [
       "<div>\n",
       "<style scoped>\n",
       "    .dataframe tbody tr th:only-of-type {\n",
       "        vertical-align: middle;\n",
       "    }\n",
       "\n",
       "    .dataframe tbody tr th {\n",
       "        vertical-align: top;\n",
       "    }\n",
       "\n",
       "    .dataframe thead th {\n",
       "        text-align: right;\n",
       "    }\n",
       "</style>\n",
       "<table border=\"1\" class=\"dataframe\">\n",
       "  <thead>\n",
       "    <tr style=\"text-align: right;\">\n",
       "      <th></th>\n",
       "      <th>_intercepto</th>\n",
       "      <th>x^1</th>\n",
       "      <th>x^2</th>\n",
       "      <th>x^3</th>\n",
       "      <th>x^4</th>\n",
       "      <th>x^5</th>\n",
       "      <th>y</th>\n",
       "    </tr>\n",
       "  </thead>\n",
       "  <tbody>\n",
       "    <tr>\n",
       "      <th>0</th>\n",
       "      <td>1</td>\n",
       "      <td>0.065859</td>\n",
       "      <td>0.004337</td>\n",
       "      <td>0.000286</td>\n",
       "      <td>1.881288e-05</td>\n",
       "      <td>1.238994e-06</td>\n",
       "      <td>0.277413</td>\n",
       "    </tr>\n",
       "    <tr>\n",
       "      <th>1</th>\n",
       "      <td>1</td>\n",
       "      <td>0.020931</td>\n",
       "      <td>0.000438</td>\n",
       "      <td>0.000009</td>\n",
       "      <td>1.919277e-07</td>\n",
       "      <td>4.017187e-09</td>\n",
       "      <td>0.202239</td>\n",
       "    </tr>\n",
       "    <tr>\n",
       "      <th>2</th>\n",
       "      <td>1</td>\n",
       "      <td>0.070312</td>\n",
       "      <td>0.004944</td>\n",
       "      <td>0.000348</td>\n",
       "      <td>2.444111e-05</td>\n",
       "      <td>1.718506e-06</td>\n",
       "      <td>0.307369</td>\n",
       "    </tr>\n",
       "    <tr>\n",
       "      <th>3</th>\n",
       "      <td>1</td>\n",
       "      <td>0.206166</td>\n",
       "      <td>0.042504</td>\n",
       "      <td>0.008763</td>\n",
       "      <td>1.806610e-03</td>\n",
       "      <td>3.724609e-04</td>\n",
       "      <td>0.367530</td>\n",
       "    </tr>\n",
       "    <tr>\n",
       "      <th>4</th>\n",
       "      <td>1</td>\n",
       "      <td>0.286572</td>\n",
       "      <td>0.082123</td>\n",
       "      <td>0.023534</td>\n",
       "      <td>6.744268e-03</td>\n",
       "      <td>1.932718e-03</td>\n",
       "      <td>0.491144</td>\n",
       "    </tr>\n",
       "    <tr>\n",
       "      <th>...</th>\n",
       "      <td>...</td>\n",
       "      <td>...</td>\n",
       "      <td>...</td>\n",
       "      <td>...</td>\n",
       "      <td>...</td>\n",
       "      <td>...</td>\n",
       "      <td>...</td>\n",
       "    </tr>\n",
       "    <tr>\n",
       "      <th>95</th>\n",
       "      <td>1</td>\n",
       "      <td>3.922613</td>\n",
       "      <td>15.386893</td>\n",
       "      <td>60.356824</td>\n",
       "      <td>2.367565e+02</td>\n",
       "      <td>9.287040e+02</td>\n",
       "      <td>0.225565</td>\n",
       "    </tr>\n",
       "    <tr>\n",
       "      <th>96</th>\n",
       "      <td>1</td>\n",
       "      <td>3.898473</td>\n",
       "      <td>15.198094</td>\n",
       "      <td>59.249365</td>\n",
       "      <td>2.309821e+02</td>\n",
       "      <td>9.004774e+02</td>\n",
       "      <td>0.000000</td>\n",
       "    </tr>\n",
       "    <tr>\n",
       "      <th>97</th>\n",
       "      <td>1</td>\n",
       "      <td>3.952111</td>\n",
       "      <td>15.619183</td>\n",
       "      <td>61.728750</td>\n",
       "      <td>2.439589e+02</td>\n",
       "      <td>9.641527e+02</td>\n",
       "      <td>0.141005</td>\n",
       "    </tr>\n",
       "    <tr>\n",
       "      <th>98</th>\n",
       "      <td>1</td>\n",
       "      <td>3.939211</td>\n",
       "      <td>15.517382</td>\n",
       "      <td>61.126237</td>\n",
       "      <td>2.407891e+02</td>\n",
       "      <td>9.485192e+02</td>\n",
       "      <td>0.115500</td>\n",
       "    </tr>\n",
       "    <tr>\n",
       "      <th>99</th>\n",
       "      <td>1</td>\n",
       "      <td>3.987120</td>\n",
       "      <td>15.897126</td>\n",
       "      <td>63.383750</td>\n",
       "      <td>2.527186e+02</td>\n",
       "      <td>1.007619e+03</td>\n",
       "      <td>0.048689</td>\n",
       "    </tr>\n",
       "  </tbody>\n",
       "</table>\n",
       "<p>100 rows × 7 columns</p>\n",
       "</div>"
      ],
      "text/plain": [
       "    _intercepto       x^1        x^2        x^3           x^4           x^5  \\\n",
       "0             1  0.065859   0.004337   0.000286  1.881288e-05  1.238994e-06   \n",
       "1             1  0.020931   0.000438   0.000009  1.919277e-07  4.017187e-09   \n",
       "2             1  0.070312   0.004944   0.000348  2.444111e-05  1.718506e-06   \n",
       "3             1  0.206166   0.042504   0.008763  1.806610e-03  3.724609e-04   \n",
       "4             1  0.286572   0.082123   0.023534  6.744268e-03  1.932718e-03   \n",
       "..          ...       ...        ...        ...           ...           ...   \n",
       "95            1  3.922613  15.386893  60.356824  2.367565e+02  9.287040e+02   \n",
       "96            1  3.898473  15.198094  59.249365  2.309821e+02  9.004774e+02   \n",
       "97            1  3.952111  15.619183  61.728750  2.439589e+02  9.641527e+02   \n",
       "98            1  3.939211  15.517382  61.126237  2.407891e+02  9.485192e+02   \n",
       "99            1  3.987120  15.897126  63.383750  2.527186e+02  1.007619e+03   \n",
       "\n",
       "           y  \n",
       "0   0.277413  \n",
       "1   0.202239  \n",
       "2   0.307369  \n",
       "3   0.367530  \n",
       "4   0.491144  \n",
       "..       ...  \n",
       "95  0.225565  \n",
       "96  0.000000  \n",
       "97  0.141005  \n",
       "98  0.115500  \n",
       "99  0.048689  \n",
       "\n",
       "[100 rows x 7 columns]"
      ]
     },
     "execution_count": 10,
     "metadata": {},
     "output_type": "execute_result"
    }
   ],
   "source": [
    "new_df = preparar_datos(df, poly=5)\n",
    "new_df"
   ]
  },
  {
   "cell_type": "code",
   "execution_count": 11,
   "id": "6b5b3364-097e-428a-b2e8-f0fd087d98fc",
   "metadata": {},
   "outputs": [
    {
     "data": {
      "text/plain": [
       "      fun: 0.012550627021287898\n",
       " hess_inv: array([[ 1.16611506e+01, -3.92307241e+01,  4.20370156e+01,\n",
       "        -1.95727511e+01,  4.13406862e+00, -3.24988669e-01],\n",
       "       [-3.92307241e+01,  2.02730035e+02, -2.85685270e+02,\n",
       "         1.63981529e+02, -4.11721089e+01,  3.75897229e+00],\n",
       "       [ 4.20370156e+01, -2.85685270e+02,  4.73552974e+02,\n",
       "        -3.01719262e+02,  8.14335278e+01, -7.83978287e+00],\n",
       "       [-1.95727511e+01,  1.63981529e+02, -3.01719262e+02,\n",
       "         2.04515430e+02, -5.75182572e+01,  5.70350145e+00],\n",
       "       [ 4.13406862e+00, -4.11721089e+01,  8.14335278e+01,\n",
       "        -5.75182572e+01,  1.66259118e+01, -1.68182732e+00],\n",
       "       [-3.24988669e-01,  3.75897229e+00, -7.83978287e+00,\n",
       "         5.70350145e+00, -1.68182732e+00,  1.72668284e-01]])\n",
       "      jac: array([-1.44354999e-08, -1.09430403e-08, -3.69036570e-08, -6.61239028e-08,\n",
       "       -6.60074875e-08,  4.56348062e-08])\n",
       "  message: 'Desired error not necessarily achieved due to precision loss.'\n",
       "     nfev: 325\n",
       "      nit: 32\n",
       "     njev: 46\n",
       "   status: 2\n",
       "  success: False\n",
       "        x: array([ 0.35735903, -0.8426113 ,  3.78480048, -3.00339568,  0.858447  ,\n",
       "       -0.08305839])"
      ]
     },
     "execution_count": 11,
     "metadata": {},
     "output_type": "execute_result"
    }
   ],
   "source": [
    "sol_3b = sp.optimize.minimize(\n",
    "    fun=FuncCosto,\n",
    "    x0=np.zeros(new_df.shape[1]-1),\n",
    "    args = (new_df, func_linear),\n",
    "    tol=1e-10\n",
    ")\n",
    "sol_3b"
   ]
  },
  {
   "cell_type": "code",
   "execution_count": 12,
   "id": "31a03e6b",
   "metadata": {},
   "outputs": [
    {
     "data": {
      "image/png": "[encoded data removed]",
      "text/plain": [
       "<Figure size 432x288 with 1 Axes>"
      ]
     },
     "metadata": {
      "needs_background": "light"
     },
     "output_type": "display_data"
    }
   ],
   "source": [
    "# graficamos:\n",
    "X_graph = pd.DataFrame({\n",
    "    'x': np.linspace(df['x'].min(), df['x'].max(), 1000),\n",
    "    'y': 0\n",
    "})\n",
    "X_graph['y'] = func_linear(\n",
    "    x=preparar_datos(X_graph, poly=5),\n",
    "    params=sol_3b['x']\n",
    ")\n",
    "sns.scatterplot(x='x', y='y', data=df)\n",
    "plt.plot(X_graph['x'], X_graph['y'], 'r--')\n",
    "plt.show()"
   ]
  },
  {
   "cell_type": "markdown",
   "id": "3ecada2c",
   "metadata": {},
   "source": [
    "## (C) Regresión polinomial exacta\n",
    "Resulta, que cuando se quiere hacer alguna regresión polinomial esta se puede hacer de forma exacta. ¿Cómo? Suponga que ud va a considerar que su problema en lugar de tener $1$ variable ($x$) tiene $n+1$, siendo $n$ el orden del polinomio a ajustar. Es decir, sus nuevas variables van a ser $\\{x_0,\\,x_1,\\,x_2,\\,x_3,\\dots,\\,x_n\\}$ definiendo $x_j=x^j$. Así pues, siguiendo el mismo procedimiento para la regresión lineal multidimensional que realizamos para el ejercicio de datos inmobiliarios, puede encontrar los valores de los coeficientes $\\beta_1$, $\\beta_2$, $\\beta_3$, $\\beta_4$, y $\\beta_5$. Encuentre estos valores y compare con los resultados en la sección **(B)**.\n",
    "\n",
    "Calcule $f(0)$ y compare con los resultados anteriores.\n",
    "\n",
    "> Si ud se pregunta si esto es posible la respuesta es sí. Inclusive, esto se puede extender a cualquier a cualquier conjunto de funciones, tal que $x_j=f_j(x)$, que represente un conjunto \"linealmente independiente\" (¡Me estoy adelantando a *Fourier*!). Para quienes quieran explorar algunas curiosidades matemáticas, cuando $n+1$ es igual al número de puntos o valores de $x$ (y todos diferentes) la matriz es siempre invertible y resulta ser la inversa de una matriz de Vandermonde."
   ]
  },
  {
   "cell_type": "code",
   "execution_count": 13,
   "id": "3b89affa",
   "metadata": {},
   "outputs": [
    {
     "name": "stdout",
     "output_type": "stream",
     "text": [
      "Variables: ['_intercepto', 'x^1', 'x^2', 'x^3', 'x^4', 'x^5']\n",
      "    Pesos: [ 0.35644668 -0.83588268  3.77276401 -2.99526012  0.85614705 -0.08282854]\n",
      "r^2: 0.919923\n"
     ]
    }
   ],
   "source": [
    "# Siendo que hicimos muchas cosas anteriormente, todo va a ser mucho mas facil ahora...\n",
    "# 1. datos preparados\n",
    "new_df = preparar_datos(df, poly=5)\n",
    "# 2. hacemos la \"regresion lineal\" exacta\n",
    "sol_3c = regresion_lineal(new_df)\n",
    "# elimino, porque sobran, `graf X` y `graf Y`\n",
    "sol_3c.pop('graf X', None)\n",
    "sol_3c.pop('graf Y', None)\n",
    "\n",
    "print(f'Variables: {sol_3c[\"vars\"]}')\n",
    "print(f'    Pesos: {sol_3c[\"beta\"]}')\n",
    "print(f'r^2: {sol_3c[\"r2\"]:.6f}')"
   ]
  },
  {
   "cell_type": "code",
   "execution_count": 14,
   "id": "c2fdb472-45df-444d-8ce7-908661fe89b3",
   "metadata": {},
   "outputs": [
    {
     "data": {
      "image/png": "[encoded data removed]",
      "text/plain": [
       "<Figure size 432x288 with 1 Axes>"
      ]
     },
     "metadata": {
      "needs_background": "light"
     },
     "output_type": "display_data"
    }
   ],
   "source": [
    "# ahora graficamos...\n",
    "# graficamos:\n",
    "X_graph = pd.DataFrame({\n",
    "    'x': np.linspace(df['x'].min(), df['x'].max(), 1000),\n",
    "    'y': 0\n",
    "})\n",
    "X_graph['y'] = func_linear(\n",
    "    x=preparar_datos(X_graph, poly=5),\n",
    "    params=sol_3c['beta']\n",
    ")\n",
    "sns.scatterplot(x='x', y='y', data=df)\n",
    "plt.plot(X_graph['x'], X_graph['y'], 'r--')\n",
    "plt.show()"
   ]
  },
  {
   "cell_type": "markdown",
   "id": "539bf74c",
   "metadata": {
    "tags": []
   },
   "source": [
    "## (D) Regresión a un modelo teórico\n",
    "\n",
    "Suponga que su modelo teórico es el siguiente:\n",
    "$$y=\\frac{a}{\\left[(x-b)^2+c\\right]^\\gamma}.$$\n",
    "Halle $a$, $b$, $c$ y $\\gamma$.\n",
    "\n",
    "Calcule $f(0)$ y compare con los resultados anteriores"
   ]
  },
  {
   "cell_type": "code",
   "execution_count": 15,
   "id": "0e3c3fb4",
   "metadata": {},
   "outputs": [
    {
     "data": {
      "text/plain": [
       "      fun: 0.008230571431452201\n",
       " hess_inv: array([[3.78825269e+01, 3.49485254e-02, 5.01839900e+01, 4.86673821e+01],\n",
       "       [3.49485254e-02, 1.09903356e+00, 1.24913657e-01, 1.19525422e-01],\n",
       "       [5.01839900e+01, 1.24913657e-01, 6.78966389e+01, 6.76237924e+01],\n",
       "       [4.86673821e+01, 1.19525422e-01, 6.76237924e+01, 7.30205891e+01]])\n",
       "      jac: array([-9.31322575e-09,  3.43425199e-08, -3.95812094e-09,  1.73458830e-08])\n",
       "  message: 'Desired error not necessarily achieved due to precision loss.'\n",
       "     nfev: 531\n",
       "      nit: 64\n",
       "     njev: 104\n",
       "   status: 2\n",
       "  success: False\n",
       "        x: array([0.68740928, 1.39239356, 0.49566069, 0.93665744])"
      ]
     },
     "execution_count": 15,
     "metadata": {},
     "output_type": "execute_result"
    }
   ],
   "source": [
    "# Siendo que hicimos muchas cosas anteriormente, todo va a ser mucho mas facil ahora...\n",
    "# lo único que tengo que hacer es escribir una funcion especial y hacer minimizacion/optimizacion\n",
    "\n",
    "# => Escribo las funciones\n",
    "def func_especial(x, params):\n",
    "    a, b, c, gamma = params\n",
    "    X = x['x'].values\n",
    "    return a/np.power((X-b)**2+c, gamma)\n",
    "# => Hago la optimizacion\n",
    "sol_3d = sp.optimize.minimize(\n",
    "    fun=FuncCosto,\n",
    "    x0=np.array([0,0,0,1]), ## a, b, c, gamma\n",
    "    args = (df, func_especial),\n",
    "    tol=1e-10\n",
    ")\n",
    "sol_3d"
   ]
  },
  {
   "cell_type": "code",
   "execution_count": 16,
   "id": "b3967a4f-460c-4783-afed-d264f48a09d4",
   "metadata": {},
   "outputs": [
    {
     "data": {
      "image/png": "[encoded data removed]",
      "text/plain": [
       "<Figure size 432x288 with 1 Axes>"
      ]
     },
     "metadata": {
      "needs_background": "light"
     },
     "output_type": "display_data"
    }
   ],
   "source": [
    "# ahora graficamos...\n",
    "# graficamos:\n",
    "X_graph = pd.DataFrame({'x': np.linspace(df['x'].min(), df['x'].max(), 1000)})\n",
    "X_graph['y'] = func_especial(x=X_graph, params=sol_3d['x'])\n",
    "sns.scatterplot(x='x', y='y', data=df)\n",
    "plt.plot(X_graph['x'], X_graph['y'], 'r--')\n",
    "plt.show()"
   ]
  },
  {
   "cell_type": "markdown",
   "id": "443e54b2",
   "metadata": {
    "tags": []
   },
   "source": [
    "# Tarea 4\n",
    "\n",
    "Con base a los métodos vistos en clase resuelva las siguientes dos preguntas"
   ]
  },
  {
   "cell_type": "markdown",
   "id": "e44b5d1b",
   "metadata": {},
   "source": [
    "## (A) Integrales\n",
    "\n",
    "* $\\int_{0}^{1}x^{-1/2}\\,\\text{d}x$\n",
    "* $\\int_{0}^{\\infty}e^{-x}\\ln{x}\\,\\text{d}x$\n",
    "* $\\int_{0}^{\\infty}\\frac{\\sin{x}}{x}\\,\\text{d}x$"
   ]
  },
  {
   "cell_type": "code",
   "execution_count": 17,
   "id": "ef789398",
   "metadata": {},
   "outputs": [
    {
     "name": "stdout",
     "output_type": "stream",
     "text": [
      "N=252\n",
      "Integral exacta: 2\n",
      "Integral: 1.998680199299693\n"
     ]
    },
    {
     "name": "stderr",
     "output_type": "stream",
     "text": [
      "/var/folders/g0/1krznd0j4xq2w7hp515svkb80000gp/T/ipykernel_34866/4032162835.py:10: RuntimeWarning: divide by zero encountered in power\n",
      "  y = np.power(x, -1/2)\n"
     ]
    }
   ],
   "source": [
    "### pueden usar cuadraturas si quieren!\n",
    "# -> https://docs.scipy.org/doc/scipy/reference/generated/scipy.special.roots_chebyt.html\n",
    "# para la primera recordemos que debemos tomar un epsilon mayor a cero muy pequeño\n",
    "epsilon = 1e-6\n",
    "# vamos a tomar el intervalo entre 0 y 1 no uniforme tal que distancia entre uno y otro disminuya a medida q nos acercamos a 0\n",
    "alpha = 5/2 # es una potencia muy conveniente que me define como decrece dx vs la altura y vs el area. Mantiene el error bajito\n",
    "N = int(1/(epsilon**(1/alpha))) + 1 # numero de puntos queda determinado por epsilon\n",
    "print(f'N={N}')\n",
    "x = np.linspace(0, 1, N)**alpha\n",
    "y = np.power(x, -1/2)\n",
    "y[0] = np.power(x[1]/2, -1/2)\n",
    "print('Integral exacta: 2')\n",
    "print('Integral:',sp.integrate.simpson(y, x))"
   ]
  },
  {
   "cell_type": "code",
   "execution_count": 18,
   "id": "1fdc97b6-39bb-46d5-bd06-9338837514ed",
   "metadata": {},
   "outputs": [
    {
     "name": "stdout",
     "output_type": "stream",
     "text": [
      "Valor exacto: -Euler Mascheroni=-0.577215664901...\n",
      "Integral: -0.5147180612524798\n"
     ]
    }
   ],
   "source": [
    "# para la segunda... usamos los polinomios generalizados de laguerre\n",
    "N = 10\n",
    "z, w = sp.special.roots_genlaguerre(n=N, alpha=0)\n",
    "def f(x):\n",
    "    return np.log(x)\n",
    "print('Valor exacto: -Euler Mascheroni=-0.577215664901...')\n",
    "print('Integral:', np.dot(f(z), w))"
   ]
  },
  {
   "cell_type": "markdown",
   "id": "63f4a3f7-7f90-4e5f-8d81-4df46237fc68",
   "metadata": {},
   "source": [
    "### -> Sin embargo, uno puede mejorar esta integral con una integral por partes\n",
    "$$\n",
    "\\begin{eqnarray*}\n",
    "\\int_{0}^{\\infty}e^{-x}\\ln{x}\\,\\text{d}x = \\overbrace{\\left(x\\ln{x}-x\\right)e^{-x}\\Big\\vert_{0}^{\\infty}}^{\\text{cancels}}+\\int_{0}^{\\infty}\\left(x\\ln{x}-x\\right)e^{-x}\\,\\text{d}x = \\int_{0}^{\\infty}\\left(x\\ln{x}-x\\right)e^{-x}\\,\\text{d}x\n",
    "\\end{eqnarray*}\n",
    "$$"
   ]
  },
  {
   "cell_type": "code",
   "execution_count": 19,
   "id": "aa70bb54-e4e7-416c-babc-44a93b3511b4",
   "metadata": {},
   "outputs": [
    {
     "name": "stdout",
     "output_type": "stream",
     "text": [
      "Integral: -0.5798107635615206\n"
     ]
    }
   ],
   "source": [
    "def f1(x):\n",
    "    return x*(np.log(x)-1)\n",
    "print('Integral:', np.dot(f1(z), w))"
   ]
  },
  {
   "cell_type": "markdown",
   "id": "7630b5d7-d8bc-457c-b3be-ad16b57c1a1e",
   "metadata": {},
   "source": [
    "y si hago ooootra integración por partes...\n",
    "$$\n",
    "\\int_{0}^{\\infty}e^{-x}\\ln{x}\\,\\text{d}x = \\overbrace{\\left(\\frac{x^2}{2}\\ln{x}-\\frac{3}{4}x^2\\right)e^{-x}\\Big\\vert_{0}^{\\infty}}^{\\text{cancels}}+\\int_{0}^{\\infty}\\left(\\frac{x^2}{2}\\ln{x}-\\frac{3}{4}x^2\\right)e^{-x}\\,\\text{d}x = \\int_{0}^{\\infty}\\left(\\frac{x^2}{2}\\ln{x}-\\frac{3}{4}x^2\\right)e^{-x}\\,\\text{d}x\n",
    "$$"
   ]
  },
  {
   "cell_type": "code",
   "execution_count": 20,
   "id": "dfd1373e-56a4-4285-8d95-196fc5195003",
   "metadata": {},
   "outputs": [
    {
     "name": "stdout",
     "output_type": "stream",
     "text": [
      "Integral: -0.5770278608837813\n"
     ]
    }
   ],
   "source": [
    "def f2(x):\n",
    "    return 0.5*(x**2)*(np.log(x)-1.5)\n",
    "print('Integral:', np.dot(f2(z), w))"
   ]
  },
  {
   "cell_type": "code",
   "execution_count": 21,
   "id": "a325009e-ac0b-4881-935f-634cb7f9a3a4",
   "metadata": {},
   "outputs": [],
   "source": [
    "# por ultimo, la de sinc(x) o sin(x)/x, tomemos los periodos de 2pi, y como es una funcion suave se puede usar simpson o trapecio\n",
    "# pero... hay que mirar lo asintotico... aqui es mas importante ver lo asintotico"
   ]
  },
  {
   "cell_type": "code",
   "execution_count": 22,
   "id": "07cf0501-7e70-4dcc-b08b-165ef7c72590",
   "metadata": {},
   "outputs": [],
   "source": [
    "import math\n",
    "x_periodo = np.linspace(0,2*np.pi,20)\n",
    "x0 = lambda j:2*np.pi*j # donde j es el trozo de periodicidad 2pi que estamos analizando\n",
    "def sinc(x):\n",
    "    _sinc = lambda y: math.sin(y)/y if y!=0 else 1\n",
    "    return np.array(list(map(_sinc, x)))"
   ]
  },
  {
   "cell_type": "code",
   "execution_count": 23,
   "id": "a5d8b79f-e848-422c-b227-9ff845f582fc",
   "metadata": {},
   "outputs": [
    {
     "name": "stdout",
     "output_type": "stream",
     "text": [
      "Valor exacto: pi/2 = 1.570796326794...\n",
      "Integral: 1.5541601970945513\n"
     ]
    }
   ],
   "source": [
    "# Podemos usar simpson para integrar en cada periodo la contribución a la integral\n",
    "Nj = 10 # vamos a integrar 10 periodos\n",
    "sum_integral = 0\n",
    "for j in range(Nj):\n",
    "    x = x0(j) + x_periodo\n",
    "    sum_integral += sp.integrate.simpson(sinc(x), x)\n",
    "print('Valor exacto: pi/2 = 1.570796326794...')\n",
    "print('Integral:',sum_integral)"
   ]
  },
  {
   "cell_type": "code",
   "execution_count": 24,
   "id": "49bfbea9-196f-4bcd-be54-4115c1970913",
   "metadata": {},
   "outputs": [
    {
     "name": "stdout",
     "output_type": "stream",
     "text": [
      "progreso: 1\n",
      "progreso: 2\n",
      "progreso: 3\n",
      "progreso: 5\n",
      "progreso: 8\n",
      "progreso: 13\n",
      "progreso: 21\n",
      "progreso: 34\n",
      "progreso: 55\n",
      "progreso: 89\n",
      "progreso: 144\n",
      "progreso: 233\n",
      "progreso: 377\n",
      "progreso: 610\n",
      "progreso: 987\n",
      "progreso: 1597\n",
      "progreso: 2584\n",
      "progreso: 4181\n",
      "progreso: 6765\n",
      "progreso: 10946\n",
      "progreso: 17711\n",
      "progreso: 28657\n",
      "progreso: 46368\n",
      "progreso: 75025\n",
      "progreso: 121393\n"
     ]
    }
   ],
   "source": [
    "# si queremos ver como se aproxima, veamos, tomemos Nj como si fuera una secuencia de fibonacci (por que? se los dejo a uds)\n",
    "def fib(n):\n",
    "    _f = []\n",
    "    for _n in range(n):\n",
    "        if _n <= 1:\n",
    "            _f.append(1)\n",
    "        else:\n",
    "            _f.append(_f[-2]+_f[-1])\n",
    "    return _f.copy()\n",
    "Nj = fib(26)[1:]\n",
    "partial_sum = []\n",
    "for nj in Nj: #-> se puede optimizar y se los dejo a uds!\n",
    "    sum_integral = 0\n",
    "    print('progreso:', nj)\n",
    "    for j in range(nj):\n",
    "        x = x0(j) + x_periodo\n",
    "        sum_integral += sp.integrate.simpson(sinc(x), x)\n",
    "    partial_sum.append(sum_integral)"
   ]
  },
  {
   "cell_type": "code",
   "execution_count": 25,
   "id": "b4b8f269-f1f1-4dfd-b0d5-02003e6b4c4f",
   "metadata": {},
   "outputs": [
    {
     "data": {
      "image/png": "[encoded data removed]",
      "text/plain": [
       "<Figure size 432x288 with 1 Axes>"
      ]
     },
     "metadata": {
      "needs_background": "light"
     },
     "output_type": "display_data"
    }
   ],
   "source": [
    "plt.hlines(np.pi/2, min(Nj), max(Nj), 'blue')\n",
    "ax = plt.gca()\n",
    "ax.scatter(Nj ,partial_sum , c='red', alpha=0.7, edgecolors='none')\n",
    "ax.set_xscale('log')"
   ]
  },
  {
   "cell_type": "markdown",
   "id": "1f2fe914",
   "metadata": {},
   "source": [
    "## (B) Fourier\n",
    "\n",
    "Calcule la transformada rápida de Fourier para la función de la **Tarea 3 (D)** en el intervalo $[0,4]$ ($k$ máximo $2\\pi n/L$ para $n=25$). Ajuste la transformada de Fourier para los datos de la **Tarea 3** usando el método de regresión exacto de la **Tarea 3 (C)** y compare con el anterior resultado. Para ambos ejercicios haga una interpolación y grafique para comparar."
   ]
  },
  {
   "cell_type": "code",
   "execution_count": 26,
   "id": "114614c5",
   "metadata": {},
   "outputs": [
    {
     "data": {
      "text/plain": [
       "[<matplotlib.lines.Line2D at 0x187048940>]"
      ]
     },
     "execution_count": 26,
     "metadata": {},
     "output_type": "execute_result"
    },
    {
     "data": {
      "image/png": "[encoded data removed]",
      "text/plain": [
       "<Figure size 432x288 with 1 Axes>"
      ]
     },
     "metadata": {
      "needs_background": "light"
     },
     "output_type": "display_data"
    }
   ],
   "source": [
    "# literalmente tomen el ejemplo de scipy: https://docs.scipy.org/doc/scipy/reference/tutorial/fft.html#d-discrete-fourier-transforms\n",
    "# o... usen las funciones que hicimos en clase\n",
    "from scipy.fft import fft, rfft, fftfreq\n",
    "\n",
    "N = 200\n",
    "x = np.linspace(0, 4, N, endpoint=False)\n",
    "dx = 4/N\n",
    "y = func_especial(x=pd.DataFrame({'x': x}), params=sol_3d.x)\n",
    "plt.plot(x, y, 'r--')"
   ]
  },
  {
   "cell_type": "code",
   "execution_count": 27,
   "id": "543c8682-fcda-4fb6-9848-c50d26059e7e",
   "metadata": {},
   "outputs": [],
   "source": [
    "# aplicamos la de la clase\n",
    "def FFT(x, y, a, L, /, Nf=None):\n",
    "    detNf = lambda n: (n+1)//2 if n%2==1 else n//2\n",
    "    Nf = detNf(len(x)) if Nf is None else Nf\n",
    "    assert all(x>=a) and all(x<a+L), f'`x` fuera del interfalo [{a}, {a+L})'\n",
    "    k = lambda j: 2*j*np.pi/L\n",
    "    def a_j(j):\n",
    "        new_y = y*np.cos(k(j)*x)/L\n",
    "        if j > 0:\n",
    "            new_y = new_y * 2\n",
    "        return sp.integrate.simpson(new_y, x)\n",
    "    def b_j(j):\n",
    "        new_y = y*np.sin(k(j)*x)/L\n",
    "        if j > 0:\n",
    "            new_y = new_y * 2\n",
    "        return sp.integrate.simpson(new_y, x)\n",
    "\n",
    "    Aj = np.array([a_j(j) for j in range(Nf)])\n",
    "    Bj = np.array([b_j(j) for j in range(Nf)])\n",
    "    Cj = np.array([(Aj[j]-Bj[j]*1J)*(0.5 if j>0 else 1) for j in range(Nf)])\n",
    "    return {\n",
    "        'Nf': Nf, 'a': a, 'L': L,\n",
    "        'Aj': Aj, 'Bj': Bj, 'Cj': Cj\n",
    "    }\n",
    "def invFFT(fft, /, x=None, frec=0, N=None):\n",
    "    # fft is the output of FFT\n",
    "    Nf=fft['Nf']\n",
    "    a=fft['a']\n",
    "    L=fft['L']\n",
    "    Aj=fft['Aj']\n",
    "    Bj=fft['Bj']\n",
    "\n",
    "    if N is not None:\n",
    "        Nf = min(N,Nf)\n",
    "    x_tilde = np.linspace(\n",
    "            a-frec*L,\n",
    "            a+(frec+1)*L,\n",
    "            1000*(2*frec+1),\n",
    "            endpoint=False\n",
    "        ) if x is None else x.copy()\n",
    "    k = lambda j: 2*j*np.pi/L\n",
    "    y_tilde = np.sum([\n",
    "        Aj[j] * np.cos(k(j)*x_tilde) + Bj[j] * np.sin(k(j)*x_tilde) for j in range(Nf)\n",
    "    ], axis=0)\n",
    "    return x_tilde, y_tilde"
   ]
  },
  {
   "cell_type": "code",
   "execution_count": 28,
   "id": "7f658b52-a8fd-494e-ae7a-dab8f86453a6",
   "metadata": {},
   "outputs": [],
   "source": [
    "sol_4b_1 = FFT(x, y, 0, 4)"
   ]
  },
  {
   "cell_type": "code",
   "execution_count": 29,
   "id": "16b5e66e-221b-42e5-b340-01db61962f90",
   "metadata": {},
   "outputs": [
    {
     "data": {
      "text/plain": [
       "[<matplotlib.lines.Line2D at 0x1870950f0>]"
      ]
     },
     "execution_count": 29,
     "metadata": {},
     "output_type": "execute_result"
    },
    {
     "data": {
      "image/png": "[encoded data removed]",
      "text/plain": [
       "<Figure size 432x288 with 1 Axes>"
      ]
     },
     "metadata": {
      "needs_background": "light"
     },
     "output_type": "display_data"
    }
   ],
   "source": [
    "graf_x, graf_y = invFFT(sol_4b_1, frec=0, N=10)\n",
    "plt.plot(graf_x, graf_y, 'b-')\n",
    "plt.plot(x, y, 'r--')"
   ]
  },
  {
   "cell_type": "code",
   "execution_count": 30,
   "id": "fb91bc3a-da33-4aa9-a458-f5ecf0b8e1f1",
   "metadata": {},
   "outputs": [
    {
     "data": {
      "text/plain": [
       "array([ 5.85665088e-01+0.j        , -1.60141634e-01-0.21278554j,\n",
       "       -3.28218798e-02+0.05867375j,  2.00759871e-02-0.01607984j,\n",
       "       -8.09432819e-03-0.01224763j, -1.20738978e-03-0.00329195j,\n",
       "        1.28431840e-04-0.00540892j, -5.75788528e-04-0.00437902j,\n",
       "       -1.14342799e-04-0.00365715j,  1.26390718e-05-0.00335742j])"
      ]
     },
     "execution_count": 30,
     "metadata": {},
     "output_type": "execute_result"
    }
   ],
   "source": [
    "# usando SciPy -> para comparar!\n",
    "yf = rfft(y)/N\n",
    "yf[:10]"
   ]
  },
  {
   "cell_type": "code",
   "execution_count": 31,
   "id": "66ac5d21-d818-4629-a158-505b4bef4ed9",
   "metadata": {},
   "outputs": [
    {
     "data": {
      "text/plain": [
       "array([ 0.58465078+0.j        , -0.16115594-0.21279659j,\n",
       "       -0.03383618+0.05865166j,  0.0190617 -0.01611297j,\n",
       "       -0.00910859-0.01229179j, -0.00222162-0.00334713j,\n",
       "       -0.00088575-0.00547511j, -0.00158991-0.0044562j ,\n",
       "       -0.00112838-0.00374531j, -0.0010013 -0.00345652j])"
      ]
     },
     "execution_count": 31,
     "metadata": {},
     "output_type": "execute_result"
    }
   ],
   "source": [
    "# Fijense que a pesar de lo parecidos, hay diferencias... a que creen uds que se debe?\n",
    "sol_4b_1['Cj'][:10]"
   ]
  },
  {
   "cell_type": "markdown",
   "id": "a3e3bb8a-2058-475a-9667-58635dc4fa03",
   "metadata": {},
   "source": [
    "### Por ultimo, para la \"regresion\" tenemos que hacer un ligero ajuste en una sola funcion\n",
    "Repitamos 3c"
   ]
  },
  {
   "cell_type": "code",
   "execution_count": 32,
   "id": "1bbe317e-a996-4b26-9b22-8aa9b965a6c1",
   "metadata": {},
   "outputs": [],
   "source": [
    "# => Vamos a crear una funcion que prepara los datos polinomiales -> nos simplifica la vida\n",
    "def preparar_datos_fourier(data, a, L, /, Nf=None):\n",
    "    assert isinstance(data, pd.DataFrame), 'FEATURE MISSING: `data` must be a Pandas Dataframe'\n",
    "    _data = data.copy()\n",
    "    _cols = list(map(lambda x: ''.join(str(x).split()).lower(), data.columns))\n",
    "    _data.columns = _cols\n",
    "    assert {'x', 'y'}.issubset(set(_cols)), 'ERROR: \\'x\\' or \\'y\\' not in the columns'\n",
    "\n",
    "    assert L > 0, 'ERROR: `L` must be a nonzero distance'\n",
    "\n",
    "    # 1. la funcion que me calcula el numero de onda\n",
    "    k = lambda j: 2*j*np.pi/L\n",
    "    # 2. funciones auxiliares que dan el valor de la columna\n",
    "    def a_j(j, x):\n",
    "        return np.cos(k(j)*x)\n",
    "    def b_j(j, x):\n",
    "        return np.sin(k(j)*x)\n",
    "    # 3. Agregar los terminos polinomiales columna a columna (no hace las combinaciones)\n",
    "    #    NOTA: si queremos las combinaciones, tenemos que usar `itertools`\n",
    "    #          https://docs.python.org/3/library/itertools.html#itertools.combinations_with_replacement\n",
    "    _data.insert(0, 'A_0', 1)\n",
    "    _x = _data['x'].values\n",
    "    _new_data = _data.loc[:, ['A_0', 'y']]\n",
    "    for _p in range(Nf, 0, -1):\n",
    "        _new_data.insert(1, 'B_'+str(_p), b_j(_p, _x))\n",
    "        _new_data.insert(1, 'A_'+str(_p), a_j(_p, _x))\n",
    "    return _new_data"
   ]
  },
  {
   "cell_type": "code",
   "execution_count": 33,
   "id": "250aff02-64ab-48fb-aa16-4bb9d8e2701a",
   "metadata": {},
   "outputs": [
    {
     "name": "stdout",
     "output_type": "stream",
     "text": [
      "Aj (integracion): [ 0.58465078 -0.32231188 -0.06767236  0.03812341 -0.01821718 -0.00444323\n",
      " -0.0017715  -0.00317982 -0.00225676 -0.0020026 ]\n",
      "Aj (regresion): [ 0.58618461 -0.32035709 -0.07217405  0.0269929  -0.00946633 -0.02875748\n",
      "  0.01316534]\n",
      "Bj (integracion): [ 0.          0.42559317 -0.11730333  0.03222594  0.02458358  0.00669426\n",
      "  0.01095022  0.0089124   0.00749061  0.00691305]\n",
      "Bj (regresion): [ 0.42171768 -0.1189321   0.05393187  0.01523528 -0.00159776  0.03960902]\n",
      "r^2: 0.955239\n"
     ]
    }
   ],
   "source": [
    "# Siendo que hicimos muchas cosas anteriormente, todo va a ser mucho mas facil ahora...\n",
    "# 1. datos preparados\n",
    "new_df = preparar_datos_fourier(df, 0, 4, Nf=6)\n",
    "# 2. hacemos la \"regresion lineal\" exacta\n",
    "sol_4b_2 = regresion_lineal(new_df)\n",
    "# elimino, porque sobran, `graf X` y `graf Y`\n",
    "sol_4b_2.pop('graf X', None)\n",
    "sol_4b_2.pop('graf Y', None)\n",
    "\n",
    "from pprint import pformat\n",
    "Aj_seleccion = list(map(lambda s: s.startswith('a_'), sol_4b_2['vars']))\n",
    "Aj = sol_4b_2[\"beta\"][Aj_seleccion]\n",
    "Bj_seleccion = list(map(lambda s: s.startswith('b_'), sol_4b_2['vars']))\n",
    "Bj = sol_4b_2[\"beta\"][Bj_seleccion]\n",
    "print(f'Aj (integracion): {sol_4b_1[\"Aj\"][:10]}')\n",
    "print(f'Aj (regresion): {Aj}')\n",
    "print(f'Bj (integracion): {sol_4b_1[\"Bj\"][:10]}')\n",
    "print(f'Bj (regresion): {Bj}')\n",
    "print(f'r^2: {sol_4b_2[\"r2\"]:.6f}')"
   ]
  },
  {
   "cell_type": "code",
   "execution_count": 34,
   "id": "2404af30-8b97-4885-9560-439ced228f2c",
   "metadata": {},
   "outputs": [
    {
     "data": {
      "image/png": "[encoded data removed]",
      "text/plain": [
       "<Figure size 432x288 with 1 Axes>"
      ]
     },
     "metadata": {
      "needs_background": "light"
     },
     "output_type": "display_data"
    }
   ],
   "source": [
    "# ahora graficamos...\n",
    "# graficamos:\n",
    "X_graph = pd.DataFrame({\n",
    "    'x': np.linspace(df['x'].min(), df['x'].max(), 1000),\n",
    "    'y': 0\n",
    "})\n",
    "X_graph['y'] = func_linear(\n",
    "    x=preparar_datos_fourier(X_graph, 0, 4, Nf=6),\n",
    "    params=sol_4b_2['beta']\n",
    ")\n",
    "sns.scatterplot(x='x', y='y', data=df)\n",
    "plt.plot(X_graph['x'], X_graph['y'], 'r--')\n",
    "plt.show()"
   ]
  },
  {
   "cell_type": "code",
   "execution_count": null,
   "id": "7b73ff4d-1be6-460d-a8d3-93d2e3e863be",
   "metadata": {},
   "outputs": [],
   "source": []
  }
 ],
 "metadata": {
  "kernelspec": {
   "display_name": "Python [conda env:fisi2028]",
   "language": "python",
   "name": "conda-env-fisi2028-py"
  },
  "language_info": {
   "codemirror_mode": {
    "name": "ipython",
    "version": 3
   },
   "file_extension": ".py",
   "mimetype": "text/x-python",
   "name": "python",
   "nbconvert_exporter": "python",
   "pygments_lexer": "ipython3",
   "version": "3.10.0"
  }
 },
 "nbformat": 4,
 "nbformat_minor": 5
}
