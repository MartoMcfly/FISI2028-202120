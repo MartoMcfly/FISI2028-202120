{
 "cells": [
  {
   "cell_type": "markdown",
   "id": "f9f7cfc3",
   "metadata": {},
   "source": [
    "1.\n",
    "Iniciamos con la siguiente formula:\n",
    "$$-\\bigtriangledown _{t}^{2}=\\frac{1}{D}$$\n",
    "Resolviendo para $\\bigtriangledown _{t}^{2}$:\n",
    "\n",
    "$$\\bigtriangledown _{t}^{2}=\\frac{1}{r^{2}}\\frac{\\partial }{\\partial r}\\left ( r^{2}\\frac{\\partial t}{\\partial r} \\right )+\\frac{1}{r^{2}\\sin\\theta}\\frac{\\partial }{\\partial \\theta }\\left ( \\sin \\theta \\frac{\\partial t}{\\partial \\theta } \\right )+\\frac{1}{r^{2}\\sin^{2}\\theta}\\frac{\\partial^2 t}{\\partial \\phi ^2}$$\n",
    "Debido a que  buscamos algo que dependa unicamente de $t$, los términos sin esta van a ser eliminados, dejándonos con: \n",
    "$$\\bigtriangledown _{t}^{2}=\\frac{1}{r^{2}}\\frac{\\partial }{\\partial r}\\left ( r^{2}\\frac{\\partial t}{\\partial t} \\right )=-\\frac{1}{D}$$\n",
    "Desarrollando, llegamos a la siguiente ecuación diferencial:\n",
    "$$\\frac{\\partial^2 t}{\\partial r^{2}}+\\frac{2}{r}\\frac{\\partial t }{\\partial r}+\\frac{1}{D}=0$$"
   ]
  },
  {
   "cell_type": "markdown",
   "id": "3048290e",
   "metadata": {},
   "source": [
    "2."
   ]
  },
  {
   "cell_type": "code",
   "execution_count": 50,
   "id": "da4c0d0d",
   "metadata": {
    "scrolled": false
   },
   "outputs": [
    {
     "data": {
      "text/plain": [
       "[<matplotlib.lines.Line2D at 0x1f91bcea790>]"
      ]
     },
     "execution_count": 50,
     "metadata": {},
     "output_type": "execute_result"
    },
    {
     "data": {
      "image/png": "[encoded data removed]",
      "text/plain": [
       "<Figure size 432x288 with 1 Axes>"
      ]
     },
     "metadata": {
      "needs_background": "light"
     },
     "output_type": "display_data"
    }
   ],
   "source": [
    "#teniendo t''+t'2/r+1/D=0\n",
    "import numpy as np\n",
    "import pandas as pd\n",
    "import scipy as sp\n",
    "import sklearn as sl\n",
    "import seaborn as sns; sns.set()\n",
    "import matplotlib as mlp\n",
    "from matplotlib import pyplot as plt\n",
    "from mpl_toolkits.mplot3d import axes3d\n",
    "from matplotlib import cm\n",
    "%matplotlib inline\n",
    "\n",
    "D=4.05*10**(-21)/(6*np.pi*1*10**(-7))*(1*10**(-3))\n",
    "R=5*10**(-6)\n",
    "N=50\n",
    "dr=R/N\n",
    "x0=0\n",
    "xN=0\n",
    "r=np.arange(0,R,dr)\n",
    "\n",
    "\n",
    "M=np.matrix([np.array([(r[ri]-dr if rj==ri-1 and ri>0 else 0) for rj in range (N)])for ri in range(N)])\n",
    "M+=np.matrix([np.array([(-2*r[ri] if rj==ri else 0) for rj in range (N)])for ri in range(N)])\n",
    "M+=np.matrix([np.array([(r[ri]+dr if rj==ri+1 and ri<N-1 else 0) for rj in range (N)])for ri in range(N)])\n",
    "\n",
    "\n",
    "M[0,:] = np.zeros(N)\n",
    "M[0,0] = 1\n",
    "M[0,1] = -1\n",
    "M[-1, -1] = 1\n",
    "\n",
    "\n",
    "\n",
    "\n",
    "b=np.matrix([np.array([((-1*r[i]*dr**2)/D if i<N-1 else xN) for i in range(N)])]).T\n",
    "\n",
    "T=np.array((np.linalg.inv(M)*b).T).flatten()\n",
    "r2=np.arange(0,N*dr,dr)\n",
    "\n",
    "plt.plot(r2,T)"
   ]
  },
  {
   "cell_type": "markdown",
   "id": "80b3228b",
   "metadata": {},
   "source": [
    "3."
   ]
  },
  {
   "cell_type": "code",
   "execution_count": 51,
   "id": "fb0905cb",
   "metadata": {},
   "outputs": [
    {
     "name": "stdout",
     "output_type": "stream",
     "text": [
      "Un virion tardaría 9.308376135169592e+27 segundos en salir de la gota\n"
     ]
    }
   ],
   "source": [
    "#Integral por el método del trapecio\n",
    "V = (4/3)*np.pi*R**3\n",
    "f = lambda r: (((R**2)/(6*D))-(1/((6*D)*r**2)))*r**2\n",
    "\n",
    "def trapeciof(inf,sup,n):\n",
    "    h = (sup-inf)/n\n",
    "    s = 0.5*(f(inf)-f(sup))\n",
    "    for i in range(1,n):\n",
    "        s+=f(inf+i*h)\n",
    "    integral = h*s\n",
    "    return integral\n",
    "respuesta = trapeciof(0.00001,R,200000)*(4*np.pi/V)\n",
    "print(f\"Un virion tardaría {respuesta} segundos en salir de la gota\")\n"
   ]
  },
  {
   "cell_type": "markdown",
   "id": "8c34cf39",
   "metadata": {},
   "source": [
    "4."
   ]
  },
  {
   "cell_type": "code",
   "execution_count": 69,
   "id": "3aebc003",
   "metadata": {},
   "outputs": [],
   "source": [
    "N=200\n",
    "dif = R/N\n",
    "x=np.arange(0,1,N)\n",
    "dt=0.2\n",
    "alfa=(D*dt)/dif**2 \n",
    "def actualiza_objetos(n):\n",
    "    # esta funcion me dice de n objetos cuantos van a la izquierda y cuantos a la derecha\n",
    "    v = np.random.uniform(size=N)\n",
    "    izq = sum(v<alfa)\n",
    "    der = sum(v<2*alfa) - izq\n",
    "    arriba=sum(v<alfa)\n",
    "    abajo=sum(v<alfa)-arriba\n",
    "    return (izq,der,arriba,abajo)\n",
    "\n",
    "def actualiza_phi(phi):\n",
    "    # calcular cuantos se van a la derecha y cuantos a la izquierda\n",
    "    dphi = np.array([actualiza_objetos(_phi) for _phi in phi]).T\n",
    "    # verificar cuantos hay.... reajustar cuantos se van: condiciones de frontera\n",
    "    dphi[0,0] = 0\n",
    "    dphi[1,-1] = 0\n",
    "    # sumar los q tenia phi0 + los q llegan - los q se van\n",
    "    dphi_izq = np.roll(dphi[0],-1)\n",
    "    dphi_der = np.roll(dphi[1], 1)\n",
    "    dphi = np.sum(dphi, axis=0)\n",
    "    return phi-dphi+dphi_izq+dphi_der"
   ]
  },
  {
   "cell_type": "code",
   "execution_count": 71,
   "id": "3392eab2",
   "metadata": {},
   "outputs": [
    {
     "name": "stdout",
     "output_type": "stream",
     "text": [
      "1\n"
     ]
    }
   ],
   "source": []
  },
  {
   "cell_type": "code",
   "execution_count": null,
   "id": "4a63266d",
   "metadata": {},
   "outputs": [],
   "source": []
  }
 ],
 "metadata": {
  "kernelspec": {
   "display_name": "Python 3 (ipykernel)",
   "language": "python",
   "name": "python3"
  },
  "language_info": {
   "codemirror_mode": {
    "name": "ipython",
    "version": 3
   },
   "file_extension": ".py",
   "mimetype": "text/x-python",
   "name": "python",
   "nbconvert_exporter": "python",
   "pygments_lexer": "ipython3",
   "version": "3.8.3"
  }
 },
 "nbformat": 4,
 "nbformat_minor": 5
}
