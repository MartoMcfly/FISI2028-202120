{
 "cells": [
  {
   "cell_type": "markdown",
   "id": "f3f8c78f",
   "metadata": {},
   "source": [
    "Tarea 4\n",
    "Con base a los métodos vistos en clase resuelva las siguientes dos preguntas\n",
    "\n",
    "(A) Integrales\n",
    "$\\int_{0}^{1}x^{-1/2}\\,\\text{d}x$\n",
    "$\\int_{0}^{\\infty}e^{-x}\\ln{x}\\,\\text{d}x$\n",
    "$\\int_{0}^{\\infty}\\frac{\\sin{x}}{x}\\,\\text{d}x$\n"
   ]
  },
  {
   "cell_type": "code",
   "execution_count": 17,
   "id": "e548597d",
   "metadata": {},
   "outputs": [],
   "source": [
    "import numpy as np\n",
    "import pandas as pd\n",
    "import scipy as sp\n",
    "import sklearn as sl\n",
    "import math\n",
    "import seaborn as sns; sns.set()\n",
    "import matplotlib as mpl\n",
    "from matplotlib import pyplot as plt\n",
    "from mpl_toolkits.mplot3d import axes3d\n",
    "from matplotlib import cm\n",
    "%matplotlib inline"
   ]
  },
  {
   "cell_type": "code",
   "execution_count": 25,
   "id": "bc3bccf9",
   "metadata": {},
   "outputs": [
    {
     "name": "stdout",
     "output_type": "stream",
     "text": [
      "La primera integral tiene un valor de:  1.7990507717381319\n",
      "La segunda integral tiene un valor de:  -2.084950834764822\n",
      "La tercera integral tiene un valor de:  1.559734493118496\n"
     ]
    }
   ],
   "source": [
    "#Utilizando el método del trapecio se va a resolver la primera parte:\n",
    "from math import pi\n",
    "f = lambda x: x**(-1/2)\n",
    "#Primero la integral de f de -1 hasta 3\n",
    "def trapeciof(inf,sup,n):\n",
    "    h = (sup-inf)/n\n",
    "    s = 0.5*(f(inf)-f(sup))\n",
    "    for i in range(1,n):\n",
    "        s+=f(inf+i*h)\n",
    "    integral = h*s\n",
    "    return integral\n",
    "f2= lambda x: (math.exp(1)**-x)*np.log(x)\n",
    "def trapeciof2(inf,sup,n):\n",
    "    h = (sup-inf)/n\n",
    "    s = 0.5*(f2(inf)-f2(sup))\n",
    "    for i in range(1,n):\n",
    "        s+=f2(inf+i*h)\n",
    "    integral = h*s\n",
    "    return integral\n",
    "f3 = lambda x: np.sin(x)/x\n",
    "def trapeciof3(inf,sup,n):\n",
    "    h = (sup-inf)/n\n",
    "    s = 0.5*(f3(inf)-f3(sup))\n",
    "    for i in range(1,n):\n",
    "        s+=f3(inf+i*h)\n",
    "    integral = h*s\n",
    "    return integral\n",
    "\n",
    "print(\"La primera integral tiene un valor de: \",trapeciof(0.01,1,1000) )\n",
    "print(\"La segunda integral tiene un valor de: \", trapeciof2(0.01,1000,1000))\n",
    "print(\"La tercera integral tiene un valor de: \", trapeciof3(0.01,1000,1000))\n",
    "\n"
   ]
  },
  {
   "cell_type": "code",
   "execution_count": null,
   "id": "444b52ab",
   "metadata": {},
   "outputs": [],
   "source": []
  },
  {
   "cell_type": "code",
   "execution_count": null,
   "id": "79103baa",
   "metadata": {},
   "outputs": [],
   "source": []
  }
 ],
 "metadata": {
  "kernelspec": {
   "display_name": "Python 3 (ipykernel)",
   "language": "python",
   "name": "python3"
  },
  "language_info": {
   "codemirror_mode": {
    "name": "ipython",
    "version": 3
   },
   "file_extension": ".py",
   "mimetype": "text/x-python",
   "name": "python",
   "nbconvert_exporter": "python",
   "pygments_lexer": "ipython3",
   "version": "3.9.7"
  }
 },
 "nbformat": 4,
 "nbformat_minor": 5
}
