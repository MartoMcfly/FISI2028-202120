{
 "cells": [
  {
   "cell_type": "code",
   "execution_count": 1,
   "id": "138d8ec5",
   "metadata": {},
   "outputs": [],
   "source": [
    "from numpy import *\n",
    "from matplotlib.pyplot import*\n",
    "\n",
    "import pandas as pd\n",
    "import scipy as sp\n",
    "import sklearn as sl\n",
    "\n",
    "import seaborn as sns; sns.set()\n",
    "import matplotlib as mpl\n",
    "from matplotlib import pyplot as plt\n",
    "from mpl_toolkits.mplot3d import axes3d\n",
    "from matplotlib import cm\n",
    "from scipy.optimize import curve_fit\n",
    "from sklearn.metrics import r2_score\n",
    "from sklearn.linear_model import LinearRegression\n",
    "from scipy.interpolate import *\n",
    "%matplotlib inline"
   ]
  },
  {
   "cell_type": "code",
   "execution_count": 2,
   "id": "e5712580",
   "metadata": {},
   "outputs": [
    {
     "data": {
      "image/png": "[encoded data removed]",
      "text/plain": [
       "<Figure size 432x288 with 1 Axes>"
      ]
     },
     "metadata": {
      "needs_background": "light"
     },
     "output_type": "display_data"
    },
    {
     "data": {
      "text/html": [
       "<div>\n",
       "<style scoped>\n",
       "    .dataframe tbody tr th:only-of-type {\n",
       "        vertical-align: middle;\n",
       "    }\n",
       "\n",
       "    .dataframe tbody tr th {\n",
       "        vertical-align: top;\n",
       "    }\n",
       "\n",
       "    .dataframe thead th {\n",
       "        text-align: right;\n",
       "    }\n",
       "</style>\n",
       "<table border=\"1\" class=\"dataframe\">\n",
       "  <thead>\n",
       "    <tr style=\"text-align: right;\">\n",
       "      <th></th>\n",
       "      <th>x</th>\n",
       "      <th>y</th>\n",
       "    </tr>\n",
       "  </thead>\n",
       "  <tbody>\n",
       "    <tr>\n",
       "      <th>0</th>\n",
       "      <td>0.065859</td>\n",
       "      <td>0.277413</td>\n",
       "    </tr>\n",
       "    <tr>\n",
       "      <th>1</th>\n",
       "      <td>0.020931</td>\n",
       "      <td>0.202239</td>\n",
       "    </tr>\n",
       "    <tr>\n",
       "      <th>2</th>\n",
       "      <td>0.070312</td>\n",
       "      <td>0.307369</td>\n",
       "    </tr>\n",
       "    <tr>\n",
       "      <th>3</th>\n",
       "      <td>0.206166</td>\n",
       "      <td>0.367530</td>\n",
       "    </tr>\n",
       "    <tr>\n",
       "      <th>4</th>\n",
       "      <td>0.286572</td>\n",
       "      <td>0.491144</td>\n",
       "    </tr>\n",
       "    <tr>\n",
       "      <th>...</th>\n",
       "      <td>...</td>\n",
       "      <td>...</td>\n",
       "    </tr>\n",
       "    <tr>\n",
       "      <th>95</th>\n",
       "      <td>3.922613</td>\n",
       "      <td>0.225565</td>\n",
       "    </tr>\n",
       "    <tr>\n",
       "      <th>96</th>\n",
       "      <td>3.898473</td>\n",
       "      <td>0.000000</td>\n",
       "    </tr>\n",
       "    <tr>\n",
       "      <th>97</th>\n",
       "      <td>3.952111</td>\n",
       "      <td>0.141005</td>\n",
       "    </tr>\n",
       "    <tr>\n",
       "      <th>98</th>\n",
       "      <td>3.939211</td>\n",
       "      <td>0.115500</td>\n",
       "    </tr>\n",
       "    <tr>\n",
       "      <th>99</th>\n",
       "      <td>3.987120</td>\n",
       "      <td>0.048689</td>\n",
       "    </tr>\n",
       "  </tbody>\n",
       "</table>\n",
       "<p>100 rows × 2 columns</p>\n",
       "</div>"
      ],
      "text/plain": [
       "           x         y\n",
       "0   0.065859  0.277413\n",
       "1   0.020931  0.202239\n",
       "2   0.070312  0.307369\n",
       "3   0.206166  0.367530\n",
       "4   0.286572  0.491144\n",
       "..       ...       ...\n",
       "95  3.922613  0.225565\n",
       "96  3.898473  0.000000\n",
       "97  3.952111  0.141005\n",
       "98  3.939211  0.115500\n",
       "99  3.987120  0.048689\n",
       "\n",
       "[100 rows x 2 columns]"
      ]
     },
     "execution_count": 2,
     "metadata": {},
     "output_type": "execute_result"
    }
   ],
   "source": [
    "df = pd.read_pickle(r'ex1.gz')\n",
    "sns.scatterplot(x='x',y='y',data=df)\n",
    "plt.show()\n",
    "df"
   ]
  },
  {
   "cell_type": "markdown",
   "id": "100e426d",
   "metadata": {},
   "source": [
    "(A) Pendiente e intercepto\n",
    "Determine la pendiente de los datos en el intervalo $[0,1.5]$ y el valor del intercepto con el eje $y$. Es decir, $f(0)=?$. ¿Cuál es el valor de $r^2$?\n"
   ]
  },
  {
   "cell_type": "code",
   "execution_count": 3,
   "id": "32a85de2",
   "metadata": {},
   "outputs": [
    {
     "name": "stdout",
     "output_type": "stream",
     "text": [
      "La pendiente de los datos en el intervalo establecido es de: 0.8163869624029936.\n",
      "El intercepto con el eje y es de: 0.18270690829168224. \n",
      "El valor de R2 es de 0.9266258916532397\n"
     ]
    }
   ],
   "source": [
    "x = df[\"x\"]\n",
    "y = df[\"y\"]\n",
    "x1 = []\n",
    "y1=[]\n",
    "for i in range(len(x)):\n",
    "    if(x[i]<=1.5):\n",
    "        x1.append(x[i])\n",
    "        y1.append(y[i])\n",
    "def func(x, m, b):\n",
    "    return m*x+b\n",
    "pre = []\n",
    "\n",
    "    \n",
    "x2 = np.array(x1)\n",
    "y2 = np.array(y1)\n",
    "popt, pcov = curve_fit(func, x1, y1)\n",
    "for i in range(len(x1)):\n",
    "    pre.append(func(x1[i],popt[0],popt[1]))\n",
    "print(f\"La pendiente de los datos en el intervalo establecido es de: {popt[0]}.\")\n",
    "print(f\"El intercepto con el eje y es de: {popt[1]}. \")\n",
    "r2 = r2_score(pre,y1)\n",
    "print(f\"El valor de R2 es de {r2}\")\n"
   ]
  },
  {
   "cell_type": "markdown",
   "id": "c5d902a8",
   "metadata": {},
   "source": [
    "(B) Regresión polinomial\n",
    "Suponga que quiere realizar la siguiente regresión polinomial,$$y=\\beta_1+\\beta_2x+\\beta_2x^2+\\beta_2x^3+\\beta_2x^4+\\beta_2x^5.$$Plantee la función de costo que le permita calcular los coeficientes y calcule $\\beta_1$, $\\beta_2$, $\\beta_3$, $\\beta_4$, y $\\beta_5$. ¿Cuál es el $r^2$?\n",
    "\n",
    "Calcule $f(0)$ y compare con los resultados anteriores"
   ]
  },
  {
   "cell_type": "code",
   "execution_count": 4,
   "id": "c3ee515e",
   "metadata": {},
   "outputs": [
    {
     "data": {
      "text/plain": [
       "[<matplotlib.lines.Line2D at 0x17e219b10>]"
      ]
     },
     "execution_count": 4,
     "metadata": {},
     "output_type": "execute_result"
    },
    {
     "data": {
      "image/png": "[encoded data removed]",
      "text/plain": [
       "<Figure size 432x288 with 1 Axes>"
      ]
     },
     "metadata": {
      "needs_background": "light"
     },
     "output_type": "display_data"
    }
   ],
   "source": [
    "x3 = np.array(x)\n",
    "y3 = np.array(y)\n",
    "p1=polyfit(x3,y3, 5)\n",
    "plot(x3, y3, \"o\")\n",
    "plot(x3, polyval(p1,x),\"r-\")\n"
   ]
  },
  {
   "cell_type": "code",
   "execution_count": 5,
   "id": "a0b0af3b",
   "metadata": {},
   "outputs": [
    {
     "name": "stdout",
     "output_type": "stream",
     "text": [
      "Las variables requeridas son presentadas a continuación con su respectivo orden [ 0.35736017 -0.84261616  3.78480634 -3.00339858  0.85844764 -0.08305844]\n",
      "De la misma forma, decimos entonces que f(0) es el intercepto, es decir, B_0, que es:  0.3573601718054142\n",
      "R2 es 0.9067708225388492\n"
     ]
    }
   ],
   "source": [
    "#Para crear la matriz A se utilizaron los valores dados y se agregaron a dicha matriz \n",
    "A = []\n",
    "for i in range(len(x)):\n",
    "    A.append([1,x[i],x[i]**2,x[i]**3,x[i]**4,x[i]**5])\n",
    "A1=np.matrix(A)\n",
    "B=np.array([y]).reshape(-1,1)\n",
    "B1 = np.matrix(B)\n",
    "\n",
    "# Definamos la func de costo (debe devolver un escalar)\n",
    "def L(x,A,b):\n",
    "    # (b_pred-b_obs)^2\n",
    "    # m es el numero de datos\n",
    "    # n es el numero de parametros == 13\n",
    "    m,n = A.shape\n",
    "    X = np.matrix(x).T\n",
    "    DeltaB=(A*X-b) # b gorro - b\n",
    "    return (DeltaB.T*DeltaB)[0,0]/m # matriz 1x1\n",
    "\n",
    "res1 = sp.optimize.minimize(fun=L,x0=np.zeros(A1.shape[1]), args = (A1,B1), tol=1e-10)\n",
    "\n",
    "\n",
    "print(\"Las variables requeridas son presentadas a continuación con su respectivo orden\", res1[\"x\"])\n",
    "print(\"De la misma forma, decimos entonces que f(0) es el intercepto, es decir, B_0, que es: \", res1[\"x\"][0])\n",
    "def func(x,a,b,c,d,e,f):\n",
    "    return a + b*x + c*x**2 + d*x**3 + e*x**4 + f*x**5\n",
    "va = np.linspace(0,4,100)\n",
    "predicc = np.array(va)\n",
    "info = func(predicc,res1[\"x\"][0],res1[\"x\"][1],res1[\"x\"][2],res1[\"x\"][3],res1[\"x\"][4],res1[\"x\"][5])\n",
    "r_2 = r2_score(info, y)\n",
    "print(f\"R2 es {r_2}\")"
   ]
  },
  {
   "cell_type": "markdown",
   "id": "2a71cd3e",
   "metadata": {},
   "source": [
    "(C) Regresión polinomial exacta\n",
    "Resulta, que cuando se quiere hacer alguna regresión polinomial esta se puede hacer de forma exacta. ¿Cómo? Suponga que ud va a considerar que su problema en lugar de tener $1$ variable ($x$) tiene $n+1$, siendo $n$ el orden del polinomio a ajustar. Es decir, sus nuevas variables van a ser $\\{x_0,\\,x_1,\\,x_2,\\,x_3,\\dots,\\,x_n\\}$ definiendo $x_j=x^j$. Así pues, siguiendo el mismo procedimiento para la regresión lineal multidimensional que realizamos para el ejercicio de datos inmobiliarios, puede encontrar los valores de los coeficientes $\\beta_1$, $\\beta_2$, $\\beta_3$, $\\beta_4$, y $\\beta_5$. Encuentre estos valores y compare con los resultados en la sección (B).\n",
    "\n",
    "Calcule $f(0)$ y compare con los resultados anteriores.\n",
    "\n",
    "Si ud se pregunta si esto es posible la respuesta es sí. Inclusive, esto se puede extender a cualquier a cualquier conjunto de funciones, tal que $x_j=f_j(x)$, que represente un conjunto \"linealmente independiente\" (¡Me estoy adelantando a Fourier!). Para quienes quieran explorar algunas curiosidades matemáticas, cuando $n+1$ es igual al número de puntos o valores de $x$ (y todos diferentes) la matriz es siempre invertible y resulta ser la inversa de una matriz de Vandermonde."
   ]
  },
  {
   "cell_type": "code",
   "execution_count": 6,
   "id": "bcdb4e42",
   "metadata": {},
   "outputs": [
    {
     "name": "stdout",
     "output_type": "stream",
     "text": [
      "Las variables requeridas son presentadas a continuación con su respectivo orden [ 0.35644668 -0.83588268  3.77276401 -2.99526012  0.85614705 -0.08282854]\n",
      "De la misma forma, decimos entonces que f(0) es el intercepto, es decir, B_0, que es:  0.3564466848234892\n",
      "Ambos modelos resultan en resultados casi iguales, con diferencias muy pequeñas.\n"
     ]
    }
   ],
   "source": [
    "x4=np.array(x).reshape(-1,1)\n",
    "y4=np.array(y)\n",
    "\n",
    "C =  np.array([np.ones([len(x), 1]),x4 ,x4**2, x4**3, x4**4, x4**5]).reshape(6, len(x)).T\n",
    "\n",
    "val = np.linalg.inv(C.T @ C) @ C.T @ y\n",
    "\n",
    "#info_y = func(va,val[0],val[1],val[2],val[3],val[4],val[5])\n",
    "print(\"Las variables requeridas son presentadas a continuación con su respectivo orden\", val)\n",
    "print(\"De la misma forma, decimos entonces que f(0) es el intercepto, es decir, B_0, que es: \", val[0])\n",
    "print(\"Ambos modelos resultan en resultados casi iguales, con diferencias muy pequeñas.\")"
   ]
  },
  {
   "cell_type": "markdown",
   "id": "98f7aa4c",
   "metadata": {},
   "source": [
    "(D) Regresión a un modelo teórico\n",
    "Suponga que su modelo teórico es el siguiente:$$y=\\frac{a}{\\left[(x-b)^2+c\\right]^\\gamma}.$$Halle $a$, $b$, $c$ y $\\gamma$.\n",
    "\n",
    "Calcule $f(0)$ y compare con los resultados anteriores"
   ]
  },
  {
   "cell_type": "code",
   "execution_count": 7,
   "id": "523aefc6",
   "metadata": {},
   "outputs": [
    {
     "name": "stdout",
     "output_type": "stream",
     "text": [
      "[0.68740954 1.39239335 0.49566103 0.93665784]\n",
      "La pendiente de los datos f(o) en el intervalo establecido es de: 0.29874120748870403.\n",
      "Los valores a,b,c y gamma son respectivamente:0.6874095408333055, 1.3923933453101973, 0.4956610291715863, 0.9366578381694505\n",
      "El r cuadrado es 0.9447889807105527\n",
      "El r cuadrado nos indica cómo éste modelo es superior a los demás, sin embargo podría tratarse con un defecto de la función utilizada para detectar dicho r cuadrado, por lo que no es definitivo que este modelo sea mejor que los anteriores.\n"
     ]
    },
    {
     "data": {
      "image/png": "[encoded data removed]",
      "text/plain": [
       "<Figure size 432x288 with 1 Axes>"
      ]
     },
     "metadata": {
      "needs_background": "light"
     },
     "output_type": "display_data"
    }
   ],
   "source": [
    "x = df[\"x\"]\n",
    "y = df[\"y\"]\n",
    "def func2(x,a,b,c,g):\n",
    "    return a/((c+(x-b)**2)**g)\n",
    "\n",
    "    \n",
    "x4 = np.array(x)\n",
    "y4 = np.array(y)\n",
    "popt, pcov = curve_fit(func2, x4, y4)\n",
    "plot(x4,y4,\"o\")\n",
    "plot(x4,func2(x4,popt[0],popt[1],popt[2],popt[3]))\n",
    "r_c =r2_score(func2(x4,popt[0],popt[1],popt[2],popt[3]),y4)\n",
    "print(f\"{popt}\")\n",
    "print(f\"La pendiente de los datos f(o) en el intervalo establecido es de: {func2(0,popt[0],popt[1],popt[2],popt[3])}.\")\n",
    "print(f\"Los valores a,b,c y gamma son respectivamente:{popt[0]}, {popt[1]}, {popt[2]}, {popt[3]}\")\n",
    "print(f\"El r cuadrado es {r_c}\")\n",
    "print(\"El r cuadrado nos indica cómo éste modelo es superior a los demás, sin embargo podría tratarse con un defecto de la función utilizada para detectar dicho r cuadrado, por lo que no es definitivo que este modelo sea mejor que los anteriores.\")"
   ]
  },
  {
   "cell_type": "code",
   "execution_count": null,
   "id": "1dc2c9da",
   "metadata": {},
   "outputs": [],
   "source": []
  },
  {
   "cell_type": "code",
   "execution_count": null,
   "id": "571b617c-b878-48f3-a678-13d4faeadb9f",
   "metadata": {},
   "outputs": [],
   "source": []
  }
 ],
 "metadata": {
  "kernelspec": {
   "display_name": "Python [conda env:fisi2028]",
   "language": "python",
   "name": "conda-env-fisi2028-py"
  },
  "language_info": {
   "codemirror_mode": {
    "name": "ipython",
    "version": 3
   },
   "file_extension": ".py",
   "mimetype": "text/x-python",
   "name": "python",
   "nbconvert_exporter": "python",
   "pygments_lexer": "ipython3",
   "version": "3.10.0"
  }
 },
 "nbformat": 4,
 "nbformat_minor": 5
}
