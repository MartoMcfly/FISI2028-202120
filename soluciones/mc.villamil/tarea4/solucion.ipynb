{
 "cells": [
  {
   "cell_type": "code",
   "execution_count": 1,
   "id": "6a56ce41-2397-4ecb-aa9e-6a5e647c1501",
   "metadata": {},
   "outputs": [
    {
     "ename": "ModuleNotFoundError",
     "evalue": "No module named 'sympy'",
     "output_type": "error",
     "traceback": [
      "\u001b[0;31m---------------------------------------------------------------------------\u001b[0m",
      "\u001b[0;31mModuleNotFoundError\u001b[0m                       Traceback (most recent call last)",
      "\u001b[0;32m/var/folders/g0/1krznd0j4xq2w7hp515svkb80000gp/T/ipykernel_34757/1966585385.py\u001b[0m in \u001b[0;36m<module>\u001b[0;34m\u001b[0m\n\u001b[1;32m      8\u001b[0m \u001b[0;32mimport\u001b[0m \u001b[0mmatplotlib\u001b[0m \u001b[0;32mas\u001b[0m \u001b[0mmpl\u001b[0m\u001b[0;34m\u001b[0m\u001b[0;34m\u001b[0m\u001b[0m\n\u001b[1;32m      9\u001b[0m \u001b[0;32mfrom\u001b[0m \u001b[0mmatplotlib\u001b[0m \u001b[0;32mimport\u001b[0m \u001b[0mpyplot\u001b[0m \u001b[0;32mas\u001b[0m \u001b[0mplt\u001b[0m\u001b[0;34m\u001b[0m\u001b[0;34m\u001b[0m\u001b[0m\n\u001b[0;32m---> 10\u001b[0;31m \u001b[0;32mfrom\u001b[0m \u001b[0msympy\u001b[0m \u001b[0;32mimport\u001b[0m \u001b[0mintegrate\u001b[0m\u001b[0;34m,\u001b[0m \u001b[0minit_printing\u001b[0m\u001b[0;34m\u001b[0m\u001b[0;34m\u001b[0m\u001b[0m\n\u001b[0m\u001b[1;32m     11\u001b[0m \u001b[0;32mfrom\u001b[0m \u001b[0msympy\u001b[0m\u001b[0;34m.\u001b[0m\u001b[0mabc\u001b[0m \u001b[0;32mimport\u001b[0m \u001b[0mx\u001b[0m\u001b[0;34m\u001b[0m\u001b[0;34m\u001b[0m\u001b[0m\n\u001b[1;32m     12\u001b[0m \u001b[0;32mfrom\u001b[0m \u001b[0mmpl_toolkits\u001b[0m\u001b[0;34m.\u001b[0m\u001b[0mmplot3d\u001b[0m \u001b[0;32mimport\u001b[0m \u001b[0maxes3d\u001b[0m\u001b[0;34m\u001b[0m\u001b[0;34m\u001b[0m\u001b[0m\n",
      "\u001b[0;31mModuleNotFoundError\u001b[0m: No module named 'sympy'"
     ]
    }
   ],
   "source": [
    "import numpy as np\n",
    "import pandas as pd\n",
    "import scipy as sp\n",
    "import math\n",
    "import time\n",
    "import sklearn as sl\n",
    "import seaborn as sns; sns.set()\n",
    "import matplotlib as mpl\n",
    "from matplotlib import pyplot as plt\n",
    "from sympy import integrate, init_printing\n",
    "from sympy.abc import x\n",
    "from mpl_toolkits.mplot3d import axes3d\n",
    "from matplotlib import cm\n",
    "\n",
    "%matplotlib inline"
   ]
  },
  {
   "cell_type": "markdown",
   "id": "5d31ab86-97bc-4d71-88e0-73fb3cb1705c",
   "metadata": {},
   "source": [
    "# Tarea 4\n",
    "\n",
    "Con base a los métodos vistos en clase resuelva las siguientes dos preguntas"
   ]
  },
  {
   "cell_type": "markdown",
   "id": "54407221-b08d-4356-92b1-55a4487e8372",
   "metadata": {},
   "source": [
    "## (A) Integrales\n",
    "\n",
    "* $\\int_{0}^{1}x^{-1/2}\\,\\text{d}x$"
   ]
  },
  {
   "cell_type": "markdown",
   "id": "fa72742c-cc81-4075-9634-4176dc59bfe1",
   "metadata": {},
   "source": [
    "-Metodo Cuadratica Gaussianas"
   ]
  },
  {
   "cell_type": "code",
   "execution_count": 2,
   "id": "26a32582-7b64-4d85-b712-0077573e25df",
   "metadata": {},
   "outputs": [],
   "source": [
    "x = 0.01\n",
    "x0 = 1\n",
    "N = 10"
   ]
  },
  {
   "cell_type": "code",
   "execution_count": 3,
   "id": "20e25cd0-798b-46fc-9efd-cfd930cb4751",
   "metadata": {},
   "outputs": [],
   "source": [
    "x1 = np.linspace(x,x0, N)\n",
    "\n",
    "V = np.matrix([x1**i for i in range(len(x1))]  )\n",
    "V_i = np.linalg.inv(V)"
   ]
  },
  {
   "cell_type": "code",
   "execution_count": 4,
   "id": "7112c027-88a3-4829-919b-7ccca14f2f06",
   "metadata": {},
   "outputs": [],
   "source": [
    "I = np.matrix([(( x0**(N+1) - x**(N+1)) /(N+1)) for N in range(len(x1)) ]).T"
   ]
  },
  {
   "cell_type": "code",
   "execution_count": 5,
   "id": "f3e7818a-57bb-4d67-a033-47f7e9d5e8d6",
   "metadata": {},
   "outputs": [],
   "source": [
    "def f(x):\n",
    "    return (x)**(-1/2)"
   ]
  },
  {
   "cell_type": "code",
   "execution_count": 6,
   "id": "274f9813-2d30-4239-9ff0-b1f46853abec",
   "metadata": {},
   "outputs": [],
   "source": [
    "vectF= np.matrix([f(x1[i]) for i in range(len(x1))]).T"
   ]
  },
  {
   "cell_type": "code",
   "execution_count": 7,
   "id": "f39e0fe6-f0e9-4960-92fa-58da4a9b7feb",
   "metadata": {},
   "outputs": [],
   "source": [
    "Integral=((vectF.T*V_i*I)[0,0])"
   ]
  },
  {
   "cell_type": "code",
   "execution_count": 8,
   "id": "cdd7bf5b-896a-4a9e-a076-d59a11d9b205",
   "metadata": {},
   "outputs": [],
   "source": [
    "Integral=round(Integral)"
   ]
  },
  {
   "cell_type": "code",
   "execution_count": 9,
   "id": "fa043576-417d-482e-9aef-f3570f23fccb",
   "metadata": {},
   "outputs": [
    {
     "name": "stdout",
     "output_type": "stream",
     "text": [
      "El valor de la integral es 2\n"
     ]
    }
   ],
   "source": [
    "print (\"El valor de la integral es\",Integral)  "
   ]
  },
  {
   "cell_type": "markdown",
   "id": "3ac83b59-4e32-407f-8464-0d07bcf6c43c",
   "metadata": {},
   "source": [
    "-Metdodo del Trapecio "
   ]
  },
  {
   "cell_type": "code",
   "execution_count": 10,
   "id": "55b893a2-e506-41d1-be0f-1e4a436f3a04",
   "metadata": {},
   "outputs": [],
   "source": [
    "def f(x):\n",
    "    return (x)**(-1/2)\n",
    "\n",
    "a=0.001\n",
    "b=1\n",
    "n=100\n",
    "\n",
    "x=np.linspace(a,b,n)\n",
    "dx=(b-a)/n"
   ]
  },
  {
   "cell_type": "code",
   "execution_count": 11,
   "id": "466f4201-146d-4dda-af9f-c7e2e9f359ed",
   "metadata": {},
   "outputs": [
    {
     "name": "stdout",
     "output_type": "stream",
     "text": [
      "El valor de la integral es 2\n"
     ]
    }
   ],
   "source": [
    "I=0\n",
    "for i in range (n):\n",
    "    area=(f(a)+f(a+dx))*dx/2\n",
    "    I=I+ area\n",
    "    a=a+dx\n",
    "r=round(I)\n",
    "print (\"El valor de la integral es\",r)"
   ]
  },
  {
   "cell_type": "markdown",
   "id": "50248982-7583-4df7-9007-397a27b4bf81",
   "metadata": {},
   "source": [
    "* $\\int_{0}^{\\infty}e^{-x}\\ln{x}\\,\\text{d}x$"
   ]
  },
  {
   "cell_type": "markdown",
   "id": "6384e3aa-11aa-4239-a046-5b3a2f20bd67",
   "metadata": {},
   "source": [
    "-Metodo Cuadratica Gaussianas"
   ]
  },
  {
   "cell_type": "code",
   "execution_count": 12,
   "id": "92f43d59-5a05-44cb-a348-e3c9001360e3",
   "metadata": {},
   "outputs": [],
   "source": [
    "x = 0.1\n",
    "x0 = 1\n",
    "N = 10"
   ]
  },
  {
   "cell_type": "code",
   "execution_count": 13,
   "id": "b6a9037c-afe1-4753-af1b-5e93f9881726",
   "metadata": {},
   "outputs": [],
   "source": [
    "x1 = np.linspace(x,x0, N)\n",
    "\n",
    "V = np.matrix([x1**i for i in range(len(x1))]  )\n",
    "V_i = np.linalg.inv(V)"
   ]
  },
  {
   "cell_type": "code",
   "execution_count": 14,
   "id": "91babf43-7111-4ad2-8ca7-ceb9b2210f2e",
   "metadata": {},
   "outputs": [],
   "source": [
    "I = np.matrix([(( x0**(N+1) - x**(N+1)) /(N+1)) for N in range(len(x1)) ]).T"
   ]
  },
  {
   "cell_type": "code",
   "execution_count": 15,
   "id": "679c2ad5-e052-4447-8e20-7a8f085b5835",
   "metadata": {},
   "outputs": [],
   "source": [
    "def f(x):\n",
    "    return np.exp(-x)*np.log(x)"
   ]
  },
  {
   "cell_type": "code",
   "execution_count": 16,
   "id": "6229ddb4-f1f4-4c30-b691-011dcf30c9ba",
   "metadata": {},
   "outputs": [],
   "source": [
    "vectF= np.matrix([f(x1[i]) for i in range(len(x1))]).T"
   ]
  },
  {
   "cell_type": "code",
   "execution_count": 17,
   "id": "792aac71-cf1c-4788-ae14-8b9cb10be339",
   "metadata": {},
   "outputs": [
    {
     "name": "stdout",
     "output_type": "stream",
     "text": [
      "El valor de la integral es -0.4800999189984445\n"
     ]
    }
   ],
   "source": [
    "print (\"El valor de la integral es\", (vectF.T*V_i*I)[0,0])            "
   ]
  },
  {
   "cell_type": "markdown",
   "id": "ee94ff6b-9018-45e6-afa7-bdf7af0bdae3",
   "metadata": {},
   "source": [
    "-Metodo del trapecio"
   ]
  },
  {
   "cell_type": "code",
   "execution_count": 18,
   "id": "84ef3dcd-88e2-41b3-a6c0-6b31fffd0338",
   "metadata": {},
   "outputs": [],
   "source": [
    "def f(x):\n",
    "    return np.exp(-x)*np.log(x)\n",
    "\n",
    "a=0.1\n",
    "b=1/2.5\n",
    "n=10\n",
    "\n",
    "x=np.linspace(a,b,n)\n",
    "dx=(b-a)/n"
   ]
  },
  {
   "cell_type": "code",
   "execution_count": 19,
   "id": "617f1166-2242-46e6-bc30-8f381f6f52d4",
   "metadata": {},
   "outputs": [
    {
     "name": "stdout",
     "output_type": "stream",
     "text": [
      "El valor de la integral es -0.5812460606926427\n"
     ]
    }
   ],
   "source": [
    "I=0\n",
    "for i in range (n):\n",
    "    area=(f(a)+f(a+dx))*dx/2\n",
    "    I=I+ area\n",
    "print (\"El valor de la integral es\",I)\n",
    "            "
   ]
  },
  {
   "cell_type": "markdown",
   "id": "8e63f5a9-43cd-4fad-8272-5a9ed0a59fb5",
   "metadata": {},
   "source": [
    "* $\\int_{0}^{\\infty}\\frac{\\sin{x}}{x}\\,\\text{d}x$"
   ]
  },
  {
   "cell_type": "markdown",
   "id": "7c036d66-3897-468e-afab-03814c4cc61f",
   "metadata": {},
   "source": [
    "-Metodo Cuadratica Gaussianas"
   ]
  },
  {
   "cell_type": "code",
   "execution_count": 20,
   "id": "f6487edb-c0d8-474a-95b6-8e72df6e6a81",
   "metadata": {},
   "outputs": [],
   "source": [
    "x = 0.000000001\n",
    "x0 = 10-2\n",
    "N = 10"
   ]
  },
  {
   "cell_type": "code",
   "execution_count": 21,
   "id": "625c4693-9bdc-4e6f-82ae-99920c708882",
   "metadata": {},
   "outputs": [],
   "source": [
    "x1 = np.linspace(x,x0, N)\n",
    "\n",
    "V = np.matrix([x1**i for i in range(len(x1))]  )\n",
    "V_i = np.linalg.inv(V)"
   ]
  },
  {
   "cell_type": "code",
   "execution_count": 22,
   "id": "07150f0a-2b82-4362-b3cd-a3386c609673",
   "metadata": {},
   "outputs": [],
   "source": [
    "I = np.matrix([(( x0**(N+1) - x**(N+1)) /(N+1)) for N in range(len(x1)) ]).T"
   ]
  },
  {
   "cell_type": "code",
   "execution_count": 23,
   "id": "e72ecc1f-8aac-46a7-9de5-9ad808ae04d9",
   "metadata": {},
   "outputs": [],
   "source": [
    "def f(x):\n",
    "    return np.sin(x)/x\n"
   ]
  },
  {
   "cell_type": "code",
   "execution_count": 24,
   "id": "4dbf6eea-86ea-451f-870e-c0b00581ac58",
   "metadata": {},
   "outputs": [],
   "source": [
    "vectF= np.matrix([f(x1[i]) for i in range(len(x1))]).T"
   ]
  },
  {
   "cell_type": "code",
   "execution_count": 25,
   "id": "11a4e89a-4f59-4063-b29e-a7b2d4c35907",
   "metadata": {},
   "outputs": [
    {
     "name": "stdout",
     "output_type": "stream",
     "text": [
      "El valor de la integral es 1.5743680900256365\n"
     ]
    }
   ],
   "source": [
    "print (\"El valor de la integral es\", (vectF.T*V_i*I)[0,0])"
   ]
  },
  {
   "cell_type": "markdown",
   "id": "3d484094-bc44-4755-9fd9-36ddab8fce9b",
   "metadata": {},
   "source": [
    "-Metodo del trapecio"
   ]
  },
  {
   "cell_type": "code",
   "execution_count": 26,
   "id": "9eb87f13-8889-441b-9d04-2b7de671704e",
   "metadata": {},
   "outputs": [],
   "source": [
    "def f(x):\n",
    "    return np.sin(x)/x\n",
    "\n",
    "a=0.00001\n",
    "b=1.5\n",
    "n=101\n",
    "\n",
    "x=np.linspace(a,b,n)\n",
    "dx=(b-a)/n\n"
   ]
  },
  {
   "cell_type": "code",
   "execution_count": 27,
   "id": "c25acd6a-0b29-49b2-8304-6293f8450e88",
   "metadata": {},
   "outputs": [
    {
     "name": "stdout",
     "output_type": "stream",
     "text": [
      "El valor de la integral es 1.499962392876672\n"
     ]
    }
   ],
   "source": [
    "I=0\n",
    "for i in range (n):\n",
    "    area=(f(a)+f(a+dx))*dx/2\n",
    "    I=I+ area\n",
    "print (\"El valor de la integral es\",I)\n",
    "            "
   ]
  },
  {
   "cell_type": "markdown",
   "id": "f53599bd-b47f-47d7-80f7-5789fd7a5c2a",
   "metadata": {},
   "source": [
    "## (B) Fourier\n",
    "\n",
    "Calcule la transformada rápida de Fourier para la función de la **Tarea 3 (D)** en el intervalo $[0,4]$ ($k$ máximo $2\\pi n/L$ para $n=25$). Ajuste la transformada de Fourier para los datos de la **Tarea 3** usando el método de regresión exacto de la **Tarea 3 (C)** y compare con el anterior resultado. Para ambos ejercicios haga una interpolación y grafique para comparar."
   ]
  },
  {
   "cell_type": "markdown",
   "id": "069f9a56-2ea3-4e08-8136-656a4136b9b5",
   "metadata": {},
   "source": [
    "La funcion es:\n",
    "$$y=\\frac{a}{\\left[(x-b)^2+c\\right]^\\gamma}.$$\n",
    "Halle $a$, $b$, $c$ y $\\gamma$.\n"
   ]
  },
  {
   "cell_type": "markdown",
   "id": "300da205-8d35-4fbc-b31e-02adbdab50ef",
   "metadata": {},
   "source": [
    "En la tarea 3 se encontraron los valores de $a$, $b$, $c$ y $\\gamma$.\n",
    "Los cuales son:\n",
    "* $a$ =0.68740987\n",
    "* $b$ =1.39239372\n",
    "* $c$ =0.49566194\n",
    "* $\\gamma$ =0.93666128"
   ]
  },
  {
   "cell_type": "code",
   "execution_count": 28,
   "id": "09d0d423-1115-403e-bcdf-97e9977d591f",
   "metadata": {},
   "outputs": [
    {
     "data": {
      "image/png": "[encoded data removed]",
      "text/plain": [
       "<Figure size 432x288 with 1 Axes>"
      ]
     },
     "metadata": {},
     "output_type": "display_data"
    },
    {
     "data": {
      "text/html": [
       "<div>\n",
       "<style scoped>\n",
       "    .dataframe tbody tr th:only-of-type {\n",
       "        vertical-align: middle;\n",
       "    }\n",
       "\n",
       "    .dataframe tbody tr th {\n",
       "        vertical-align: top;\n",
       "    }\n",
       "\n",
       "    .dataframe thead th {\n",
       "        text-align: right;\n",
       "    }\n",
       "</style>\n",
       "<table border=\"1\" class=\"dataframe\">\n",
       "  <thead>\n",
       "    <tr style=\"text-align: right;\">\n",
       "      <th></th>\n",
       "      <th>x</th>\n",
       "      <th>y</th>\n",
       "    </tr>\n",
       "  </thead>\n",
       "  <tbody>\n",
       "    <tr>\n",
       "      <th>0</th>\n",
       "      <td>0.065859</td>\n",
       "      <td>0.277413</td>\n",
       "    </tr>\n",
       "    <tr>\n",
       "      <th>1</th>\n",
       "      <td>0.020931</td>\n",
       "      <td>0.202239</td>\n",
       "    </tr>\n",
       "    <tr>\n",
       "      <th>2</th>\n",
       "      <td>0.070312</td>\n",
       "      <td>0.307369</td>\n",
       "    </tr>\n",
       "    <tr>\n",
       "      <th>3</th>\n",
       "      <td>0.206166</td>\n",
       "      <td>0.367530</td>\n",
       "    </tr>\n",
       "    <tr>\n",
       "      <th>4</th>\n",
       "      <td>0.286572</td>\n",
       "      <td>0.491144</td>\n",
       "    </tr>\n",
       "    <tr>\n",
       "      <th>...</th>\n",
       "      <td>...</td>\n",
       "      <td>...</td>\n",
       "    </tr>\n",
       "    <tr>\n",
       "      <th>95</th>\n",
       "      <td>3.922613</td>\n",
       "      <td>0.225565</td>\n",
       "    </tr>\n",
       "    <tr>\n",
       "      <th>96</th>\n",
       "      <td>3.898473</td>\n",
       "      <td>0.000000</td>\n",
       "    </tr>\n",
       "    <tr>\n",
       "      <th>97</th>\n",
       "      <td>3.952111</td>\n",
       "      <td>0.141005</td>\n",
       "    </tr>\n",
       "    <tr>\n",
       "      <th>98</th>\n",
       "      <td>3.939211</td>\n",
       "      <td>0.115500</td>\n",
       "    </tr>\n",
       "    <tr>\n",
       "      <th>99</th>\n",
       "      <td>3.987120</td>\n",
       "      <td>0.048689</td>\n",
       "    </tr>\n",
       "  </tbody>\n",
       "</table>\n",
       "<p>100 rows × 2 columns</p>\n",
       "</div>"
      ],
      "text/plain": [
       "           x         y\n",
       "0   0.065859  0.277413\n",
       "1   0.020931  0.202239\n",
       "2   0.070312  0.307369\n",
       "3   0.206166  0.367530\n",
       "4   0.286572  0.491144\n",
       "..       ...       ...\n",
       "95  3.922613  0.225565\n",
       "96  3.898473  0.000000\n",
       "97  3.952111  0.141005\n",
       "98  3.939211  0.115500\n",
       "99  3.987120  0.048689\n",
       "\n",
       "[100 rows x 2 columns]"
      ]
     },
     "execution_count": 28,
     "metadata": {},
     "output_type": "execute_result"
    }
   ],
   "source": [
    "df = pd.read_pickle('ex1.gz')\n",
    "sns.scatterplot(x='x',y='y',data=df)\n",
    "plt.show()\n",
    "df"
   ]
  },
  {
   "cell_type": "code",
   "execution_count": 29,
   "id": "b7ff09b1-3f4c-48f6-b59e-3257928cea72",
   "metadata": {},
   "outputs": [],
   "source": [
    "a=0.68740987\n",
    "b=1.39239372\n",
    "c=0.49566194\n",
    "g=0.93666128"
   ]
  },
  {
   "cell_type": "code",
   "execution_count": 30,
   "id": "aab437ea-aa4d-4d59-8db0-2e46f6f3e090",
   "metadata": {},
   "outputs": [],
   "source": [
    "X=df[\"x\"]\n",
    "y=df[\"y\"]\n",
    "def f(x):\n",
    "    return (a)/((x-b)**2 + c)**g\n",
    "\n",
    "x=f(X)"
   ]
  },
  {
   "cell_type": "code",
   "execution_count": null,
   "id": "a732e8bc-643c-4bac-9cd5-0c5be2c7cde7",
   "metadata": {},
   "outputs": [],
   "source": []
  },
  {
   "cell_type": "code",
   "execution_count": 31,
   "id": "a73170de-991b-41b0-97db-167b9cef6001",
   "metadata": {},
   "outputs": [
    {
     "data": {
      "text/plain": [
       "[<matplotlib.lines.Line2D at 0x1887472b0>]"
      ]
     },
     "execution_count": 31,
     "metadata": {},
     "output_type": "execute_result"
    },
    {
     "data": {
      "image/png": "[encoded data removed]",
      "text/plain": [
       "<Figure size 432x288 with 1 Axes>"
      ]
     },
     "metadata": {},
     "output_type": "display_data"
    }
   ],
   "source": [
    "plt.plot(x,y)"
   ]
  },
  {
   "cell_type": "code",
   "execution_count": 32,
   "id": "46b8a3b6-3554-4828-a773-8c6cb9d77d6b",
   "metadata": {},
   "outputs": [],
   "source": [
    "Nf = 25\n",
    "a = np.min(x)\n",
    "b = np.max(x)\n",
    "def a_j(j):\n",
    "    global a, b, x, y\n",
    "    # integra la funcion entre 0 y 10\n",
    "    L = b - a\n",
    "    k_j = 2*np.pi*j/4\n",
    "    new_y = y*np.cos(k_j*x)/L\n",
    "    if j > 0:\n",
    "        new_y = new_y * 2\n",
    "    return sp.integrate.simpson(new_y, x)\n",
    "def b_j(j):\n",
    "    global a, b, x, y\n",
    "    # integra la funcion entre 0 y 10\n",
    "    L = b - a\n",
    "    k_j = 2*np.pi*j/4\n",
    "    new_y = y*np.sin(k_j*x)/L\n",
    "    if j > 0:\n",
    "        new_y = new_y * 2\n",
    "    return sp.integrate.simpson(new_y, x)\n",
    "J = np.array(range(Nf))\n",
    "A_j = np.array([a_j(j) for j in range(Nf)])\n",
    "B_j = np.array([b_j(j) for j in range(Nf)])"
   ]
  },
  {
   "cell_type": "code",
   "execution_count": 33,
   "id": "2dee11f2-57ac-4e7f-aef6-371c5c404bed",
   "metadata": {},
   "outputs": [],
   "source": [
    "x_tilde = np.linspace(a,b-a,20000)\n",
    "k_j = np.array([2*np.pi*j/4 for j in range(Nf)])\n",
    "y_tilde = np.sum([\n",
    "    A_j[j] * np.cos(k_j[j]*x_tilde) + B_j[j] * np.sin(k_j[j]*x_tilde) for j in range(Nf)\n",
    "], axis=0)"
   ]
  },
  {
   "cell_type": "code",
   "execution_count": 34,
   "id": "a9b40c6a-7380-4e04-a618-8ceb65fcd3a0",
   "metadata": {},
   "outputs": [
    {
     "data": {
      "text/plain": [
       "[<matplotlib.lines.Line2D at 0x1885f8c40>]"
      ]
     },
     "execution_count": 34,
     "metadata": {},
     "output_type": "execute_result"
    },
    {
     "data": {
      "image/png": "[encoded data removed]",
      "text/plain": [
       "<Figure size 432x288 with 1 Axes>"
      ]
     },
     "metadata": {},
     "output_type": "display_data"
    }
   ],
   "source": [
    "plt.plot(x,y)\n",
    "plt.plot(x_tilde, y_tilde)"
   ]
  },
  {
   "cell_type": "code",
   "execution_count": null,
   "id": "4f91ed12-72a9-4426-ae28-b904f97dfc5f",
   "metadata": {},
   "outputs": [],
   "source": []
  }
 ],
 "metadata": {
  "kernelspec": {
   "display_name": "Python [conda env:fisi2028]",
   "language": "python",
   "name": "conda-env-fisi2028-py"
  },
  "language_info": {
   "codemirror_mode": {
    "name": "ipython",
    "version": 3
   },
   "file_extension": ".py",
   "mimetype": "text/x-python",
   "name": "python",
   "nbconvert_exporter": "python",
   "pygments_lexer": "ipython3",
   "version": "3.10.0"
  }
 },
 "nbformat": 4,
 "nbformat_minor": 5
}
