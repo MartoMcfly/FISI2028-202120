{
 "cells": [
  {
   "cell_type": "code",
   "execution_count": 1,
   "id": "d86513af-bee0-48ea-909b-e12074457f54",
   "metadata": {},
   "outputs": [],
   "source": [
    "import numpy as np\n",
    "import pandas as pd\n",
    "import scipy as sp\n",
    "import sklearn as sl\n",
    "\n",
    "import seaborn as sns; sns.set()\n",
    "import matplotlib as mpl\n",
    "from matplotlib import pyplot as plt\n",
    "from mpl_toolkits.mplot3d import axes3d\n",
    "from matplotlib import cm\n",
    "%matplotlib inline"
   ]
  },
  {
   "cell_type": "markdown",
   "id": "5427b8c8-25ca-4d0d-a964-c33c1a58afb9",
   "metadata": {},
   "source": [
    "# Tarea 4\n",
    "\n",
    "Con base a los métodos vistos en clase resuelva las siguientes dos preguntas"
   ]
  },
  {
   "cell_type": "markdown",
   "id": "97485979-6bb5-4a51-8c43-d298b2496e57",
   "metadata": {},
   "source": [
    "## (A) Integrales\n",
    "\n",
    "* $\\int_{0}^{1}x^{-1/2}\\,\\text{d}x$\n",
    "* $\\int_{0}^{\\infty}e^{-x}\\ln{x}\\,\\text{d}x$\n",
    "* $\\int_{0}^{\\infty}\\frac{\\sin{x}}{x}\\,\\text{d}x$"
   ]
  },
  {
   "cell_type": "markdown",
   "id": "7b321ec5-9485-46c8-9398-193d0ea3a4d7",
   "metadata": {},
   "source": [
    "### Respuestas"
   ]
  },
  {
   "cell_type": "markdown",
   "id": "ca9f48c9-aa6b-4f6a-8730-ed914849b675",
   "metadata": {},
   "source": [
    "####  Metodo de integración general"
   ]
  },
  {
   "cell_type": "code",
   "execution_count": 2,
   "id": "7dc4f1e5-2dae-4be8-92b2-888dbe943945",
   "metadata": {},
   "outputs": [],
   "source": [
    "def integral(x,f)->float:\n",
    "    \n",
    "    resultado=0\n",
    "    for i in range(len(x)-1):\n",
    "        resultado = resultado + ((f[i+1])+(f[i]))*abs(x[i+1]-x[i])/2\n",
    "    \n",
    "    return resultado"
   ]
  },
  {
   "cell_type": "markdown",
   "id": "fd2df78f-6ee0-4718-a7ec-9414bf2a60ae",
   "metadata": {},
   "source": [
    "* $\\int_{0}^{1}x^{-1/2}\\,\\text{d}x$"
   ]
  },
  {
   "cell_type": "code",
   "execution_count": 3,
   "id": "91ff301f-07bc-41f5-bf77-f428caa50a9e",
   "metadata": {},
   "outputs": [],
   "source": [
    "n=100\n",
    "x_a = np.linspace(0.0000001,1,10000001) \n",
    "a = []\n",
    "for i in range(len(x_a)):\n",
    "    a.append(x_a[i]**(-1/2))\n",
    "a = np.array(a)"
   ]
  },
  {
   "cell_type": "code",
   "execution_count": 4,
   "id": "5ae19280-e036-4748-bbe0-2d5f32b87c92",
   "metadata": {},
   "outputs": [
    {
     "name": "stdout",
     "output_type": "stream",
     "text": [
      "El resultado de la primera integral es 1.9993800814704734\n"
     ]
    }
   ],
   "source": [
    "integral_a = integral(x_a,a)\n",
    "print(f\"El resultado de la primera integral es {integral_a}\")"
   ]
  },
  {
   "cell_type": "markdown",
   "id": "964ae940-1043-4aa0-bc98-d53058bc617b",
   "metadata": {},
   "source": [
    "* $\\int_{0}^{\\infty}e^{-x}\\ln{x}\\,\\text{d}x$"
   ]
  },
  {
   "cell_type": "code",
   "execution_count": 5,
   "id": "ab1425f4-69c0-413b-81f0-7cb713e260c7",
   "metadata": {},
   "outputs": [
    {
     "name": "stdout",
     "output_type": "stream",
     "text": [
      "El resultado de la segunda integral es -0.5773442593303427\n"
     ]
    }
   ],
   "source": [
    "n=100\n",
    "x_b = np.linspace(0.000001,n,1000001)\n",
    "b=[]\n",
    "for i in range(len(x_b)):\n",
    "    b.append(np.exp(-x_b[i])*np.log(x_b[i]))\n",
    "b = np.array(b)\n",
    "integral_b = integral(x_b,b)\n",
    "print(f\"El resultado de la segunda integral es {integral_b}\")"
   ]
  },
  {
   "cell_type": "markdown",
   "id": "b85d3807-1ea8-46c9-8b60-ec0a2033f7e3",
   "metadata": {},
   "source": [
    "* $\\int_{0}^{\\infty}\\frac{\\sin{x}}{x}\\,\\text{d}x$"
   ]
  },
  {
   "cell_type": "code",
   "execution_count": 6,
   "id": "e0fbd164-4853-4933-a949-6e1b3ccf3b3e",
   "metadata": {},
   "outputs": [
    {
     "name": "stdout",
     "output_type": "stream",
     "text": [
      "El resultado de la segunda integral es 1.5622244668962069\n"
     ]
    }
   ],
   "source": [
    "n=100\n",
    "x_c = np.linspace(0.000001,n,1000001)\n",
    "c=[]\n",
    "for i in range(len(x_c)):\n",
    "     c.append(np.sin(x_c[i])/x_c[i])\n",
    "c = np.array(c)\n",
    "integral_c = integral(x_c,c)\n",
    "print(f\"El resultado de la segunda integral es {integral_c}\")"
   ]
  },
  {
   "cell_type": "markdown",
   "id": "21322fee-13be-43e8-bd3f-165da7a3dae7",
   "metadata": {},
   "source": [
    "## (B) Fourier\n",
    "\n",
    "Calcule la transformada rápida de Fourier para la función de la **Tarea 3 (D)** en el intervalo $[0,4]$ ($k$ máximo $2\\pi n/L$ para $n=25$). Ajuste la transformada de Fourier para los datos de la **Tarea 3** usando el método de regresión exacto de la **Tarea 3 (C)** y compare con el anterior resultado. Para ambos ejercicios haga una interpolación y grafique para comparar."
   ]
  },
  {
   "cell_type": "code",
   "execution_count": 7,
   "id": "a8f03ef4-322c-4781-a827-7f08b3e475fc",
   "metadata": {},
   "outputs": [
    {
     "ename": "NameError",
     "evalue": "name 'df' is not defined",
     "output_type": "error",
     "traceback": [
      "\u001b[0;31m---------------------------------------------------------------------------\u001b[0m",
      "\u001b[0;31mNameError\u001b[0m                                 Traceback (most recent call last)",
      "\u001b[0;32m/var/folders/g0/1krznd0j4xq2w7hp515svkb80000gp/T/ipykernel_33843/2694398984.py\u001b[0m in \u001b[0;36m<module>\u001b[0;34m\u001b[0m\n\u001b[0;32m----> 1\u001b[0;31m \u001b[0mx\u001b[0m \u001b[0;34m=\u001b[0m \u001b[0mdf\u001b[0m\u001b[0;34m[\u001b[0m\u001b[0;34m\"x\"\u001b[0m\u001b[0;34m]\u001b[0m\u001b[0;34m\u001b[0m\u001b[0;34m\u001b[0m\u001b[0m\n\u001b[0m\u001b[1;32m      2\u001b[0m \u001b[0my\u001b[0m \u001b[0;34m=\u001b[0m \u001b[0mdf\u001b[0m\u001b[0;34m[\u001b[0m\u001b[0;34m\"y\"\u001b[0m\u001b[0;34m]\u001b[0m\u001b[0;34m\u001b[0m\u001b[0;34m\u001b[0m\u001b[0m\n\u001b[1;32m      3\u001b[0m \u001b[0;34m\u001b[0m\u001b[0m\n\u001b[1;32m      4\u001b[0m \u001b[0max\u001b[0m \u001b[0;34m=\u001b[0m \u001b[0;34m[\u001b[0m\u001b[0;34m]\u001b[0m\u001b[0;34m\u001b[0m\u001b[0;34m\u001b[0m\u001b[0m\n\u001b[1;32m      5\u001b[0m \u001b[0may\u001b[0m \u001b[0;34m=\u001b[0m \u001b[0;34m[\u001b[0m\u001b[0;34m]\u001b[0m\u001b[0;34m\u001b[0m\u001b[0;34m\u001b[0m\u001b[0m\n",
      "\u001b[0;31mNameError\u001b[0m: name 'df' is not defined"
     ]
    }
   ],
   "source": [
    "x = df[\"x\"]\n",
    "y = df[\"y\"]\n",
    "\n",
    "ax = []\n",
    "ay = []\n",
    "for i in range(len(x)):\n",
    "    if x[i]<=1.5 :\n",
    "        ax.append(x[i])\n",
    "        ay.append(y[i])\n",
    "        \n",
    "        \n",
    "x_a = np.array(ax)\n",
    "y_a = np.array(ay)\n",
    "\n",
    "def f(v,x_a): \n",
    "    return (v[0])/((x_a-v[1])**2 + v[2])**v[3]\n",
    "\n",
    "def L_ajuste(va,x_a,y_a): \n",
    "    dY=f(va,x_a) - y_a\n",
    "    return np.dot(dY,dY)/len(y_a)\n",
    "\n",
    "\n",
    "resa = sp.optimize.minimize(fun=L_ajuste, x0=np.array([0,1,0,0]), args = (x_a,y_a), method='L-BFGS-B', tol=1e-8)\n",
    "b = f(resa.x,0)\n",
    "\n",
    "\n",
    "plt.figure()\n",
    "plt.scatter(x,y, label = \"Datos\")\n",
    "plt.plot(x,f(resa.x,x), c = 'r', label = \"Ajuste\")\n",
    "plt.xlabel('x')\n",
    "plt.ylabel('y')\n",
    "plt.show()\n"
   ]
  },
  {
   "cell_type": "code",
   "execution_count": null,
   "id": "1b70a8d5-6343-49ca-b8bc-0c7a4bc5db33",
   "metadata": {},
   "outputs": [],
   "source": [
    "plt.plot(x,f(resa.x,x), c = 'r', label = \"Ajuste\")\n",
    "x = x_a \n",
    "y = f(res2.x,x)"
   ]
  },
  {
   "cell_type": "code",
   "execution_count": null,
   "id": "d3529126-5062-4b5e-ba4c-d25470c8591b",
   "metadata": {},
   "outputs": [],
   "source": [
    "Nf = 25\n",
    "\n",
    "def a_j(j):\n",
    "    global x, y\n",
    "    \n",
    "    k_j = 2*np.pi*j/4\n",
    "    new_y = y*np.cos(k_j*x)\n",
    "   \n",
    "    return sp.integrate.simpson(new_y, x)\n",
    "\n",
    "def b_j(j):\n",
    "    global x, y\n",
    "    \n",
    "    k_j = 2*np.pi*j/4\n",
    "    new_y = y*np.sin(k_j*x)\n",
    "    return sp.integrate.simpson(new_y, x)\n",
    "    \n",
    "    \n",
    "\n",
    "    \n",
    "A_j = np. array([a_j(j) for j in range(Nf)])\n",
    "B_j = np. array([b_j(j) for j in range(Nf)])\n",
    "\n"
   ]
  },
  {
   "cell_type": "code",
   "execution_count": null,
   "id": "1426008e-102b-4971-86d4-c076faeec788",
   "metadata": {},
   "outputs": [],
   "source": [
    "x_f = np.linspace(0, 4, 10000) \n",
    "k_j = np. array([2*np.pi*j/4 for j in range(Nf)])\n",
    "y_f = np.sum([  (A_j[j]*np.cos(k_j[j]*x_f)  +  B_j[j]*np.sin(k_j[j]*x_f)) for j in range(Nf)  ], axis=0)\n",
    "\n",
    "plt.plot(x_f, (A_j[0]*np.cos(k_j[0]*x_f)  +  B_j[0]*np.sin(k_j[0]*x_f))  )\n",
    "plt.plot(x_f, (A_j[1]*np.cos(k_j[1]*x_f)  +  B_j[1]*np.sin(k_j[1]*x_f))  )\n",
    "plt.plot(x_f, (A_j[2]*np.cos(k_j[2]*x_f)  +  B_j[2]*np.sin(k_j[2]*x_f))  )\n",
    "\n"
   ]
  },
  {
   "cell_type": "code",
   "execution_count": null,
   "id": "973a843d-2398-434f-871c-c3370f2a59f6",
   "metadata": {},
   "outputs": [],
   "source": []
  }
 ],
 "metadata": {
  "kernelspec": {
   "display_name": "Python [conda env:fisi2028]",
   "language": "python",
   "name": "conda-env-fisi2028-py"
  },
  "language_info": {
   "codemirror_mode": {
    "name": "ipython",
    "version": 3
   },
   "file_extension": ".py",
   "mimetype": "text/x-python",
   "name": "python",
   "nbconvert_exporter": "python",
   "pygments_lexer": "ipython3",
   "version": "3.10.0"
  }
 },
 "nbformat": 4,
 "nbformat_minor": 5
}
