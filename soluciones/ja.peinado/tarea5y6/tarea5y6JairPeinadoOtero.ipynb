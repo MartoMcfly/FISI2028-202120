{
 "cells": [
  {
   "cell_type": "code",
   "execution_count": 59,
   "id": "e8198031",
   "metadata": {},
   "outputs": [],
   "source": [
    "import numpy as np\n",
    "import pandas as pd\n",
    "import scipy as sp\n",
    "import sklearn as sl\n",
    "import statistics\n",
    "import seaborn as sns; sns.set()\n",
    "import matplotlib as mpl\n",
    "from matplotlib import pyplot as plt\n",
    "from mpl_toolkits.mplot3d import axes3d\n",
    "from matplotlib import cm\n",
    "from pylab import*\n",
    "from scipy import integrate\n",
    "%matplotlib inline"
   ]
  },
  {
   "cell_type": "markdown",
   "id": "05a217ce",
   "metadata": {},
   "source": [
    "# Tarea 5 y 6: Ecuación de difusión en 3 dimensiones\n",
    "\n",
    "Uds se preguntarán, ¿por qué vamos a resolver la ecuación de difusión? La respuesta no es muy obvia, pero es interesante: Los procesos de difusión comparten algo muy bonito con los procesos estocásticos. Para ello, vamos a analizar un problema de COVID: el tiempo medio estimado de infección de los viriones.\n",
    "\n",
    "La transmisión de COVID se da preponderamente debido a la aspersión de aerosoles en el aire. Estas partículas *semi*-esféricas -cuyo orden de magnitud es de $\\sim1-10\\,\\mu m$ de radio- están compuestas principalmente por agua, lípidos orgánicos y viriones (se pueden considerar *quasi*-puntuales ya que son del orden de los $\\sim100\\,nm$). Cuando una particula del aerosol entra y se adhiere al tracto respiratorio, el virus toma un tiempo en entrar en contacto con las células para infectar el huésped debido al movimiento Browniano. Los viriones, a diferencia de las bacterias, no cuentan con cilios, flagelos u otros mecanismos para desplazarse en los medios, por lo cual, su única esperanza es que por fluctuaciones térmicas puedan llegar a la superficie de la gota de aerosol para replicar su ADN al entrar en contacto con los tejidos susceptibles. Este proceso es en esencia estocástico y se puede modelar mediante la ecuación de Difusión. Esta ecuación tiene dos partes. La idea es que uds resuelvan el problema de la manera más sencilla. La ecuación es la siguiente,\n",
    "$$\n",
    "\\frac{\\partial\\Psi}{\\partial t}=D\\nabla^2\\Psi,\n",
    "$$\n",
    "donde $D$ es la constante de difusión del medio y $\\Psi$ es la concentración de partículas. La taza de difusión depende de la temperatura y la viscosidad del medio y se puede modelar usando la relación de Einstein-Stokes,\n",
    "$$\n",
    "D=\\frac{k_BT}{6\\pi\\eta a},\n",
    "$$\n",
    "siendo $k_B$ la constante de Boltzmann, $T$ la temperatura en grados Kelvin, $\\eta$ la viscosidad del medio y $a$ el radio de los viriones. En esencia, lo que la ecuación de difusión me está diciendo es que la concentración media de viriones depende de la posición y el tiempo. No obstante, para poder calcular el tiempo que tardaría un virión en alcanzar la superficie se puede modelar en la media usando la siguiente ecuación de difusión,\n",
    "$$\n",
    "-\\nabla^2\\tau=\\frac{1}{D},\n",
    "$$\n",
    "donde $\\tau$ es el tiempo medio que dependería de la posición en la que se encuentra inicialmente."
   ]
  },
  {
   "cell_type": "markdown",
   "id": "5940d7cc",
   "metadata": {},
   "source": [
    "## 1. Escriba la ecuación de difusión para el tiempo $\\tau$ en coordenadas esféricas y asuma que $\\tau(r,\\theta,\\phi)\\simeq\\tau(r)$ ya que por simetría esférica sólo dependerá de la posición radial respecto al centro de la gotica (Usar **LaTex**)"
   ]
  },
  {
   "cell_type": "markdown",
   "id": "ed3bb444",
   "metadata": {},
   "source": [
    "[**Escriba aquí**]\n",
    "\n",
    "Ejemplo de una ecuación:\n",
    "$$\n",
    "f(x)=\\frac{1}{x^2}\n",
    "$$\n",
    "$$\n",
    "Ecuacion de difusion en coordenadas esfericas:\n",
    "$$\n",
    "\n",
    "$$\n",
    "\\triangledown ^{2}\\tau = -\\frac{1}{D}\n",
    "$$\n",
    "\n",
    "$$\n",
    "\\frac{1}{D}=\\frac{6\\pi \\eta a}{K_{b}T}\n",
    "$$\n",
    "\n",
    "$$\n",
    "\\triangledown ^{2}\\tau=-\\frac{6\\pi \\eta a}{K_{b}T}\n",
    "$$\n",
    "$$\n",
    "\\triangledown ^{2}\\tau \\left ( r,\\theta ,\\phi  \\right )=\\frac{1}{r^{2}}\\frac{\\partial }{\\partial r}\\left ( r^{2} \\frac{\\partial  \\tau }{\\partial r}\\right )+\\ \\frac{1}{r^{2}sin\\theta}\\frac{\\partial }{\\partial \\theta}(sin\\theta \\frac{\\partial \\Theta }{\\partial \\theta })+\\frac{1}{r^{2}sin\\theta}\\frac{\\partial ^{2}\\Phi }{\\partial \\phi ^{2}} \n",
    "$$\n",
    "\n",
    "\n",
    "$$\n",
    "\\tau(r,\\theta,\\phi)\\simeq\\tau(r)\n",
    "$$\n",
    "$$\n",
    "\\triangledown ^{2}\\tau\\left ( r \\right )=\\frac{1}{r^{2}}\\frac{\\partial }{\\partial r}\\left ( r^{2} \\frac{\\partial  \\tau }{\\partial r}\\right )\n",
    "$$\n",
    "\n",
    "$$\n",
    "-\\frac{6\\pi \\eta a}{K_{b}T}=\\frac{1}{r^{2}}\\frac{\\partial }{\\partial r}\\left ( r^{2} \\frac{\\partial  \\tau }{\\partial r}\\right )\n",
    "$$\n",
    "\n",
    "$$\n",
    "\\frac{\\partial ^{2}\\tau}{\\partial r^{2}}+\\frac{2}{r}\\frac{\\partial \\tau }{\\partial r}+ \\frac{6\\pi \\eta a}{K_{b}T}=0\n",
    "$$\n",
    "\n"
   ]
  },
  {
   "cell_type": "markdown",
   "id": "1750b052",
   "metadata": {},
   "source": [
    "## 2. Resuelva la ecuación diferencial para el tiempo de forma numérica y grafique\n",
    "\n",
    "Asuma las siguientes condiciones iniciales:\n",
    "1. $\\tau(R)=0$ ya que si el virión está en la superficie el tiempo debe ser naturalmente nulo.\n",
    "1. $\\tau^\\prime(r)=0$ ya que por simetría la derivada radial debe ser nula en el origen\n",
    "\n",
    "Suponga las siguientes condiciones:\n",
    "- $R=5\\mu m$ para el radio de la esfera de *quasi* agua (calcula el volumen $V$)\n",
    "- $\\eta_{\\text{H}_2\\text{O}}\\simeq1\\times10^{-3}\\,Pa\\cdot s$ (Pascales por segundo)\n",
    "- $\\frac{\\eta}{\\eta_{\\text{H}_2\\text{O}}}\\approx10^3\\to10^5$\n",
    "- $a\\simeq100\\,nm$\n",
    "- $V=\\frac{4}{3}\\pi a^3$\n",
    "- $k_BT\\simeq4.05\\times10^{-21}J$\n",
    "\n",
    "si:\n",
    "\n",
    "$$\n",
    "\\frac{6\\pi \\eta a}{K_{b}T}=\\frac{1}{r^{2}}\\frac{d}{dr}\\left ( r^{2} \\frac{d \\tau }{dr}\\right )\n",
    "$$\n",
    "\n",
    "$$\n",
    "\\frac{1}{r^{2}}\\left [ \\left ( 2r\\frac{\\partial \\tau }{\\partial r} + r^{2}\\frac{\\partial ^{2}\\tau }{\\partial r^{2}}\\right ) \\right ]=\\frac{1}{D}\n",
    "$$\n",
    "\n",
    "\n",
    "$$\n",
    "\\frac{2}{r}\\frac{\\partial \\tau }{\\partial r} + \\frac{\\partial ^{2}\\tau }{\\partial r^{2}}=-\\frac{1}{D}\n",
    "$$\n",
    "\n",
    "$$\n",
    "{y}''+2\\frac{1}{x}{y}'+\\frac{1}{D}=0\n",
    "$$\n",
    "\n",
    "$$\n",
    "{\\tau }''+\\frac{2}{r}{\\tau }'+\\frac{1}{D}=0\n",
    "$$\n",
    "\n",
    "$$\n",
    "\\tau_{h} =c_{1}+\\frac{c_{2}}{r} , \\tau_{p} =-\\frac{r^{2}}{6\\times D}\n",
    "$$\n",
    "\n",
    "\n",
    "$$\n",
    "\\tau =c_{1}+\\frac{c_{2}}{r}-\\frac{r^{2}}{6\\times D}\n",
    "$$"
   ]
  },
  {
   "cell_type": "code",
   "execution_count": 65,
   "id": "68d6290c",
   "metadata": {},
   "outputs": [
    {
     "data": {
      "text/plain": [
       "array([ 1.90046944e+03,  1.90046944e+03,  1.89988767e+03,  1.89891804e+03,\n",
       "        1.89756056e+03,  1.89581523e+03,  1.89368205e+03,  1.89116102e+03,\n",
       "        1.88825214e+03,  1.88495540e+03,  1.88127082e+03,  1.87719839e+03,\n",
       "        1.87273810e+03,  1.86788996e+03,  1.86265398e+03,  1.85703014e+03,\n",
       "        1.85101845e+03,  1.84461891e+03,  1.83783152e+03,  1.83065627e+03,\n",
       "        1.82309318e+03,  1.81514223e+03,  1.80680344e+03,  1.79807679e+03,\n",
       "        1.78896230e+03,  1.77945995e+03,  1.76956975e+03,  1.75929170e+03,\n",
       "        1.74862580e+03,  1.73757205e+03,  1.72613044e+03,  1.71430099e+03,\n",
       "        1.70208368e+03,  1.68947853e+03,  1.67648552e+03,  1.66310466e+03,\n",
       "        1.64933596e+03,  1.63517940e+03,  1.62063499e+03,  1.60570272e+03,\n",
       "        1.59038261e+03,  1.57467465e+03,  1.55857883e+03,  1.54209517e+03,\n",
       "        1.52522365e+03,  1.50796429e+03,  1.49031707e+03,  1.47228200e+03,\n",
       "        1.45385908e+03,  1.43504831e+03,  1.41584969e+03,  1.39626321e+03,\n",
       "        1.37628889e+03,  1.35592672e+03,  1.33517669e+03,  1.31403881e+03,\n",
       "        1.29251309e+03,  1.27059951e+03,  1.24829808e+03,  1.22560880e+03,\n",
       "        1.20253167e+03,  1.17906669e+03,  1.15521385e+03,  1.13097317e+03,\n",
       "        1.10634463e+03,  1.08132825e+03,  1.05592401e+03,  1.03013192e+03,\n",
       "        1.00395198e+03,  9.77384194e+02,  9.50428553e+02,  9.23085062e+02,\n",
       "        8.95353719e+02,  8.67234526e+02,  8.38727481e+02,  8.09832586e+02,\n",
       "        7.80549839e+02,  7.50879242e+02,  7.20820794e+02,  6.90374495e+02,\n",
       "        6.59540345e+02,  6.28318344e+02,  5.96708492e+02,  5.64710789e+02,\n",
       "        5.32325235e+02,  4.99551830e+02,  4.66390574e+02,  4.32841467e+02,\n",
       "        3.98904510e+02,  3.64579701e+02,  3.29867041e+02,  2.94766531e+02,\n",
       "        2.59278169e+02,  2.23401957e+02,  1.87137894e+02,  1.50485979e+02,\n",
       "        1.13446214e+02,  7.60185980e+01,  3.82031309e+01, -1.87195341e-04])"
      ]
     },
     "execution_count": 65,
     "metadata": {},
     "output_type": "execute_result"
    }
   ],
   "source": [
    "a = 1*10**(-7)\n",
    "eta = 1*10**(-3)*(10**5)\n",
    "D= (4.05*10**(-21))/(6*np.pi*(a)*eta)\n",
    "R = 5*10**(-6)\n",
    "n = 200\n",
    "dr = R/n\n",
    "B0 = 0\n",
    "BN = 0\n",
    "r = np.arange(0, R, dr)\n",
    "z = np.matrix([np.array([(r[i]-dr if j == i-1 and i > 0 else 0)for j in range(n)])for i in range(n) ]) \n",
    "z = z + np.matrix([np.array([(-2*r[i] if j == i else 0)for j in range(n)])for i in range(n) ]) \n",
    "z = z + np.matrix([np.array([(r[i]+dr if j == i+1 and i < n-1 else 0)for j in range(n)])for i in range(n) ]) \n",
    "z[0,:] = np.zeros(n)\n",
    "z[0,0] = 1\n",
    "z[0,1] = -1\n",
    "z[-1, -1] = 1\n",
    "j = (-r*(dr**2)/D)\n",
    "j[0] = B0\n",
    "j[-1] = BN\n",
    "j = np.matrix(c).T\n",
    "T = np.array((np.linalg.inv(z)*j).T).flatten()\n",
    "rs = np.arange(0,5,5/n)\n",
    "T"
   ]
  },
  {
   "cell_type": "code",
   "execution_count": 66,
   "id": "0dd28d90",
   "metadata": {},
   "outputs": [
    {
     "data": {
      "text/plain": [
       "[<matplotlib.lines.Line2D at 0x692f28e520>]"
      ]
     },
     "execution_count": 66,
     "metadata": {},
     "output_type": "execute_result"
    },
    {
     "data": {
      "image/png": "[encoded data removed]",
      "text/plain": [
       "<Figure size 432x288 with 1 Axes>"
      ]
     },
     "metadata": {
      "needs_background": "light"
     },
     "output_type": "display_data"
    }
   ],
   "source": [
    "plt.plot(rs, T)"
   ]
  },
  {
   "cell_type": "markdown",
   "id": "d3120975",
   "metadata": {},
   "source": [
    "## 3. Si los viriones están distribuidos uniformemente, encuentre el tiempo que tardaría un virión en salir de la gota de aerosol.\n",
    "\n",
    "Tenga presente que debe promediar suponiendo que el virión tiene una distribución uniforme, i.e. $\\rho\\left(\\vec{r}\\right)=1/V$, usando la siguiente relación,\n",
    "$$\n",
    "\\bar{\\tau} = \\int_{\\mathcal{V}}\\tau\\left(\\vec{r}\\right)\\rho\\left(\\vec{r}\\right)\\,\\text{d}\\vec{r} = \\frac{4\\pi}{V}\\int_{0}^{R}\\tau(r)\\,r^2\\text{d}r.\n",
    "$$\n",
    "Realice la integral numéricamente.\n",
    "\n",
    "$$\n",
    "\\frac{4\\pi }{V}R^{2}\\left ( c_{1}\\frac{R}{3}+c_{2}\\frac{1}{2}+\\frac{R^{3}}{30D} \\right )\n",
    "$$"
   ]
  },
  {
   "cell_type": "code",
   "execution_count": 52,
   "id": "e9f63f73",
   "metadata": {},
   "outputs": [
    {
     "data": {
      "text/plain": [
       "760.5601888856033"
      ]
     },
     "execution_count": 52,
     "metadata": {},
     "output_type": "execute_result"
    }
   ],
   "source": [
    "R = 5*10**(-6)\n",
    "V = (4/3)*(np.pi*(R**3))\n",
    "r =0.000001\n",
    "i = 100000\n",
    "k=4*np.pi\n",
    "D= (4.05*10**(-21))/(6*np.pi*(100*10**(-9)))\n",
    "\n",
    "def tau(r):\n",
    "    return(k/V)*((R**2/(6*D))-(1/(6*D)*r**2))*(r**2)\n",
    "\n",
    "def  integral_simpson(a,b,c,f):\n",
    "    x, delta_x = np.linspace(a,b,c, retstep= True )\n",
    "    return (delta_x/3)*(f(x[0])+2*np.sum(f(x[2:len(x)-1:2]))+ 4*np.sum(f(x[1::2]))+f(x[-1]))\n",
    "\n",
    "\n",
    "respuesta = integral_simpson(r,R,i,tau)\n",
    "respuesta"
   ]
  },
  {
   "cell_type": "markdown",
   "id": "dc23b478",
   "metadata": {},
   "source": [
    "## 4. Las cadenas de Markov.\n",
    "\n",
    "Vamos a resolver el problema anterior usando un proceso de Markov. Suponga que ud **divide** la esfera en cubitos de ancho $\\delta x=\\delta y=\\delta z=\\Delta=R/N$ con $N$ un número determinado de particiones. Para nuestro experimento, vamos a suponer que ponemos un virión en una posición inicial $\\vec{r}_0=(\\Delta\\,j, 0, 0)$, determinada por un índice $j\\in\\{0,1,2,\\dots,N\\}$. Ud va a actualizar la posición del virión en la malla discreta siguiendo las reglas a continuación:\n",
    "- Determine el número de divisiones $N$ y calcule $\\Delta$.\n",
    "- Ajuste la escala de tiempo $\\delta t$ y de tal manera que la probabilidad $\\alpha=D\\frac{\\delta t}{\\Delta^2}<\\frac{1}{6}$. (Recomiendo $\\leq1/12$)\n",
    "- Haga una corrida de Markov-Monte Carlo actualizando la posición con la probabilidad de transición $\\alpha$ hacia los primeros vecinos cercanos y calcule el número de pasos de tiempo para llegar a la superficie, i.e. $|\\vec{r}(t_m)|>R-\\Delta$\n",
    "- Repita este experimento para la misma posición un gran número de veces para obtener una estadística (media y desviación estándar).\n",
    "- Repita todos los pasos para todos los índices $j\\in\\{0,1,2,\\dots,N\\}$ y grafique. ¡Compare con los resultados anteriores!"
   ]
  },
  {
   "cell_type": "code",
   "execution_count": 37,
   "id": "5eea2623",
   "metadata": {},
   "outputs": [
    {
     "data": {
      "text/plain": [
       "0.0008333333333333332"
      ]
     },
     "execution_count": 37,
     "metadata": {},
     "output_type": "execute_result"
    }
   ],
   "source": [
    "L = 10\n",
    "T = 25\n",
    "N = 100\n",
    "dx = L/N\n",
    "x = np.arange(0,L,dx)\n",
    "D = 1/12\n",
    "dt = 1e-4\n",
    "t = np.arange(0,T,dt)\n",
    "alpha = D*dt/dx**2\n",
    "assert alpha < 1/12\n",
    "alpha"
   ]
  },
  {
   "cell_type": "code",
   "execution_count": 38,
   "id": "5fab5938",
   "metadata": {},
   "outputs": [],
   "source": [
    "def act_objetos(n):\n",
    "    global alpha\n",
    "    z = np.random.uniform(size=n)\n",
    "    izquierda = sum(z<alpha)\n",
    "    derecha = sum(z<2*alpha) - izq\n",
    "    return (izquierda,derecha)\n",
    "\n",
    "\n",
    "def act_phi(phi):\n",
    "    dphi = np.array([act_objetos(_phi) for _phi in phi]).T\n",
    "    dvphi[0,0] = 0\n",
    "    dvphi[1,-1] = 0\n",
    "    dvphi_izquierda = np.roll(dvphi[0],-1)\n",
    "    dvphi_derecha = np.roll(dvphi[1], 1)\n",
    "    dvphi = np.sum(vdphi, axis=0)\n",
    "    return phi-dvphi+dphi_izquierda+dvphi_derecha"
   ]
  },
  {
   "cell_type": "code",
   "execution_count": 41,
   "id": "26a36db6",
   "metadata": {},
   "outputs": [
    {
     "data": {
      "text/plain": [
       "<matplotlib.collections.PathCollection at 0x691d5684c0>"
      ]
     },
     "execution_count": 41,
     "metadata": {},
     "output_type": "execute_result"
    },
    {
     "data": {
      "image/png": "[encoded data removed]",
      "text/plain": [
       "<Figure size 432x288 with 1 Axes>"
      ]
     },
     "metadata": {
      "needs_background": "light"
     },
     "output_type": "display_data"
    }
   ],
   "source": [
    "phi = np.zeros(N)\n",
    "phi[0] = 100\n",
    "phi[N//2] = 300\n",
    "plt.scatter(x, phi)"
   ]
  },
  {
   "cell_type": "code",
   "execution_count": null,
   "id": "8b56dfb7",
   "metadata": {},
   "outputs": [],
   "source": []
  }
 ],
 "metadata": {
  "kernelspec": {
   "display_name": "Python 3 (ipykernel)",
   "language": "python",
   "name": "python3"
  },
  "language_info": {
   "codemirror_mode": {
    "name": "ipython",
    "version": 3
   },
   "file_extension": ".py",
   "mimetype": "text/x-python",
   "name": "python",
   "nbconvert_exporter": "python",
   "pygments_lexer": "ipython3",
   "version": "3.7.12"
  }
 },
 "nbformat": 4,
 "nbformat_minor": 5
}
