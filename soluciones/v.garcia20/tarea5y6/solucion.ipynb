{
 "cells": [
  {
   "cell_type": "code",
   "execution_count": 10,
   "id": "283d09d7-4469-4da8-ada2-c02b4a155a00",
   "metadata": {},
   "outputs": [],
   "source": [
    "import numpy as np\n",
    "import pandas as pd\n",
    "import scipy as sp\n",
    "import sklearn as sl\n",
    "import statistics\n",
    "import matplotlib as mpl\n",
    "from matplotlib import pyplot as plt\n",
    "from mpl_toolkits.mplot3d import axes3d\n",
    "from matplotlib import cm\n",
    "from pylab import*\n",
    "from scipy import integrate\n",
    "%matplotlib inline"
   ]
  },
  {
   "cell_type": "markdown",
   "id": "1152fdaa-6265-47f6-a152-a467fa2b9e0f",
   "metadata": {},
   "source": [
    "## 1. Escriba la ecuación de difusión para el tiempo $\\tau$ en coordenadas esféricas y asuma que $\\tau(r,\\theta,\\phi)\\simeq\\tau(r)$ ya que por simetría esférica sólo dependerá de la posición radial respecto al centro de la gotica (Usar **LaTex**)\n",
    "\n",
    "Tenemos que :\n",
    "\n",
    "$\\displaystyle  \\begin{array}{{>{\\displaystyle}l}}\n",
    "\\ \\ \\ \\ \\ \\ \\ \\ \\ \\ \\ \\ \\ \\ \\ \\ \\ \\ \\ \\nabla ^{2} \\tau \\ =\\ -\\ \\frac{6\\eta \\pi a}{k_{B}\\tau } \\ \\ \\ \\ \\ \\ \\ ( 1) \\ \\ \\ \\ \\ \\ \\\\\n",
    "\\end{array}$\n",
    "\n",
    "Por lo cual, \n",
    "\n",
    "$\\displaystyle \\nabla ^{2} \\tau \\ =\\ \\frac{1}{r^{2}}\\frac{\\partial }{\\partial r}\\left( r^{2}\\frac{\\partial \\tau }{\\partial r}\\right) \\ +\\ \\frac{1}{r^{2} sen\\theta }\\frac{\\partial }{\\partial \\theta } \\ \\left( sen\\theta \\ \\frac{\\partial \\tau }{\\partial \\theta }\\right) \\ +\\ \\frac{1}{r^{2} sen\\theta }\\frac{\\partial ^{2} \\tau }{\\partial \\varphi ^{2}} \\ \\ \\ \\ \\ \\ \\ \\ \\ \\ \\ ( 2)$\n",
    "\n",
    "\n",
    "$\\displaystyle \\nabla ^{2} \\tau =\\frac{1}{r^{2}}\\frac{\\partial }{\\partial r}\\left( r^{2}\\frac{\\partial \\tau }{\\partial r}\\right) \\ +\\ 0\\ +\\ 0\\ \\ \\ \\ \\ \\ $$\\displaystyle  \\begin{array}{{>{\\displaystyle}l}}\n",
    "( 3)\\\\\n",
    "\\end{array}$\n",
    "\n",
    "\n",
    "$\\displaystyle -\\frac{6\\eta \\pi a}{k_{B} \\tau } \\ \\ =\\ \\frac{1}{r^{2}}\\frac{\\partial }{\\partial r}\\left( r^{2}\\frac{\\partial \\tau }{\\partial r}\\right) \\ \\ \\ \\ \\ \\ \\ \\ \\ \\ \\ \\ \\ \\ \\ ( 4)$\n",
    "\n",
    "\n",
    "$\\displaystyle -\\ \\frac{6\\eta \\pi a}{k_{B} \\tau } \\ =\\frac{1}{r^{2}}\\left( 2r\\frac{\\partial \\tau }{\\partial r} \\ +\\ r^{2}\\frac{\\partial ^{2} \\tau }{\\partial r^{2}} \\ \\right) \\ \\ \\ \\ ( 5)$\n",
    "\n",
    "\n",
    "$\\displaystyle \\ \\ \\ \\ \\ -\\ \\frac{6\\eta \\pi a}{k_{B} \\tau } \\ =\\frac{\\partial ^{2} \\tau }{\\partial r^{2}} \\ +\\ \\frac{2\\partial \\tau }{r\\partial r} \\ \\ \\ \\ \\ \\ \\ \\ \\ \\ \\ \\ \\ \\ \\ \\ \\ \\ \\ ( 6) \\ $\n",
    "\n",
    "\n",
    "$ $\n",
    "$\\displaystyle 0\\ =\\ \\frac{\\partial ^{2} \\tau }{\\partial r^{2}} \\ +\\ \\frac{2\\partial \\tau }{r\\partial r} \\ +$$\\displaystyle \\frac{6\\eta \\pi a}{k_{B} \\tau } \\ \\ \\ \\ \\ \\ \\ \\ \\ ( 7) \\ $\n",
    "\n",
    "\n"
   ]
  },
  {
   "cell_type": "code",
   "execution_count": null,
   "id": "4cdfe052-65f3-4497-ac05-e4a7b0ed92da",
   "metadata": {},
   "outputs": [],
   "source": []
  },
  {
   "cell_type": "markdown",
   "id": "86481ae6-0e55-4e81-ae66-dcce6c8f1b0c",
   "metadata": {},
   "source": [
    "## 2. Resuelva la ecuación diferencial para el tiempo de forma numérica y grafique\n",
    "\n",
    "Asuma las siguientes condiciones iniciales:\n",
    "1. $\\tau(R)=0$ ya que si el virión está en la superficie el tiempo debe ser naturalmente nulo.\n",
    "1. $\\tau^\\prime(r)=0$ ya que por simetría la derivada radial debe ser nula en el origen\n",
    "\n",
    "Suponga las siguientes condiciones:\n",
    "- $R=5\\mu m$ para el radio de la esfera de *quasi* agua (calcula el volumen $V$)\n",
    "- $\\eta_{\\text{H}_2\\text{O}}\\simeq1\\times10^{-3}\\,Pa\\cdot s$ (Pascales por segundo)\n",
    "- $\\frac{\\eta}{\\eta_{\\text{H}_2\\text{O}}}\\approx10^3\\to10^5$\n",
    "- $a\\simeq100\\,nm$\n",
    "- $V=\\frac{4}{3}\\pi a^3$\n",
    "- $k_BT\\simeq4.05\\times10^{-21}J$\n",
    "\n",
    "si:\n",
    "\n",
    "$$\n",
    "\\frac{6\\pi \\eta a}{K_{b}T}=\\frac{1}{r^{2}}\\frac{d}{dr}\\left ( r^{2} \\frac{d \\tau }{dr}\\right )\n",
    "$$\n",
    "\n",
    "$$\n",
    "\\frac{1}{r^{2}}\\left [ \\left ( 2r\\frac{\\partial \\tau }{\\partial r} + r^{2}\\frac{\\partial ^{2}\\tau }{\\partial r^{2}}\\right ) \\right ]=\\frac{1}{D}\n",
    "$$\n",
    "\n",
    "\n",
    "$$\n",
    "\\frac{2}{r}\\frac{\\partial \\tau }{\\partial r} + \\frac{\\partial ^{2}\\tau }{\\partial r^{2}}=-\\frac{1}{D}\n",
    "$$\n",
    "\n",
    "$$\n",
    "{y}''+2\\frac{1}{x}{y}'+\\frac{1}{D}=0\n",
    "$$\n",
    "\n",
    "$$\n",
    "{\\tau }''+\\frac{2}{r}{\\tau }'+\\frac{1}{D}=0\n",
    "$$\n",
    "\n",
    "$$\n",
    "\\tau_{h} =c_{1}+\\frac{c_{2}}{r} , \\tau_{p} =-\\frac{r^{2}}{6\\times D}\n",
    "$$\n",
    "\n",
    "\n",
    "$$\n",
    "\\tau =c_{1}+\\frac{c_{2}}{r}-\\frac{r^{2}}{6\\times D}\n",
    "$$"
   ]
  },
  {
   "cell_type": "code",
   "execution_count": 4,
   "id": "2c9f2f9c-a5d9-41b6-987a-a66c254ede52",
   "metadata": {},
   "outputs": [],
   "source": [
    "a = 1*(10**(-7))\n",
    "η = 1*10**(2)\n",
    "R = 5*(10**(-6))\n",
    "D= (4.05*10**(-21))/(6*np.pi*η*a)\n",
    "N = 170\n",
    "\n",
    "der = (R)/(N)"
   ]
  },
  {
   "cell_type": "code",
   "execution_count": 5,
   "id": "975b9236-153a-43d6-9de9-a9c779c50d19",
   "metadata": {},
   "outputs": [
    {
     "data": {
      "text/plain": [
       "array([ 1.91643985e+05,  1.91643985e+05,  1.91623854e+05,  1.91590303e+05,\n",
       "        1.91543332e+05,  1.91482940e+05,  1.91409127e+05,  1.91321894e+05,\n",
       "        1.91221241e+05,  1.91107167e+05,  1.90979673e+05,  1.90838758e+05,\n",
       "        1.90684423e+05,  1.90516667e+05,  1.90335491e+05,  1.90140895e+05,\n",
       "        1.89932878e+05,  1.89711441e+05,  1.89476583e+05,  1.89228304e+05,\n",
       "        1.88966606e+05,  1.88691487e+05,  1.88402947e+05,  1.88100987e+05,\n",
       "        1.87785606e+05,  1.87456805e+05,  1.87114584e+05,  1.86758942e+05,\n",
       "        1.86389880e+05,  1.86007397e+05,  1.85611494e+05,  1.85202170e+05,\n",
       "        1.84779426e+05,  1.84343261e+05,  1.83893676e+05,  1.83430671e+05,\n",
       "        1.82954245e+05,  1.82464399e+05,  1.81961132e+05,  1.81444445e+05,\n",
       "        1.80914337e+05,  1.80370809e+05,  1.79813860e+05,  1.79243491e+05,\n",
       "        1.78659702e+05,  1.78062492e+05,  1.77451861e+05,  1.76827811e+05,\n",
       "        1.76190339e+05,  1.75539448e+05,  1.74875135e+05,  1.74197403e+05,\n",
       "        1.73506250e+05,  1.72801676e+05,  1.72083682e+05,  1.71352268e+05,\n",
       "        1.70607433e+05,  1.69849178e+05,  1.69077502e+05,  1.68292406e+05,\n",
       "        1.67493889e+05,  1.66681952e+05,  1.65856594e+05,  1.65017816e+05,\n",
       "        1.64165618e+05,  1.63299999e+05,  1.62420960e+05,  1.61528500e+05,\n",
       "        1.60622620e+05,  1.59703319e+05,  1.58770598e+05,  1.57824456e+05,\n",
       "        1.56864894e+05,  1.55891912e+05,  1.54905509e+05,  1.53905686e+05,\n",
       "        1.52892442e+05,  1.51865777e+05,  1.50825693e+05,  1.49772188e+05,\n",
       "        1.48705262e+05,  1.47624916e+05,  1.46531149e+05,  1.45423962e+05,\n",
       "        1.44303355e+05,  1.43169327e+05,  1.42021879e+05,  1.40861010e+05,\n",
       "        1.39686721e+05,  1.38499011e+05,  1.37297881e+05,  1.36083331e+05,\n",
       "        1.34855360e+05,  1.33613968e+05,  1.32359156e+05,  1.31090924e+05,\n",
       "        1.29809271e+05,  1.28514198e+05,  1.27205704e+05,  1.25883790e+05,\n",
       "        1.24548456e+05,  1.23199701e+05,  1.21837525e+05,  1.20461929e+05,\n",
       "        1.19072913e+05,  1.17670476e+05,  1.16254619e+05,  1.14825341e+05,\n",
       "        1.13382643e+05,  1.11926524e+05,  1.10456985e+05,  1.08974026e+05,\n",
       "        1.07477646e+05,  1.05967846e+05,  1.04444625e+05,  1.02907983e+05,\n",
       "        1.01357922e+05,  9.97944396e+04,  9.82175369e+04,  9.66272139e+04,\n",
       "        9.50234703e+04,  9.34063063e+04,  9.17757219e+04,  9.01317171e+04,\n",
       "        8.84742917e+04,  8.68034460e+04,  8.51191798e+04,  8.34214931e+04,\n",
       "        8.17103860e+04,  7.99858584e+04,  7.82479104e+04,  7.64965420e+04,\n",
       "        7.47317531e+04,  7.29535437e+04,  7.11619139e+04,  6.93568637e+04,\n",
       "        6.75383930e+04,  6.57065018e+04,  6.38611903e+04,  6.20024582e+04,\n",
       "        6.01303057e+04,  5.82447328e+04,  5.63457394e+04,  5.44333256e+04,\n",
       "        5.25074913e+04,  5.05682366e+04,  4.86155614e+04,  4.66494658e+04,\n",
       "        4.46699497e+04,  4.26770132e+04,  4.06706562e+04,  3.86508788e+04,\n",
       "        3.66176810e+04,  3.45710627e+04,  3.25110239e+04,  3.04375647e+04,\n",
       "        2.83506851e+04,  2.62503850e+04,  2.41366644e+04,  2.20095234e+04,\n",
       "        1.98689620e+04,  1.77149801e+04,  1.55475777e+04,  1.33667550e+04,\n",
       "        1.11725117e+04,  8.96484804e+03,  6.74376391e+03,  4.50925933e+03,\n",
       "        2.26133430e+03, -1.11736518e-02])"
      ]
     },
     "execution_count": 5,
     "metadata": {},
     "output_type": "execute_result"
    }
   ],
   "source": [
    "\n",
    "cond0 = 0\n",
    "condN = 0\n",
    "\n",
    "r = np.arange(0, R, der)\n",
    "\n",
    "fila = np.matrix([np.array([(r[i]-der if j == i-1 and i > 0 else 0)for j in range(N)])for i in range(N) ]) \n",
    "\n",
    "fila = fila + np.matrix([np.array([(-2*r[i] if j == i else 0)for j in range(N)])for i in range(N) ]) \n",
    "\n",
    "fila = fila + np.matrix([np.array([(r[i]+der if j == i+1 and i < N-1 else 0)for j in range(N)])for i in range(N) ]) \n",
    "\n",
    "\n",
    "fila[0,:] = np.zeros(N)\n",
    "fila[0,0] = 1\n",
    "fila[0,1] = -1\n",
    "fila[-1, -1] = 1\n",
    "\n",
    "c = (-r*(der**2)/D)\n",
    "c[0] = cond0\n",
    "c[-1] = condN\n",
    "c = np.matrix(c).T\n",
    "\n",
    "T = np.array((np.linalg.inv(fila)*c).T).flatten()\n",
    "ra = np.arange(0,5,5/N)\n",
    "T\n"
   ]
  },
  {
   "cell_type": "code",
   "execution_count": 6,
   "id": "ed4361e6-3f0b-401c-b723-376cf5a6f201",
   "metadata": {},
   "outputs": [
    {
     "data": {
      "text/plain": [
       "Text(0, 0.5, 'Eje Y')"
      ]
     },
     "execution_count": 6,
     "metadata": {},
     "output_type": "execute_result"
    },
    {
     "data": {
      "image/png": "[encoded data removed]",
      "text/plain": [
       "<Figure size 432x288 with 1 Axes>"
      ]
     },
     "metadata": {
      "needs_background": "light"
     },
     "output_type": "display_data"
    }
   ],
   "source": [
    "\n",
    "plt.plot(ra, T, 'g')\n",
    "plt.xlabel('E X')\n",
    "plt.ylabel('Eje Y')\n"
   ]
  },
  {
   "cell_type": "markdown",
   "id": "c5b279f7-661d-4575-8f3d-2d3223225786",
   "metadata": {},
   "source": [
    "## 3. Si los viriones están distribuidos uniformemente, encuentre el tiempo que tardaría un virión en salir de la gota de aerosol.\n",
    "\n",
    "Tenga presente que debe promediar suponiendo que el virión tiene una distribución uniforme, i.e. $\\rho\\left(\\vec{r}\\right)=1/V$, usando la siguiente relación,\n",
    "$$\n",
    "\\bar{\\tau} = \\int_{\\mathcal{V}}\\tau\\left(\\vec{r}\\right)\\rho\\left(\\vec{r}\\right)\\,\\text{d}\\vec{r} = \\frac{4\\pi}{V}\\int_{0}^{R}\\tau(r)\\,r^2\\text{d}r.\n",
    "$$\n",
    "Realice la integral numéricamente.\n",
    "\n",
    "$$\n",
    "\\frac{4\\pi }{V}R^{2}\\left ( c_{1}\\frac{R}{3}+c_{2}\\frac{1}{2}+\\frac{R^{3}}{30D} \\right )\n",
    "$$"
   ]
  },
  {
   "cell_type": "code",
   "execution_count": 9,
   "id": "cfa9ee80-39bd-4fe5-86de-349e3a45d1e1",
   "metadata": {},
   "outputs": [
    {
     "data": {
      "text/plain": [
       "7.605601888856034"
      ]
     },
     "execution_count": 9,
     "metadata": {},
     "output_type": "execute_result"
    }
   ],
   "source": [
    "\n",
    "a = 1*(10**(-7))\n",
    "R = 5*(10**-6)\n",
    "r =0.000001\n",
    "V = (4/3)*(np.pi*(R**3))\n",
    "n = 1000000\n",
    "D= (4.05*10**(-17))/(6*np.pi*(100*(a)))\n",
    "\n",
    "def t(r):\n",
    "    return(4*np.pi/V)*((R**2/(6*D))-(1/(6*D)*r**2))*(r**2)\n",
    "\n",
    "def  simpint(r,R,n,t):\n",
    "    x, dex = np.linspace(r,R,n,retstep= True )\n",
    "    return (dex/3)*(t(x[0])+2*np.sum(t(x[2:len(x)-1:2]))+ 4*np.sum(t(x[1::2]))+t(x[-1]))\n",
    "\n",
    "\n",
    "valorfinal = simpint(r,R,n,t)\n",
    "\n",
    "valorfinal"
   ]
  },
  {
   "cell_type": "markdown",
   "id": "292942d7-08b3-4d3e-a9ba-1af994ef5eb9",
   "metadata": {},
   "source": [
    "## 4. Las cadenas de Markov.\n",
    "\n",
    "Vamos a resolver el problema anterior usando un proceso de Markov. Suponga que ud **divide** la esfera en cubitos de ancho $\\delta x=\\delta y=\\delta z=\\Delta=R/N$ con $N$ un número determinado de particiones. Para nuestro experimento, vamos a suponer que ponemos un virión en una posición inicial $\\vec{r}_0=(\\Delta\\,j, 0, 0)$, determinada por un índice $j\\in\\{0,1,2,\\dots,N\\}$. Ud va a actualizar la posición del virión en la malla discreta siguiendo las reglas a continuación:\n",
    "- Determine el número de divisiones $N$ y calcule $\\Delta$.\n",
    "- Ajuste la escala de tiempo $\\delta t$ y de tal manera que la probabilidad $\\alpha=D\\frac{\\delta t}{\\Delta^2}<\\frac{1}{6}$. (Recomiendo $\\leq1/12$)\n",
    "- Haga una corrida de Markov-Monte Carlo actualizando la posición con la probabilidad de transición $\\alpha$ hacia los primeros vecinos cercanos y calcule el número de pasos de tiempo para llegar a la superficie, i.e. $|\\vec{r}(t_m)|>R-\\Delta$\n",
    "- Repita este experimento para la misma posición un gran número de veces para obtener una estadística (media y desviación estándar).\n",
    "- Repita todos los pasos para todos los índices $j\\in\\{0,1,2,\\dots,N\\}$ y grafique. ¡Compare con los resultados anteriores!"
   ]
  },
  {
   "cell_type": "code",
   "execution_count": 14,
   "id": "7cdd09d1-a198-4f0a-ae68-9b8064d9ef5f",
   "metadata": {},
   "outputs": [
    {
     "data": {
      "text/plain": [
       "8.333333333333334e-06"
      ]
     },
     "execution_count": 14,
     "metadata": {},
     "output_type": "execute_result"
    }
   ],
   "source": [
    "L = 2\n",
    "T = 4\n",
    "N = 10\n",
    "dex = L/N\n",
    "x = np.arange(0,L,dex)\n",
    "D = 1/12\n",
    "dt = 1*10**(-4)\n",
    "t = np.arange(0,T,dt)\n",
    "alfa = D*dt/dex*dex\n",
    "assert alfa < 1/12\n",
    "alfa"
   ]
  },
  {
   "cell_type": "code",
   "execution_count": 12,
   "id": "32765cd8-4999-4a03-8332-8580cf8a6701",
   "metadata": {},
   "outputs": [],
   "source": [
    "def rec(n):\n",
    "    global alfa\n",
    "    vir = np.random.uniform(size=n)\n",
    "    left = sum(vir<alfa)\n",
    "    right = sum(vir<2*alfa) - left\n",
    "    return (left,right)\n",
    "\n",
    "\n",
    "def nueva(psi):\n",
    "    npsi = np.array([actualiza_objetos(_psi) for _psi in psi]).T\n",
    "    \n",
    "    npsi[0,0] = 0\n",
    "    npsi[1,-1] = 0\n",
    "    \n",
    "    npsileft = np.roll(npsi[0],-1)\n",
    "    npsiright  = np.roll(npsi[1], 1)\n",
    "    npsi = np.sum(npsi, axis=0)\n",
    "    \n",
    "    return psi+npsiright+npsileft-npsi\n"
   ]
  },
  {
   "cell_type": "code",
   "execution_count": 13,
   "id": "ac0bfc39-3d86-447f-af6f-7cbe69858ee9",
   "metadata": {},
   "outputs": [
    {
     "ename": "NameError",
     "evalue": "name 'x' is not defined",
     "output_type": "error",
     "traceback": [
      "\u001b[0;31m---------------------------------------------------------------------------\u001b[0m",
      "\u001b[0;31mNameError\u001b[0m                                 Traceback (most recent call last)",
      "\u001b[0;32m/tmp/ipykernel_2040/2577990800.py\u001b[0m in \u001b[0;36m<module>\u001b[0;34m\u001b[0m\n\u001b[1;32m      3\u001b[0m \u001b[0mpsi\u001b[0m\u001b[0;34m[\u001b[0m\u001b[0mN\u001b[0m\u001b[0;34m//\u001b[0m\u001b[0;36m2\u001b[0m\u001b[0;34m]\u001b[0m \u001b[0;34m=\u001b[0m \u001b[0;36m75\u001b[0m\u001b[0;34m\u001b[0m\u001b[0;34m\u001b[0m\u001b[0m\n\u001b[1;32m      4\u001b[0m \u001b[0mpsi\u001b[0m\u001b[0;34m[\u001b[0m\u001b[0mN\u001b[0m\u001b[0;34m//\u001b[0m\u001b[0;36m3\u001b[0m\u001b[0;34m]\u001b[0m\u001b[0;34m=\u001b[0m \u001b[0;36m100\u001b[0m\u001b[0;34m\u001b[0m\u001b[0;34m\u001b[0m\u001b[0m\n\u001b[0;32m----> 5\u001b[0;31m \u001b[0mplt\u001b[0m\u001b[0;34m.\u001b[0m\u001b[0mscatter\u001b[0m\u001b[0;34m(\u001b[0m\u001b[0mx\u001b[0m\u001b[0;34m,\u001b[0m \u001b[0mpsi\u001b[0m\u001b[0;34m,\u001b[0m\u001b[0mcolor\u001b[0m\u001b[0;34m=\u001b[0m\u001b[0;34m'm'\u001b[0m\u001b[0;34m)\u001b[0m\u001b[0;34m\u001b[0m\u001b[0;34m\u001b[0m\u001b[0m\n\u001b[0m\u001b[1;32m      6\u001b[0m \u001b[0mplt\u001b[0m\u001b[0;34m.\u001b[0m\u001b[0mxlabel\u001b[0m\u001b[0;34m(\u001b[0m\u001b[0;34m'x'\u001b[0m\u001b[0;34m)\u001b[0m\u001b[0;34m\u001b[0m\u001b[0;34m\u001b[0m\u001b[0m\n\u001b[1;32m      7\u001b[0m \u001b[0mplt\u001b[0m\u001b[0;34m.\u001b[0m\u001b[0mylabel\u001b[0m\u001b[0;34m(\u001b[0m\u001b[0;34m'y'\u001b[0m\u001b[0;34m)\u001b[0m\u001b[0;34m\u001b[0m\u001b[0;34m\u001b[0m\u001b[0m\n",
      "\u001b[0;31mNameError\u001b[0m: name 'x' is not defined"
     ]
    }
   ],
   "source": [
    "psi = np.zeros(N, dtype=np.uint32)\n",
    "psi[0] = 25\n",
    "psi[N//2] = 75\n",
    "psi[N//3]= 100\n",
    "plt.scatter(x, psi,color='m')\n",
    "plt.xlabel('x')\n",
    "plt.ylabel('y')\n",
    "\n"
   ]
  },
  {
   "cell_type": "code",
   "execution_count": 55,
   "id": "e53fe7dd-3195-42bd-a2da-0e85dc92d041",
   "metadata": {},
   "outputs": [
    {
     "data": {
      "text/plain": [
       "8.333333333333334e-06"
      ]
     },
     "execution_count": 55,
     "metadata": {},
     "output_type": "execute_result"
    }
   ],
   "source": [
    "L = 2\n",
    "T = 4\n",
    "N = 20\n",
    "dex = L/N\n",
    "x = np.arange(0,L,dex)\n",
    "D = 1/12\n",
    "dt = 1*10**(-4)\n",
    "t = np.arange(0,T,dt)\n",
    "alfa = D*dt/dex*dex\n",
    "assert alfa < 1/12\n",
    "alfa\n"
   ]
  },
  {
   "cell_type": "code",
   "execution_count": 56,
   "id": "d87ac49b-5628-4153-932c-cb888c3922ab",
   "metadata": {},
   "outputs": [],
   "source": [
    "def rec(n):\n",
    "    global alfa\n",
    "    vir = np.random.uniform(size=n)\n",
    "    left = sum(vir<alfa)\n",
    "    right = sum(vir<2*alfa) - left\n",
    "    return (left,right)\n",
    "\n",
    "\n",
    "def nueva(psi):\n",
    "    npsi = np.array([actualiza_objetos(_psi) for _psi in psi]).T\n",
    "    \n",
    "    npsi[0,0] = 0\n",
    "    npsi[1,-1] = 0\n",
    "    \n",
    "    npsileft = np.roll(npsi[0],-1)\n",
    "    npsiright  = np.roll(npsi[1], 1)\n",
    "    npsi = np.sum(npsi, axis=0)\n",
    "    \n",
    "    return psi+npsiright+npsileft-npsi"
   ]
  },
  {
   "cell_type": "code",
   "execution_count": 57,
   "id": "575ac40d-f850-48fe-8e91-344beb00ac79",
   "metadata": {},
   "outputs": [
    {
     "data": {
      "text/plain": [
       "Text(0, 0.5, 'y')"
      ]
     },
     "execution_count": 57,
     "metadata": {},
     "output_type": "execute_result"
    },
    {
     "data": {
      "image/png": "[encoded data removed]",
      "text/plain": [
       "<Figure size 432x288 with 1 Axes>"
      ]
     },
     "metadata": {
      "needs_background": "light"
     },
     "output_type": "display_data"
    }
   ],
   "source": [
    "psi = np.zeros(N, dtype=np.uint32)\n",
    "psi[0] = 50\n",
    "psi[N//2] = 150\n",
    "psi[N//3]= 200\n",
    "plt.scatter(x, psi,color='y')\n",
    "plt.xlabel('x')\n",
    "plt.ylabel('y')\n"
   ]
  },
  {
   "cell_type": "code",
   "execution_count": null,
   "id": "3567bd9e-495b-4240-b9e5-c27135a146eb",
   "metadata": {},
   "outputs": [],
   "source": []
  },
  {
   "cell_type": "code",
   "execution_count": null,
   "id": "de7738ad-a23f-4eee-aa9c-c38c017fd8a0",
   "metadata": {},
   "outputs": [],
   "source": []
  },
  {
   "cell_type": "code",
   "execution_count": null,
   "id": "c8210322-6f3d-4777-9892-3f249ed635e5",
   "metadata": {},
   "outputs": [],
   "source": []
  }
 ],
 "metadata": {
  "kernelspec": {
   "display_name": "Python 3 (ipykernel)",
   "language": "python",
   "name": "python3"
  },
  "language_info": {
   "codemirror_mode": {
    "name": "ipython",
    "version": 3
   },
   "file_extension": ".py",
   "mimetype": "text/x-python",
   "name": "python",
   "nbconvert_exporter": "python",
   "pygments_lexer": "ipython3",
   "version": "3.7.12"
  }
 },
 "nbformat": 4,
 "nbformat_minor": 5
}
