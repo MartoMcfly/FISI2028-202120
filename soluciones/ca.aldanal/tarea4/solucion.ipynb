{
 "cells": [
  {
   "cell_type": "code",
   "execution_count": 1,
   "id": "856489d1",
   "metadata": {},
   "outputs": [],
   "source": [
    "import numpy as np\n",
    "import pandas as pd\n",
    "import scipy as sp\n",
    "import sklearn as sl\n",
    "import seaborn as sns; sns.set()\n",
    "import matplotlib as mpl\n",
    "import time\n",
    "\n",
    "from matplotlib import pyplot as plt\n",
    "from mpl_toolkits.mplot3d import axes3d\n",
    "from matplotlib import cm\n"
   ]
  },
  {
   "cell_type": "markdown",
   "id": "7d46f0d6",
   "metadata": {},
   "source": [
    "# Tarea 4\n",
    "\n",
    "Con base a los métodos vistos en clase resuelva las siguientes dos preguntas"
   ]
  },
  {
   "cell_type": "markdown",
   "id": "49c62a47",
   "metadata": {},
   "source": [
    "## (A) Integrales\n",
    "\n",
    "* $\\int_{0}^{1}x^{-1/2}\\,\\text{d}x$\n",
    "* $\\int_{0}^{\\infty}e^{-x}\\ln{x}\\,\\text{d}x$\n",
    "* $\\int_{0}^{\\infty}\\frac{\\sin{x}}{x}\\,\\text{d}x$"
   ]
  },
  {
   "cell_type": "code",
   "execution_count": 2,
   "id": "69d64dd9",
   "metadata": {},
   "outputs": [
    {
     "name": "stdout",
     "output_type": "stream",
     "text": [
      "La primera integral tiene asociado el valor: 1.9993800814704734\n",
      "La segunda integral tiene asociado el valor: -0.5772282932860885\n",
      "La tercera integral tiene asociado el valor: 1.5622253668891837\n"
     ]
    }
   ],
   "source": [
    "muestras = 100\n",
    "x1 = np.linspace(0.0000001,1,10000001)\n",
    "x = np.linspace(0.0000001,muestras,10000001)\n",
    "\n",
    "f = []\n",
    "f1 = []\n",
    "f2 = []\n",
    "\n",
    "for i in range(len(x1)):\n",
    "    f.append(x1[i]**(-1/2))\n",
    "\n",
    "\n",
    "for i in range(len(x)):\n",
    "    f1.append(np.exp(-x[i])*np.log(x[i]))\n",
    "    f2.append(np.sin(x[i])/x[i])\n",
    "\n",
    "    \n",
    "f = np.array(f)\n",
    "f1 = np.array(f1)\n",
    "f2 = np.array(f2)\n",
    "    \n",
    "\n",
    "def integrate(interval_x,funct_f)->float:\n",
    "    \n",
    "    calculo=0\n",
    "    for i in range(len(x)-1):\n",
    "        calculo = calculo + ((funct_f[i+1])+(funct_f[i]))*abs(interval_x[i+1]-interval_x[i])/2\n",
    "    \n",
    "    return(calculo)\n",
    "\n",
    "    \n",
    "integral_f = integrate(x1,f)    \n",
    "integral_f1 = integrate(x,f1)\n",
    "integral_f2 = integrate(x,f2)\n",
    "\n",
    "\n",
    "\n",
    "print(f\"La primera integral tiene asociado el valor: {integral_f}\")\n",
    "print(f\"La segunda integral tiene asociado el valor: {integral_f1}\")\n",
    "print(f\"La tercera integral tiene asociado el valor: {integral_f2}\")\n"
   ]
  },
  {
   "cell_type": "markdown",
   "id": "c26d5604",
   "metadata": {},
   "source": [
    "## (B) Fourier\n",
    "\n",
    "Calcule la transformada rápida de Fourier para la función de la **Tarea 3 (D)** en el intervalo $[0,4]$ ($k$ máximo $2\\pi n/L$ para $n=25$). Ajuste la transformada de Fourier para los datos de la **Tarea 3** usando el método de regresión exacto de la **Tarea 3 (C)** y compare con el anterior resultado. Para ambos ejercicios haga una interpolación y grafique para comparar."
   ]
  },
  {
   "cell_type": "code",
   "execution_count": 3,
   "id": "a58a714d",
   "metadata": {},
   "outputs": [
    {
     "ename": "NameError",
     "evalue": "name 'y' is not defined",
     "output_type": "error",
     "traceback": [
      "\u001b[0;31m---------------------------------------------------------------------------\u001b[0m",
      "\u001b[0;31mNameError\u001b[0m                                 Traceback (most recent call last)",
      "\u001b[0;32m/var/folders/g0/1krznd0j4xq2w7hp515svkb80000gp/T/ipykernel_31054/3998301180.py\u001b[0m in \u001b[0;36m<module>\u001b[0;34m\u001b[0m\n\u001b[1;32m     16\u001b[0m \u001b[0;34m\u001b[0m\u001b[0m\n\u001b[1;32m     17\u001b[0m \u001b[0;34m\u001b[0m\u001b[0m\n\u001b[0;32m---> 18\u001b[0;31m \u001b[0mS1\u001b[0m \u001b[0;34m=\u001b[0m \u001b[0mnp\u001b[0m\u001b[0;34m.\u001b[0m \u001b[0marray\u001b[0m\u001b[0;34m(\u001b[0m\u001b[0;34m[\u001b[0m\u001b[0ma1\u001b[0m\u001b[0;34m(\u001b[0m\u001b[0mj\u001b[0m\u001b[0;34m)\u001b[0m \u001b[0;32mfor\u001b[0m \u001b[0mj\u001b[0m \u001b[0;32min\u001b[0m \u001b[0mrange\u001b[0m\u001b[0;34m(\u001b[0m\u001b[0mmuestras\u001b[0m\u001b[0;34m)\u001b[0m\u001b[0;34m]\u001b[0m\u001b[0;34m)\u001b[0m\u001b[0;34m\u001b[0m\u001b[0;34m\u001b[0m\u001b[0m\n\u001b[0m\u001b[1;32m     19\u001b[0m \u001b[0mS2\u001b[0m \u001b[0;34m=\u001b[0m \u001b[0mnp\u001b[0m\u001b[0;34m.\u001b[0m \u001b[0marray\u001b[0m\u001b[0;34m(\u001b[0m\u001b[0;34m[\u001b[0m\u001b[0ma2\u001b[0m\u001b[0;34m(\u001b[0m\u001b[0mj\u001b[0m\u001b[0;34m)\u001b[0m \u001b[0;32mfor\u001b[0m \u001b[0mj\u001b[0m \u001b[0;32min\u001b[0m \u001b[0mrange\u001b[0m\u001b[0;34m(\u001b[0m\u001b[0mmuestras\u001b[0m\u001b[0;34m)\u001b[0m\u001b[0;34m]\u001b[0m\u001b[0;34m)\u001b[0m\u001b[0;34m\u001b[0m\u001b[0;34m\u001b[0m\u001b[0m\n\u001b[1;32m     20\u001b[0m \u001b[0;34m\u001b[0m\u001b[0m\n",
      "\u001b[0;32m/var/folders/g0/1krznd0j4xq2w7hp515svkb80000gp/T/ipykernel_31054/3998301180.py\u001b[0m in \u001b[0;36m<listcomp>\u001b[0;34m(.0)\u001b[0m\n\u001b[1;32m     16\u001b[0m \u001b[0;34m\u001b[0m\u001b[0m\n\u001b[1;32m     17\u001b[0m \u001b[0;34m\u001b[0m\u001b[0m\n\u001b[0;32m---> 18\u001b[0;31m \u001b[0mS1\u001b[0m \u001b[0;34m=\u001b[0m \u001b[0mnp\u001b[0m\u001b[0;34m.\u001b[0m \u001b[0marray\u001b[0m\u001b[0;34m(\u001b[0m\u001b[0;34m[\u001b[0m\u001b[0ma1\u001b[0m\u001b[0;34m(\u001b[0m\u001b[0mj\u001b[0m\u001b[0;34m)\u001b[0m \u001b[0;32mfor\u001b[0m \u001b[0mj\u001b[0m \u001b[0;32min\u001b[0m \u001b[0mrange\u001b[0m\u001b[0;34m(\u001b[0m\u001b[0mmuestras\u001b[0m\u001b[0;34m)\u001b[0m\u001b[0;34m]\u001b[0m\u001b[0;34m)\u001b[0m\u001b[0;34m\u001b[0m\u001b[0;34m\u001b[0m\u001b[0m\n\u001b[0m\u001b[1;32m     19\u001b[0m \u001b[0mS2\u001b[0m \u001b[0;34m=\u001b[0m \u001b[0mnp\u001b[0m\u001b[0;34m.\u001b[0m \u001b[0marray\u001b[0m\u001b[0;34m(\u001b[0m\u001b[0;34m[\u001b[0m\u001b[0ma2\u001b[0m\u001b[0;34m(\u001b[0m\u001b[0mj\u001b[0m\u001b[0;34m)\u001b[0m \u001b[0;32mfor\u001b[0m \u001b[0mj\u001b[0m \u001b[0;32min\u001b[0m \u001b[0mrange\u001b[0m\u001b[0;34m(\u001b[0m\u001b[0mmuestras\u001b[0m\u001b[0;34m)\u001b[0m\u001b[0;34m]\u001b[0m\u001b[0;34m)\u001b[0m\u001b[0;34m\u001b[0m\u001b[0;34m\u001b[0m\u001b[0m\n\u001b[1;32m     20\u001b[0m \u001b[0;34m\u001b[0m\u001b[0m\n",
      "\u001b[0;32m/var/folders/g0/1krznd0j4xq2w7hp515svkb80000gp/T/ipykernel_31054/3998301180.py\u001b[0m in \u001b[0;36ma1\u001b[0;34m(j)\u001b[0m\n\u001b[1;32m      4\u001b[0m     \u001b[0;32mglobal\u001b[0m \u001b[0mx\u001b[0m\u001b[0;34m,\u001b[0m \u001b[0my\u001b[0m\u001b[0;34m\u001b[0m\u001b[0;34m\u001b[0m\u001b[0m\n\u001b[1;32m      5\u001b[0m     \u001b[0mc\u001b[0m \u001b[0;34m=\u001b[0m \u001b[0;36m2\u001b[0m\u001b[0;34m*\u001b[0m\u001b[0mnp\u001b[0m\u001b[0;34m.\u001b[0m\u001b[0mpi\u001b[0m\u001b[0;34m*\u001b[0m\u001b[0mj\u001b[0m\u001b[0;34m/\u001b[0m\u001b[0;36m4\u001b[0m\u001b[0;34m\u001b[0m\u001b[0;34m\u001b[0m\u001b[0m\n\u001b[0;32m----> 6\u001b[0;31m     \u001b[0maux\u001b[0m \u001b[0;34m=\u001b[0m \u001b[0my\u001b[0m\u001b[0;34m*\u001b[0m\u001b[0mnp\u001b[0m\u001b[0;34m.\u001b[0m\u001b[0mcos\u001b[0m\u001b[0;34m(\u001b[0m\u001b[0mc\u001b[0m\u001b[0;34m*\u001b[0m\u001b[0mx\u001b[0m\u001b[0;34m)\u001b[0m\u001b[0;34m\u001b[0m\u001b[0;34m\u001b[0m\u001b[0m\n\u001b[0m\u001b[1;32m      7\u001b[0m \u001b[0;34m\u001b[0m\u001b[0m\n\u001b[1;32m      8\u001b[0m     \u001b[0;32mreturn\u001b[0m \u001b[0msp\u001b[0m\u001b[0;34m.\u001b[0m\u001b[0mintegrate\u001b[0m\u001b[0;34m.\u001b[0m\u001b[0msimpson\u001b[0m\u001b[0;34m(\u001b[0m\u001b[0maux\u001b[0m\u001b[0;34m,\u001b[0m \u001b[0mx\u001b[0m\u001b[0;34m)\u001b[0m\u001b[0;34m\u001b[0m\u001b[0;34m\u001b[0m\u001b[0m\n",
      "\u001b[0;31mNameError\u001b[0m: name 'y' is not defined"
     ]
    }
   ],
   "source": [
    "muestras = 25\n",
    "\n",
    "def a1(j):\n",
    "    global x, y\n",
    "    c = 2*np.pi*j/4\n",
    "    aux = y*np.cos(c*x)\n",
    "   \n",
    "    return sp.integrate.simpson(aux, x)\n",
    "\n",
    "def a2(j):\n",
    "    global x, y\n",
    "    c = 2*np.pi*j/4\n",
    "    aux = y*np.sin(c*x)\n",
    "    \n",
    "    return sp.integrate.simpson(aux, x)\n",
    "    \n",
    "    \n",
    "S1 = np. array([a1(j) for j in range(muestras)])\n",
    "S2 = np. array([a2(j) for j in range(muestras)])\n",
    "\n",
    "print(S1)\n",
    "print()\n",
    "print(S2)"
   ]
  },
  {
   "cell_type": "code",
   "execution_count": null,
   "id": "dd5b5733",
   "metadata": {},
   "outputs": [],
   "source": [
    "x_limite = np.linspace(0, 4, 10000) \n",
    "k = np. array([2*np.pi*j/4 for j in range(muestras)])\n",
    "y_limite = np.sum([(S1[j]*np.cos(k[j]*x_limite)  +  S2[j]*np.sin(k[j]*x_limite)) for j in range(muestras)], axis = 0)\n",
    "\n",
    "plt.plot(x_limite, (S1[0]*np.cos(k[0]*x_limite)  +  S2[0]*np.sin(k[0]*x_limite)) )\n",
    "plt.plot(x_limite, (S1[1]*np.cos(k[1]*x_limite)  +  S2[1]*np.sin(k[1]*x_limite)) )\n",
    "plt.plot(x_limite, (S1[2]*np.cos(k[2]*x_limite)  +  S2[2]*np.sin(k[2]*x_limite)) )"
   ]
  },
  {
   "cell_type": "code",
   "execution_count": null,
   "id": "72658b30",
   "metadata": {},
   "outputs": [],
   "source": [
    "plt.plot(x_limite, y_limite)"
   ]
  },
  {
   "cell_type": "code",
   "execution_count": null,
   "id": "08a92e3f-8e80-4f47-932c-2a79e85457c3",
   "metadata": {},
   "outputs": [],
   "source": []
  }
 ],
 "metadata": {
  "kernelspec": {
   "display_name": "Python [conda env:fisi2028]",
   "language": "python",
   "name": "conda-env-fisi2028-py"
  },
  "language_info": {
   "codemirror_mode": {
    "name": "ipython",
    "version": 3
   },
   "file_extension": ".py",
   "mimetype": "text/x-python",
   "name": "python",
   "nbconvert_exporter": "python",
   "pygments_lexer": "ipython3",
   "version": "3.10.0"
  }
 },
 "nbformat": 4,
 "nbformat_minor": 5
}
