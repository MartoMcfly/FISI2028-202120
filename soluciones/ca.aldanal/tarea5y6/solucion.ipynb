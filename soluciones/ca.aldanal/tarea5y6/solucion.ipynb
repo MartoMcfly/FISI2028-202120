{
 "cells": [
  {
   "cell_type": "code",
<<<<<<< HEAD
   "execution_count": 2,
=======
   "execution_count": 1,
>>>>>>> 9acf999 ([jp.mallarino50] algunas respuestas 3)
   "id": "7f91f79b",
   "metadata": {},
   "outputs": [],
   "source": [
    "import numpy as np\n",
    "import pandas as pd\n",
    "import scipy as sp\n",
    "import sklearn as sl\n",
    "import statistics\n",
    "import matplotlib as mpl\n",
    "from matplotlib import pyplot as plt\n",
    "from mpl_toolkits.mplot3d import axes3d\n",
    "from matplotlib import cm\n",
    "from pylab import*\n",
    "from scipy import integrate\n",
    "%matplotlib inline"
   ]
  },
  {
   "cell_type": "markdown",
   "id": "75bbde6b",
   "metadata": {},
   "source": [
    "# Tarea 5 y 6: Ecuación de difusión en 3 dimensiones\n",
    "\n",
    "Uds se preguntarán, ¿por qué vamos a resolver la ecuación de difusión? La respuesta no es muy obvia, pero es interesante: Los procesos de difusión comparten algo muy bonito con los procesos estocásticos. Para ello, vamos a analizar un problema de COVID: el tiempo medio estimado de infección de los viriones.\n",
    "\n",
    "La transmisión de COVID se da preponderamente debido a la aspersión de aerosoles en el aire. Estas partículas *semi*-esféricas -cuyo orden de magnitud es de $\\sim1-10\\,\\mu m$ de radio- están compuestas principalmente por agua, lípidos orgánicos y viriones (se pueden considerar *quasi*-puntuales ya que son del orden de los $\\sim100\\,nm$). Cuando una particula del aerosol entra y se adhiere al tracto respiratorio, el virus toma un tiempo en entrar en contacto con las células para infectar el huésped debido al movimiento Browniano. Los viriones, a diferencia de las bacterias, no cuentan con cilios, flagelos u otros mecanismos para desplazarse en los medios, por lo cual, su única esperanza es que por fluctuaciones térmicas puedan llegar a la superficie de la gota de aerosol para replicar su ADN al entrar en contacto con los tejidos susceptibles. Este proceso es en esencia estocástico y se puede modelar mediante la ecuación de Difusión. Esta ecuación tiene dos partes. La idea es que uds resuelvan el problema de la manera más sencilla. La ecuación es la siguiente,\n",
    "$$\n",
    "\\frac{\\partial\\Psi}{\\partial t}=D\\nabla^2\\Psi,\n",
    "$$\n",
    "donde $D$ es la constante de difusión del medio y $\\Psi$ es la concentración de partículas. La taza de difusión depende de la temperatura y la viscosidad del medio y se puede modelar usando la relación de Einstein-Stokes,\n",
    "$$\n",
    "D=\\frac{k_BT}{6\\pi\\eta a},\n",
    "$$\n",
    "siendo $k_B$ la constante de Boltzmann, $T$ la temperatura en grados Kelvin, $\\eta$ la viscosidad del medio y $a$ el radio de los viriones. En esencia, lo que la ecuación de difusión me está diciendo es que la concentración media de viriones depende de la posición y el tiempo. No obstante, para poder calcular el tiempo que tardaría un virión en alcanzar la superficie se puede modelar en la media usando la siguiente ecuación de difusión,\n",
    "$$\n",
    "-\\nabla^2\\tau=\\frac{1}{D},\n",
    "$$\n",
    "donde $\\tau$ es el tiempo medio que dependería de la posición en la que se encuentra inicialmente."
   ]
  },
  {
   "cell_type": "markdown",
   "id": "f054bf9c",
   "metadata": {},
   "source": [
    "## 1. Escriba la ecuación de difusión para el tiempo $\\tau$ en coordenadas esféricas y asuma que $\\tau(r,\\theta,\\phi)\\simeq\\tau(r)$ ya que por simetría esférica sólo dependerá de la posición radial respecto al centro de la gotica (Usar **LaTex**)"
   ]
  },
  {
   "cell_type": "markdown",
   "id": "23607df2",
   "metadata": {},
   "source": [
    "\n",
    "$$\n",
    "D = \\frac{K_BT}{6\\pi \\eta a}\n",
    "$$\n",
    "\n",
    "\n",
    "$$\n",
    "-\\bigtriangledown ^{2}\\tau = -\\frac{1}{D}\n",
    "$$\n",
    "\n",
    "\n",
    "$$\n",
    "{Remplazando:}\n",
    "$$\n",
    "\n",
    "\n",
    "$$\n",
    "\\bigtriangledown ^{2}\\tau = -\\frac{6\\pi \\eta a}{K_B T}\n",
    "$$\n",
    "\n",
    "\n",
    "$$\n",
    "\\bigtriangledown ^{2}\\tau = \\frac{1}{r^{2}}\\frac{\\delta }{\\delta r}(r^{2}\\frac{\\delta \\tau }{\\delta r})\n",
    "$$\n",
    "\n",
    "\n",
    "$$\n",
    "\\frac{1}{r^{2}}\\frac{\\delta }{\\delta r}(r^{2}\\frac{\\delta \\tau }{\\delta r}) = -\\frac{6\\pi \\eta a}{K_B T}\n",
    "$$\n",
    "\n",
    "\n",
    "$$\n",
    "\\frac{1}{r^{2}}[(2r\\frac{\\delta \\tau }{\\delta r}+r^{2}\\frac{\\delta ^{2}\\tau }{\\delta r})] = \\frac{6\\pi \\eta a}{K_B T}\n",
    "$$\n",
    "\n",
    "\n",
    "$$\n",
    "\\frac{\\delta ^{2}\\tau }{\\delta r^{2}}+\\frac{2\\delta \\tau }{r\\delta r} = -\\frac{6\\pi \\eta a}{K_B T}\n",
    "$$\n",
    "\n",
    "\n",
    "$$\n",
    "\\frac{\\delta ^{2}\\tau }{\\delta r^{2}}+\\frac{2\\delta \\tau }{r\\delta r} + \\frac{6\\pi \\eta a}{K_B T} = 0\n",
    "$$"
   ]
  },
  {
   "cell_type": "markdown",
   "id": "b934d069",
   "metadata": {},
   "source": [
    "## 2. Resuelva la ecuación diferencial para el tiempo de forma numérica y grafique\n",
    "\n",
    "Asuma las siguientes condiciones iniciales:\n",
    "1. $\\tau(R)=0$ ya que si el virión está en la superficie el tiempo debe ser naturalmente nulo.\n",
    "1. $\\tau^\\prime(r)=0$ ya que por simetría la derivada radial debe ser nula en el origen\n",
    "\n",
    "Suponga las siguientes condiciones:\n",
    "- $R=5\\mu m$ para el radio de la esfera de *quasi* agua (calcula el volumen $V$)\n",
    "- $\\eta_{\\text{H}_2\\text{O}}\\simeq1\\times10^{-3}\\,Pa\\cdot s$ (Pascales por segundo)\n",
    "- $\\frac{\\eta}{\\eta_{\\text{H}_2\\text{O}}}\\approx10^3\\to10^5$\n",
    "- $a\\simeq100\\,nm$\n",
    "- $V=\\frac{4}{3}\\pi a^3$\n",
    "- $k_BT\\simeq4.05\\times10^{-21}J$\n",
    "\n",
    "si:\n",
    "\n",
    "$$\n",
    "\\frac{6\\pi \\eta a}{K_{b}T}=\\frac{1}{r^{2}}\\frac{d}{dr}\\left ( r^{2} \\frac{d \\tau }{dr}\\right )\n",
    "$$\n",
    "\n",
    "$$\n",
    "\\frac{1}{r^{2}}\\left [ \\left ( 2r\\frac{\\partial \\tau }{\\partial r} + r^{2}\\frac{\\partial ^{2}\\tau }{\\partial r^{2}}\\right ) \\right ]=\\frac{1}{D}\n",
    "$$\n",
    "\n",
    "\n",
    "$$\n",
    "\\frac{2}{r}\\frac{\\partial \\tau }{\\partial r} + \\frac{\\partial ^{2}\\tau }{\\partial r^{2}}=-\\frac{1}{D}\n",
    "$$\n",
    "\n",
    "$$\n",
    "{y}''+2\\frac{1}{x}{y}'+\\frac{1}{D}=0\n",
    "$$\n",
    "\n",
    "$$\n",
    "{\\tau }''+\\frac{2}{r}{\\tau }'+\\frac{1}{D}=0\n",
    "$$\n",
    "\n",
    "$$\n",
    "\\tau_{h} =c_{1}+\\frac{c_{2}}{r} , \\tau_{p} =-\\frac{r^{2}}{6\\times D}\n",
    "$$\n",
    "\n",
    "\n",
    "$$\n",
    "\\tau =c_{1}+\\frac{c_{2}}{r}-\\frac{r^{2}}{6\\times D}\n",
    "$$"
   ]
  },
  {
   "cell_type": "code",
<<<<<<< HEAD
   "execution_count": 5,
=======
   "execution_count": 2,
>>>>>>> 9acf999 ([jp.mallarino50] algunas respuestas 3)
   "id": "e1de7984",
   "metadata": {},
   "outputs": [
    {
     "name": "stdout",
     "output_type": "stream",
     "text": [
      "[ 1.91986208e+05  1.91986208e+05  1.91971664e+05  1.91947423e+05\n",
      "  1.91913486e+05  1.91869853e+05  1.91816523e+05  1.91753498e+05\n",
      "  1.91680776e+05  1.91598357e+05  1.91506243e+05  1.91404432e+05\n",
      "  1.91292925e+05  1.91171721e+05  1.91040822e+05  1.90900226e+05\n",
      "  1.90749933e+05  1.90589945e+05  1.90420260e+05  1.90240879e+05\n",
      "  1.90051802e+05  1.89853028e+05  1.89644558e+05  1.89426392e+05\n",
      "  1.89198530e+05  1.88960971e+05  1.88713716e+05  1.88456765e+05\n",
      "  1.88190117e+05  1.87913773e+05  1.87627733e+05  1.87331997e+05\n",
      "  1.87026564e+05  1.86711435e+05  1.86386610e+05  1.86052089e+05\n",
      "  1.85707871e+05  1.85353957e+05  1.84990347e+05  1.84617040e+05\n",
      "  1.84234037e+05  1.83841338e+05  1.83438943e+05  1.83026851e+05\n",
      "  1.82605063e+05  1.82173579e+05  1.81732399e+05  1.81281522e+05\n",
      "  1.80820949e+05  1.80350680e+05  1.79870714e+05  1.79381052e+05\n",
      "  1.78881694e+05  1.78372640e+05  1.77853889e+05  1.77325442e+05\n",
      "  1.76787299e+05  1.76239460e+05  1.75681924e+05  1.75114692e+05\n",
      "  1.74537764e+05  1.73951139e+05  1.73354818e+05  1.72748801e+05\n",
      "  1.72133088e+05  1.71507678e+05  1.70872572e+05  1.70227770e+05\n",
      "  1.69573272e+05  1.68909077e+05  1.68235186e+05  1.67551599e+05\n",
      "  1.66858315e+05  1.66155335e+05  1.65442659e+05  1.64720287e+05\n",
      "  1.63988218e+05  1.63246453e+05  1.62494992e+05  1.61733834e+05\n",
      "  1.60962981e+05  1.60182431e+05  1.59392184e+05  1.58592242e+05\n",
      "  1.57782603e+05  1.56963268e+05  1.56134236e+05  1.55295509e+05\n",
      "  1.54447085e+05  1.53588965e+05  1.52721148e+05  1.51843635e+05\n",
      "  1.50956426e+05  1.50059521e+05  1.49152919e+05  1.48236622e+05\n",
      "  1.47310627e+05  1.46374937e+05  1.45429550e+05  1.44474467e+05\n",
      "  1.43509688e+05  1.42535213e+05  1.41551041e+05  1.40557173e+05\n",
      "  1.39553609e+05  1.38540348e+05  1.37517391e+05  1.36484738e+05\n",
      "  1.35442389e+05  1.34390343e+05  1.33328601e+05  1.32257163e+05\n",
      "  1.31176028e+05  1.30085197e+05  1.28984670e+05  1.27874447e+05\n",
      "  1.26754527e+05  1.25624912e+05  1.24485599e+05  1.23336591e+05\n",
      "  1.22177886e+05  1.21009485e+05  1.19831388e+05  1.18643595e+05\n",
      "  1.17446105e+05  1.16238919e+05  1.15022036e+05  1.13795458e+05\n",
      "  1.12559183e+05  1.11313212e+05  1.10057544e+05  1.08792181e+05\n",
      "  1.07517121e+05  1.06232364e+05  1.04937912e+05  1.03633763e+05\n",
      "  1.02319918e+05  1.00996377e+05  9.96631389e+04  9.83202050e+04\n",
      "  9.69675748e+04  9.56052484e+04  9.42332257e+04  9.28515067e+04\n",
      "  9.14600914e+04  9.00589799e+04  8.86481721e+04  8.72276680e+04\n",
      "  8.57974676e+04  8.43575710e+04  8.29079781e+04  8.14486889e+04\n",
      "  7.99797034e+04  7.85010217e+04  7.70126437e+04  7.55145694e+04\n",
      "  7.40067989e+04  7.24893321e+04  7.09621690e+04  6.94253096e+04\n",
      "  6.78787540e+04  6.63225020e+04  6.47565539e+04  6.31809094e+04\n",
      "  6.15955687e+04  6.00005316e+04  5.83957984e+04  5.67813688e+04\n",
      "  5.51572430e+04  5.35234209e+04  5.18799025e+04  5.02266878e+04\n",
      "  4.85637769e+04  4.68911697e+04  4.52088662e+04  4.35168665e+04\n",
      "  4.18151705e+04  4.01037782e+04  3.83826896e+04  3.66519048e+04\n",
      "  3.49114236e+04  3.31612463e+04  3.14013726e+04  2.96318027e+04\n",
      "  2.78525365e+04  2.60635740e+04  2.42649152e+04  2.24565602e+04\n",
      "  2.06385089e+04  1.88107613e+04  1.69733174e+04  1.51261773e+04\n",
      "  1.32693409e+04  1.14028083e+04  9.52657931e+03  7.64065409e+03\n",
      "  5.74503259e+03  3.83971483e+03  1.92470079e+03 -9.52726889e-03]\n"
     ]
    }
   ],
   "source": [
    "import numpy as np\n",
    "import pandas as pd\n",
    "import scipy as sp\n",
    "import sklearn as sl\n",
    "import statistics\n",
    "import matplotlib as mpl\n",
    "from matplotlib import pyplot as plt\n",
    "from mpl_toolkits.mplot3d import axes3d\n",
    "from matplotlib import cm\n",
    "from pylab import*\n",
    "from scipy import integrate\n",
    "%matplotlib inline\n",
    "\n",
    "date_1 = 1*10**(-3)*(10**5)\n",
    "date_2 = 1*10**(-7)\n",
    "total = (4.05*10**(-21))/(6*np.pi*date_1*date_2)\n",
    "\n",
    "R = 5*10**(-6)\n",
    "fx = 200\n",
    "dr = (R)/(fx)\n",
    "\n",
    "c_o = 0\n",
    "c_x = 0\n",
    "r = np.arange(0, R, dr)\n",
    "\n",
    "x = np.matrix([np.array([(r[i]-dr if j == i-1 and i > 0 else 0)for j in range(fx)])for i in range(fx) ])\n",
    "x = x + np.matrix([np.array([(-2*r[i] if j == i else 0)for j in range(fx)])for i in range(fx) ]) \n",
    "x = x + np.matrix([np.array([(r[i]+dr if j == i+1 and i < fx-1 else 0)for j in range(fx)])for i in range(fx) ]) \n",
    "x[0,:] = np.zeros(fx)\n",
    "x[0,0] = 1\n",
    "x[0,1] = -1\n",
    "x[-1, -1] = 1\n",
    "\n",
    "f = (-r*(dr**2)/total)\n",
    "f[0] = c_o\n",
    "f[-1] = c_x\n",
    "f = np.matrix(f).T\n",
    "\n",
    "τ = np.array((np.linalg.inv(x)*f).T).flatten()\n",
    "print(τ)\n"
   ]
  },
  {
   "cell_type": "code",
<<<<<<< HEAD
   "execution_count": 7,
=======
   "execution_count": 3,
>>>>>>> 9acf999 ([jp.mallarino50] algunas respuestas 3)
   "id": "155fdd4a-d55a-4fc6-82eb-f817dc6883fc",
   "metadata": {},
   "outputs": [
    {
     "data": {
      "text/plain": [
<<<<<<< HEAD
       "[<matplotlib.lines.Line2D at 0x7f4f1c3883d0>]"
      ]
     },
     "execution_count": 7,
=======
       "[<matplotlib.lines.Line2D at 0x1807f9300>]"
      ]
     },
     "execution_count": 3,
>>>>>>> 9acf999 ([jp.mallarino50] algunas respuestas 3)
     "metadata": {},
     "output_type": "execute_result"
    },
    {
     "data": {
      "image/png": "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\n",
      "text/plain": [
       "<Figure size 432x288 with 1 Axes>"
      ]
     },
     "metadata": {
      "needs_background": "light"
     },
     "output_type": "display_data"
    }
   ],
   "source": [
    "r1 = np.arange(0,5,5/fx)\n",
    "plt.plot(r1, τ)"
   ]
  },
  {
   "cell_type": "markdown",
   "id": "412c31d5",
   "metadata": {},
   "source": [
    "## 3. Si los viriones están distribuidos uniformemente, encuentre el tiempo que tardaría un virión en salir de la gota de aerosol.\n",
    "\n",
    "Tenga presente que debe promediar suponiendo que el virión tiene una distribución uniforme, i.e. $\\rho\\left(\\vec{r}\\right)=1/V$, usando la siguiente relación,\n",
    "$$\n",
    "\\bar{\\tau} = \\int_{\\mathcal{V}}\\tau\\left(\\vec{r}\\right)\\rho\\left(\\vec{r}\\right)\\,\\text{d}\\vec{r} = \\frac{4\\pi}{V}\\int_{0}^{R}\\tau(r)\\,r^2\\text{d}r.\n",
    "$$\n",
    "Realice la integral numéricamente.\n",
    "\n",
    "$$\n",
    "\\frac{4\\pi }{V}R^{2}\\left ( c_{1}\\frac{R}{3}+c_{2}\\frac{1}{2}+\\frac{R^{3}}{30D} \\right )\n",
    "$$"
   ]
  },
  {
   "cell_type": "code",
<<<<<<< HEAD
   "execution_count": 10,
=======
   "execution_count": 4,
>>>>>>> 9acf999 ([jp.mallarino50] algunas respuestas 3)
   "id": "68fd169a",
   "metadata": {},
   "outputs": [
    {
     "name": "stdout",
     "output_type": "stream",
     "text": [
      "775.6863794608132\n"
     ]
    }
   ],
   "source": [
    "r = 0.0000001\n",
    "N = 10000000\n",
    "k = 4*np.pi\n",
    "R = 5*10**(-6)\n",
    "D = (4.05*10**(-21))/(6*np.pi*(100*10**(-9)))\n",
    "value = (4/3)*(np.pi*(R**3))\n",
    "\n",
    "def funcion(r):\n",
    "    return(k/value)*((R**2/(6*D))-(1/(6*D)*r**2))*(r**2)\n",
    "\n",
    "def simpson(r,R,N,t):\n",
    "    x, d_x = np.linspace(r,R,N, retstep= True )\n",
    "    return (d_x/3)*(funcion(x[0])+2*np.sum(funcion(x[2:len(x)-1:2]))+ 4*np.sum(funcion(x[1::2]))+funcion(x[-1]))\n",
    "\n",
    "\n",
    "result = simpson(r,R,N,funcion)\n",
    "\n",
    "print(result)"
   ]
  },
  {
   "cell_type": "markdown",
   "id": "59026784",
   "metadata": {},
   "source": [
    "## 4. Las cadenas de Markov.\n",
    "\n",
    "Vamos a resolver el problema anterior usando un proceso de Markov. Suponga que ud **divide** la esfera en cubitos de ancho $\\delta x=\\delta y=\\delta z=\\Delta=R/N$ con $N$ un número determinado de particiones. Para nuestro experimento, vamos a suponer que ponemos un virión en una posición inicial $\\vec{r}_0=(\\Delta\\,j, 0, 0)$, determinada por un índice $j\\in\\{0,1,2,\\dots,N\\}$. Ud va a actualizar la posición del virión en la malla discreta siguiendo las reglas a continuación:\n",
    "- Determine el número de divisiones $N$ y calcule $\\Delta$.\n",
    "- Ajuste la escala de tiempo $\\delta t$ y de tal manera que la probabilidad $\\alpha=D\\frac{\\delta t}{\\Delta^2}<\\frac{1}{6}$. (Recomiendo $\\leq1/12$)\n",
    "- Haga una corrida de Markov-Monte Carlo actualizando la posición con la probabilidad de transición $\\alpha$ hacia los primeros vecinos cercanos y calcule el número de pasos de tiempo para llegar a la superficie, i.e. $|\\vec{r}(t_m)|>R-\\Delta$\n",
    "- Repita este experimento para la misma posición un gran número de veces para obtener una estadística (media y desviación estándar).\n",
    "- Repita todos los pasos para todos los índices $j\\in\\{0,1,2,\\dots,N\\}$ y grafique. ¡Compare con los resultados anteriores!"
   ]
  },
  {
   "cell_type": "code",
<<<<<<< HEAD
   "execution_count": 13,
=======
   "execution_count": 5,
>>>>>>> 9acf999 ([jp.mallarino50] algunas respuestas 3)
   "id": "a1da2595",
   "metadata": {},
   "outputs": [
    {
     "name": "stdout",
     "output_type": "stream",
     "text": [
      "0.0008333333333333332\n"
     ]
    }
   ],
   "source": [
    "N = 20\n",
    "D = 1/12\n",
    "L = 2\n",
    "T = 4\n",
    "dx = L/N\n",
    "x = np.arange(0,L,dx)\n",
    "dt = 1e-4\n",
    "t = np.arange(0,T,dt)\n",
    "\n",
    "\n",
    "\n",
    "alpha = D*dt/dx**2\n",
    "assert alpha < 1/12\n",
    "\n",
    "def objets(n):\n",
    "    \n",
    "    global alpha\n",
    "    v = np.random.uniform(size=n)\n",
    "    izq = sum(v<alpha)\n",
    "    der = sum(v<2*alpha) - izq\n",
    "    return (izq,der)\n",
    "\n",
    "\n",
    "def funtion_phi(phi):\n",
    "    \n",
    "    dphi = np.array([actualiza_objetos(_phi) for _phi in phi]).T\n",
    "    dphi[0,0] = 0\n",
    "    dphi[1,-1] = 0\n",
    "    dphi_izq = np.roll(dphi[0],-1)\n",
    "    dphi_der = np.roll(dphi[1], 1)\n",
    "    dphi = np.sum(dphi, axis=0)\n",
    "    return phi - dphi + dphi_izq + dphi_der\n",
    "\n",
    "print(alpha)"
   ]
  },
  {
   "cell_type": "code",
<<<<<<< HEAD
   "execution_count": 14,
=======
   "execution_count": 6,
>>>>>>> 9acf999 ([jp.mallarino50] algunas respuestas 3)
   "id": "195ccaed",
   "metadata": {},
   "outputs": [
    {
     "data": {
      "text/plain": [
<<<<<<< HEAD
       "<matplotlib.collections.PathCollection at 0x7f4e44e1cbd0>"
      ]
     },
     "execution_count": 14,
=======
       "<matplotlib.collections.PathCollection at 0x1809b8c10>"
      ]
     },
     "execution_count": 6,
>>>>>>> 9acf999 ([jp.mallarino50] algunas respuestas 3)
     "metadata": {},
     "output_type": "execute_result"
    },
    {
     "data": {
      "image/png": "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\n",
      "text/plain": [
       "<Figure size 432x288 with 1 Axes>"
      ]
     },
     "metadata": {
      "needs_background": "light"
     },
     "output_type": "display_data"
    }
   ],
   "source": [
    "phi = np.zeros(N, dtype=np.uint32)\n",
    "phi[0] = 50\n",
    "phi[N//2] = 150\n",
    "plt.scatter(x, phi)"
   ]
  },
  {
   "cell_type": "code",
<<<<<<< HEAD
   "execution_count": 15,
=======
   "execution_count": 7,
>>>>>>> 9acf999 ([jp.mallarino50] algunas respuestas 3)
   "id": "1971bbc3",
   "metadata": {
    "scrolled": true
   },
   "outputs": [
    {
     "data": {
      "text/plain": [
<<<<<<< HEAD
       "<matplotlib.collections.PathCollection at 0x7f4e427b9350>"
      ]
     },
     "execution_count": 15,
=======
       "<matplotlib.collections.PathCollection at 0x180a2ad70>"
      ]
     },
     "execution_count": 7,
>>>>>>> 9acf999 ([jp.mallarino50] algunas respuestas 3)
     "metadata": {},
     "output_type": "execute_result"
    },
    {
     "data": {
      "image/png": "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\n",
      "text/plain": [
       "<Figure size 432x288 with 1 Axes>"
      ]
     },
     "metadata": {
      "needs_background": "light"
     },
     "output_type": "display_data"
    }
   ],
   "source": [
    "N = 2000\n",
    "dx = L/N\n",
    "x = np.arange(0,L,dx)\n",
    "dt = 1e-7\n",
    "t = np.arange(0,T,dt)\n",
    "\n",
    "def objets(n):\n",
    "    \n",
    "    global alpha\n",
    "    v = np.random.uniform(size=n)\n",
    "    izq = sum(v<alpha)\n",
    "    der = sum(v<2*alpha) - less\n",
    "    return (less,der)\n",
    "\n",
    "\n",
    "def funtion_phi(phi):\n",
    "    \n",
    "    dphi = np.array([actualiza_objetos(_phi) for _phi in phi]).T\n",
    "    dphi[0,0] = 0\n",
    "    dphi[1,-1] = 0\n",
    "    dphi_izq = np.roll(dphi[0],-1)\n",
    "    dphi_der = np.roll(dphi[1], 1)\n",
    "    dphi = np.sum(dphi, axis=0)\n",
    "    return phi - dphi + dphi_izq + dphi_der\n",
    "\n",
    "phi = np.zeros(N, dtype=np.uint32)\n",
    "phi[0] = 100\n",
    "phi[N//2] = 150\n",
    "plt.scatter(x, phi)"
   ]
  },
  {
   "cell_type": "code",
   "execution_count": null,
   "id": "f39ea6c6-17ce-49c6-8cbd-d2422261b363",
   "metadata": {},
   "outputs": [],
   "source": []
  }
 ],
 "metadata": {
  "kernelspec": {
   "display_name": "Python [conda env:fisi2028]",
   "language": "python",
   "name": "conda-env-fisi2028-py"
  },
  "language_info": {
   "codemirror_mode": {
    "name": "ipython",
    "version": 3
   },
   "file_extension": ".py",
   "mimetype": "text/x-python",
   "name": "python",
   "nbconvert_exporter": "python",
   "pygments_lexer": "ipython3",
   "version": "3.10.0"
  }
 },
 "nbformat": 4,
 "nbformat_minor": 5
}
