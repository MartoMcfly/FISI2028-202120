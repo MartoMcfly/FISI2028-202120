{
 "cells": [
  {
   "cell_type": "code",
   "execution_count": 2,
   "id": "7f91f79b",
   "metadata": {},
   "outputs": [],
   "source": [
    "import numpy as np\n",
    "import pandas as pd\n",
    "import scipy as sp\n",
    "import sklearn as sl\n",
    "import statistics\n",
    "import matplotlib as mpl\n",
    "from matplotlib import pyplot as plt\n",
    "from mpl_toolkits.mplot3d import axes3d\n",
    "from matplotlib import cm\n",
    "from pylab import*\n",
    "from scipy import integrate\n",
    "%matplotlib inline"
   ]
  },
  {
   "cell_type": "markdown",
   "id": "75bbde6b",
   "metadata": {},
   "source": [
    "# Tarea 5 y 6: Ecuación de difusión en 3 dimensiones\n",
    "\n",
    "Uds se preguntarán, ¿por qué vamos a resolver la ecuación de difusión? La respuesta no es muy obvia, pero es interesante: Los procesos de difusión comparten algo muy bonito con los procesos estocásticos. Para ello, vamos a analizar un problema de COVID: el tiempo medio estimado de infección de los viriones.\n",
    "\n",
    "La transmisión de COVID se da preponderamente debido a la aspersión de aerosoles en el aire. Estas partículas *semi*-esféricas -cuyo orden de magnitud es de $\\sim1-10\\,\\mu m$ de radio- están compuestas principalmente por agua, lípidos orgánicos y viriones (se pueden considerar *quasi*-puntuales ya que son del orden de los $\\sim100\\,nm$). Cuando una particula del aerosol entra y se adhiere al tracto respiratorio, el virus toma un tiempo en entrar en contacto con las células para infectar el huésped debido al movimiento Browniano. Los viriones, a diferencia de las bacterias, no cuentan con cilios, flagelos u otros mecanismos para desplazarse en los medios, por lo cual, su única esperanza es que por fluctuaciones térmicas puedan llegar a la superficie de la gota de aerosol para replicar su ADN al entrar en contacto con los tejidos susceptibles. Este proceso es en esencia estocástico y se puede modelar mediante la ecuación de Difusión. Esta ecuación tiene dos partes. La idea es que uds resuelvan el problema de la manera más sencilla. La ecuación es la siguiente,\n",
    "$$\n",
    "\\frac{\\partial\\Psi}{\\partial t}=D\\nabla^2\\Psi,\n",
    "$$\n",
    "donde $D$ es la constante de difusión del medio y $\\Psi$ es la concentración de partículas. La taza de difusión depende de la temperatura y la viscosidad del medio y se puede modelar usando la relación de Einstein-Stokes,\n",
    "$$\n",
    "D=\\frac{k_BT}{6\\pi\\eta a},\n",
    "$$\n",
    "siendo $k_B$ la constante de Boltzmann, $T$ la temperatura en grados Kelvin, $\\eta$ la viscosidad del medio y $a$ el radio de los viriones. En esencia, lo que la ecuación de difusión me está diciendo es que la concentración media de viriones depende de la posición y el tiempo. No obstante, para poder calcular el tiempo que tardaría un virión en alcanzar la superficie se puede modelar en la media usando la siguiente ecuación de difusión,\n",
    "$$\n",
    "-\\nabla^2\\tau=\\frac{1}{D},\n",
    "$$\n",
    "donde $\\tau$ es el tiempo medio que dependería de la posición en la que se encuentra inicialmente."
   ]
  },
  {
   "cell_type": "markdown",
   "id": "f054bf9c",
   "metadata": {},
   "source": [
    "## 1. Escriba la ecuación de difusión para el tiempo $\\tau$ en coordenadas esféricas y asuma que $\\tau(r,\\theta,\\phi)\\simeq\\tau(r)$ ya que por simetría esférica sólo dependerá de la posición radial respecto al centro de la gotica (Usar **LaTex**)"
   ]
  },
  {
   "cell_type": "markdown",
   "id": "23607df2",
   "metadata": {},
   "source": [
    "\n",
    "$$\n",
    "D = \\frac{K_BT}{6\\pi \\eta a}\n",
    "$$\n",
    "\n",
    "\n",
    "$$\n",
    "-\\bigtriangledown ^{2}\\tau = -\\frac{1}{D}\n",
    "$$\n",
    "\n",
    "\n",
    "$$\n",
    "{Remplazando:}\n",
    "$$\n",
    "\n",
    "\n",
    "$$\n",
    "\\bigtriangledown ^{2}\\tau = -\\frac{6\\pi \\eta a}{K_B T}\n",
    "$$\n",
    "\n",
    "\n",
    "$$\n",
    "\\bigtriangledown ^{2}\\tau = \\frac{1}{r^{2}}\\frac{\\delta }{\\delta r}(r^{2}\\frac{\\delta \\tau }{\\delta r})\n",
    "$$\n",
    "\n",
    "\n",
    "$$\n",
    "\\frac{1}{r^{2}}\\frac{\\delta }{\\delta r}(r^{2}\\frac{\\delta \\tau }{\\delta r}) = -\\frac{6\\pi \\eta a}{K_B T}\n",
    "$$\n",
    "\n",
    "\n",
    "$$\n",
    "\\frac{1}{r^{2}}[(2r\\frac{\\delta \\tau }{\\delta r}+r^{2}\\frac{\\delta ^{2}\\tau }{\\delta r})] = \\frac{6\\pi \\eta a}{K_B T}\n",
    "$$\n",
    "\n",
    "\n",
    "$$\n",
    "\\frac{\\delta ^{2}\\tau }{\\delta r^{2}}+\\frac{2\\delta \\tau }{r\\delta r} = -\\frac{6\\pi \\eta a}{K_B T}\n",
    "$$\n",
    "\n",
    "\n",
    "$$\n",
    "\\frac{\\delta ^{2}\\tau }{\\delta r^{2}}+\\frac{2\\delta \\tau }{r\\delta r} + \\frac{6\\pi \\eta a}{K_B T} = 0\n",
    "$$"
   ]
  },
  {
   "cell_type": "markdown",
   "id": "b934d069",
   "metadata": {},
   "source": [
    "## 2. Resuelva la ecuación diferencial para el tiempo de forma numérica y grafique\n",
    "\n",
    "Asuma las siguientes condiciones iniciales:\n",
    "1. $\\tau(R)=0$ ya que si el virión está en la superficie el tiempo debe ser naturalmente nulo.\n",
    "1. $\\tau^\\prime(r)=0$ ya que por simetría la derivada radial debe ser nula en el origen\n",
    "\n",
    "Suponga las siguientes condiciones:\n",
    "- $R=5\\mu m$ para el radio de la esfera de *quasi* agua (calcula el volumen $V$)\n",
    "- $\\eta_{\\text{H}_2\\text{O}}\\simeq1\\times10^{-3}\\,Pa\\cdot s$ (Pascales por segundo)\n",
    "- $\\frac{\\eta}{\\eta_{\\text{H}_2\\text{O}}}\\approx10^3\\to10^5$\n",
    "- $a\\simeq100\\,nm$\n",
    "- $V=\\frac{4}{3}\\pi a^3$\n",
    "- $k_BT\\simeq4.05\\times10^{-21}J$\n",
    "\n",
    "si:\n",
    "\n",
    "$$\n",
    "\\frac{6\\pi \\eta a}{K_{b}T}=\\frac{1}{r^{2}}\\frac{d}{dr}\\left ( r^{2} \\frac{d \\tau }{dr}\\right )\n",
    "$$\n",
    "\n",
    "$$\n",
    "\\frac{1}{r^{2}}\\left [ \\left ( 2r\\frac{\\partial \\tau }{\\partial r} + r^{2}\\frac{\\partial ^{2}\\tau }{\\partial r^{2}}\\right ) \\right ]=\\frac{1}{D}\n",
    "$$\n",
    "\n",
    "\n",
    "$$\n",
    "\\frac{2}{r}\\frac{\\partial \\tau }{\\partial r} + \\frac{\\partial ^{2}\\tau }{\\partial r^{2}}=-\\frac{1}{D}\n",
    "$$\n",
    "\n",
    "$$\n",
    "{y}''+2\\frac{1}{x}{y}'+\\frac{1}{D}=0\n",
    "$$\n",
    "\n",
    "$$\n",
    "{\\tau }''+\\frac{2}{r}{\\tau }'+\\frac{1}{D}=0\n",
    "$$\n",
    "\n",
    "$$\n",
    "\\tau_{h} =c_{1}+\\frac{c_{2}}{r} , \\tau_{p} =-\\frac{r^{2}}{6\\times D}\n",
    "$$\n",
    "\n",
    "\n",
    "$$\n",
    "\\tau =c_{1}+\\frac{c_{2}}{r}-\\frac{r^{2}}{6\\times D}\n",
    "$$"
   ]
  },
  {
   "cell_type": "code",
   "execution_count": 5,
   "id": "e1de7984",
   "metadata": {},
   "outputs": [
    {
     "name": "stdout",
     "output_type": "stream",
     "text": [
      "[ 1.91986208e+05  1.91986208e+05  1.91971664e+05  1.91947423e+05\n",
      "  1.91913486e+05  1.91869853e+05  1.91816523e+05  1.91753498e+05\n",
      "  1.91680776e+05  1.91598357e+05  1.91506243e+05  1.91404432e+05\n",
      "  1.91292925e+05  1.91171721e+05  1.91040822e+05  1.90900226e+05\n",
      "  1.90749933e+05  1.90589945e+05  1.90420260e+05  1.90240879e+05\n",
      "  1.90051802e+05  1.89853028e+05  1.89644558e+05  1.89426392e+05\n",
      "  1.89198530e+05  1.88960971e+05  1.88713716e+05  1.88456765e+05\n",
      "  1.88190117e+05  1.87913773e+05  1.87627733e+05  1.87331997e+05\n",
      "  1.87026564e+05  1.86711435e+05  1.86386610e+05  1.86052089e+05\n",
      "  1.85707871e+05  1.85353957e+05  1.84990347e+05  1.84617040e+05\n",
      "  1.84234037e+05  1.83841338e+05  1.83438943e+05  1.83026851e+05\n",
      "  1.82605063e+05  1.82173579e+05  1.81732399e+05  1.81281522e+05\n",
      "  1.80820949e+05  1.80350680e+05  1.79870714e+05  1.79381052e+05\n",
      "  1.78881694e+05  1.78372640e+05  1.77853889e+05  1.77325442e+05\n",
      "  1.76787299e+05  1.76239460e+05  1.75681924e+05  1.75114692e+05\n",
      "  1.74537764e+05  1.73951139e+05  1.73354818e+05  1.72748801e+05\n",
      "  1.72133088e+05  1.71507678e+05  1.70872572e+05  1.70227770e+05\n",
      "  1.69573272e+05  1.68909077e+05  1.68235186e+05  1.67551599e+05\n",
      "  1.66858315e+05  1.66155335e+05  1.65442659e+05  1.64720287e+05\n",
      "  1.63988218e+05  1.63246453e+05  1.62494992e+05  1.61733834e+05\n",
      "  1.60962981e+05  1.60182431e+05  1.59392184e+05  1.58592242e+05\n",
      "  1.57782603e+05  1.56963268e+05  1.56134236e+05  1.55295509e+05\n",
      "  1.54447085e+05  1.53588965e+05  1.52721148e+05  1.51843635e+05\n",
      "  1.50956426e+05  1.50059521e+05  1.49152919e+05  1.48236622e+05\n",
      "  1.47310627e+05  1.46374937e+05  1.45429550e+05  1.44474467e+05\n",
      "  1.43509688e+05  1.42535213e+05  1.41551041e+05  1.40557173e+05\n",
      "  1.39553609e+05  1.38540348e+05  1.37517391e+05  1.36484738e+05\n",
      "  1.35442389e+05  1.34390343e+05  1.33328601e+05  1.32257163e+05\n",
      "  1.31176028e+05  1.30085197e+05  1.28984670e+05  1.27874447e+05\n",
      "  1.26754527e+05  1.25624912e+05  1.24485599e+05  1.23336591e+05\n",
      "  1.22177886e+05  1.21009485e+05  1.19831388e+05  1.18643595e+05\n",
      "  1.17446105e+05  1.16238919e+05  1.15022036e+05  1.13795458e+05\n",
      "  1.12559183e+05  1.11313212e+05  1.10057544e+05  1.08792181e+05\n",
      "  1.07517121e+05  1.06232364e+05  1.04937912e+05  1.03633763e+05\n",
      "  1.02319918e+05  1.00996377e+05  9.96631389e+04  9.83202050e+04\n",
      "  9.69675748e+04  9.56052484e+04  9.42332257e+04  9.28515067e+04\n",
      "  9.14600914e+04  9.00589799e+04  8.86481721e+04  8.72276680e+04\n",
      "  8.57974676e+04  8.43575710e+04  8.29079781e+04  8.14486889e+04\n",
      "  7.99797034e+04  7.85010217e+04  7.70126437e+04  7.55145694e+04\n",
      "  7.40067989e+04  7.24893321e+04  7.09621690e+04  6.94253096e+04\n",
      "  6.78787540e+04  6.63225020e+04  6.47565539e+04  6.31809094e+04\n",
      "  6.15955687e+04  6.00005316e+04  5.83957984e+04  5.67813688e+04\n",
      "  5.51572430e+04  5.35234209e+04  5.18799025e+04  5.02266878e+04\n",
      "  4.85637769e+04  4.68911697e+04  4.52088662e+04  4.35168665e+04\n",
      "  4.18151705e+04  4.01037782e+04  3.83826896e+04  3.66519048e+04\n",
      "  3.49114236e+04  3.31612463e+04  3.14013726e+04  2.96318027e+04\n",
      "  2.78525365e+04  2.60635740e+04  2.42649152e+04  2.24565602e+04\n",
      "  2.06385089e+04  1.88107613e+04  1.69733174e+04  1.51261773e+04\n",
      "  1.32693409e+04  1.14028083e+04  9.52657931e+03  7.64065409e+03\n",
      "  5.74503259e+03  3.83971483e+03  1.92470079e+03 -9.52726889e-03]\n"
     ]
    }
   ],
   "source": [
    "import numpy as np\n",
    "import pandas as pd\n",
    "import scipy as sp\n",
    "import sklearn as sl\n",
    "import statistics\n",
    "import matplotlib as mpl\n",
    "from matplotlib import pyplot as plt\n",
    "from mpl_toolkits.mplot3d import axes3d\n",
    "from matplotlib import cm\n",
    "from pylab import*\n",
    "from scipy import integrate\n",
    "%matplotlib inline\n",
    "\n",
    "date_1 = 1*10**(-3)*(10**5)\n",
    "date_2 = 1*10**(-7)\n",
    "total = (4.05*10**(-21))/(6*np.pi*date_1*date_2)\n",
    "\n",
    "R = 5*10**(-6)\n",
    "fx = 200\n",
    "dr = (R)/(fx)\n",
    "\n",
    "c_o = 0\n",
    "c_x = 0\n",
    "r = np.arange(0, R, dr)\n",
    "\n",
    "x = np.matrix([np.array([(r[i]-dr if j == i-1 and i > 0 else 0)for j in range(fx)])for i in range(fx) ])\n",
    "x = x + np.matrix([np.array([(-2*r[i] if j == i else 0)for j in range(fx)])for i in range(fx) ]) \n",
    "x = x + np.matrix([np.array([(r[i]+dr if j == i+1 and i < fx-1 else 0)for j in range(fx)])for i in range(fx) ]) \n",
    "x[0,:] = np.zeros(fx)\n",
    "x[0,0] = 1\n",
    "x[0,1] = -1\n",
    "x[-1, -1] = 1\n",
    "\n",
    "f = (-r*(dr**2)/total)\n",
    "f[0] = c_o\n",
    "f[-1] = c_x\n",
    "f = np.matrix(f).T\n",
    "\n",
    "τ = np.array((np.linalg.inv(x)*f).T).flatten()\n",
    "print(τ)\n"
   ]
  },
  {
   "cell_type": "code",
   "execution_count": 7,
   "id": "155fdd4a-d55a-4fc6-82eb-f817dc6883fc",
   "metadata": {},
   "outputs": [
    {
     "data": {
      "text/plain": [
       "[<matplotlib.lines.Line2D at 0x7f4f1c3883d0>]"
      ]
     },
     "execution_count": 7,
     "metadata": {},
     "output_type": "execute_result"
    },
    {
     "data": {
      "image/png": "[encoded data removed]",
      "text/plain": [
       "<Figure size 432x288 with 1 Axes>"
      ]
     },
     "metadata": {
      "needs_background": "light"
     },
     "output_type": "display_data"
    }
   ],
   "source": [
    "r1 = np.arange(0,5,5/fx)\n",
    "plt.plot(r1, τ)"
   ]
  },
  {
   "cell_type": "markdown",
   "id": "412c31d5",
   "metadata": {},
   "source": [
    "## 3. Si los viriones están distribuidos uniformemente, encuentre el tiempo que tardaría un virión en salir de la gota de aerosol.\n",
    "\n",
    "Tenga presente que debe promediar suponiendo que el virión tiene una distribución uniforme, i.e. $\\rho\\left(\\vec{r}\\right)=1/V$, usando la siguiente relación,\n",
    "$$\n",
    "\\bar{\\tau} = \\int_{\\mathcal{V}}\\tau\\left(\\vec{r}\\right)\\rho\\left(\\vec{r}\\right)\\,\\text{d}\\vec{r} = \\frac{4\\pi}{V}\\int_{0}^{R}\\tau(r)\\,r^2\\text{d}r.\n",
    "$$\n",
    "Realice la integral numéricamente.\n",
    "\n",
    "$$\n",
    "\\frac{4\\pi }{V}R^{2}\\left ( c_{1}\\frac{R}{3}+c_{2}\\frac{1}{2}+\\frac{R^{3}}{30D} \\right )\n",
    "$$"
   ]
  },
  {
   "cell_type": "code",
   "execution_count": 10,
   "id": "68fd169a",
   "metadata": {},
   "outputs": [
    {
     "name": "stdout",
     "output_type": "stream",
     "text": [
      "775.6863794608132\n"
     ]
    }
   ],
   "source": [
    "r = 0.0000001\n",
    "N = 10000000\n",
    "k = 4*np.pi\n",
    "R = 5*10**(-6)\n",
    "D = (4.05*10**(-21))/(6*np.pi*(100*10**(-9)))\n",
    "value = (4/3)*(np.pi*(R**3))\n",
    "\n",
    "def funcion(r):\n",
    "    return(k/value)*((R**2/(6*D))-(1/(6*D)*r**2))*(r**2)\n",
    "\n",
    "def simpson(r,R,N,t):\n",
    "    x, d_x = np.linspace(r,R,N, retstep= True )\n",
    "    return (d_x/3)*(funcion(x[0])+2*np.sum(funcion(x[2:len(x)-1:2]))+ 4*np.sum(funcion(x[1::2]))+funcion(x[-1]))\n",
    "\n",
    "\n",
    "result = simpson(r,R,N,funcion)\n",
    "\n",
    "print(result)"
   ]
  },
  {
   "cell_type": "markdown",
   "id": "59026784",
   "metadata": {},
   "source": [
    "## 4. Las cadenas de Markov.\n",
    "\n",
    "Vamos a resolver el problema anterior usando un proceso de Markov. Suponga que ud **divide** la esfera en cubitos de ancho $\\delta x=\\delta y=\\delta z=\\Delta=R/N$ con $N$ un número determinado de particiones. Para nuestro experimento, vamos a suponer que ponemos un virión en una posición inicial $\\vec{r}_0=(\\Delta\\,j, 0, 0)$, determinada por un índice $j\\in\\{0,1,2,\\dots,N\\}$. Ud va a actualizar la posición del virión en la malla discreta siguiendo las reglas a continuación:\n",
    "- Determine el número de divisiones $N$ y calcule $\\Delta$.\n",
    "- Ajuste la escala de tiempo $\\delta t$ y de tal manera que la probabilidad $\\alpha=D\\frac{\\delta t}{\\Delta^2}<\\frac{1}{6}$. (Recomiendo $\\leq1/12$)\n",
    "- Haga una corrida de Markov-Monte Carlo actualizando la posición con la probabilidad de transición $\\alpha$ hacia los primeros vecinos cercanos y calcule el número de pasos de tiempo para llegar a la superficie, i.e. $|\\vec{r}(t_m)|>R-\\Delta$\n",
    "- Repita este experimento para la misma posición un gran número de veces para obtener una estadística (media y desviación estándar).\n",
    "- Repita todos los pasos para todos los índices $j\\in\\{0,1,2,\\dots,N\\}$ y grafique. ¡Compare con los resultados anteriores!"
   ]
  },
  {
   "cell_type": "code",
   "execution_count": 13,
   "id": "a1da2595",
   "metadata": {},
   "outputs": [
    {
     "name": "stdout",
     "output_type": "stream",
     "text": [
      "0.0008333333333333332\n"
     ]
    }
   ],
   "source": [
    "N = 20\n",
    "D = 1/12\n",
    "L = 2\n",
    "T = 4\n",
    "dx = L/N\n",
    "x = np.arange(0,L,dx)\n",
    "dt = 1e-4\n",
    "t = np.arange(0,T,dt)\n",
    "\n",
    "\n",
    "\n",
    "alpha = D*dt/dx**2\n",
    "assert alpha < 1/12\n",
    "\n",
    "def objets(n):\n",
    "    \n",
    "    global alpha\n",
    "    v = np.random.uniform(size=n)\n",
    "    izq = sum(v<alpha)\n",
    "    der = sum(v<2*alpha) - izq\n",
    "    return (izq,der)\n",
    "\n",
    "\n",
    "def funtion_phi(phi):\n",
    "    \n",
    "    dphi = np.array([actualiza_objetos(_phi) for _phi in phi]).T\n",
    "    dphi[0,0] = 0\n",
    "    dphi[1,-1] = 0\n",
    "    dphi_izq = np.roll(dphi[0],-1)\n",
    "    dphi_der = np.roll(dphi[1], 1)\n",
    "    dphi = np.sum(dphi, axis=0)\n",
    "    return phi - dphi + dphi_izq + dphi_der\n",
    "\n",
    "print(alpha)"
   ]
  },
  {
   "cell_type": "code",
   "execution_count": 14,
   "id": "195ccaed",
   "metadata": {},
   "outputs": [
    {
     "data": {
      "text/plain": [
       "<matplotlib.collections.PathCollection at 0x7f4e44e1cbd0>"
      ]
     },
     "execution_count": 14,
     "metadata": {},
     "output_type": "execute_result"
    },
    {
     "data": {
      "image/png": "[encoded data removed]",
      "text/plain": [
       "<Figure size 432x288 with 1 Axes>"
      ]
     },
     "metadata": {
      "needs_background": "light"
     },
     "output_type": "display_data"
    }
   ],
   "source": [
    "phi = np.zeros(N, dtype=np.uint32)\n",
    "phi[0] = 50\n",
    "phi[N//2] = 150\n",
    "plt.scatter(x, phi)"
   ]
  },
  {
   "cell_type": "code",
   "execution_count": 15,
   "id": "1971bbc3",
   "metadata": {
    "scrolled": true
   },
   "outputs": [
    {
     "data": {
      "text/plain": [
       "<matplotlib.collections.PathCollection at 0x7f4e427b9350>"
      ]
     },
     "execution_count": 15,
     "metadata": {},
     "output_type": "execute_result"
    },
    {
     "data": {
      "image/png": "[encoded data removed]",
      "text/plain": [
       "<Figure size 432x288 with 1 Axes>"
      ]
     },
     "metadata": {
      "needs_background": "light"
     },
     "output_type": "display_data"
    }
   ],
   "source": [
    "N = 2000\n",
    "dx = L/N\n",
    "x = np.arange(0,L,dx)\n",
    "dt = 1e-7\n",
    "t = np.arange(0,T,dt)\n",
    "\n",
    "def objets(n):\n",
    "    \n",
    "    global alpha\n",
    "    v = np.random.uniform(size=n)\n",
    "    izq = sum(v<alpha)\n",
    "    der = sum(v<2*alpha) - less\n",
    "    return (less,der)\n",
    "\n",
    "\n",
    "def funtion_phi(phi):\n",
    "    \n",
    "    dphi = np.array([actualiza_objetos(_phi) for _phi in phi]).T\n",
    "    dphi[0,0] = 0\n",
    "    dphi[1,-1] = 0\n",
    "    dphi_izq = np.roll(dphi[0],-1)\n",
    "    dphi_der = np.roll(dphi[1], 1)\n",
    "    dphi = np.sum(dphi, axis=0)\n",
    "    return phi - dphi + dphi_izq + dphi_der\n",
    "\n",
    "phi = np.zeros(N, dtype=np.uint32)\n",
    "phi[0] = 100\n",
    "phi[N//2] = 150\n",
    "plt.scatter(x, phi)"
   ]
  },
  {
   "cell_type": "code",
   "execution_count": null,
   "id": "f39ea6c6-17ce-49c6-8cbd-d2422261b363",
   "metadata": {},
   "outputs": [],
   "source": []
  }
 ],
 "metadata": {
  "kernelspec": {
   "display_name": "Python 3 (ipykernel)",
   "language": "python",
   "name": "python3"
  },
  "language_info": {
   "codemirror_mode": {
    "name": "ipython",
    "version": 3
   },
   "file_extension": ".py",
   "mimetype": "text/x-python",
   "name": "python",
   "nbconvert_exporter": "python",
   "pygments_lexer": "ipython3",
   "version": "3.7.12"
  }
 },
 "nbformat": 4,
 "nbformat_minor": 5
}
