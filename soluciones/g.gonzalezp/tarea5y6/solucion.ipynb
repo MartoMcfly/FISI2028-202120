{
 "cells": [
  {
   "cell_type": "code",
   "execution_count": 1,
   "id": "f9d282cc-eeed-48f9-b1f5-47c031fe6fba",
   "metadata": {},
   "outputs": [],
   "source": [
    "import numpy as np\n",
    "import pandas as pd\n",
    "import scipy as sp\n",
    "import sklearn as sl\n",
    "import time\n",
    "\n",
    "import seaborn as sns; sns.set()\n",
    "import matplotlib as mpl\n",
    "from matplotlib import pyplot as plt\n",
    "from mpl_toolkits.mplot3d import axes3d\n",
    "from matplotlib import cm\n",
    "from matplotlib import animation, rc\n",
    "from IPython.display import HTML\n",
    "%matplotlib inline\n",
    "\n"
   ]
  },
  {
   "cell_type": "markdown",
   "id": "5593b87f-f69e-4a14-a8ce-a496073b8819",
   "metadata": {},
   "source": [
    "# Tarea 5 y 6: Ecuación de difusión en 3 dimensiones\n",
    "\n",
    "Uds se preguntarán, ¿por qué vamos a resolver la ecuación de difusión? La respuesta no es muy obvia, pero es interesante: Los procesos de difusión comparten algo muy bonito con los procesos estocásticos. Para ello, vamos a analizar un problema de COVID: el tiempo medio estimado de infección de los viriones.\n",
    "\n",
    "La transmisión de COVID se da preponderamente debido a la aspersión de aerosoles en el aire. Estas partículas *semi*-esféricas -cuyo orden de magnitud es de $\\sim1-10\\,\\mu m$ de radio- están compuestas principalmente por agua, lípidos orgánicos y viriones (se pueden considerar *quasi*-puntuales ya que son del orden de los $\\sim100\\,nm$). Cuando una particula del aerosol entra y se adhiere al tracto respiratorio, el virus toma un tiempo en entrar en contacto con las células para infectar el huésped debido al movimiento Browniano. Los viriones, a diferencia de las bacterias, no cuentan con cilios, flagelos u otros mecanismos para desplazarse en los medios, por lo cual, su única esperanza es que por fluctuaciones térmicas puedan llegar a la superficie de la gota de aerosol para replicar su ADN al entrar en contacto con los tejidos susceptibles. Este proceso es en esencia estocástico y se puede modelar mediante la ecuación de Difusión. Esta ecuación tiene dos partes. La idea es que uds resuelvan el problema de la manera más sencilla. La ecuación es la siguiente,\n",
    "$$\n",
    "\\frac{\\partial\\Psi}{\\partial t}=D\\nabla^2\\Psi,\n",
    "$$\n",
    "donde $D$ es la constante de difusión del medio y $\\Psi$ es la concentración de partículas. La taza de difusión depende de la temperatura y la viscosidad del medio y se puede modelar usando la relación de Einstein-Stokes,\n",
    "$$\n",
    "D=\\frac{k_BT}{6\\pi\\eta a},\n",
    "$$\n",
    "siendo $k_B$ la constante de Boltzmann, $T$ la temperatura en grados Kelvin, $\\eta$ la viscosidad del medio y $a$ el radio de los viriones. En esencia, lo que la ecuación de difusión me está diciendo es que la concentración media de viriones depende de la posición y el tiempo. No obstante, para poder calcular el tiempo que tardaría un virión en alcanzar la superficie se puede modelar en la media usando la siguiente ecuación de difusión,\n",
    "$$\n",
    "-\\nabla^2\\tau=\\frac{1}{D},\n",
    "$$\n",
    "donde $\\tau$ es el tiempo medio que dependería de la posición en la que se encuentra inicialmente."
   ]
  },
  {
   "cell_type": "markdown",
   "id": "6d059ea9-92b0-4849-8ef4-3db1b7f7ec20",
   "metadata": {},
   "source": [
    "## 1. Escriba la ecuación de difusión para el tiempo $\\tau$ en coordenadas esféricas y asuma que $\\tau(r,\\theta,\\phi)\\simeq\\tau(r)$ ya que por simetría esférica sólo dependerá de la posición radial respecto al centro de la gotica (Usar **LaTex**)"
   ]
  },
  {
   "cell_type": "markdown",
   "id": "99680b76-6d52-4096-83ab-d1379e7a9ee9",
   "metadata": {},
   "source": [
    "<img src=\"img007.jpg\">"
   ]
  },
  {
   "cell_type": "markdown",
   "id": "4c921248",
   "metadata": {},
   "source": [
    "[**Ecuación**]\n",
    "$$\n",
    "\\ddot{\\tau }+\\frac{2}{r} \\dot{\\tau } +\\frac{1}{D} = 0\n",
    "$$\n",
    "\n"
   ]
  },
  {
   "cell_type": "markdown",
   "id": "3f4121f6-7e73-4320-96c6-0a08b5e07dbe",
   "metadata": {},
   "source": [
    "## 2. Resuelva la ecuación diferencial para el tiempo de forma numérica y grafique\n",
    "\n",
    "Asuma las siguientes condiciones iniciales:\n",
    "1. $\\tau(R)=0$ ya que si el virión está en la superficie el tiempo debe ser naturalmente nulo.\n",
    "1. $\\tau^\\prime(r)=0$ ya que por simetría la derivada radial debe ser nula en el origen\n",
    "\n",
    "Suponga las siguientes condiciones:\n",
    "- $R=5\\mu m$ para el radio de la esfera de *quasi* agua (calcula el volumen $V$)\n",
    "- $\\eta_{\\text{H}_2\\text{O}}\\simeq1\\times10^{-3}\\,Pa\\cdot s$ (Pascales por segundo)\n",
    "- $\\frac{\\eta}{\\eta_{\\text{H}_2\\text{O}}}\\approx10^3\\to10^5$\n",
    "- $a\\simeq100\\,nm$\n",
    "- $V=\\frac{4}{3}\\pi a^3$\n",
    "- $k_BT\\simeq4.05\\times10^{-21}J$"
   ]
  },
  {
   "cell_type": "markdown",
   "id": "5baa71b1",
   "metadata": {},
   "source": [
    "<img src=\"img008.jpg\">\n",
    "<img src=\"img009.jpg\">\n",
    "<img src=\"img010.jpg\">\n",
    "<img src=\"img011.jpg\">\n"
   ]
  },
  {
   "cell_type": "code",
   "execution_count": 2,
   "id": "d8f300c6-fde1-4bcc-9f30-dab09726f15d",
   "metadata": {},
   "outputs": [
    {
     "data": {
      "image/png": "[encoded data removed]",
      "text/plain": [
       "<Figure size 432x288 with 1 Axes>"
      ]
     },
     "metadata": {
      "needs_background": "light"
     },
     "output_type": "display_data"
    }
   ],
   "source": [
    "EtaH2O = 10**(3)\n",
    "Eta_div_EtaH2O = 10**(-3)\n",
    "Eta = EtaH2O*Eta_div_EtaH2O\n",
    "D = ( (4.05*10**(-21)) / (6*np.pi*Eta*(100*10**(-9))) )\n",
    "R = 5*10**(-6)\n",
    "N = 200\n",
    "dr = R/N\n",
    "\n",
    "Tau0 = 0\n",
    "TauN = 0\n",
    "r = np.arange(0,R,dr)\n",
    "\n",
    "\n",
    "\n",
    "M = np.matrix([np.array([(r[i]-dr if j == i-1 and i>0 else 0) for j in range(N)]) for i in range(N)])\n",
    "M = M + np.matrix([np.array([(-2*r[i] if j == i else 0) for j in range(N)]) for i in range(N)])\n",
    "M = M + np.matrix([np.array([(r[i]+dr if j == i+1 and i<N-1 else 0) for j in range(N)]) for i in range(N)])\n",
    "\n",
    "\n",
    "M[0,:] = np.zeros(N)\n",
    "M[0,0] = 1\n",
    "M[0,1] = -1\n",
    "M[-1,:] = np.zeros(N)\n",
    "M[-1,-1] = 1\n",
    "\n",
    "\n",
    "C = (-r*(dr**2)/D)\n",
    "C[0] = Tau0\n",
    "C[-1] = TauN\n",
    "C = np.matrix(C).T\n",
    "\n",
    "Tau = np.array((np.linalg.inv(M)*C).T).flatten()\n",
    "\n",
    "r_ = np.arange(0,5,5/N) # cambio de escala\n",
    "\n",
    "plt.plot(r_,Tau, label='Solución Numérica')\n",
    "plt.plot(r_, (R**2/(6*D))-(1/(6*D)*r**2), label='Solución Analítica')\n",
    "plt.legend()\n",
    "plt.xlabel('r [μm]')\n",
    "plt.ylabel('τ [s]')\n",
    "plt.show()\n",
    "\n"
   ]
  },
  {
   "cell_type": "markdown",
   "id": "a934f471-0cca-4297-91ff-cc29afb6b45f",
   "metadata": {},
   "source": [
    "## 3. Si los viriones están distribuidos uniformemente, encuentre el tiempo que tardaría un virión en salir de la gota de aerosol.\n",
    "\n",
    "Tenga presente que debe promediar suponiendo que el virión tiene una distribución uniforme, i.e. $\\rho\\left(\\vec{r}\\right)=1/V$, usando la siguiente relación,\n",
    "$$\n",
    "\\bar{\\tau} = \\int_{\\mathcal{V}}\\tau\\left(\\vec{r}\\right)\\rho\\left(\\vec{r}\\right)\\,\\text{d}\\vec{r} = \\frac{4\\pi}{V}\\int_{0}^{R}\\tau(r)\\,r^2\\text{d}r.\n",
    "$$\n",
    "Realice la integral numéricamente."
   ]
  },
  {
   "cell_type": "code",
   "execution_count": 3,
   "id": "13e514c8-d448-407e-99d5-44053f8fd581",
   "metadata": {},
   "outputs": [
    {
     "name": "stdout",
     "output_type": "stream",
     "text": [
      "Por función propia: τ promedio es 760.56 s\n",
      "Por función de scypi: τ promedio es 756.5 s\n",
      "\n",
      "Observar que depende de los valores de Eta despejados (sea 0 ó 10^2) respectivamente, donde el tiempo promedio puede variar entre 12 min. o 21 horas.\n"
     ]
    }
   ],
   "source": [
    "#Simpson\n",
    "\n",
    "V = (4/3)*np.pi*(5*10**(-6))**3  #El volumen, es el volumen de la gota de agua y no del virus\n",
    "R = 5*10**(-6)\n",
    "r_ini =0.000001\n",
    "r_fin =R\n",
    "nodos=1000001\n",
    "\n",
    "\n",
    "def T(r):\n",
    "    return ((4*np.pi)/V)*((R**2/(6*D))-(1/(6*D)*r**2))*(r**2)\n",
    "\n",
    "\n",
    "\n",
    "def simpson_integrate(desde, hasta, nodos, T):\n",
    "    x, delta_x = np.linspace( desde, hasta, num=nodos-1 , retstep=True  )\n",
    "    return (delta_x/3)*(   T(x[0]) + 2*np.sum(T(x[2:len(x)-1:2])) + 4*np.sum(T(x[1::2])) + T(x[-1]) )\n",
    "\n",
    "\n",
    "\n",
    "    \n",
    "integral_T = simpson_integrate(r_ini, r_fin, nodos, T)    \n",
    "\n",
    "\n",
    "\n",
    "\n",
    "print(f\"Por función propia: τ promedio es {round(integral_T, 2)} s\")\n",
    "print(f\"Por función de scypi: τ promedio es {round(sp.integrate.simpson(Tau*r**2*4*np.pi/V, r), 2)} s\")\n",
    "print()\n",
    "print('Observar que depende de los valores de Eta despejados (sea 0 ó 10^2) respectivamente, donde el tiempo promedio puede variar entre 12 min. o 21 horas.')\n"
   ]
  },
  {
   "cell_type": "markdown",
   "id": "f46b5ef1-3bdb-4041-8d8f-74f63a3c0ea1",
   "metadata": {},
   "source": [
    "## 4. Las cadenas de Markov.\n",
    "\n",
    "Vamos a resolver el problema anterior usando un proceso de Markov. Suponga que ud **divide** la esfera en cubitos de ancho $\\delta x=\\delta y=\\delta z=\\Delta=R/N$ con $N$ un número determinado de particiones. Para nuestro experimento, vamos a suponer que ponemos un virión en una posición inicial $\\vec{r}_0=(\\Delta\\,j, 0, 0)$, determinada por un índice $j\\in\\{0,1,2,\\dots,N\\}$. Ud va a actualizar la posición del virión en la malla discreta siguiendo las reglas a continuación:\n",
    "- Determine el número de divisiones $N$ y calcule $\\Delta$.\n",
    "- Ajuste la escala de tiempo $\\delta t$ y de tal manera que la probabilidad $\\alpha=D\\frac{\\delta t}{\\Delta^2}<\\frac{1}{6}$. (Recomiendo $\\leq1/12$)\n",
    "- Haga una corrida de Markov-Monte Carlo actualizando la posición con la probabilidad de transición $\\alpha$ hacia los primeros vecinos cercanos y calcule el número de pasos de tiempo para llegar a la superficie, i.e. $|\\vec{r}(t_m)|>R-\\Delta$\n",
    "- Repita este experimento para la misma posición un gran número de veces para obtener una estadística (media y desviación estándar).\n",
    "- Repita todos los pasos para todos los índices $j\\in\\{0,1,2,\\dots,N\\}$ y grafique. ¡Compare con los resultados anteriores!"
   ]
  },
  {
   "cell_type": "code",
   "execution_count": 4,
   "id": "8e8402bc-e7cb-415b-9fa8-8acabcd26ca3",
   "metadata": {},
   "outputs": [
    {
     "ename": "SyntaxError",
     "evalue": "invalid syntax (<ipython-input-4-59c8e2422913>, line 75)",
     "output_type": "error",
     "traceback": [
      "\u001b[1;36m  File \u001b[1;32m\"<ipython-input-4-59c8e2422913>\"\u001b[1;36m, line \u001b[1;32m75\u001b[0m\n\u001b[1;33m    print('Promeio de la cantidad de pasos que hace el virus antes de infectar al huesped: ', np.mean(pasos))\u001b[0m\n\u001b[1;37m    ^\u001b[0m\n\u001b[1;31mSyntaxError\u001b[0m\u001b[1;31m:\u001b[0m invalid syntax\n"
     ]
    }
   ],
   "source": [
    "R = 5*10**(-6)\n",
    "N = 2000            #Determionación de N\n",
    "delta = R/N        #Cálculo de delta\n",
    "dt = N*(1*10**(-5))    # dt ajustado a condiciones <= 1/12\n",
    "interval = np.arange(0,R,delta)\n",
    "psi = np.zeros(N+1)\n",
    "\n",
    "\n",
    "alpha = D*(N*(1*10**(-5))/(delta**2)) #Probabilidad\n",
    "\n",
    "\n",
    "\n",
    "\n",
    "def actualiza_objetos(n):\n",
    "    global psi\n",
    "    # esta funcion me dice de n objetos cuantos van a la izquierda y cuantos a la derecha\n",
    "    v = np.random.uniform(size=n)\n",
    "    izq = sum(v<alpha)\n",
    "    der = sum(v<alpha/n) - izq\n",
    "    return (izq,der)\n",
    "\n",
    "def actualiza_psi(psi):\n",
    "    # calcular cuantos se van a la derecha y cuantos a la izquierda\n",
    "    dpsi = np.array([actualiza_objetos(_psi) for _psi in psi]).T                     #Esta parte falla en el codigo y no se como hacer funcionar\n",
    "    # verificar cuantos hay.... reajustar cuantos se van: condiciones de frontera\n",
    "    dpsi[0,0] = 0\n",
    "    dpsi[1,-1] = 0\n",
    "    # sumar los q tenia psi0 + los q llegan - los q se van\n",
    "    dpsi_izq = np.roll(dpsi[0],-1)\n",
    "    dpsi_der = np.roll(dpsi[1], 1)\n",
    "    dpsi = np.sum(dpsi, axis=0)\n",
    "    return psi-dpsi+dpsi_izq+dpsi_der\n",
    "\n",
    "\n",
    "\n",
    "# condiciones iniciales\n",
    "psi[0] = 0\n",
    "psi[N//2] = 0\n",
    "plt.hist(psi)\n",
    "\"\"\"\n",
    "\n",
    "print(len(interval))\n",
    "print(len(psi))\n",
    "\"\"\"\n",
    "\n",
    "def cambio(psi, probabilidad, R):\n",
    "    contador = 0\n",
    "    while(contador <= probabilidad):\n",
    "        psi = actualiza_psi(psi)\n",
    "        contador = contador + 1\n",
    "    return([psi, contador])\n",
    "\n",
    "\n",
    "#Grafica________________________________________________________________________\n",
    "\n",
    "res = cambio(psi, alpha, R)\n",
    "plt.hist(res[0])\n",
    "plt.show()\n",
    "Print('Pasos hasta que el virus sale de la superficie de la gota y entra en contacto con el huesped: ', res[1])\n",
    "\n",
    "\n",
    "#Repeticion de veces:___________________________________________________________________________-\n",
    "\n",
    "veces = 500000\n",
    "distancia_rec = []\n",
    "pasos = []\n",
    "for i in range(veces):\n",
    "    pasos.append(cambio(psi, alpha, R)[1])\n",
    "    distancia_rec.append(R-(cambio(psi, alpha, R)[0][0])\n",
    "\n",
    "                         \n",
    "                         \n",
    "                         \n",
    "                         \n",
    "print('Promeio de la cantidad de pasos que hace el virus antes de infectar al huesped: ', np.mean(pasos))\n",
    "print('La desviacion estandar de la cantidad de pasos que hace el virus antes de infectar al huesped: ', np.std(pasos))\n",
    "print()                         \n",
    "print('Promedio de la distancia que recorre el virus antes de infectar al huesped: ', np.mean(distancia_rec))\n",
    "print('La desviacion estandar de la distancia que recorre el virus antes de infectar al huesped: ', np.std(distancia_rec))\n",
    "                         \n",
    "\n",
    "    \n",
    "\n"
   ]
  },
  {
   "cell_type": "code",
   "execution_count": 118,
   "id": "5b78bcfe",
   "metadata": {},
   "outputs": [
    {
     "name": "stdout",
     "output_type": "stream",
     "text": [
      "6.875493541569879\n",
      "[0.06331866 0.43066997 0.91771926 0.71327559 0.3237243  0.69576129\n",
      " 0.59992304 0.92493171 0.07641644]\n",
      "9 -2\n",
      "[ True  True  True  True  True  True  True  True  True]\n",
      "[ True  True False  True  True  True  True False  True]\n",
      "13.750987083139758\n"
     ]
    }
   ],
   "source": [
    "n = 9\n",
    "v = np.random.uniform(size=n)\n",
    "izq = sum(v<alpha)\n",
    "der = sum(v<alpha/9)-izq\n",
    "\n",
    "\n",
    "print(alpha)\n",
    "print(v)\n",
    "print(izq, der)\n",
    "print(v<alpha)\n",
    "print(v<alpha/9)\n",
    "print(2*alpha)\n"
   ]
  },
  {
   "cell_type": "code",
   "execution_count": 124,
   "id": "32bd8ffd",
   "metadata": {},
   "outputs": [
    {
     "ename": "SyntaxError",
     "evalue": "invalid syntax (<ipython-input-124-4d4113aa42f2>, line 1)",
     "output_type": "error",
     "traceback": [
      "\u001b[1;36m  File \u001b[1;32m\"<ipython-input-124-4d4113aa42f2>\"\u001b[1;36m, line \u001b[1;32m1\u001b[0m\n\u001b[1;33m    actualiza_objetos(_psi) for _psi in psi\u001b[0m\n\u001b[1;37m                            ^\u001b[0m\n\u001b[1;31mSyntaxError\u001b[0m\u001b[1;31m:\u001b[0m invalid syntax\n"
     ]
    }
   ],
   "source": [
    "actualiza_objetos(_psi) for _psi in psi"
   ]
  },
  {
   "cell_type": "code",
   "execution_count": null,
   "id": "5e1fb198",
   "metadata": {},
   "outputs": [],
   "source": []
  }
 ],
 "metadata": {
  "kernelspec": {
   "display_name": "Python 3",
   "language": "python",
   "name": "python3"
  },
  "language_info": {
   "codemirror_mode": {
    "name": "ipython",
    "version": 3
   },
   "file_extension": ".py",
   "mimetype": "text/x-python",
   "name": "python",
   "nbconvert_exporter": "python",
   "pygments_lexer": "ipython3",
   "version": "3.8.8"
  }
 },
 "nbformat": 4,
 "nbformat_minor": 5
}
