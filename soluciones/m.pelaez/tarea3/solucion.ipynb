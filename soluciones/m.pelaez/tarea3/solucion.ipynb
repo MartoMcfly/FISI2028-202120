{
 "cells": [
  {
   "cell_type": "code",
   "execution_count": 179,
   "id": "6a56ce41-2397-4ecb-aa9e-6a5e647c1501",
   "metadata": {},
   "outputs": [
    {
     "name": "stdout",
     "output_type": "stream",
     "text": [
      "Paquetes importados con Exito\n"
     ]
    }
   ],
   "source": [
    "import numpy as np\n",
    "import pandas as pd\n",
    "import scipy as sp\n",
    "import sklearn as sl\n",
    "\n",
    "import seaborn as sns; sns.set()\n",
    "import matplotlib as mpl\n",
    "from matplotlib import pyplot as plt\n",
    "from mpl_toolkits.mplot3d import axes3d\n",
    "from matplotlib import cm\n",
    "from scipy.optimize import curve_fit\n",
    "%matplotlib inline\n",
    "\n",
    "print('Paquetes importados con Exito')\n"
   ]
  },
  {
   "cell_type": "markdown",
   "id": "7d9ed318-8a8e-4cbe-be92-0f121b59b1c4",
   "metadata": {},
   "source": [
    "# Tarea 3: Encuentre la regresión\n",
    "\n",
    "Ud recibe unos datos $x$ y $y$ cómo se muestran a continuación. Ud debe responder cuatro preguntas a partir de estos datos. Suponga que ud tiene un modelo tal que $y=f(x)$ más aún desconoce $f$."
   ]
  },
  {
   "cell_type": "code",
   "execution_count": 180,
   "id": "2971f7a1-751f-4a27-b16c-47cc973e9811",
   "metadata": {},
   "outputs": [],
   "source": [
    "df = pd.read_pickle(r'C:\\Users\\marti\\FISI2028-202120\\soluciones\\m.pelaez\\tarea3\\ex1.gz')"
   ]
  },
  {
   "cell_type": "code",
   "execution_count": 181,
   "id": "1645d22f-3342-4c8d-b34f-1fff4b5f6ad8",
   "metadata": {},
   "outputs": [
    {
     "data": {
      "image/png": "[encoded data removed]",
      "text/plain": [
       "<Figure size 432x288 with 1 Axes>"
      ]
     },
     "metadata": {
      "needs_background": "light"
     },
     "output_type": "display_data"
    },
    {
     "data": {
      "text/html": [
       "<div>\n",
       "<style scoped>\n",
       "    .dataframe tbody tr th:only-of-type {\n",
       "        vertical-align: middle;\n",
       "    }\n",
       "\n",
       "    .dataframe tbody tr th {\n",
       "        vertical-align: top;\n",
       "    }\n",
       "\n",
       "    .dataframe thead th {\n",
       "        text-align: right;\n",
       "    }\n",
       "</style>\n",
       "<table border=\"1\" class=\"dataframe\">\n",
       "  <thead>\n",
       "    <tr style=\"text-align: right;\">\n",
       "      <th></th>\n",
       "      <th>x</th>\n",
       "      <th>y</th>\n",
       "    </tr>\n",
       "  </thead>\n",
       "  <tbody>\n",
       "    <tr>\n",
       "      <th>0</th>\n",
       "      <td>0.065859</td>\n",
       "      <td>0.277413</td>\n",
       "    </tr>\n",
       "    <tr>\n",
       "      <th>1</th>\n",
       "      <td>0.020931</td>\n",
       "      <td>0.202239</td>\n",
       "    </tr>\n",
       "    <tr>\n",
       "      <th>2</th>\n",
       "      <td>0.070312</td>\n",
       "      <td>0.307369</td>\n",
       "    </tr>\n",
       "    <tr>\n",
       "      <th>3</th>\n",
       "      <td>0.206166</td>\n",
       "      <td>0.367530</td>\n",
       "    </tr>\n",
       "    <tr>\n",
       "      <th>4</th>\n",
       "      <td>0.286572</td>\n",
       "      <td>0.491144</td>\n",
       "    </tr>\n",
       "    <tr>\n",
       "      <th>...</th>\n",
       "      <td>...</td>\n",
       "      <td>...</td>\n",
       "    </tr>\n",
       "    <tr>\n",
       "      <th>95</th>\n",
       "      <td>3.922613</td>\n",
       "      <td>0.225565</td>\n",
       "    </tr>\n",
       "    <tr>\n",
       "      <th>96</th>\n",
       "      <td>3.898473</td>\n",
       "      <td>0.000000</td>\n",
       "    </tr>\n",
       "    <tr>\n",
       "      <th>97</th>\n",
       "      <td>3.952111</td>\n",
       "      <td>0.141005</td>\n",
       "    </tr>\n",
       "    <tr>\n",
       "      <th>98</th>\n",
       "      <td>3.939211</td>\n",
       "      <td>0.115500</td>\n",
       "    </tr>\n",
       "    <tr>\n",
       "      <th>99</th>\n",
       "      <td>3.987120</td>\n",
       "      <td>0.048689</td>\n",
       "    </tr>\n",
       "  </tbody>\n",
       "</table>\n",
       "<p>100 rows × 2 columns</p>\n",
       "</div>"
      ],
      "text/plain": [
       "           x         y\n",
       "0   0.065859  0.277413\n",
       "1   0.020931  0.202239\n",
       "2   0.070312  0.307369\n",
       "3   0.206166  0.367530\n",
       "4   0.286572  0.491144\n",
       "..       ...       ...\n",
       "95  3.922613  0.225565\n",
       "96  3.898473  0.000000\n",
       "97  3.952111  0.141005\n",
       "98  3.939211  0.115500\n",
       "99  3.987120  0.048689\n",
       "\n",
       "[100 rows x 2 columns]"
      ]
     },
     "execution_count": 181,
     "metadata": {},
     "output_type": "execute_result"
    }
   ],
   "source": [
    "sns.scatterplot(x='x',y='y',data=df)\n",
    "plt.show()\n",
    "df"
   ]
  },
  {
   "cell_type": "markdown",
   "id": "132e74cd-3989-4bca-a1cb-d6567547d350",
   "metadata": {},
   "source": [
    "## (A) Pendiente e intercepto\n",
    "Determine la pendiente de los datos en el intervalo $[0,1.5]$ y el valor del intercepto con el eje $y$. Es decir, $f(0)=?$. ¿Cuál es el valor de $r^2$?"
   ]
  },
  {
   "cell_type": "code",
   "execution_count": 175,
   "id": "34512077-457b-469f-b3bb-0ef8209942c4",
   "metadata": {},
   "outputs": [
    {
     "name": "stdout",
     "output_type": "stream",
     "text": [
      "Datos para x importados:  100\n",
      "Datos para y importados:  100\n"
     ]
    }
   ],
   "source": [
    "# Se establecen los valores de Y y X para los datos recolectados del archivo\n",
    "x = df[\"x\"]\n",
    "y = df[\"y\"]\n",
    "\n",
    "# Creacion de las listas para guardar los datos y facilitar manipulacion\n",
    "xLst = []\n",
    "yLst = []\n",
    "\n",
    "print('Datos para x importados: ', len(x))\n",
    "print('Datos para y importados: ', len(y))"
   ]
  },
  {
   "cell_type": "code",
   "execution_count": 176,
   "id": "e01fd6ce-d504-42a9-aa6d-65b1b1f88893",
   "metadata": {},
   "outputs": [
    {
     "name": "stdout",
     "output_type": "stream",
     "text": [
      "[0.06585881 0.02093073 0.07031212 0.20616556 0.28657196 0.27096854\n",
      " 0.19957703 0.29455413 0.26240308 0.33728572 0.4999516  0.56632758\n",
      " 0.53351561 0.52050379 0.4341235  0.61297735 0.54045169 0.58791458\n",
      " 0.65418762 0.59973738 0.64327662 0.79594304 0.74257997 0.76763688\n",
      " 0.85442627 0.90891591 0.98562327 0.95099631 1.0602925  1.20330968\n",
      " 1.1279353  1.1567111  1.26668196 1.36000017 1.29863443 1.43988698\n",
      " 1.40932438 1.4547854 ]\n",
      "[0.277413   0.20223851 0.30736916 0.36752961 0.4911441  0.36206372\n",
      " 0.44152696 0.39796053 0.5037485  0.39484454 0.60627619 0.53261477\n",
      " 0.4619857  0.44983331 0.62948187 0.54800951 0.58589306 0.64939208\n",
      " 0.71055403 0.73153748 0.68724274 0.80091407 0.87367728 0.87498203\n",
      " 0.6853341  0.99415383 0.95531561 0.87079991 1.18128653 1.17669019\n",
      " 1.06726024 1.1807464  1.38465755 1.25625824 1.33501446 1.39675454\n",
      " 1.45421145 1.15147462]\n"
     ]
    }
   ],
   "source": [
    "#Se asigna los valores encontrados al arreglo creado anteriormente\n",
    "for i in range(len(x)):\n",
    "    if(0<=x[i]<=1.5):\n",
    "        xLst.append(x[i])\n",
    "        yLst.append(y[i])\n",
    "\n",
    "# los arreglos en numpy son mas faciles de manejar \n",
    "xNp = np.array(xLst)\n",
    "yNp = np.array(yLst)\n",
    "        \n",
    "print(xNp)\n",
    "print(yNp)"
   ]
  },
  {
   "cell_type": "code",
   "execution_count": 177,
   "id": "a2f6a4cc-7e55-4acf-b683-e65885d09544",
   "metadata": {},
   "outputs": [],
   "source": [
    "# Funcion para realizar regresion\n",
    "def funcionRegresion(x,a,b):\n",
    "    return a*x + b\n",
    "popt, pcov = curve_fit(funcionRegresion, xNp, yNp)"
   ]
  },
  {
   "cell_type": "code",
   "execution_count": null,
   "id": "915faab3-0555-49f8-8666-09a4a334581d",
   "metadata": {},
   "outputs": [],
   "source": []
  },
  {
   "cell_type": "code",
   "execution_count": 87,
   "id": "bca2d077-9a14-4a21-bf9b-2c9294dfbfab",
   "metadata": {},
   "outputs": [
    {
     "data": {
      "text/plain": [
       "[<matplotlib.lines.Line2D at 0x223918aa3a0>]"
      ]
     },
     "execution_count": 87,
     "metadata": {},
     "output_type": "execute_result"
    },
    {
     "data": {
      "image/png": "[encoded data removed]",
      "text/plain": [
       "<Figure size 432x288 with 1 Axes>"
      ]
     },
     "metadata": {
      "needs_background": "light"
     },
     "output_type": "display_data"
    }
   ],
   "source": [
    "# Se extraen los datos en terminos de la funcion\n",
    "datosFuncion = funcionRegresion(xNp,popt[0],popt[1])\n",
    "\n",
    "# Datos graficados\n",
    "plt.scatter(xNp,yNp)\n",
    "\n",
    "# Linea de tendencia graficada en la misma grafica\n",
    "plt.plot(xNp,datosFuncion)"
   ]
  },
  {
   "cell_type": "code",
   "execution_count": 89,
   "id": "53718a28-df66-4717-b721-70cf549431dc",
   "metadata": {},
   "outputs": [
    {
     "name": "stdout",
     "output_type": "stream",
     "text": [
      "== DATOS REGRESION ==\n",
      "-Pendiente:  0.8163869624029936\n",
      "-Intersecto en X=0:  0.18270690829168224\n",
      "-Ajuste r:  0.9316416262309236\n"
     ]
    }
   ],
   "source": [
    "# Informacion relevante para la regresion\n",
    "print('== DATOS REGRESION ==')\n",
    "print('-Pendiente: ', popt[0])\n",
    "print('-Intersecto en X=0: ',popt[1])\n",
    "print('-Ajuste r: ', 1-np.sum((datosFuncion-yNp)**2)/np.sum((yNp-yNp.mean())**2))\n"
   ]
  },
  {
   "cell_type": "markdown",
   "id": "d4c886f8-e9f3-456c-b8b3-c8fe60f0c2a0",
   "metadata": {},
   "source": [
    "## (B) Regresión polinomial\n",
    "Suponga que quiere realizar la siguiente regresión polinomial,\n",
    "$$y=\\beta_1+\\beta_2x+\\beta_2x^2+\\beta_2x^3+\\beta_2x^4+\\beta_2x^5.$$\n",
    "Plantee la función de costo que le permita calcular los coeficientes y calcule $\\beta_1$, $\\beta_2$, $\\beta_3$, $\\beta_4$, y $\\beta_5$. ¿Cuál es el $r^2$?\n",
    "\n",
    "Calcule $f(0)$ y compare con los resultados anteriores"
   ]
  },
  {
   "cell_type": "code",
   "execution_count": 61,
   "id": "9b2bcd84-1881-471a-ab2e-054ac6214f5f",
   "metadata": {},
   "outputs": [
    {
     "data": {
      "text/plain": [
       "100"
      ]
     },
     "execution_count": 61,
     "metadata": {},
     "output_type": "execute_result"
    }
   ],
   "source": [
    "# Se crea un arreglo bidimensional para guardar todos los datos de la evaluacion de la funcion\n",
    "Poli = []\n",
    "\n",
    "# Se asignan los datos a la funcion\n",
    "\n",
    "for i in range(len(x)):\n",
    "    Poli.append([1, x[i], x[i]**2, x[i]**3, x[i]**4, x[i]**5])\n",
    "\n",
    "# Matrices en numpy son mas faciles de manejar\n",
    "PoliNp = np.matrix(Poli)\n",
    "len(PoliNp)"
   ]
  },
  {
   "cell_type": "code",
   "execution_count": 62,
   "id": "3432352c-9175-4fe4-abb1-a8979c6453ae",
   "metadata": {},
   "outputs": [
    {
     "name": "stdout",
     "output_type": "stream",
     "text": [
      "100\n",
      "100\n",
      "100\n"
     ]
    }
   ],
   "source": [
    "PoliNpY = np.array([y]).reshape(-1,1)\n",
    "b = np.matrix(PoliNpY)\n",
    "print(len(PoliNp))\n",
    "print(len(PoliNpY))\n",
    "print(len(b))"
   ]
  },
  {
   "cell_type": "code",
   "execution_count": 63,
   "id": "89a2b85f-00f4-4776-ab06-bb350a560200",
   "metadata": {},
   "outputs": [
    {
     "name": "stdout",
     "output_type": "stream",
     "text": [
      "Las constantes para la polinomial es: \n",
      "[ 0.35734974 -0.84261518  3.78486299 -3.00345858  0.85846836 -0.08306076]\n"
     ]
    }
   ],
   "source": [
    "# Funcion para realizar regresion polinomial\n",
    "def Fun2(x,PoliNp,b):\n",
    "    m,n = PoliNp.shape\n",
    "    X = np.matrix(x).T\n",
    "    DB=(PoliNp*X-b)\n",
    "    return (DB.T*DB)[0,0]/m\n",
    "constantes = sp.optimize.minimize(fun=Fun2,x0=np.zeros(PoliNp.shape[1]), args = (PoliNp,b), tol=1e-5)\n",
    "print(\"Las constantes para la polinomial es: \")\n",
    "print(constantes['x'])"
   ]
  },
  {
   "cell_type": "code",
   "execution_count": 153,
   "id": "64f84172-46fa-4548-a20b-888ea74817d1",
   "metadata": {},
   "outputs": [],
   "source": [
    "Graficar = np.linspace(0,4,100)\n",
    "def fun1_(b1,b2,b3,b4,b5,b6,x):\n",
    "    return b1*x**5 + b2*x**4 + b3*x**3 + b4*x**2 + b5*x + b6\n",
    "\n",
    "FunEnY= fun1_(constantes['x'][5],constantes['x'][4],constantes['x'][3],constantes['x'][2],constantes['x'][1],constantes['x'][0],Graficar)"
   ]
  },
  {
   "cell_type": "code",
   "execution_count": 154,
   "id": "0e3ad0a3-ccd7-43ed-85a9-be9db211490e",
   "metadata": {},
   "outputs": [
    {
     "data": {
      "text/plain": [
       "<matplotlib.collections.PathCollection at 0x22393fb3c40>"
      ]
     },
     "execution_count": 154,
     "metadata": {},
     "output_type": "execute_result"
    },
    {
     "data": {
      "image/png": "[encoded data removed]",
      "text/plain": [
       "<Figure size 432x288 with 1 Axes>"
      ]
     },
     "metadata": {
      "needs_background": "light"
     },
     "output_type": "display_data"
    }
   ],
   "source": [
    "plt.plot(Graficar,FunEnY)\n",
    "plt.scatter(x,y)"
   ]
  },
  {
   "cell_type": "code",
   "execution_count": 164,
   "id": "923ab882-926e-49fc-ae10-cbf1ee96103b",
   "metadata": {},
   "outputs": [
    {
     "name": "stdout",
     "output_type": "stream",
     "text": [
      "== DATOS REGRESION ==\n",
      "-Ajuste:  0.9111053476470856\n",
      "-Intercepto en 0 0.3573497402416187\n",
      "-Las constantes para la polinomial son:  [ 0.35734974 -0.84261518  3.78486299 -3.00345858  0.85846836 -0.08306076]\n",
      "-COMPARACION: A pesar de que se esta utilizando un modelo polinomico, la naturaleza de los datos es lineal, por lo que el ajuste para la curva permanece más adecuado para un ajuste lineal (r lineal 0.93... vs ajuste polinomial 0.91...)\n"
     ]
    }
   ],
   "source": [
    "print('== DATOS REGRESION ==')\n",
    "print(\"-Ajuste: \", 1-np.sum((FunEnY-y)**2)/np.sum((y-y.mean())**2))\n",
    "print(\"-Intercepto en 0\", constantes['x'][0])\n",
    "print(\"-Las constantes para la polinomial son: \", constantes['x'])\n",
    "print(\"-COMPARACION: A pesar de que se esta utilizando un modelo polinomico, la naturaleza de los datos es lineal, por lo que el ajuste para la curva permanece más adecuado para un ajuste lineal (r lineal 0.93... vs ajuste polinomial 0.91...)\")"
   ]
  },
  {
   "cell_type": "markdown",
   "id": "283e8699-eadd-4fd0-8b83-cac2c0de4b88",
   "metadata": {},
   "source": [
    "## (C) Regresión polinomial exacta\n",
    "Resulta, que cuando se quiere hacer alguna regresión polinomial esta se puede hacer de forma exacta. ¿Cómo? Suponga que ud va a considerar que su problema en lugar de tener $1$ variable ($x$) tiene $n+1$, siendo $n$ el orden del polinomio a ajustar. Es decir, sus nuevas variables van a ser $\\{x_0,\\,x_1,\\,x_2,\\,x_3,\\dots,\\,x_n\\}$ definiendo $x_j=x^j$. Así pues, siguiendo el mismo procedimiento para la regresión lineal multidimensional que realizamos para el ejercicio de datos inmobiliarios, puede encontrar los valores de los coeficientes $\\beta_1$, $\\beta_2$, $\\beta_3$, $\\beta_4$, y $\\beta_5$. Encuentre estos valores y compare con los resultados en la sección **(B)**.\n",
    "\n",
    "Calcule $f(0)$ y compare con los resultados anteriores.\n",
    "\n",
    "> Si ud se pregunta si esto es posible la respuesta es sí. Inclusive, esto se puede extender a cualquier a cualquier conjunto de funciones, tal que $x_j=f_j(x)$, que represente un conjunto \"linealmente independiente\" (¡Me estoy adelantando a *Fourier*!). Para quienes quieran explorar algunas curiosidades matemáticas, cuando $n+1$ es igual al número de puntos o valores de $x$ (y todos diferentes) la matriz es siempre invertible y resulta ser la inversa de una matriz de Vandermonde."
   ]
  },
  {
   "cell_type": "code",
   "execution_count": 132,
   "id": "2751b1f1-8ca2-47c7-bfd1-074b8b2fd651",
   "metadata": {},
   "outputs": [],
   "source": [
    "Y = df.loc[:, ['y']]\n",
    "\n"
   ]
  },
  {
   "cell_type": "code",
   "execution_count": 133,
   "id": "0f2c6e7c-7457-439f-bb62-f222980feeb9",
   "metadata": {},
   "outputs": [],
   "source": [
    "X = df.loc[:, ['x']].rename(columns={'x': 'x1'})\n",
    "X.insert(0, 'x0', 1)\n",
    "X['x2'] = X['x1']*X['x1']"
   ]
  },
  {
   "cell_type": "code",
   "execution_count": null,
   "id": "75a7f95c-63ca-470e-8c27-187b78ee35e7",
   "metadata": {},
   "outputs": [],
   "source": [
    "#Los arreglos son mas faciles de manejar en Numpy\n",
    "xNp = np.array(x).reshape(-1,1)\n",
    "\n",
    "yNp = np.array(y)\n",
    "\n",
    "Lst = np.array([np.ones([len(x), 1]),xNp ,xNp**2, xNp**3, xNp**4, xNp**5]).reshape(6, len(x)).T\n",
    "\n",
    "vlst = np.linalg.inv(Lst.T @ Lst) @ Lst.T @ y"
   ]
  },
  {
   "cell_type": "code",
   "execution_count": 148,
   "id": "2797aa4a-e7fc-4f6f-a931-ff06be16c811",
   "metadata": {},
   "outputs": [
    {
     "name": "stdout",
     "output_type": "stream",
     "text": [
      "100\n",
      "100\n",
      "100\n"
     ]
    }
   ],
   "source": [
    "\n",
    "\n",
    "#Funcion con constantes polinomicas\n",
    "def fun3(B1,B2,B3,B4,B5,B6,x):\n",
    "    return B1*x**5 + B2*x**4 + B3*x**3 + B4*x**2 + B5*x + B6\n",
    "FunEnY3 = fun3(vlst[5],vlst[4],vlst[3],vlst[2],vlst[1],vlst[0],Graficar)\n",
    "\n",
    "print(len(x))\n",
    "print(len(FunEnY3))\n",
    "print(len(Graficar))\n"
   ]
  },
  {
   "cell_type": "code",
   "execution_count": 149,
   "id": "1357df61-c815-4bf7-8abd-12c0f8bc6683",
   "metadata": {},
   "outputs": [
    {
     "data": {
      "text/plain": [
       "<matplotlib.collections.PathCollection at 0x22391c706d0>"
      ]
     },
     "execution_count": 149,
     "metadata": {},
     "output_type": "execute_result"
    },
    {
     "data": {
      "image/png": "[encoded data removed]",
      "text/plain": [
       "<Figure size 432x288 with 1 Axes>"
      ]
     },
     "metadata": {
      "needs_background": "light"
     },
     "output_type": "display_data"
    }
   ],
   "source": [
    "# Graficamos\n",
    "\n",
    "plt.plot(Graficar,FunEnY3)\n",
    "plt.scatter(x,y)"
   ]
  },
  {
   "cell_type": "code",
   "execution_count": 152,
   "id": "2eefe731-94fd-415e-8878-a7b6cd395cc5",
   "metadata": {},
   "outputs": [
    {
     "name": "stdout",
     "output_type": "stream",
     "text": [
      "== DATOS REGRESION ==\n",
      "Las constantes Polinomiales son: [ 0.35644668 -0.83588268  3.77276401 -2.99526012  0.85614705 -0.08282854]\n",
      "El intercepto en 0 es: 0.35644668482349123\n",
      "-COMPARACION: A pesar de que se esta utilizando un modelo polinomico en esta regresion y la anterior el ajuste es muy similar ebtre la exacta y la polinomial convencional, la naturaleza de los datos es lineal, por lo que el ajuste para la curva permanece más adecuado para un ajuste lineal (r exacta 0.91... vs ajuste polinomial 0.91...)\n"
     ]
    }
   ],
   "source": [
    "print('== DATOS REGRESION ==')\n",
    "print(\"Las constantes Polinomiales son:\",vlst)\n",
    "print(\"El intercepto en 0 es:\", vlst[0])\n",
    "print(\"-COMPARACION: A pesar de que se esta utilizando un modelo polinomico en esta regresion y la anterior el ajuste es muy similar ebtre la exacta y la polinomial convencional, la naturaleza de los datos es lineal, por lo que el ajuste para la curva permanece más adecuado para un ajuste lineal (r exacta 0.91... vs ajuste polinomial 0.91...)\")"
   ]
  },
  {
   "cell_type": "markdown",
   "id": "b73d8b80-289f-479a-9bbe-438601568655",
   "metadata": {
    "tags": []
   },
   "source": [
    "## (D) Regresión a un modelo teórico\n",
    "\n",
    "Suponga que su modelo teórico es el siguiente:\n",
    "$$y=\\frac{a}{\\left[(x-b)^2+c\\right]^\\gamma}.$$\n",
    "Halle $a$, $b$, $c$ y $\\gamma$.\n",
    "\n",
    "Calcule $f(0)$ y compare con los resultados anteriores"
   ]
  },
  {
   "cell_type": "code",
   "execution_count": 43,
   "id": "2bb0f325-e906-4ad5-97e3-9f09b9be5a0f",
   "metadata": {},
   "outputs": [],
   "source": [
    "def f(C,x):\n",
    "    return (C[0])/((x-C[1])**2 + C[2])**C[3]"
   ]
  },
  {
   "cell_type": "code",
   "execution_count": 156,
   "id": "aaaf7b59-185b-4c2c-88a9-a53a39199fce",
   "metadata": {},
   "outputs": [],
   "source": [
    "def Lfit(K,x,y):\n",
    "    DY=f(K,x) - y\n",
    "    return np.dot(DY,DY)/len(y)"
   ]
  },
  {
   "cell_type": "code",
   "execution_count": 168,
   "id": "450e1f7c-1562-4e73-b850-7455918d99c1",
   "metadata": {},
   "outputs": [],
   "source": [
    "constantes4 = sp.optimize.minimize(fun=Lfit, x0=np.array([0,0,1,0]), args = (x,y), method='L-BFGS-B', tol=1e-5)\n",
    "\n",
    "funEnY4 = f(constantes4.x,x)"
   ]
  },
  {
   "cell_type": "code",
   "execution_count": 178,
   "id": "ecc9029a-0798-44ba-9a66-a0fdf644c411",
   "metadata": {},
   "outputs": [
    {
     "data": {
      "text/plain": [
       "[<matplotlib.lines.Line2D at 0x22393f8feb0>]"
      ]
     },
     "execution_count": 178,
     "metadata": {},
     "output_type": "execute_result"
    },
    {
     "data": {
      "image/png": "[encoded data removed]",
      "text/plain": [
       "<Figure size 432x288 with 1 Axes>"
      ]
     },
     "metadata": {
      "needs_background": "light"
     },
     "output_type": "display_data"
    }
   ],
   "source": [
    "plt.scatter(x,y)\n",
    "plt.plot(x,funEnY4)"
   ]
  },
  {
   "cell_type": "code",
   "execution_count": 170,
   "id": "cdd5a0a0-6451-44a2-9485-a0501d186e3f",
   "metadata": {},
   "outputs": [
    {
     "name": "stdout",
     "output_type": "stream",
     "text": [
      "== DATOS REGRESION ==\n",
      "-Ajuste:  0.9372778673910886\n",
      "-Intercepto en 0 0.2674879566968516\n",
      "-Las constantes para la ecuacion son:  [2.3470072  1.39333437 1.41005721 1.79580009]\n",
      "-COMPARACION: Gracias a el uso de plot podemos ver que hay una descontinuidad en el maximo de la funcion,e esto se puede deber al error computacional, pero lo mas importantes es que segun nuestra regresion el ajuste de esta funcion es superior al de la regresion polinomial (ajuste = 0.94 vs ajuste =0.93) por lo que podemos concluir que esta ecuacion define la funcion\n"
     ]
    }
   ],
   "source": [
    "print('== DATOS REGRESION ==')\n",
    "print(\"-Ajuste: \", 1-np.sum((funEnY4-y)**2)/np.sum((y-y.mean())**2))\n",
    "print(\"-Intercepto en 0\", f(constantes4.x,0))\n",
    "print(\"-Las constantes para la ecuacion son: \", constantes4['x'])\n",
    "print(\"-COMPARACION: Gracias a el uso de plot podemos ver que hay una descontinuidad en el maximo de la funcion,e esto se puede deber al error computacional, pero lo mas importantes es que segun nuestra regresion el ajuste de esta funcion es superior al de la regresion polinomial (ajuste = 0.94 vs ajuste =0.93) por lo que podemos concluir que esta ecuacion define la funcion\")"
   ]
  },
  {
   "cell_type": "code",
   "execution_count": null,
   "id": "adca200f-73f7-4bd4-b559-24f27f2e5d8e",
   "metadata": {},
   "outputs": [],
   "source": []
  }
 ],
 "metadata": {
  "kernelspec": {
   "display_name": "Python [conda env:fisi2028]",
   "language": "python",
   "name": "conda-env-fisi2028-py"
  },
  "language_info": {
   "codemirror_mode": {
    "name": "ipython",
    "version": 3
   },
   "file_extension": ".py",
   "mimetype": "text/x-python",
   "name": "python",
   "nbconvert_exporter": "python",
   "pygments_lexer": "ipython3",
   "version": "3.10.0"
  }
 },
 "nbformat": 4,
 "nbformat_minor": 5
}
