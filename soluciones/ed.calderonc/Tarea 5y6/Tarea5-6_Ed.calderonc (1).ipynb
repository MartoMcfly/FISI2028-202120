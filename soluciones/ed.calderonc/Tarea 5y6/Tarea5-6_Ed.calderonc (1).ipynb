{
 "cells": [
  {
   "cell_type": "code",
   "execution_count": 1,
   "id": "f9d282cc-eeed-48f9-b1f5-47c031fe6fba",
   "metadata": {},
   "outputs": [],
   "source": [
    "import numpy as np\n",
    "import pandas as pd\n",
    "import scipy as sp\n",
    "import sklearn as sl\n",
    "\n",
    "import seaborn as sns; sns.set()\n",
    "import matplotlib as mpl\n",
    "from matplotlib import pyplot as plt\n",
    "from mpl_toolkits.mplot3d import axes3d\n",
    "from matplotlib import cm\n",
    "%matplotlib inline"
   ]
  },
  {
   "cell_type": "markdown",
   "id": "5593b87f-f69e-4a14-a8ce-a496073b8819",
   "metadata": {},
   "source": [
    "# Tarea 5 y 6: Ecuación de difusión en 3 dimensiones\n",
    "\n",
    "Uds se preguntarán, ¿por qué vamos a resolver la ecuación de difusión? La respuesta no es muy obvia, pero es interesante: Los procesos de difusión comparten algo muy bonito con los procesos estocásticos. Para ello, vamos a analizar un problema de COVID: el tiempo medio estimado de infección de los viriones.\n",
    "\n",
    "La transmisión de COVID se da preponderamente debido a la aspersión de aerosoles en el aire. Estas partículas *semi*-esféricas -cuyo orden de magnitud es de $\\sim1-10\\,\\mu m$ de radio- están compuestas principalmente por agua, lípidos orgánicos y viriones (se pueden considerar *quasi*-puntuales ya que son del orden de los $\\sim100\\,nm$). Cuando una particula del aerosol entra y se adhiere al tracto respiratorio, el virus toma un tiempo en entrar en contacto con las células para infectar el huésped debido al movimiento Browniano. Los viriones, a diferencia de las bacterias, no cuentan con cilios, flagelos u otros mecanismos para desplazarse en los medios, por lo cual, su única esperanza es que por fluctuaciones térmicas puedan llegar a la superficie de la gota de aerosol para replicar su ADN al entrar en contacto con los tejidos susceptibles. Este proceso es en esencia estocástico y se puede modelar mediante la ecuación de Difusión. Esta ecuación tiene dos partes. La idea es que uds resuelvan el problema de la manera más sencilla. La ecuación es la siguiente,\n",
    "$$\n",
    "\\frac{\\partial\\Psi}{\\partial t}=D\\nabla^2\\Psi,\n",
    "$$\n",
    "donde $D$ es la constante de difusión del medio y $\\Psi$ es la concentración de partículas. La taza de difusión depende de la temperatura y la viscosidad del medio y se puede modelar usando la relación de Einstein-Stokes,\n",
    "$$\n",
    "D=\\frac{k_BT}{6\\pi\\eta a},\n",
    "$$\n",
    "siendo $k_B$ la constante de Boltzmann, $T$ la temperatura en grados Kelvin, $\\eta$ la viscosidad del medio y $a$ el radio de los viriones. En esencia, lo que la ecuación de difusión me está diciendo es que la concentración media de viriones depende de la posición y el tiempo. No obstante, para poder calcular el tiempo que tardaría un virión en alcanzar la superficie se puede modelar en la media usando la siguiente ecuación de difusión,\n",
    "$$\n",
    "-\\nabla^2\\tau=\\frac{1}{D},\n",
    "$$\n",
    "donde $\\tau$ es el tiempo medio que dependería de la posición en la que se encuentra inicialmente."
   ]
  },
  {
   "cell_type": "markdown",
   "id": "6d059ea9-92b0-4849-8ef4-3db1b7f7ec20",
   "metadata": {},
   "source": [
    "## 1. Escriba la ecuación de difusión para el tiempo $\\tau$ en coordenadas esféricas y asuma que $\\tau(r,\\theta,\\phi)\\simeq\\tau(r)$ ya que por simetría esférica sólo dependerá de la posición radial respecto al centro de la gotica (Usar **LaTex**)"
   ]
  },
  {
   "cell_type": "markdown",
   "id": "0435b982-4c54-4276-8262-ac9a334e1abd",
   "metadata": {},
   "source": [
    "$$\n",
    "\\nabla^2\\tau = -\\frac{6\\pi\\eta a}{k_{B}T} \\\\\n",
    "\\nabla^2\\tau = \\frac{1 \\ \\partial }{r^2 \\ \\partial r}(r^2\\frac{\\partial \\tau}{\\partial r})\\ + \\frac{1 \\ \\partial }{r^{2} sin\\theta \\ \\partial \\theta}(sin\\theta\\frac{\\partial \\tau}{\\partial \\theta})\\ + \\frac{1 \\ \\partial \\tau}{r^2 sin \\theta \\ \\partial\\phi} \\\\ \\\\\n",
    "Tenemos \\ que: \\tau(r, \\theta, \\phi) \\simeq \\tau(r) \\\\ \\\\\n",
    "\\nabla^2\\tau = \\frac{1 \\ \\partial }{r^2 \\ \\partial r}(r^2\\frac{\\partial \\tau}{\\partial r})\\ + \\ 0 + \\ 0 \\\\ \\\\ \n",
    "-\\frac{6\\pi\\eta a}{k_{B}T} = \\frac{1 \\ \\partial }{r^2 \\ \\partial r}(r^2\\frac{\\partial \\tau}{\\partial r}) \\\\ \\\\ \n",
    "-\\frac{6\\pi\\eta a}{k_{B}T} = \\frac{1}{r^2}[2r\\frac{\\partial\\tau}{\\partial r}\\ + r^2\\frac{\\partial^2\\tau}{\\partial r^2}] \\\\ \\\\ \n",
    "-\\frac{6\\pi\\eta a}{k_{B}T} = \\frac{\\partial^2 \\tau}{\\partial r^2} \\ + \\frac{2\\partial\\tau}{r\\partial r} \\\\ \\\\\n",
    "\\frac{\\partial^2 \\tau}{\\partial r^2} \\ + \\frac{2\\partial\\tau}{r\\partial r} \\ + \\frac{6\\pi\\eta a}{k_{B}T} \\ = \\ 0\n",
    "$$"
   ]
  },
  {
   "cell_type": "markdown",
   "id": "165fc3cd-e376-4042-b2bd-ae12319400c0",
   "metadata": {},
   "source": [
    "## 2. Resuelva la ecuación diferencial para el tiempo de forma numérica y grafique\n",
    "\n",
    "Asuma las siguientes condiciones iniciales:\n",
    "1. $\\tau(R)=0$ ya que si el virión está en la superficie el tiempo debe ser naturalmente nulo.\n",
    "1. $\\tau^\\prime(r)=0$ ya que por simetría la derivada radial debe ser nula en el origen\n",
    "\n",
    "Suponga las siguientes condiciones:\n",
    "- $R=5\\mu m$ para el radio de la esfera de *quasi* agua (calcula el volumen $V$)\n",
    "- $\\eta_{\\text{H}_2\\text{O}}\\simeq1\\times10^{-3}\\,Pa\\cdot s$ (Pascales por segundo)\n",
    "- $\\frac{\\eta}{\\eta_{\\text{H}_2\\text{O}}}\\approx10^3\\to10^5$\n",
    "- $a\\simeq100\\,nm$\n",
    "- $V=\\frac{4}{3}\\pi a^3$\n",
    "- $k_BT\\simeq4.05\\times10^{-21}J$"
   ]
  },
  {
   "cell_type": "code",
   "execution_count": 2,
   "id": "d8f300c6-fde1-4bcc-9f30-dab09726f15d",
   "metadata": {},
   "outputs": [
    {
     "data": {
      "text/plain": [
       "[<matplotlib.lines.Line2D at 0x24a6cf42700>]"
      ]
     },
     "execution_count": 2,
     "metadata": {},
     "output_type": "execute_result"
    },
    {
     "data": {
      "image/png": "[encoded data removed]",
      "text/plain": [
       "<Figure size 432x288 with 1 Axes>"
      ]
     },
     "metadata": {
      "needs_background": "light"
     },
     "output_type": "display_data"
    }
   ],
   "source": [
    "#Datos\n",
    "R=5*(10**(-6))\n",
    "visco=1*(10**2)\n",
    "a=1*(10**(-7))\n",
    "boltz=4.05*(10**(-21))\n",
    "N=200\n",
    "#Condiciones iniciales\n",
    "D=(boltz)/(6*np.pi*visco*a)\n",
    "der=R/N\n",
    "r=np.arange(0, R, der)\n",
    "#Desarrollo\n",
    "f=np.matrix([np.array([(r[i]-der if j == i-1 and i > 0 else 0)for j in range(N)])for i in range(N)])\n",
    "f+=np.matrix([np.array([(-2*r[i] if j == i else 0)for j in range(N)])for i in range(N)])\n",
    "f += np.matrix([np.array([(r[i]+der if j == i+1 and i < N-1 else 0)for j in range(N)])for i in range(N)])\n",
    "f[0,:]=np.zeros(N)\n",
    "f[0,0]=1\n",
    "f[0,1]=-1\n",
    "f[-1,-1]=1\n",
    "c=(-r*(der**2)/D)\n",
    "c0=c[0]\n",
    "cN=c[-1]  \n",
    "c=np.matrix(c).T\n",
    "t=np.array((np.linalg.inv(f)*c).T).flatten()\n",
    "r=np.arange(0,5,5/N)\n",
    "#Gráfica\n",
    "plt.plot(r, t)\n",
    "\n"
   ]
  },
  {
   "cell_type": "markdown",
   "id": "a934f471-0cca-4297-91ff-cc29afb6b45f",
   "metadata": {},
   "source": [
    "## 3. Si los viriones están distribuidos uniformemente, encuentre el tiempo que tardaría un virión en salir de la gota de aerosol.\n",
    "\n",
    "Tenga presente que debe promediar suponiendo que el virión tiene una distribución uniforme, i.e. $\\rho\\left(\\vec{r}\\right)=1/V$, usando la siguiente relación,\n",
    "$$\n",
    "\\bar{\\tau} = \\int_{\\mathcal{V}}\\tau\\left(\\vec{r}\\right)\\rho\\left(\\vec{r}\\right)\\,\\text{d}\\vec{r} = \\frac{4\\pi}{V}\\int_{0}^{R}\\tau(r)\\,r^2\\text{d}r.\n",
    "$$\n",
    "Realice la integral numéricamente."
   ]
  },
  {
   "cell_type": "code",
   "execution_count": 3,
   "id": "13e514c8-d448-407e-99d5-44053f8fd581",
   "metadata": {},
   "outputs": [
    {
     "name": "stdout",
     "output_type": "stream",
     "text": [
      "t promedio es 338162996909.6008\n"
     ]
    }
   ],
   "source": [
    "#Datos\n",
    "a=1*(10**(-7))\n",
    "R=5*(10**(-6))\n",
    "boltz=4.05*(10**(-21))\n",
    "visco=1*(10**2)\n",
    "V=(4/3)*np.pi*(a**3)\n",
    "D=(boltz)/(6*np.pi*visco*a)\n",
    "liminf=0.00001\n",
    "limsup=R\n",
    "n=10001\n",
    "def T(r):\n",
    "    return ((3*np.pi)/V) * (((R**2/6*D))-(1/(6*D)*(r**2)))*(r**2)\n",
    "def integral(liminf, limsup, n, T):\n",
    "    x,dx=np.linspace(liminf,limsup,num=n-1,retstep=True)\n",
    "    return (dx/3)*(T(x[0])+(2*np.sum(T(x[2:len(x)-1:2])))+(4*np.sum(T(x[1::2])))+(T(x[-1])))\n",
    "integrall=integral(liminf,limsup,n,T)\n",
    "print(f\"t promedio es {integrall}\")"
   ]
  },
  {
   "cell_type": "markdown",
   "id": "f46b5ef1-3bdb-4041-8d8f-74f63a3c0ea1",
   "metadata": {},
   "source": [
    "## 4. Las cadenas de Markov.\n",
    "\n",
    "Vamos a resolver el problema anterior usando un proceso de Markov. Suponga que ud **divide** la esfera en cubitos de ancho $\\delta x=\\delta y=\\delta z=\\Delta=R/N$ con $N$ un número determinado de particiones. Para nuestro experimento, vamos a suponer que ponemos un virión en una posición inicial $\\vec{r}_0=(\\Delta\\,j, 0, 0)$, determinada por un índice $j\\in\\{0,1,2,\\dots,N\\}$. Ud va a actualizar la posición del virión en la malla discreta siguiendo las reglas a continuación:\n",
    "- Determine el número de divisiones $N$ y calcule $\\Delta$.\n",
    "- Ajuste la escala de tiempo $\\delta t$ y de tal manera que la probabilidad $\\alpha=D\\frac{\\delta t}{\\Delta^2}<\\frac{1}{6}$. (Recomiendo $\\leq1/12$)\n",
    "- Haga una corrida de Markov-Monte Carlo actualizando la posición con la probabilidad de transición $\\alpha$ hacia los primeros vecinos cercanos y calcule el número de pasos de tiempo para llegar a la superficie, i.e. $|\\vec{r}(t_m)|>R-\\Delta$\n",
    "- Repita este experimento para la misma posición un gran número de veces para obtener una estadística (media y desviación estándar).\n",
    "- Repita todos los pasos para todos los índices $j\\in\\{0,1,2,\\dots,N\\}$ y grafique. ¡Compare con los resultados anteriores!"
   ]
  },
  {
   "cell_type": "code",
   "execution_count": null,
   "id": "8e8402bc-e7cb-415b-9fa8-8acabcd26ca3",
   "metadata": {},
   "outputs": [],
   "source": []
  }
 ],
 "metadata": {
  "kernelspec": {
   "display_name": "Python 3",
   "language": "python",
   "name": "python3"
  },
  "language_info": {
   "codemirror_mode": {
    "name": "ipython",
    "version": 3
   },
   "file_extension": ".py",
   "mimetype": "text/x-python",
   "name": "python",
   "nbconvert_exporter": "python",
   "pygments_lexer": "ipython3",
   "version": "3.8.8"
  }
 },
 "nbformat": 4,
 "nbformat_minor": 5
}
