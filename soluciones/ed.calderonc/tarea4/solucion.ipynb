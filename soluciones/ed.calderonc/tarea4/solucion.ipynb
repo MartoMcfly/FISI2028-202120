{
 "cells": [
  {
   "cell_type": "code",
   "execution_count": 1,
   "id": "c00370d8-b597-4516-b31d-01125fb95c07",
   "metadata": {},
   "outputs": [],
   "source": [
    "import numpy as np\n",
    "import pandas as pd\n",
    "import scipy as sp\n",
    "import sklearn as sl\n",
    "import time\n",
    "\n",
    "import seaborn as sns; sns.set()\n",
    "import matplotlib as mpl\n",
    "from matplotlib import pyplot as plt\n",
    "from mpl_toolkits.mplot3d import axes3d\n",
    "from matplotlib import cm"
   ]
  },
  {
   "cell_type": "markdown",
   "id": "910fb969-70e8-4db7-8657-31969746e317",
   "metadata": {},
   "source": [
    "# Tarea 4\n",
    "Con base a los métodos vistos en clase resuelva las siguientes dos preguntas\n",
    "\n",
    "## (A) Integrales\n",
    "* $\\int_{0}^{1}x^{-1/2}\\,\\text{d}x$\n",
    "* $\\int_{0}^{\\infty}e^{-x}\\ln{x}\\,\\text{d}x$\n",
    "* $\\int_{0}^{\\infty}\\frac{\\sin{x}}{x}\\,\\text{d}x$"
   ]
  },
  {
   "cell_type": "code",
   "execution_count": 2,
   "id": "c63188dc-f93d-4599-b5c2-8c6a7b867dff",
   "metadata": {},
   "outputs": [
    {
     "name": "stdout",
     "output_type": "stream",
     "text": [
      "Integral 1: 1.9980396454151288\n",
      "Integral 2: -0.5773442593303427\n",
      "Integral 3: 1.5622244668962069\n"
     ]
    }
   ],
   "source": [
    "n=100\n",
    "x = np.linspace(0.000001,n,1000001)\n",
    "fx = np.linspace(0.000001,1,1000001)\n",
    "\n",
    "def f(x):\n",
    "    return pow(x,(-1/2))\n",
    "def t(x):\n",
    "    return np.exp(-x)*np.log(x)\n",
    "def k(x):\n",
    "    return np.sin(x)/x\n",
    "\n",
    "def integral(x,f):\n",
    "    c=0\n",
    "    for i in range(len(x)-1):\n",
    "        c += ((f(x[i]))+f(x[i+1]))*abs(x[i+1]-x[i])/2\n",
    "    return(c)\n",
    "\n",
    "int1 = integral(fx,f)    \n",
    "int2 = integral(x,t)\n",
    "int3 = integral(x,k)\n",
    "\n",
    "print(f\"Integral 1: {int1}\")\n",
    "print(f\"Integral 2: {int2}\")\n",
    "print(f\"Integral 3: {int3}\")"
   ]
  },
  {
   "cell_type": "code",
   "execution_count": 3,
   "id": "7039202d-2e62-4955-81ad-a433a35a5442",
   "metadata": {},
   "outputs": [
    {
     "name": "stdout",
     "output_type": "stream",
     "text": [
      "Integral 1: 1.9980056792766332\n",
      "Integral 2: -0.5772747948147595\n",
      "Integral 3: 1.5622239605373698\n"
     ]
    }
   ],
   "source": [
    "n=1000001\n",
    "fxi = 0.000001\n",
    "fx=1\n",
    "xi=0.000001\n",
    "x=100\n",
    "\n",
    "def f(x):\n",
    "    return x**(-1/2)\n",
    "def t(x):\n",
    "    return np.exp(-x)*np.log(x)\n",
    "def k(x):\n",
    "    return np.sin(x)/x\n",
    "\n",
    "def integral(i,h,n,f):\n",
    "    x, cambiox = np.linspace(i,h,num=n-1,retstep=True)\n",
    "    return (cambiox/3)*(f(x[0]) + 2*np.sum(f(x[2:len(x)-1:2])) + 4*np.sum(f(x[1::2])) + f(x[-1]) )\n",
    "\n",
    "int1 = integral(fxi,fx,n,f)\n",
    "int2 = integral(xi,x,n,t)\n",
    "int3 = integral(xi,x,n,k)\n",
    "\n",
    "print(f\"Integral 1: {int1}\")\n",
    "print(f\"Integral 2: {int2}\")\n",
    "print(f\"Integral 3: {int3}\")"
   ]
  },
  {
   "cell_type": "markdown",
   "id": "735d26b6-ba9f-4780-bfed-4a7b745ecafa",
   "metadata": {},
   "source": [
    "## (B) Fourier\n",
    "Calcule la transformada rápida de Fourier para la función de la **Tarea 3 (D)** en el intervalo $[0,4]$ ($k$ máximo $2\\pi n/L$ para $n=25$). Ajuste la transformada de Fourier para los datos de la **Tarea 3** usando el método de regresión exacto de la **Tarea 3 (C)** y compare con el anterior resultado. Para ambos ejercicios haga una interpolación y grafique para comparar."
   ]
  },
  {
   "cell_type": "code",
   "execution_count": null,
   "id": "324c527a-58a4-43e6-80b8-b5b60dc0710b",
   "metadata": {},
   "outputs": [],
   "source": []
  }
 ],
 "metadata": {
  "kernelspec": {
   "display_name": "Python [conda env:fisi2028]",
   "language": "python",
   "name": "conda-env-fisi2028-py"
  },
  "language_info": {
   "codemirror_mode": {
    "name": "ipython",
    "version": 3
   },
   "file_extension": ".py",
   "mimetype": "text/x-python",
   "name": "python",
   "nbconvert_exporter": "python",
   "pygments_lexer": "ipython3",
   "version": "3.10.0"
  }
 },
 "nbformat": 4,
 "nbformat_minor": 5
}
