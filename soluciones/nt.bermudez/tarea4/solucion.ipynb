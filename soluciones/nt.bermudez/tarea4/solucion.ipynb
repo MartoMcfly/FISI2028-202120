{
 "cells": [
  {
   "cell_type": "code",
   "execution_count": 1,
   "id": "6a56ce41-2397-4ecb-aa9e-6a5e647c1501",
   "metadata": {},
   "outputs": [],
   "source": [
    "import numpy as np\n",
    "import pandas as pd\n",
    "import scipy as sp\n",
    "import sklearn as sl\n",
    "import seaborn as sns; sns.set()\n",
    "import matplotlib as mpl\n",
    "from sklearn.linear_model import LinearRegression\n",
    "from matplotlib import pyplot as plt\n",
    "from mpl_toolkits.mplot3d import axes3d\n",
    "from matplotlib import cm\n",
    "%matplotlib inline"
   ]
  },
  {
   "cell_type": "markdown",
   "id": "54407221-b08d-4356-92b1-55a4487e8372",
   "metadata": {
    "tags": []
   },
   "source": [
    "## (A) Integrales\n",
    "\n",
    "* $\\int_{0}^{1}x^{-1/2}\\,\\text{d}x$\n",
    "* $\\int_{0}^{\\infty}e^{-x}\\ln{x}\\,\\text{d}x$\n",
    "* $\\int_{0}^{\\infty}\\frac{\\sin{x}}{x}\\,\\text{d}x$"
   ]
  },
  {
   "cell_type": "code",
   "execution_count": 2,
   "id": "fdf71410-140b-45bc-a254-618e048c2ce0",
   "metadata": {
    "tags": []
   },
   "outputs": [
    {
     "name": "stdout",
     "output_type": "stream",
     "text": [
      " de la primera integral es 1.9980396454151288\n",
      "La respuestade la segunda integral es -0.5773442593303427\n",
      "La respuesta de la tercera integral es 1.5622244668962069\n"
     ]
    }
   ],
   "source": [
    "#Trapecio\n",
    "n=100\n",
    "t1= np.linspace(0.000001,1,1000001)  \n",
    "t = np.linspace(0.000001,n,1000001)\n",
    "\n",
    "#Primera integral\n",
    "def P(t):\n",
    "    return t**(-1/2)\n",
    "#Segunda integral\n",
    "def N(t):\n",
    "    return np.exp(-t)*np.log(t)\n",
    "#Tercera integral\n",
    "def B(t):\n",
    "    return np.sin(t)/t\n",
    "\n",
    "def integrate(t,P):\n",
    "    rta = 0\n",
    "    for i in range(len(t)-1):\n",
    "        rta = rta + (P(t[i+1])+(P(t[i])))*abs(t[i+1]-t[i])/2\n",
    "    return(rta)    \n",
    "\n",
    "\n",
    "Int1 = integrate(t1,P) \n",
    "Int2 = integrate(t,N)\n",
    "Int3 = integrate(t,B)\n",
    "\n",
    "print(f\" de la primera integral es {Int1}\")\n",
    "print(f\"La respuestade la segunda integral es {Int2}\")\n",
    "print(f\"La respuesta de la tercera integral es {Int3}\")\n"
   ]
  },
  {
   "cell_type": "raw",
   "id": "ccbb83a2-5022-4d26-9e72-f450ee0ca796",
   "metadata": {},
   "source": [
    "## (B) Fourier\n",
    "\n",
    "Calcule la transformada rápida de Fourier para la función de la **Tarea 3 (D)** en el intervalo $[0,4]$ ($k$ máximo $2\\pi n/L$ para $n=25$). Ajuste la transformada de Fourier para los datos de la **Tarea 3** usando el método de regresión exacto de la **Tarea 3 (C)** y compare con el anterior resultado. Para ambos ejercicios haga una interpolación y grafique para comparar."
   ]
  },
  {
   "cell_type": "code",
   "execution_count": null,
   "id": "77f911d9-f823-4704-9f0f-45d3dafc5af5",
   "metadata": {},
   "outputs": [],
   "source": []
  }
 ],
 "metadata": {
  "kernelspec": {
   "display_name": "Python [conda env:fisi2028]",
   "language": "python",
   "name": "conda-env-fisi2028-py"
  },
  "language_info": {
   "codemirror_mode": {
    "name": "ipython",
    "version": 3
   },
   "file_extension": ".py",
   "mimetype": "text/x-python",
   "name": "python",
   "nbconvert_exporter": "python",
   "pygments_lexer": "ipython3",
   "version": "3.10.0"
  }
 },
 "nbformat": 4,
 "nbformat_minor": 5
}
