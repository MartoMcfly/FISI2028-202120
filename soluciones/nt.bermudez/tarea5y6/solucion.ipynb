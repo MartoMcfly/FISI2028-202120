{
 "cells": [
  {
   "cell_type": "code",
   "execution_count": 1,
   "id": "f9d282cc-eeed-48f9-b1f5-47c031fe6fba",
   "metadata": {},
   "outputs": [],
   "source": [
    "import numpy as np\n",
    "import pandas as pd\n",
    "import scipy as sp\n",
    "import sklearn as sl\n",
    "\n",
    "import seaborn as sns; sns.set()\n",
    "import matplotlib as mpl\n",
    "from matplotlib import pyplot as plt\n",
    "from mpl_toolkits.mplot3d import axes3d\n",
    "from matplotlib import cm\n",
    "%matplotlib inline"
   ]
  },
  {
   "cell_type": "markdown",
   "id": "5593b87f-f69e-4a14-a8ce-a496073b8819",
   "metadata": {},
   "source": [
    "# Tarea 5 y 6: Ecuación de difusión en 3 dimensiones\n",
    "\n",
    "Uds se preguntarán, ¿por qué vamos a resolver la ecuación de difusión? La respuesta no es muy obvia, pero es interesante: Los procesos de difusión comparten algo muy bonito con los procesos estocásticos. Para ello, vamos a analizar un problema de COVID: el tiempo medio estimado de infección de los viriones.\n",
    "\n",
    "La transmisión de COVID se da preponderamente debido a la aspersión de aerosoles en el aire. Estas partículas *semi*-esféricas -cuyo orden de magnitud es de $\\sim1-10\\,\\mu m$ de radio- están compuestas principalmente por agua, lípidos orgánicos y viriones (se pueden considerar *quasi*-puntuales ya que son del orden de los $\\sim100\\,nm$). Cuando una particula del aerosol entra y se adhiere al tracto respiratorio, el virus toma un tiempo en entrar en contacto con las células para infectar el huésped debido al movimiento Browniano. Los viriones, a diferencia de las bacterias, no cuentan con cilios, flagelos u otros mecanismos para desplazarse en los medios, por lo cual, su única esperanza es que por fluctuaciones térmicas puedan llegar a la superficie de la gota de aerosol para replicar su ADN al entrar en contacto con los tejidos susceptibles. Este proceso es en esencia estocástico y se puede modelar mediante la ecuación de Difusión. Esta ecuación tiene dos partes. La idea es que uds resuelvan el problema de la manera más sencilla. La ecuación es la siguiente,\n",
    "$$\n",
    "\\frac{\\partial\\Psi}{\\partial t}=D\\nabla^2\\Psi,\n",
    "$$\n",
    "donde $D$ es la constante de difusión del medio y $\\Psi$ es la concentración de partículas. La taza de difusión depende de la temperatura y la viscosidad del medio y se puede modelar usando la relación de Einstein-Stokes,\n",
    "$$\n",
    "D=\\frac{k_BT}{6\\pi\\eta a},\n",
    "$$\n",
    "siendo $k_B$ la constante de Boltzmann, $T$ la temperatura en grados Kelvin, $\\eta$ la viscosidad del medio y $a$ el radio de los viriones. En esencia, lo que la ecuación de difusión me está diciendo es que la concentración media de viriones depende de la posición y el tiempo. No obstante, para poder calcular el tiempo que tardaría un virión en alcanzar la superficie se puede modelar en la media usando la siguiente ecuación de difusión,\n",
    "$$\n",
    "-\\nabla^2\\tau=\\frac{1}{D},\n",
    "$$\n",
    "donde $\\tau$ es el tiempo medio que dependería de la posición en la que se encuentra inicialmente."
   ]
  },
  {
   "cell_type": "markdown",
   "id": "6d059ea9-92b0-4849-8ef4-3db1b7f7ec20",
   "metadata": {},
   "source": [
    "## 1. Escriba la ecuación de difusión para el tiempo $\\tau$ en coordenadas esféricas y asuma que $\\tau(r,\\theta,\\phi)\\simeq\\tau(r)$ ya que por simetría esférica sólo dependerá de la posición radial respecto al centro de la gotica (Usar **LaTex**)\n",
    "\n",
    "Tarea 5 y 6. Punto 1.\n",
    "\n",
    "Ecuación de Difusión.:$ $$\\displaystyle 1) \\ \\nabla ^{2} \\tau \\ =\\ \\frac{6\\eta \\pi \\alpha }{k_{B} T} \\ \\ \n",
    "$\n",
    "Luego:\n",
    "$\\displaystyle 2) \\ \\nabla ^{2} \\tau \\ \\ =\\ \\frac{1}{r^{2}}\\frac{\\partial }{\\partial r} \\ \\Bigl[ r^{2}\\frac{\\partial \\tau }{\\partial r}\\Bigr] \\ +\\ \\frac{1}{r^{2} sen\\theta }\\frac{\\partial }{\\partial \\theta } \\ \\Bigl[ sen\\theta \\frac{\\partial \\tau }{\\partial \\theta }\\Bigr] \\ +\\ \\frac{1}{r^{2} sen\\theta }\\frac{\\partial ^{2} \\tau }{\\partial \\varphi ^{2}} \\ $\n",
    "\n",
    "$\\displaystyle \\tau \\ $depende de r, entonces: \n",
    "\n",
    "$\\displaystyle 3)$ $\\displaystyle \\ \\nabla ^{2} \\tau \\ \\ =\\ \\frac{1}{r^{2}}\\frac{\\partial }{\\partial r} \\ \\left( r^{2}\\frac{\\partial \\tau }{\\partial r}\\right) \\ +0\\ +0$\n",
    "\n",
    "$\\displaystyle 4) \\ \\ \\frac{1}{r^{2}}\\frac{\\partial }{\\partial r} \\ \\left( r^{2}\\frac{\\partial \\tau }{\\partial r}\\right) \\ =-\\ \\frac{6\\eta \\pi \\alpha }{k_{B} T}$\n",
    "\n",
    "$\\displaystyle  \\begin{array}{{>{\\displaystyle}l}}\n",
    "5) \\ \\ \\frac{1}{r^{2}} \\ \\left(\\left( 2r\\frac{\\partial \\tau }{\\partial r} \\ \\ +\\ r^{2}\\frac{\\partial ^{2} \\tau }{\\partial r^{2}}\\right)\\right) \\ =-\\ \\frac{6\\eta \\pi \\alpha }{k_{B} T} \\ \\\\\n",
    "\\end{array}$\n",
    "$\\displaystyle 6) \\ \\ \\frac{\\partial ^{2} \\tau }{\\partial r^{2}} \\ \\ +\\ \\frac{2\\partial \\tau }{r\\partial r} \\ =-\\frac{6\\eta \\pi \\alpha }{k_{B} T} \\ $\n",
    "\n",
    "$\\displaystyle 7) \\ \\ \\frac{\\partial ^{2} \\tau }{\\partial r^{2}} \\ \\ +\\ \\frac{2\\partial \\tau }{r\\partial r} \\ +\\frac{6\\eta \\pi \\alpha }{k_{B} T} \\ =\\ 0\\ $"
   ]
  },
  {
   "cell_type": "markdown",
   "id": "99680b76-6d52-4096-83ab-d1379e7a9ee9",
   "metadata": {},
   "source": [
    "Ejemplo de una ecuación:\n",
    "$$\n",
    "f(x)=\\frac{1}{x^2}\n",
    "$$"
   ]
  },
  {
   "cell_type": "markdown",
   "id": "3f4121f6-7e73-4320-96c6-0a08b5e07dbe",
   "metadata": {},
   "source": [
    "## 2. Resuelva la ecuación diferencial para el tiempo de forma numérica y grafique\n",
    "\n",
    "Asuma las siguientes condiciones iniciales:\n",
    "1. $\\tau(R)=0$ ya que si el virión está en la superficie el tiempo debe ser naturalmente nulo.\n",
    "1. $\\tau^\\prime(r)=0$ ya que por simetría la derivada radial debe ser nula en el origen\n",
    "\n",
    "Suponga las siguientes condiciones:\n",
    "- $R=5\\mu m$ para el radio de la esfera de *quasi* agua (calcula el volumen $V$)\n",
    "- $\\eta_{\\text{H}_2\\text{O}}\\simeq1\\times10^{-3}\\,Pa\\cdot s$ (Pascales por segundo)\n",
    "- $\\frac{\\eta}{\\eta_{\\text{H}_2\\text{O}}}\\approx10^3\\to10^5$\n",
    "- $a\\simeq100\\,nm$\n",
    "- $V=\\frac{4}{3}\\pi a^3$\n",
    "- $k_BT\\simeq4.05\\times10^{-21}J$\n",
    "\n"
   ]
  },
  {
   "cell_type": "code",
   "execution_count": 2,
   "id": "d8f300c6-fde1-4bcc-9f30-dab09726f15d",
   "metadata": {},
   "outputs": [
    {
     "data": {
      "text/plain": [
       "[<matplotlib.lines.Line2D at 0x181a01390>]"
      ]
     },
     "execution_count": 2,
     "metadata": {},
     "output_type": "execute_result"
    },
    {
     "data": {
      "image/png": "[encoded data removed]",
      "text/plain": [
       "<Figure size 432x288 with 1 Axes>"
      ]
     },
     "metadata": {
      "needs_background": "light"
     },
     "output_type": "display_data"
    }
   ],
   "source": [
    "import numpy as np\n",
    "import pandas as pd\n",
    "import scipy as sp\n",
    "import sklearn as sl\n",
    "\n",
    "import matplotlib as mpl\n",
    "from matplotlib import pyplot as plt\n",
    "from mpl_toolkits.mplot3d import axes3d\n",
    "from matplotlib import cm\n",
    "get_ipython().run_line_magic('matplotlib', 'inline')\n",
    "\n",
    "eta = 1*10**(2)\n",
    "a = 1*10**(-7)\n",
    "D = (4.05*10**(-21))/(6*np.pi*eta*a)\n",
    "\n",
    "R = 5*10**(-6)\n",
    "N = 180\n",
    "dr = (R)/(N)\n",
    "\n",
    "c0 = 0\n",
    "cN = 0\n",
    "r = np.arange(0, R, dr)\n",
    "\n",
    "f = np.matrix([np.array([(r[i]-dr if j == i-1 and i > 0 else 0)for j in range(N)])for i in range(N) ]) \n",
    "f = f + np.matrix([np.array([(-2*r[i] if j == i else 0)for j in range(N)])for i in range(N) ]) \n",
    "f = f + np.matrix([np.array([(r[i]+dr if j == i+1 and i < N-1 else 0)for j in range(N)])for i in range(N) ]) \n",
    "\n",
    "f[0,:] = np.zeros(N)\n",
    "f[0,0] = 1\n",
    "f[0,1] = -1\n",
    "f[-1, -1] = 1\n",
    "\n",
    "c = (-r*(dr**2)/D)\n",
    "c[0] = c0\n",
    "c[-1] = cN\n",
    "c = np.matrix(c).T\n",
    "\n",
    "tau = np.array((np.linalg.inv(f)*c).T).flatten()\n",
    "r1 = np.arange(0,5,5/N)\n",
    "\n",
    "plt.plot(r1, tau,'b')\n"
   ]
  },
  {
   "cell_type": "markdown",
   "id": "a934f471-0cca-4297-91ff-cc29afb6b45f",
   "metadata": {},
   "source": [
    "## 3. Si los viriones están distribuidos uniformemente, encuentre el tiempo que tardaría un virión en salir de la gota de aerosol.\n",
    "\n",
    "Tenga presente que debe promediar suponiendo que el virión tiene una distribución uniforme, i.e. $\\rho\\left(\\vec{r}\\right)=1/V$, usando la siguiente relación,\n",
    "$$\n",
    "\\bar{\\tau} = \\int_{\\mathcal{V}}\\tau\\left(\\vec{r}\\right)\\rho\\left(\\vec{r}\\right)\\,\\text{d}\\vec{r} = \\frac{4\\pi}{V}\\int_{0}^{R}\\tau(r)\\,r^2\\text{d}r.\n",
    "$$\n",
    "Realice la integral numéricamente."
   ]
  },
  {
   "cell_type": "code",
   "execution_count": null,
   "id": "13e514c8-d448-407e-99d5-44053f8fd581",
   "metadata": {},
   "outputs": [],
   "source": []
  },
  {
   "cell_type": "markdown",
   "id": "f46b5ef1-3bdb-4041-8d8f-74f63a3c0ea1",
   "metadata": {},
   "source": [
    "## 4. Las cadenas de Markov.\n",
    "\n",
    "Vamos a resolver el problema anterior usando un proceso de Markov. Suponga que ud **divide** la esfera en cubitos de ancho $\\delta x=\\delta y=\\delta z=\\Delta=R/N$ con $N$ un número determinado de particiones. Para nuestro experimento, vamos a suponer que ponemos un virión en una posición inicial $\\vec{r}_0=(\\Delta\\,j, 0, 0)$, determinada por un índice $j\\in\\{0,1,2,\\dots,N\\}$. Ud va a actualizar la posición del virión en la malla discreta siguiendo las reglas a continuación:\n",
    "- Determine el número de divisiones $N$ y calcule $\\Delta$.\n",
    "- Ajuste la escala de tiempo $\\delta t$ y de tal manera que la probabilidad $\\alpha=D\\frac{\\delta t}{\\Delta^2}<\\frac{1}{6}$. (Recomiendo $\\leq1/12$)\n",
    "- Haga una corrida de Markov-Monte Carlo actualizando la posición con la probabilidad de transición $\\alpha$ hacia los primeros vecinos cercanos y calcule el número de pasos de tiempo para llegar a la superficie, i.e. $|\\vec{r}(t_m)|>R-\\Delta$\n",
    "- Repita este experimento para la misma posición un gran número de veces para obtener una estadística (media y desviación estándar).\n",
    "- Repita todos los pasos para todos los índices $j\\in\\{0,1,2,\\dots,N\\}$ y grafique. ¡Compare con los resultados anteriores!"
   ]
  },
  {
   "cell_type": "code",
   "execution_count": null,
   "id": "8e8402bc-e7cb-415b-9fa8-8acabcd26ca3",
   "metadata": {},
   "outputs": [],
   "source": []
  },
  {
   "cell_type": "markdown",
   "id": "7c45e596-7f05-4e91-9930-884635d3c14d",
   "metadata": {},
   "source": [
    "## 5. Diseñe un experimento para calcular el numeral (3) usando Markov-Monte Carlo"
   ]
  },
  {
   "cell_type": "code",
   "execution_count": null,
   "id": "57b92ff0-a866-4c82-ad60-ecb129a4e45b",
   "metadata": {},
   "outputs": [],
   "source": []
  }
 ],
 "metadata": {
  "kernelspec": {
   "display_name": "Python [conda env:fisi2028]",
   "language": "python",
   "name": "conda-env-fisi2028-py"
  },
  "language_info": {
   "codemirror_mode": {
    "name": "ipython",
    "version": 3
   },
   "file_extension": ".py",
   "mimetype": "text/x-python",
   "name": "python",
   "nbconvert_exporter": "python",
   "pygments_lexer": "ipython3",
   "version": "3.10.0"
  }
 },
 "nbformat": 4,
 "nbformat_minor": 5
}
