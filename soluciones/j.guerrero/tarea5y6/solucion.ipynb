{
 "cells": [
  {
   "cell_type": "code",
   "execution_count": 149,
   "id": "f9d282cc-eeed-48f9-b1f5-47c031fe6fba",
   "metadata": {},
   "outputs": [],
   "source": [
    "#import numpy as np\n",
    "#import pandas as pd\n",
    "#import scipy as sp\n",
    "#import sklearn as sl\n",
    "#\n",
    "#import seaborn as sns; sns.set()\n",
    "#import matplotlib as mpl\n",
    "#from matplotlib import pyplot as plt\n",
    "#from mpl_toolkits.mplot3d import axes3d\n",
    "#from matplotlib import cm\n",
    "#%matplotlib inline"
   ]
  },
  {
   "cell_type": "markdown",
   "id": "5593b87f-f69e-4a14-a8ce-a496073b8819",
   "metadata": {},
   "source": [
    "# Tarea 5 y 6: Ecuación de difusión en 3 dimensiones\n",
    "\n",
    "Uds se preguntarán, ¿por qué vamos a resolver la ecuación de difusión? La respuesta no es muy obvia, pero es interesante: Los procesos de difusión comparten algo muy bonito con los procesos estocásticos. Para ello, vamos a analizar un problema de COVID: el tiempo medio estimado de infección de los viriones.\n",
    "\n",
    "La transmisión de COVID se da preponderamente debido a la aspersión de aerosoles en el aire. Estas partículas *semi*-esféricas -cuyo orden de magnitud es de $\\sim1-10\\,\\mu m$ de radio- están compuestas principalmente por agua, lípidos orgánicos y viriones (se pueden considerar *quasi*-puntuales ya que son del orden de los $\\sim100\\,nm$). Cuando una particula del aerosol entra y se adhiere al tracto respiratorio, el virus toma un tiempo en entrar en contacto con las células para infectar el huésped debido al movimiento Browniano. Los viriones, a diferencia de las bacterias, no cuentan con cilios, flagelos u otros mecanismos para desplazarse en los medios, por lo cual, su única esperanza es que por fluctuaciones térmicas puedan llegar a la superficie de la gota de aerosol para replicar su ADN al entrar en contacto con los tejidos susceptibles. Este proceso es en esencia estocástico y se puede modelar mediante la ecuación de Difusión. Esta ecuación tiene dos partes. La idea es que uds resuelvan el problema de la manera más sencilla. La ecuación es la siguiente,\n",
    "$$\n",
    "\\frac{\\partial\\Psi}{\\partial t}=D\\nabla^2\\Psi,\n",
    "$$\n",
    "donde $D$ es la constante de difusión del medio y $\\Psi$ es la concentración de partículas. La taza de difusión depende de la temperatura y la viscosidad del medio y se puede modelar usando la relación de Einstein-Stokes,\n",
    "$$\n",
    "D=\\frac{k_BT}{6\\pi\\eta a},\n",
    "$$\n",
    "siendo $k_B$ la constante de Boltzmann, $T$ la temperatura en grados Kelvin, $\\eta$ la viscosidad del medio y $a$ el radio de los viriones. En esencia, lo que la ecuación de difusión me está diciendo es que la concentración media de viriones depende de la posición y el tiempo. No obstante, para poder calcular el tiempo que tardaría un virión en alcanzar la superficie se puede modelar en la media usando la siguiente ecuación de difusión,\n",
    "$$\n",
    "-\\nabla^2\\tau=\\frac{1}{D},\n",
    "$$\n",
    "donde $\\tau$ es el tiempo medio que dependería de la posición en la que se encuentra inicialmente."
   ]
  },
  {
   "cell_type": "markdown",
   "id": "6d059ea9-92b0-4849-8ef4-3db1b7f7ec20",
   "metadata": {},
   "source": [
    "## 1. Escriba la ecuación de difusión para el tiempo $\\tau$ en coordenadas esféricas y asuma que $\\tau(r,\\theta,\\phi)\\simeq\\tau(r)$ ya que por simetría esférica sólo dependerá de la posición radial respecto al centro de la gotica (Usar **LaTex**)"
   ]
  },
  {
   "cell_type": "markdown",
   "id": "b500a5d1-a5ad-424d-a450-5d5e1615c005",
   "metadata": {},
   "source": [
    "***\n",
    "se usa sympy para calcular el Laplaciano esférico e imprimir la expresión en $\\LaTeX$"
   ]
  },
  {
   "cell_type": "code",
   "execution_count": 150,
   "id": "e16f396d-782f-43cc-a31f-28d5d3bebc1c",
   "metadata": {},
   "outputs": [],
   "source": [
    "from sympy.vector import CoordSys3D, gradient, divergence\n",
    "from sympy import Symbol, Function, pi, Eq, latex, diff, integrate, dsolve, Rational\n",
    "\n",
    "S = CoordSys3D(\"S\",transformation='spherical', variable_names=[\"r\",\"theta\",\"phi\"],vector_names=[\"R\",\"Theta\",\"Phi\"])\n",
    "\n",
    "_kB = Symbol(\"k_{B}\")\n",
    "_T = Symbol(\"T\")\n",
    "_eta = Symbol(\"eta\")\n",
    "_a = Symbol(\"a\")\n",
    "_r = Symbol(\"r\")\n",
    "_R = Symbol(\"R\")\n",
    "_V = Rational(4,3)*pi*_R**3\n",
    "_D = _kB*_T/(6*pi*_eta*_a)\n",
    "\n",
    "_tau = Function(\"tau\")"
   ]
  },
  {
   "cell_type": "code",
   "execution_count": 151,
   "id": "b5b3fbed-f7dc-4b40-99bf-4900087dd7f7",
   "metadata": {},
   "outputs": [
    {
     "data": {
      "text/latex": [
       "$\\displaystyle \\frac{d^{2}}{d \\mathbf{{r}_{S}}^{2}} \\tau{\\left(\\mathbf{{r}_{S}} \\right)} + \\frac{2 \\frac{d}{d \\mathbf{{r}_{S}}} \\tau{\\left(\\mathbf{{r}_{S}} \\right)}}{\\mathbf{{r}_{S}}} = \\frac{6 \\pi a \\eta}{T k_{B}}$"
      ],
      "text/plain": [
       "Eq(Derivative(tau(S.r), (S.r, 2)) + 2*Derivative(tau(S.r), S.r)/S.r, 6*pi*a*eta/(T*k_{B}))"
      ]
     },
     "execution_count": 151,
     "metadata": {},
     "output_type": "execute_result"
    }
   ],
   "source": [
    "eq = Eq(\n",
    "    divergence(gradient(_tau(S.r))).simplify(),\n",
    "    1/_D\n",
    ")\n",
    "eq"
   ]
  },
  {
   "cell_type": "code",
   "execution_count": 152,
   "id": "3c0a06af-fbd9-4fab-bd52-f1f129690228",
   "metadata": {},
   "outputs": [
    {
     "name": "stdout",
     "output_type": "stream",
     "text": [
      "\\frac{d^{2}}{d \\mathbf{{r}_{S}}^{2}} \\tau{\\left(\\mathbf{{r}_{S}} \\right)} + \\frac{2 \\frac{d}{d \\mathbf{{r}_{S}}} \\tau{\\left(\\mathbf{{r}_{S}} \\right)}}{\\mathbf{{r}_{S}}} = \\frac{6 \\pi a \\eta}{T k_{B}}\n"
     ]
    }
   ],
   "source": [
    "print(latex(eq))"
   ]
  },
  {
   "cell_type": "markdown",
   "id": "99680b76-6d52-4096-83ab-d1379e7a9ee9",
   "metadata": {},
   "source": [
    "[**Escriba aquí**]\n",
    "\n",
    "$$\n",
    "\\frac{d^{2}}{d \\mathbf{{r}_{R}}^{2}} \\tau{\\left(\\mathbf{{r}_{R}} \\right)} + \\frac{2 \\frac{d}{d \\mathbf{{r}_{R}}} \\tau{\\left(\\mathbf{{r}_{R}} \\right)}}{\\mathbf{{r}_{R}}} = \\frac{6 \\pi a \\eta}{T k_{B}}\n",
    "$$\n",
    "\n",
    "Ejemplo de una ecuación:\n",
    "$$\n",
    "f(x)=\\frac{1}{x^2}\n",
    "$$"
   ]
  },
  {
   "cell_type": "markdown",
   "id": "7c479d6b-6d09-4a32-9cb9-6dcfe3a2b6a5",
   "metadata": {},
   "source": [
    "*** \n",
    "Esta ecuación es fácil de resolver analíticamente. Sympy puede, también:"
   ]
  },
  {
   "cell_type": "code",
   "execution_count": 153,
   "id": "ee110eed-5e8c-4945-8082-99ce25d0aaa7",
   "metadata": {},
   "outputs": [
    {
     "data": {
      "text/latex": [
       "$\\displaystyle \\tau{\\left(r \\right)} = \\frac{\\pi a \\eta \\left(R^{2} - r^{2}\\right)}{T k_{B}}$"
      ],
      "text/plain": [
       "Eq(tau(r), pi*a*eta*(R**2 - r**2)/(T*k_{B}))"
      ]
     },
     "execution_count": 153,
     "metadata": {},
     "output_type": "execute_result"
    }
   ],
   "source": [
    "# solución analítica\n",
    "\n",
    "_tau_sol = dsolve(\n",
    "    diff(_tau(_r),_r,_r)+2/_r*diff(_tau(_r),_r) + 1/_D,\n",
    "    _tau(_r),\n",
    "    ics={_tau(_R): 0, diff(_tau(_r), _r).subs(_r,0): 0}\n",
    ").simplify()\n",
    "_tau_sol"
   ]
  },
  {
   "cell_type": "markdown",
   "id": "03dab94e-e93c-4808-85dc-24501946302b",
   "metadata": {},
   "source": [
    "***"
   ]
  },
  {
   "cell_type": "markdown",
   "id": "3f4121f6-7e73-4320-96c6-0a08b5e07dbe",
   "metadata": {},
   "source": [
    "## 2. Resuelva la ecuación diferencial para el tiempo de forma numérica y grafique\n",
    "\n",
    "Asuma las siguientes condiciones iniciales:\n",
    "1. $\\tau(R)=0$ ya que si el virión está en la superficie el tiempo debe ser naturalmente nulo.\n",
    "1. $\\tau^\\prime(r)=0$ ya que por simetría la derivada radial debe ser nula en el origen\n",
    "\n",
    "Suponga las siguientes condiciones:\n",
    "- $R=5\\mu m$ para el radio de la esfera de *quasi* agua (calcula el volumen $V$)\n",
    "- $\\eta_{\\text{H}_2\\text{O}}\\simeq1\\times10^{-3}\\,Pa\\cdot s$ (Pascales por segundo)\n",
    "- $\\frac{\\eta}{\\eta_{\\text{H}_2\\text{O}}}\\approx10^3\\to10^5$\n",
    "- $a\\simeq100\\,nm$\n",
    "- $V=\\frac{4}{3}\\pi a^3$\n",
    "- $k_BT\\simeq4.05\\times10^{-21}J$"
   ]
  },
  {
   "cell_type": "markdown",
   "id": "a591a564-fa14-48bb-8c00-7e206493bb85",
   "metadata": {},
   "source": [
    "#### Constantes"
   ]
  },
  {
   "cell_type": "code",
   "execution_count": 154,
   "id": "dcb372ef-2a35-4c59-83bf-69062f9e75e9",
   "metadata": {},
   "outputs": [],
   "source": [
    "import numpy as np\n",
    "import matplotlib.pyplot as plt\n",
    "\n",
    "R = 5e-6 # m\n",
    "eta = 1e-3 # Pa s\n",
    "a = 1e-7 # m\n",
    "V = 4/3*np.pi*R**3 # m^3\n",
    "kT = 4.05e-21 # J\n",
    "D = kT/(6*np.pi*eta*a)"
   ]
  },
  {
   "cell_type": "code",
   "execution_count": 155,
   "id": "9638cb3d-a0e3-40b0-a986-729c0f5e8a3d",
   "metadata": {},
   "outputs": [
    {
     "data": {
      "text/plain": [
       "2.148591731740587e-12"
      ]
     },
     "execution_count": 155,
     "metadata": {},
     "output_type": "execute_result"
    }
   ],
   "source": [
    "D"
   ]
  },
  {
   "cell_type": "markdown",
   "id": "994e5074-b055-44b0-bfb8-f88d5fbd1fcf",
   "metadata": {},
   "source": [
    "***\n",
    "para la solución numérica separamos el sistema en dos ecuaciones, para tau y para su derivada\n",
    "\n",
    "$$\n",
    "v(r) = \\tau'(r)\n",
    "$$\n",
    "\n",
    "$$\n",
    "\\frac{2 v(r)}{r}+v'(r) + \\frac1D = 0\n",
    "$$\n",
    "\n",
    "$$\n",
    "v'(r) = -\\frac{2 v(r)}{r}-\\frac1D\n",
    "$$"
   ]
  },
  {
   "cell_type": "markdown",
   "id": "c8ba9d15-509e-4bb3-8323-40dcca8e86fb",
   "metadata": {},
   "source": [
    "#### Solución numérica como problema de valores de frontera:"
   ]
  },
  {
   "cell_type": "code",
   "execution_count": 156,
   "id": "f00e04c5-fbe1-44de-9993-8766f04838c4",
   "metadata": {},
   "outputs": [],
   "source": [
    "from scipy.integrate import solve_bvp\n",
    "\n",
    "def system(r,tau_v):\n",
    "    tau,v = tau_v\n",
    "    return np.array([v,-2*v/r-1/D])\n",
    "\n",
    "def boundary(tau_v_0,tau_v_R):\n",
    "    tau_0,v_0 = tau_v_0\n",
    "    tau_R,v_R = tau_v_R\n",
    "    return np.array([tau_R,v_0])\n",
    "\n",
    "xs = np.linspace(1e-12,R)\n",
    "ys = np.zeros((2,xs.size))\n",
    "ys[0,1] = 1\n",
    "sol = solve_bvp(system,boundary,xs,ys)"
   ]
  },
  {
   "cell_type": "markdown",
   "id": "36fe61b0-15df-4060-bebb-cf82449cfa33",
   "metadata": {},
   "source": [
    "### Gráfica de la solución numérica y analítica"
   ]
  },
  {
   "cell_type": "code",
   "execution_count": 157,
   "id": "1e0febee-4961-40cb-ad48-5d6feb528016",
   "metadata": {},
   "outputs": [
    {
     "data": {
      "text/plain": [
       "Text(0, 0.5, '$\\\\tau$ [s]')"
      ]
     },
     "execution_count": 157,
     "metadata": {},
     "output_type": "execute_result"
    },
    {
     "data": {
      "image/png": "[encoded data removed]",
      "text/plain": [
       "<Figure size 600x400 with 1 Axes>"
      ]
     },
     "metadata": {
      "needs_background": "light"
     },
     "output_type": "display_data"
    }
   ],
   "source": [
    "plt.figure(dpi=100)\n",
    "\n",
    "plt.plot(sol.x,sol.y[0],label='numérica')\n",
    "\n",
    "rs = np.linspace(0,R)\n",
    "plt.plot(rs,np.pi*a*eta/kT*(R**2-rs**2),'k',label='analítica',linewidth=3,linestyle=(0,(3,3)))\n",
    "\n",
    "plt.legend()\n",
    "plt.xlabel(\"R [m]\")\n",
    "plt.ylabel(\"$\\\\tau$ [s]\")"
   ]
  },
  {
   "cell_type": "markdown",
   "id": "a934f471-0cca-4297-91ff-cc29afb6b45f",
   "metadata": {},
   "source": [
    "## 3. Si los viriones están distribuidos uniformemente, encuentre el tiempo que tardaría un virión en salir de la gota de aerosol.\n",
    "\n",
    "Tenga presente que debe promediar suponiendo que el virión tiene una distribución uniforme, i.e. $\\rho\\left(\\vec{r}\\right)=1/V$, usando la siguiente relación,\n",
    "$$\n",
    "\\bar{\\tau} = \\int_{\\mathcal{V}}\\tau\\left(\\vec{r}\\right)\\rho\\left(\\vec{r}\\right)\\,\\text{d}\\vec{r} = \\frac{4\\pi}{V}\\int_{0}^{R}\\tau(r)\\,r^2\\text{d}r.\n",
    "$$\n",
    "Realice la integral numéricamente."
   ]
  },
  {
   "cell_type": "code",
   "execution_count": 158,
   "id": "91cc7610-8e4a-4124-8f45-a95dd8863327",
   "metadata": {},
   "outputs": [],
   "source": [
    "integrand = lambda r: sol.sol(r)[0]*r**2 * 4*np.pi/V"
   ]
  },
  {
   "cell_type": "code",
   "execution_count": 159,
   "id": "13e514c8-d448-407e-99d5-44053f8fd581",
   "metadata": {},
   "outputs": [],
   "source": [
    "from scipy.integrate import quad"
   ]
  },
  {
   "cell_type": "code",
   "execution_count": 160,
   "id": "636080e3-cb20-403d-ada9-f8635a19eb27",
   "metadata": {},
   "outputs": [
    {
     "data": {
      "text/plain": [
       "(0.7757018897752578, 8.612020982737364e-15)"
      ]
     },
     "execution_count": 160,
     "metadata": {},
     "output_type": "execute_result"
    }
   ],
   "source": [
    "# resultado, incertidumbre\n",
    "quad(integrand,0,R)"
   ]
  },
  {
   "cell_type": "markdown",
   "id": "abffcdd5-ffd7-4f4d-b26f-8a52d0aeef36",
   "metadata": {},
   "source": [
    "### Analíticamente"
   ]
  },
  {
   "cell_type": "code",
   "execution_count": 161,
   "id": "7a384210-1c17-4d95-98c3-bf4a0fa84d31",
   "metadata": {},
   "outputs": [
    {
     "data": {
      "text/latex": [
       "$\\displaystyle \\frac{\\pi a \\eta \\left(R^{2} - r^{2}\\right)}{T k_{B}}$"
      ],
      "text/plain": [
       "pi*a*eta*(R**2 - r**2)/(T*k_{B})"
      ]
     },
     "execution_count": 161,
     "metadata": {},
     "output_type": "execute_result"
    }
   ],
   "source": [
    "_tau = _tau_sol.rhs\n",
    "_tau"
   ]
  },
  {
   "cell_type": "code",
   "execution_count": 162,
   "id": "5ec698aa-de18-4e9f-b4b1-8643bb475cfb",
   "metadata": {},
   "outputs": [
    {
     "data": {
      "text/latex": [
       "$\\displaystyle \\frac{2 \\pi R^{2} a \\eta}{5 T k_{B}}$"
      ],
      "text/plain": [
       "2*pi*R**2*a*eta/(5*T*k_{B})"
      ]
     },
     "execution_count": 162,
     "metadata": {},
     "output_type": "execute_result"
    }
   ],
   "source": [
    "4*pi/_V*integrate(_tau*_r**2,(_r,0,_R))"
   ]
  },
  {
   "cell_type": "code",
   "execution_count": 163,
   "id": "db5ae8d0-4f68-4b2a-b080-de9ff443169e",
   "metadata": {},
   "outputs": [
    {
     "data": {
      "text/plain": [
       "0.7757018897752578"
      ]
     },
     "execution_count": 163,
     "metadata": {},
     "output_type": "execute_result"
    }
   ],
   "source": [
    "tau_mean = 2*np.pi*R**2*a*eta / (5*kT)\n",
    "tau_mean"
   ]
  },
  {
   "cell_type": "markdown",
   "id": "f46b5ef1-3bdb-4041-8d8f-74f63a3c0ea1",
   "metadata": {},
   "source": [
    "## 4. Las cadenas de Markov.\n",
    "\n",
    "Vamos a resolver el problema anterior usando un proceso de Markov. Suponga que ud **divide** la esfera en cubitos de ancho $\\delta x=\\delta y=\\delta z=\\Delta=R/N$ con $N$ un número determinado de particiones. Para nuestro experimento, vamos a suponer que ponemos un virión en una posición inicial $\\vec{r}_0=(\\Delta\\,j, 0, 0)$, determinada por un índice $j\\in\\{0,1,2,\\dots,N\\}$. Ud va a actualizar la posición del virión en la malla discreta siguiendo las reglas a continuación:\n",
    "- Determine el número de divisiones $N$ y calcule $\\Delta$.\n",
    "- Ajuste la escala de tiempo $\\delta t$ y de tal manera que la probabilidad $\\alpha=D\\frac{\\delta t}{\\Delta^2}<\\frac{1}{6}$. (Recomiendo $\\leq1/12$)\n",
    "- Haga una corrida de Markov-Monte Carlo actualizando la posición con la probabilidad de transición $\\alpha$ hacia los primeros vecinos cercanos y calcule el número de pasos de tiempo para llegar a la superficie, i.e. $|\\vec{r}(t_m)|>R-\\Delta$\n",
    "- Repita este experimento para la misma posición un gran número de veces para obtener una estadística (media y desviación estándar).\n",
    "- Repita todos los pasos para todos los índices $j\\in\\{0,1,2,\\dots,N\\}$ y grafique. ¡Compare con los resultados anteriores!"
   ]
  },
  {
   "cell_type": "code",
   "execution_count": 164,
   "id": "8e8402bc-e7cb-415b-9fa8-8acabcd26ca3",
   "metadata": {},
   "outputs": [],
   "source": [
    "from tqdm import tqdm\n",
    "N = 15\n",
    "Δ = R/N"
   ]
  },
  {
   "cell_type": "code",
   "execution_count": 165,
   "id": "ec833a37-7403-4fd2-a939-c367ca96952d",
   "metadata": {},
   "outputs": [
    {
     "data": {
      "text/plain": [
       "True"
      ]
     },
     "execution_count": 165,
     "metadata": {},
     "output_type": "execute_result"
    }
   ],
   "source": [
    "δt = Δ**2/(13*D)\n",
    "α = D*δt/Δ**2\n",
    "α < 1/12"
   ]
  },
  {
   "cell_type": "code",
   "execution_count": 166,
   "id": "2bbd1033-d092-45d6-983c-a2c79c272d49",
   "metadata": {},
   "outputs": [],
   "source": [
    "n = round(7/δt)"
   ]
  },
  {
   "cell_type": "code",
   "execution_count": 167,
   "id": "7f1d1f60-2d38-4651-b534-25f9165a413c",
   "metadata": {},
   "outputs": [],
   "source": [
    "movements = np.array([ [0,0,0], [1,0,0], [0,1,0], [0,0,1], [-1,0,0], [0,-1,0], [0,0,-1] ])\n",
    "p = [1-6*α]+[α]*6 # probability α of moving to each nearest neighbour\n",
    "def tau_MCMC(r0,repetitions=100):\n",
    "    \"\"\"Simulates the time that take for a random walker to escape a sphere of size N (in Δ units) starting from r0 (in Δ units) \n",
    "    Returns several of these times, as requested by the number of repetitions.\n",
    "    Depends on the external (global) parameters α,movements,p,δt,N and n.\n",
    "    Giving R,N and D, the reccomended values are:\n",
    "    >>> δt = Δ**2/(13*D)\n",
    "    >>> α = D*δt/Δ**2\n",
    "    >>> n = round(20/δt)\n",
    "    >>> movements = np.array([ [0,0,0], [1,0,0], [0,1,0], [0,0,1], [-1,0,0], [0,-1,0], [0,0,-1] ])\n",
    "    >>> p = [1-6*α]+[α]*6\n",
    "    \"\"\"\n",
    "    movement_indexes = np.random.choice(range(7),p=p,size=(repetitions,n))\n",
    "    positions = np.cumsum(movements[movement_indexes],axis=1)+r0\n",
    "    magnitudes = np.linalg.norm(positions,axis=2)\n",
    "    escape_times = δt*np.argmax(magnitudes >= N,axis=1)\n",
    "    return escape_times"
   ]
  },
  {
   "cell_type": "code",
   "execution_count": 168,
   "id": "5bc9f15f-17ee-4bcc-a05e-8f60498c5b44",
   "metadata": {},
   "outputs": [
    {
     "name": "stderr",
     "output_type": "stream",
     "text": [
      "100%|█████████████████████████████████████████████████████████████████████████████████████████████████████████████████████████████████████████| 16/16 [00:28<00:00,  1.80s/it]\n"
     ]
    }
   ],
   "source": [
    "Ns = np.arange(0,N+1)\n",
    "means = np.zeros(N+1)\n",
    "stds = np.zeros(N+1)\n",
    "for j in tqdm(Ns):\n",
    "    samples = tau_MCMC(np.array([j,0,0]),500)\n",
    "    means[j] = samples.mean()\n",
    "    stds[j] = samples.std()"
   ]
  },
  {
   "cell_type": "code",
   "execution_count": 169,
   "id": "99b9c930-cb75-46ab-80ac-a14918dc40c1",
   "metadata": {},
   "outputs": [
    {
     "data": {
      "text/plain": [
       "Text(0, 0.5, '$\\\\tau$ [s]')"
      ]
     },
     "execution_count": 169,
     "metadata": {},
     "output_type": "execute_result"
    },
    {
     "data": {
      "image/png": "[encoded data removed]",
      "text/plain": [
       "<Figure size 600x400 with 1 Axes>"
      ]
     },
     "metadata": {
      "needs_background": "light"
     },
     "output_type": "display_data"
    }
   ],
   "source": [
    "plt.figure(dpi=100)\n",
    "\n",
    "plt.errorbar(Δ*Ns,means,yerr=stds,label=\"MCMC\",fmt=\"o-\",capsize=4,lolims=0)\n",
    "plt.plot(rs,np.pi*a*eta/kT*(R**2-rs**2),'k',label='analítica',linewidth=3,linestyle=(0,(3,3)),zorder=10)\n",
    "plt.legend()\n",
    "plt.xlabel(\"R [m]\")\n",
    "plt.ylabel(\"$\\\\tau$ [s]\")"
   ]
  },
  {
   "cell_type": "code",
   "execution_count": null,
   "id": "65a1f63a-ce5e-4539-801c-5184f50f9eae",
   "metadata": {},
   "outputs": [],
   "source": []
  },
  {
   "cell_type": "markdown",
   "id": "7c45e596-7f05-4e91-9930-884635d3c14d",
   "metadata": {},
   "source": [
    "## 5. Diseñe un experimento para calcular el numeral (3) usando Markov-Monte Carlo"
   ]
  },
  {
   "cell_type": "code",
   "execution_count": 170,
   "id": "57b92ff0-a866-4c82-ad60-ecb129a4e45b",
   "metadata": {},
   "outputs": [],
   "source": [
    "def spherical_points(radius=1,size=None):\n",
    "    \"\"\"sample several spherical points uniformly distributed\"\"\"\n",
    "    ϕ = np.random.uniform(0,2*np.pi,size=size)\n",
    "    cosθ = np.random.uniform(-1,1,size=size)\n",
    "    r3 = np.random.uniform(0,1,size=size)\n",
    "    θ = np.arccos(cosθ)\n",
    "    r = radius*np.cbrt(r3)\n",
    "    \n",
    "    sinθ = np.sin(θ)\n",
    "    sinϕ = np.sin(ϕ)\n",
    "    cosϕ = np.cos(ϕ)\n",
    "    \n",
    "    x = sinθ*cosϕ\n",
    "    y = sinθ*sinϕ\n",
    "    z = cosθ\n",
    "    return (r * np.array([x,y,z])).T\n",
    "\n",
    "N = 50\n",
    "Δ = R/N\n",
    "δt = Δ**2/(13*D)\n",
    "α = D*δt/Δ**2\n",
    "n = round(7/δt)\n",
    "\n",
    "p = [1-6*α]+[α]*6 # probability α of movint to each nearest neighbour\n",
    "def tau_MCMC(r0,repetitions=100):\n",
    "    movement_indexes = np.random.choice(range(7),p=p,size=(repetitions,n))\n",
    "    positions = np.cumsum(movements[movement_indexes],axis=1)+r0\n",
    "    magnitudes = np.linalg.norm(positions,axis=2)\n",
    "    escape_times = δt*np.argmax(magnitudes >= N,axis=1)\n",
    "    return escape_times"
   ]
  },
  {
   "cell_type": "code",
   "execution_count": 171,
   "id": "a7908fcb-3fbe-472f-adbc-2a4f43d5d781",
   "metadata": {},
   "outputs": [
    {
     "name": "stderr",
     "output_type": "stream",
     "text": [
      "100%|████████████████████████████████████████████████████████████████████████████████████████████████████████████████████████████████████| 3000/3000 [00:06<00:00, 444.35it/s]\n"
     ]
    }
   ],
   "source": [
    "n_points = 3000\n",
    "trials_per_point = 1\n",
    "\n",
    "spherical_r0 = spherical_points(radius=N,size=n_points)\n",
    "times = np.zeros((n_points,trials_per_point))\n",
    "for i in tqdm(range(n_points)):\n",
    "    times[i] = tau_MCMC(spherical_r0[i],trials_per_point)"
   ]
  },
  {
   "cell_type": "code",
   "execution_count": 172,
   "id": "365aabb7-f0f3-4f17-814d-3ab087dcef94",
   "metadata": {},
   "outputs": [],
   "source": [
    "times = times.flatten()"
   ]
  },
  {
   "cell_type": "code",
   "execution_count": 173,
   "id": "95e37a4c-7114-401e-a4d6-e48e1e42ba72",
   "metadata": {},
   "outputs": [
    {
     "name": "stdout",
     "output_type": "stream",
     "text": [
      "0.796 ± 1.024\n"
     ]
    }
   ],
   "source": [
    "print(f\"{times.mean():.3f} ± {times.std():.3f}\")"
   ]
  },
  {
   "cell_type": "markdown",
   "id": "9b044b3b-5527-4bb8-82b9-320f1c3e4062",
   "metadata": {},
   "source": [
    "recordemos el teórico:"
   ]
  },
  {
   "cell_type": "code",
   "execution_count": 174,
   "id": "b447b2d5-1cb5-4fb4-b9b7-599c1402e220",
   "metadata": {},
   "outputs": [
    {
     "data": {
      "text/plain": [
       "0.7757018897752578"
      ]
     },
     "execution_count": 174,
     "metadata": {},
     "output_type": "execute_result"
    }
   ],
   "source": [
    "tau_mean"
   ]
  },
  {
   "cell_type": "code",
   "execution_count": null,
   "id": "6919a77a-e5ef-4bd3-9592-dd6994661bb3",
   "metadata": {},
   "outputs": [],
   "source": []
  },
  {
   "cell_type": "code",
   "execution_count": null,
   "id": "e155bb1c-15ff-4a2f-89a2-a4fbcea3bcda",
   "metadata": {},
   "outputs": [],
   "source": []
  }
 ],
 "metadata": {
  "kernelspec": {
   "display_name": "Python 3 (ipykernel)",
   "language": "python",
   "name": "python3"
  },
  "language_info": {
   "codemirror_mode": {
    "name": "ipython",
    "version": 3
   },
   "file_extension": ".py",
   "mimetype": "text/x-python",
   "name": "python",
   "nbconvert_exporter": "python",
   "pygments_lexer": "ipython3",
   "version": "3.9.7"
  }
 },
 "nbformat": 4,
 "nbformat_minor": 5
}
