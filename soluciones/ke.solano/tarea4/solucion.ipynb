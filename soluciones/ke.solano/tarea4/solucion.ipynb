{
 "cells": [
  {
   "cell_type": "code",
   "execution_count": 1,
   "id": "d1ccebb5",
   "metadata": {},
   "outputs": [],
   "source": [
    "import numpy as np\n",
    "import pandas as pd\n",
    "import scipy as sp\n",
    "import sklearn as sl\n",
    "import seaborn as sns; sns.set()\n",
    "import matplotlib as mpl\n",
    "import matplotlib.pyplot as plt\n",
    "# embeber en los cuadernos interactivos la salida de matplotlib\n",
    "%matplotlib inline\n",
    "from scipy.fft import fft"
   ]
  },
  {
   "cell_type": "code",
   "execution_count": 2,
   "id": "e2283e21",
   "metadata": {},
   "outputs": [],
   "source": [
    "# Método del trapecio\n",
    "def Integral(f, x_i, x_f):\n",
    "    n = 100000\n",
    "    x, h = np.linspace(x_i, x_f, n + 1, retstep = True) #grilla\n",
    "    return (0.5)*h*f(x[0] + f(x[-1])) + h*np.sum(f(x[1:-1]))"
   ]
  },
  {
   "cell_type": "markdown",
   "id": "25098275",
   "metadata": {},
   "source": [
    "# Tarea 4\n",
    "#### Con base a los métodos vistos en clase resuelva las siguientes dos preguntas\n",
    "\n",
    "#### (A) Integrales\n",
    "$\\int_{0}^{1}x^{-1/2}\\,\\text{d}x$\n"
   ]
  },
  {
   "cell_type": "code",
   "execution_count": 3,
   "id": "e0ad845f",
   "metadata": {},
   "outputs": [],
   "source": [
    "def f(x):\n",
    "    return  x**(-0.5)"
   ]
  },
  {
   "cell_type": "markdown",
   "id": "e14b3bc1",
   "metadata": {},
   "source": [
    "$\\int_{0}^{\\infty}e^{-x}\\ln{x}\\,\\text{d}x$"
   ]
  },
  {
   "cell_type": "code",
   "execution_count": 4,
   "id": "7f8e220e",
   "metadata": {},
   "outputs": [],
   "source": [
    "def g(x):\n",
    "    return  (np.e**(-x))*(np.log(x))\n",
    "#(0.001, 1000)"
   ]
  },
  {
   "cell_type": "markdown",
   "id": "b16f4ba0",
   "metadata": {},
   "source": [
    "$\\int_{0}^{\\infty}\\frac{\\sin{x}}{x}\\,\\text{d}x$"
   ]
  },
  {
   "cell_type": "code",
   "execution_count": 5,
   "id": "77e7ddf0",
   "metadata": {},
   "outputs": [],
   "source": [
    "def h(x):\n",
    "    return  np.sin(x)/x\n",
    "#(0, 100)"
   ]
  },
  {
   "cell_type": "markdown",
   "id": "ea099b7a",
   "metadata": {},
   "source": [
    "## Resultado: "
   ]
  },
  {
   "cell_type": "code",
   "execution_count": 6,
   "id": "15cc09ba",
   "metadata": {},
   "outputs": [
    {
     "name": "stdout",
     "output_type": "stream",
     "text": [
      "El resultado de la integral de la función f es: 1.9953819535566988\n"
     ]
    }
   ],
   "source": [
    "print(\"El resultado de la integral de la función f es:\", Integral(f, 0, 1))"
   ]
  },
  {
   "cell_type": "code",
   "execution_count": 7,
   "id": "719eabc1",
   "metadata": {},
   "outputs": [
    {
     "name": "stdout",
     "output_type": "stream",
     "text": [
      "El resultado de la integral de la función g es: -0.5744849001125716 aproximadamente\n"
     ]
    }
   ],
   "source": [
    "print(\"El resultado de la integral de la función g es:\", Integral(g, 0.001, 1000), \"aproximadamente\")"
   ]
  },
  {
   "cell_type": "code",
   "execution_count": 8,
   "id": "0d28793a",
   "metadata": {},
   "outputs": [
    {
     "name": "stdout",
     "output_type": "stream",
     "text": [
      "El resultado de la integral de la función h es: 1.5622279973033653 aproximadamente\n"
     ]
    }
   ],
   "source": [
    "print(\"El resultado de la integral de la función h es:\", Integral(h, 0, 100), \"aproximadamente\")"
   ]
  },
  {
   "cell_type": "markdown",
   "id": "5caf0c3d",
   "metadata": {},
   "source": [
    "## (B) Fourier\n",
    "\n",
    "Calcule la transformada rápida de Fourier para la función de la Tarea 3 (D) en el intervalo $[0,4]$ ($k$ máximo $2\\pi n/L$ para $n=25$). "
   ]
  },
  {
   "cell_type": "code",
   "execution_count": 10,
   "id": "5ef0f3e3",
   "metadata": {},
   "outputs": [],
   "source": [
    "df = pd.read_pickle(r\"ex1.gz\")"
   ]
  },
  {
   "cell_type": "markdown",
   "id": "ee77723d",
   "metadata": {},
   "source": [
    "## Sea la función f(x) \n",
    "$$f(x)=\\frac{0.94519587}{\\left[(x-1.43859817)^2+(0.7390972)\\right]^\\gamma}$$\n",
    "\n",
    "Donde 𝛾 = 1.12724243\n"
   ]
  },
  {
   "cell_type": "code",
   "execution_count": 11,
   "id": "14ea6442",
   "metadata": {},
   "outputs": [],
   "source": [
    "X = df[\"x\"]\n",
    "y = df[\"y\"]\n",
    "\n",
    "def f(x): \n",
    "    return (0.94519587)/((x-1.43859817)**2 + 0.7390972)**(1.12724243)\n",
    "\n",
    "x = f(X)"
   ]
  },
  {
   "cell_type": "code",
   "execution_count": 12,
   "id": "f2adda6e",
   "metadata": {},
   "outputs": [],
   "source": [
    "Nf = 25\n",
    "a = np.min(x)\n",
    "b = np.max(x)\n",
    "def a_j(j):\n",
    "    global a, b, x, y\n",
    "    L = b - a\n",
    "    k_j = 2*np.pi*j/4\n",
    "    new_y = y*np.cos(k_j*x)/L\n",
    "    if j > 0:\n",
    "        new_y = new_y*2\n",
    "    return sp.integrate.simpson(new_y, x)\n",
    "\n",
    "def b_j(j):\n",
    "    global a, b, x, y\n",
    "    L = b - a\n",
    "    k_j = 2*np.pi*j/4\n",
    "    new_y = y*np.sin(k_j*x)/L\n",
    "    if j > 0:\n",
    "        new_y = new_y*2\n",
    "    return sp.integrate.simpson(new_y, x)\n",
    "   \n",
    "A_j = np. array([a_j(j) for j in range(Nf)])\n",
    "B_j = np. array([b_j(j) for j in range(Nf)])\n",
    "K_j = np. array([2*np.pi*j/4 for j in range(Nf)])"
   ]
  },
  {
   "cell_type": "code",
   "execution_count": 13,
   "id": "c4363fc9",
   "metadata": {},
   "outputs": [],
   "source": [
    "#Tansformada\n",
    "x_tilde = np.linspace(0, 4, 100000) \n",
    "y_tilde = np.sum([(A_j[j]*np.cos(K_j[j]*x_tilde) + B_j[j]*np.sin(K_j[j]*x_tilde)) for j in range(Nf)  ], axis=0)"
   ]
  },
  {
   "cell_type": "code",
   "execution_count": 14,
   "id": "084ce6dd",
   "metadata": {},
   "outputs": [
    {
     "data": {
      "image/png": "[encoded data removed]",
      "text/plain": [
       "<Figure size 432x288 with 1 Axes>"
      ]
     },
     "metadata": {
      "needs_background": "light"
     },
     "output_type": "display_data"
    }
   ],
   "source": [
    "plt.plot(x_tilde,y_tilde, label = \"datos\")\n",
    "plt.legend(loc=\"upper right\")\n",
    "plt.title(\"Transformada de Fourier para la función f(x)\")\n",
    "plt.ylabel('F(f(x))')\n",
    "plt.xlabel('x')\n",
    "plt.show()"
   ]
  },
  {
   "cell_type": "markdown",
   "id": "490a9166",
   "metadata": {},
   "source": [
    "Ajuste la transformada de Fourier para los datos de la Tarea 3 usando el método de regresión exacto de la Tarea 3 (C) y compare con el anterior resultado. Para ambos ejercicios haga una interpolación y grafique para comparar."
   ]
  },
  {
   "cell_type": "code",
   "execution_count": 15,
   "id": "7d5466c6",
   "metadata": {},
   "outputs": [],
   "source": [
    "X = np.array(x_tilde).reshape(-1, 1)\n",
    "Y = np.array(y_tilde).reshape(-1, 1)"
   ]
  },
  {
   "cell_type": "code",
   "execution_count": 16,
   "id": "79132b56",
   "metadata": {},
   "outputs": [],
   "source": [
    "P = np.array([np.ones([len(x_tilde), 1]), X, X**2, X**3, X**4, X**5]).reshape(6, len(x_tilde)).T\n",
    "coeffs = np.linalg.inv(P.T @ P)@ P.T @ Y\n",
    "\n",
    "b, c1, c2, c3, c4, c5 = coeffs"
   ]
  },
  {
   "cell_type": "code",
   "execution_count": 17,
   "id": "b043ea3d",
   "metadata": {},
   "outputs": [],
   "source": [
    "Ajuste = b + (c1*X) + (c2*X**2) + (c3*X**3) +  (c4*X**4) + (c5*X**5)"
   ]
  },
  {
   "cell_type": "code",
   "execution_count": 18,
   "id": "993867b3",
   "metadata": {},
   "outputs": [
    {
     "data": {
      "image/png": "[encoded data removed]",
      "text/plain": [
       "<Figure size 432x288 with 1 Axes>"
      ]
     },
     "metadata": {
      "needs_background": "light"
     },
     "output_type": "display_data"
    }
   ],
   "source": [
    "plt.figure()\n",
    "plt.plot(x_tilde,y_tilde, label = \"datos\")\n",
    "plt.plot(X, Ajuste, c ='k', label = \"Ajuste\")\n",
    "plt.legend(loc=\"upper right\")\n",
    "plt.title(\"Regresión polinomial exacta\")\n",
    "plt.ylabel('F(f(x))')\n",
    "plt.xlabel('x')\n",
    "plt.show()"
   ]
  },
  {
   "cell_type": "markdown",
   "id": "db28484c",
   "metadata": {},
   "source": [
    "Con el ajuste se puede ver que no la transformada hace que este ajuste esté muy cerca de cero en la mayoria de los valores. "
   ]
  },
  {
   "cell_type": "code",
   "execution_count": null,
   "id": "1781bed4",
   "metadata": {},
   "outputs": [],
   "source": []
  },
  {
   "cell_type": "code",
   "execution_count": null,
   "id": "bbb62e85-9d27-4aa3-8ba7-c14a489f8cff",
   "metadata": {},
   "outputs": [],
   "source": []
  }
 ],
 "metadata": {
  "kernelspec": {
   "display_name": "Python [conda env:fisi2028]",
   "language": "python",
   "name": "conda-env-fisi2028-py"
  },
  "language_info": {
   "codemirror_mode": {
    "name": "ipython",
    "version": 3
   },
   "file_extension": ".py",
   "mimetype": "text/x-python",
   "name": "python",
   "nbconvert_exporter": "python",
   "pygments_lexer": "ipython3",
   "version": "3.10.0"
  }
 },
 "nbformat": 4,
 "nbformat_minor": 5
}
