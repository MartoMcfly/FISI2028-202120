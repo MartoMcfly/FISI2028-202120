{
 "cells": [
  {
   "cell_type": "code",
   "execution_count": 1,
   "id": "c2c31ee4",
   "metadata": {},
   "outputs": [],
   "source": [
    "import numpy as np\n",
    "import pandas as pd\n",
    "import scipy as sp\n",
    "import sklearn as sl\n",
    "\n",
    "import seaborn as sns; sns.set()\n",
    "import matplotlib as mpl\n",
    "from matplotlib import pyplot as plt\n",
    "from mpl_toolkits.mplot3d import axes3d\n",
    "from matplotlib import cm\n",
    "%matplotlib inline"
   ]
  },
  {
   "cell_type": "markdown",
   "id": "3cf1b9b5",
   "metadata": {},
   "source": [
    "### Tarea 3: Encuentre la regresión\n",
    "Ud recibe unos datos $x$ y $y$ cómo se muestran a continuación. Ud debe responder cuatro preguntas a partir de estos datos. Suponga que ud tiene un modelo tal que $y=f(x)$ más aún desconoce $f$."
   ]
  },
  {
   "cell_type": "code",
   "execution_count": 2,
   "id": "0477de42",
   "metadata": {},
   "outputs": [
    {
     "data": {
      "image/png": "[encoded data removed]",
      "text/plain": [
       "<Figure size 432x288 with 1 Axes>"
      ]
     },
     "metadata": {
      "needs_background": "light"
     },
     "output_type": "display_data"
    },
    {
     "data": {
      "text/html": [
       "<div>\n",
       "<style scoped>\n",
       "    .dataframe tbody tr th:only-of-type {\n",
       "        vertical-align: middle;\n",
       "    }\n",
       "\n",
       "    .dataframe tbody tr th {\n",
       "        vertical-align: top;\n",
       "    }\n",
       "\n",
       "    .dataframe thead th {\n",
       "        text-align: right;\n",
       "    }\n",
       "</style>\n",
       "<table border=\"1\" class=\"dataframe\">\n",
       "  <thead>\n",
       "    <tr style=\"text-align: right;\">\n",
       "      <th></th>\n",
       "      <th>x</th>\n",
       "      <th>y</th>\n",
       "    </tr>\n",
       "  </thead>\n",
       "  <tbody>\n",
       "    <tr>\n",
       "      <th>0</th>\n",
       "      <td>0.065859</td>\n",
       "      <td>0.277413</td>\n",
       "    </tr>\n",
       "    <tr>\n",
       "      <th>1</th>\n",
       "      <td>0.020931</td>\n",
       "      <td>0.202239</td>\n",
       "    </tr>\n",
       "    <tr>\n",
       "      <th>2</th>\n",
       "      <td>0.070312</td>\n",
       "      <td>0.307369</td>\n",
       "    </tr>\n",
       "    <tr>\n",
       "      <th>3</th>\n",
       "      <td>0.206166</td>\n",
       "      <td>0.367530</td>\n",
       "    </tr>\n",
       "    <tr>\n",
       "      <th>4</th>\n",
       "      <td>0.286572</td>\n",
       "      <td>0.491144</td>\n",
       "    </tr>\n",
       "    <tr>\n",
       "      <th>...</th>\n",
       "      <td>...</td>\n",
       "      <td>...</td>\n",
       "    </tr>\n",
       "    <tr>\n",
       "      <th>95</th>\n",
       "      <td>3.922613</td>\n",
       "      <td>0.225565</td>\n",
       "    </tr>\n",
       "    <tr>\n",
       "      <th>96</th>\n",
       "      <td>3.898473</td>\n",
       "      <td>0.000000</td>\n",
       "    </tr>\n",
       "    <tr>\n",
       "      <th>97</th>\n",
       "      <td>3.952111</td>\n",
       "      <td>0.141005</td>\n",
       "    </tr>\n",
       "    <tr>\n",
       "      <th>98</th>\n",
       "      <td>3.939211</td>\n",
       "      <td>0.115500</td>\n",
       "    </tr>\n",
       "    <tr>\n",
       "      <th>99</th>\n",
       "      <td>3.987120</td>\n",
       "      <td>0.048689</td>\n",
       "    </tr>\n",
       "  </tbody>\n",
       "</table>\n",
       "<p>100 rows × 2 columns</p>\n",
       "</div>"
      ],
      "text/plain": [
       "           x         y\n",
       "0   0.065859  0.277413\n",
       "1   0.020931  0.202239\n",
       "2   0.070312  0.307369\n",
       "3   0.206166  0.367530\n",
       "4   0.286572  0.491144\n",
       "..       ...       ...\n",
       "95  3.922613  0.225565\n",
       "96  3.898473  0.000000\n",
       "97  3.952111  0.141005\n",
       "98  3.939211  0.115500\n",
       "99  3.987120  0.048689\n",
       "\n",
       "[100 rows x 2 columns]"
      ]
     },
     "execution_count": 2,
     "metadata": {},
     "output_type": "execute_result"
    }
   ],
   "source": [
    "df = pd.read_pickle(r\"ex1.gz\")\n",
    "sns.scatterplot(x ='x',y ='y',data=df, label = \"Datos\")\n",
    "plt.legend(loc=\"upper right\")\n",
    "plt.show()\n",
    "df"
   ]
  },
  {
   "cell_type": "markdown",
   "id": "2f5c6c07",
   "metadata": {},
   "source": [
    "## (A) Pendiente e intercepto\n",
    "Determine la pendiente de los datos en el intervalo $[0,1.5]$ y el valor del intercepto con el eje $y$. Es decir, $f(0)=?$. ¿Cuál es el valor de $r^2$?"
   ]
  },
  {
   "cell_type": "code",
   "execution_count": 3,
   "id": "57d60a98",
   "metadata": {},
   "outputs": [],
   "source": [
    "lx = df[\"x\"]\n",
    "ly = df[\"y\"]"
   ]
  },
  {
   "cell_type": "code",
   "execution_count": 4,
   "id": "81541c41",
   "metadata": {},
   "outputs": [],
   "source": [
    "xt = []\n",
    "yt = []\n",
    "for i in range(len(lx)):\n",
    "    if(0 <= lx[i] <= 1.5):\n",
    "        xt.append(lx[i])\n",
    "        yt.append(ly[i])"
   ]
  },
  {
   "cell_type": "code",
   "execution_count": 5,
   "id": "21dc409f",
   "metadata": {},
   "outputs": [],
   "source": [
    "x = np.array(xt)\n",
    "y = np.array(yt)"
   ]
  },
  {
   "cell_type": "code",
   "execution_count": 6,
   "id": "ba406942",
   "metadata": {},
   "outputs": [],
   "source": [
    "n = len(x)\n",
    "sumx = sum(x)\n",
    "sumy = sum(y)\n",
    "sumxy = sum(x*y)\n",
    "sumx2 = sum(x**2)\n",
    "sumy2 = sum(y**2)\n",
    "promx = sumx/n\n",
    "promy = sumy/n"
   ]
  },
  {
   "cell_type": "code",
   "execution_count": 7,
   "id": "4e853c94",
   "metadata": {},
   "outputs": [
    {
     "data": {
      "text/plain": [
       "(0.816386961533224, 0.1827069085550168)"
      ]
     },
     "execution_count": 7,
     "metadata": {},
     "output_type": "execute_result"
    }
   ],
   "source": [
    "m = (sumx*sumy-(n*sumxy))/(sumx**2-(n*sumx2))\n",
    "b = promy - m*promx\n",
    "\n",
    "m, b"
   ]
  },
  {
   "cell_type": "code",
   "execution_count": 8,
   "id": "963d2cc9",
   "metadata": {},
   "outputs": [
    {
     "data": {
      "image/png": "[encoded data removed]",
      "text/plain": [
       "<Figure size 432x288 with 1 Axes>"
      ]
     },
     "metadata": {
      "needs_background": "light"
     },
     "output_type": "display_data"
    }
   ],
   "source": [
    "sns.scatterplot(x='x',y='y',data=df, label = \"Datos\")\n",
    "plt.plot(x, m*x + b, color = \"k\", label = \"Ajuste\")\n",
    "plt.legend(loc=\"upper right\")\n",
    "plt.title(\"Regresión polinomial aplicada a un intervalo de 0 a 1.5\")\n",
    "plt.show()"
   ]
  },
  {
   "cell_type": "code",
   "execution_count": 9,
   "id": "f491fc4f",
   "metadata": {},
   "outputs": [],
   "source": [
    "sigmax = np.sqrt((sumx2/n) - promx**2)\n",
    "sigmay = np.sqrt(sumy2/n - promy**2)\n",
    "covar = (sumxy/n) - (promx*promy)\n",
    "r2 = (covar/(sigmax*sigmay))**2"
   ]
  },
  {
   "cell_type": "code",
   "execution_count": 10,
   "id": "cfe27bfd",
   "metadata": {},
   "outputs": [
    {
     "data": {
      "text/plain": [
       "0.9316416262309265"
      ]
     },
     "execution_count": 10,
     "metadata": {},
     "output_type": "execute_result"
    }
   ],
   "source": [
    "r2"
   ]
  },
  {
   "cell_type": "markdown",
   "id": "e8fdb895",
   "metadata": {},
   "source": [
    "$m = 0.816386961533224,$ $f(0)=0.1827069085550168$, $r^2 = 0.9316416262309265,$"
   ]
  },
  {
   "cell_type": "markdown",
   "id": "6cdaeba8",
   "metadata": {},
   "source": [
    "### Comentario:\n",
    " \n",
    "Se puede ver que ese es un modelo que se ajusta muy bien a este intervalo de datos, ya que su $r^2$ fue muy cercano a 1. "
   ]
  },
  {
   "cell_type": "markdown",
   "id": "813136cb",
   "metadata": {},
   "source": [
    "## (B) Regresión polinomial\n",
    "Suponga que quiere realizar la siguiente regresión polinomial:$$y=\\beta+\\beta_1x+\\beta_2x^2+\\beta_2x^3+\\beta_2x^4+\\beta_2x^5.$$\n",
    "Plantee la función de costo que le permita calcular los coeficientes y calcule $\\beta_1$, $\\beta_2$, $\\beta_3$, $\\beta_4$, y $\\beta_5$. ¿Cuál es el $r^2$?\n",
    "\n",
    "Calcule $f(0)$ y compare con los resultados anteriores"
   ]
  },
  {
   "cell_type": "code",
   "execution_count": 11,
   "id": "a906ca40",
   "metadata": {},
   "outputs": [],
   "source": [
    "A = []\n",
    "for i in range(len(lx)):\n",
    "    A.append([1, lx[i], lx[i]**2, lx[i]**3, lx[i]**4, lx[i]**5])\n",
    "\n",
    "Mbgorro = np.matrix(A)\n",
    "\n",
    "b = np.array([ly]).reshape(-1,1)\n",
    "\n",
    "Mb = np.matrix(b)"
   ]
  },
  {
   "cell_type": "markdown",
   "id": "fc21e21b",
   "metadata": {},
   "source": [
    "## Función de costo:\n",
    "Algoritmo de Optimización por Newton Raphson"
   ]
  },
  {
   "cell_type": "code",
   "execution_count": 12,
   "id": "31a83c9e",
   "metadata": {},
   "outputs": [],
   "source": [
    "def L(k,Mbgorro,Mb):\n",
    "    \n",
    "    m,n = Mbgorro.shape\n",
    "    X = np.matrix(k).T\n",
    "    DeltaB=(Mbgorro*X - Mb) # bgorro - b\n",
    "    return (DeltaB.T*DeltaB)[0,0]/m # matriz 1x1\n",
    "\n",
    "def dLdx(k,Mbgorro,Mb): # gradiente de L\n",
    "    \n",
    "    m,n = Mbgorro.shape\n",
    "    X = np.matrix(k).T\n",
    "    DeltaB=(Mbgorro*X - Mb) \n",
    "    return (2/m)*np.array(Mbgorro.T*DeltaB).flatten() \n",
    "\n",
    "e = 1e-10"
   ]
  },
  {
   "cell_type": "code",
   "execution_count": 13,
   "id": "06ebb9a6",
   "metadata": {},
   "outputs": [
    {
     "data": {
      "text/plain": [
       "array([ 0.35735803, -0.84260309,  3.78478572, -3.00338579,  0.85844424,\n",
       "       -0.08305811])"
      ]
     },
     "execution_count": 13,
     "metadata": {},
     "output_type": "execute_result"
    }
   ],
   "source": [
    "res1 = sp.optimize.minimize(fun=L,x0=np.zeros(Mbgorro.shape[1]), args = (Mbgorro,Mb), tol=1e-10)\n",
    "res1['x']"
   ]
  },
  {
   "cell_type": "markdown",
   "id": "f15bb50d",
   "metadata": {},
   "source": [
    "$f(0)$ =  0.35735768,\n",
    "$\\beta_1$ = -0.84260174,\n",
    "$\\beta_2$ = 3.78478429,\n",
    "$\\beta_3$ = -3.00338516,\n",
    "$\\beta_4$ =  0.85844412,\n",
    "$\\beta_5$ = -0.08305811"
   ]
  },
  {
   "cell_type": "code",
   "execution_count": 14,
   "id": "7c34cce0",
   "metadata": {},
   "outputs": [
    {
     "data": {
      "text/plain": [
       "0.012550626817337412"
      ]
     },
     "execution_count": 14,
     "metadata": {},
     "output_type": "execute_result"
    }
   ],
   "source": [
    "L(res1['x'],Mbgorro,Mb)"
   ]
  },
  {
   "cell_type": "markdown",
   "id": "0129ccb0",
   "metadata": {},
   "source": [
    "#### Valor de la función de costo\n",
    "$L = 0.012550626817337412$"
   ]
  },
  {
   "cell_type": "code",
   "execution_count": 15,
   "id": "ebe38ee3",
   "metadata": {},
   "outputs": [],
   "source": [
    "k =  np.linspace(0,4,100)\n",
    "\n",
    "def Poli(c5,c4,c3,c2,c1,b,x):\n",
    "    return  b +  c1*x +c2*(x**2) + c3*(x**3)+ c4*(x**4) +c5*(x**5) "
   ]
  },
  {
   "cell_type": "code",
   "execution_count": 16,
   "id": "a81e0153",
   "metadata": {},
   "outputs": [],
   "source": [
    "pre = Poli(res1['x'][5],res1['x'][4],res1['x'][3],res1['x'][2],res1['x'][1],res1['x'][0],k)"
   ]
  },
  {
   "cell_type": "code",
   "execution_count": 17,
   "id": "f68307e1",
   "metadata": {},
   "outputs": [
    {
     "data": {
      "text/plain": [
       "0.9111078914676154"
      ]
     },
     "execution_count": 17,
     "metadata": {},
     "output_type": "execute_result"
    }
   ],
   "source": [
    "r2 = 1-np.sum((pre - ly)**2)/np.sum((ly-ly.mean())**2)\n",
    "r2"
   ]
  },
  {
   "cell_type": "markdown",
   "id": "d2e154c0",
   "metadata": {},
   "source": [
    "$r^2 = 0.9111078914676154$, $f(0)= 0.3573580251551316$\n",
    "\n",
    "### Comentario: \n",
    "\n",
    "Se puede ver que este modelo se ajusta muy bien al intérvalo completo de datos, ya que su $r^2$ fue muy cercano a 1. Comparándolo con el $r^2$ anterior, que igual a 0.9316416262309265 se ve que dieron muy parecidos. Igualmente, el intercepto anterior, que fue de 0.1827069085550168, también dio muy parecido a este intercepto."
   ]
  },
  {
   "cell_type": "code",
   "execution_count": 18,
   "id": "506941b6",
   "metadata": {},
   "outputs": [
    {
     "data": {
      "text/plain": [
       "<matplotlib.legend.Legend at 0x261aabf5a00>"
      ]
     },
     "execution_count": 18,
     "metadata": {},
     "output_type": "execute_result"
    },
    {
     "data": {
      "image/png": "[encoded data removed]",
      "text/plain": [
       "<Figure size 432x288 with 1 Axes>"
      ]
     },
     "metadata": {
      "needs_background": "light"
     },
     "output_type": "display_data"
    }
   ],
   "source": [
    "sns.scatterplot(x ='x',y ='y',data=df, label = \"Datos\")\n",
    "plt.plot(lx,pre,\"--\", color='k', label = \"Ajuste\")\n",
    "plt.title(\"Regresión polinomial\")\n",
    "plt.legend(loc=\"upper right\")"
   ]
  },
  {
   "cell_type": "markdown",
   "id": "197a99c8",
   "metadata": {},
   "source": [
    "\n",
    "## (C) Regresión polinomial exacta\n",
    "\n",
    "Resulta, que cuando se quiere hacer alguna regresión polinomial esta se puede hacer de forma exacta. ¿Cómo? Suponga que ud va a considerar que su problema en lugar de tener $1$ variable ($x$) tiene $n+1$, siendo $n$ el orden del polinomio a ajustar. Es decir, sus nuevas variables van a ser $\\{x_0,\\,x_1,\\,x_2,\\,x_3,\\dots,\\,x_n\\}$ definiendo $x_j=x^j$. Así pues, siguiendo el mismo procedimiento para la regresión lineal multidimensional que realizamos para el ejercicio de datos inmobiliarios, puede encontrar los valores de los coeficientes $\\beta_1$, $\\beta_2$, $\\beta_3$, $\\beta_4$, y $\\beta_5$. Encuentre estos valores y compare con los resultados en la sección (B).\n",
    "\n",
    "Calcule $f(0)$ y compare con los resultados anteriores.\n",
    "\n",
    "Si ud se pregunta si esto es posible la respuesta es sí. Inclusive, esto se puede extender a cualquier a cualquier conjunto de funciones, tal que $x_j=f_j(x)$, que represente un conjunto \"linealmente independiente\" (¡Me estoy adelantando a Fourier!). Para quienes quieran explorar algunas curiosidades matemáticas, cuando $n+1$ es igual al número de puntos o valores de $x$ (y todos diferentes) la matriz es siempre invertible y resulta ser la inversa de una matriz de Vandermonde."
   ]
  },
  {
   "cell_type": "code",
   "execution_count": 19,
   "id": "6bf68030",
   "metadata": {},
   "outputs": [],
   "source": [
    "lx = df[\"x\"]\n",
    "ly = df[\"y\"]"
   ]
  },
  {
   "cell_type": "code",
   "execution_count": 20,
   "id": "34805de2",
   "metadata": {},
   "outputs": [],
   "source": [
    "X = np.array(lx).reshape(-1, 1)\n",
    "Y = np.array(ly).reshape(-1, 1)\n",
    "\n",
    "P = np.array([np.ones([len(lx), 1]), X, X**2, X**3, X**4, X**5]).reshape(6, len(lx)).T\n",
    "coeffs = np.linalg.inv(P.T @ P) @ P.T @ Y"
   ]
  },
  {
   "cell_type": "code",
   "execution_count": 21,
   "id": "5f885a5c",
   "metadata": {},
   "outputs": [],
   "source": [
    "b, c1, c2, c3, c4, c5 = coeffs"
   ]
  },
  {
   "cell_type": "code",
   "execution_count": 22,
   "id": "cba59633",
   "metadata": {},
   "outputs": [
    {
     "data": {
      "text/plain": [
       "array([[ 0.35644669],\n",
       "       [-0.83588269],\n",
       "       [ 3.77276401],\n",
       "       [-2.99526012],\n",
       "       [ 0.85614705],\n",
       "       [-0.08282854]])"
      ]
     },
     "execution_count": 22,
     "metadata": {},
     "output_type": "execute_result"
    }
   ],
   "source": [
    "coeffs"
   ]
  },
  {
   "cell_type": "code",
   "execution_count": 23,
   "id": "b1f64d98",
   "metadata": {},
   "outputs": [],
   "source": [
    "Ajuste = b + (c1*X) + (c2*X**2) + (c3*X**3) +  (c4*X**4) + (c5*X**5)"
   ]
  },
  {
   "cell_type": "code",
   "execution_count": 24,
   "id": "6bee5766",
   "metadata": {},
   "outputs": [
    {
     "data": {
      "image/png": "[encoded data removed]",
      "text/plain": [
       "<Figure size 432x288 with 1 Axes>"
      ]
     },
     "metadata": {
      "needs_background": "light"
     },
     "output_type": "display_data"
    }
   ],
   "source": [
    "plt.figure()\n",
    "sns.scatterplot(x='x',y='y',data = df, label = \"datos\")\n",
    "plt.plot(X, Ajuste, c ='k', label = \"Ajuste\")\n",
    "plt.legend(loc=\"upper left\")\n",
    "plt.title(\"Regresión polinomial exacta\")\n",
    "plt.ylabel('y')\n",
    "plt.xlabel('x')\n",
    "plt.show()"
   ]
  },
  {
   "cell_type": "code",
   "execution_count": 25,
   "id": "92888b6f",
   "metadata": {},
   "outputs": [],
   "source": [
    "prediccion = np.array(P@coeffs).flatten()\n",
    "observacion = np.array(Y).flatten()\n",
    "k = observacion.mean()"
   ]
  },
  {
   "cell_type": "code",
   "execution_count": 26,
   "id": "4d14d88a",
   "metadata": {},
   "outputs": [],
   "source": [
    "r2 = 1 - (np.linalg.norm(prediccion - observacion)**2)/(np.linalg.norm(observacion - k)**2)"
   ]
  },
  {
   "cell_type": "code",
   "execution_count": 27,
   "id": "7ee9a350",
   "metadata": {},
   "outputs": [
    {
     "data": {
      "text/plain": [
       "(0.9199225041318263, array([0.35644669]))"
      ]
     },
     "execution_count": 27,
     "metadata": {},
     "output_type": "execute_result"
    }
   ],
   "source": [
    "r2, b"
   ]
  },
  {
   "cell_type": "markdown",
   "id": "13d39892",
   "metadata": {},
   "source": [
    "$r^2 = 0.9199225041318263,$ $f(0)=0.35644669$\n",
    "\n",
    "\n",
    "### Comentario: \n",
    "\n",
    "Se puede ver que este modelo se ajusta muy bien al intérvalo completo de datos, al igual que el anterior, incluso los valores son muy similares muy cercanos a 1. Igualmente, su intercepto anterior, que fue de 0.3573580251551316, también dio muy parecido a este intercepto, sus valores son casi iguales. "
   ]
  },
  {
   "cell_type": "markdown",
   "id": "47b01849",
   "metadata": {},
   "source": [
    "## (D) Regresión a un modelo teórico\n",
    "Suponga que su modelo teórico es el siguiente:$$y=\\frac{a}{\\left[(x-b)^2+c\\right]^\\gamma}.$$Halle $a$, $b$, $c$ y $\\gamma$.\n",
    "\n",
    "Calcule $f(0)$ y compare con los resultados anteriores"
   ]
  },
  {
   "cell_type": "code",
   "execution_count": 28,
   "id": "c894c8b7",
   "metadata": {},
   "outputs": [],
   "source": [
    "def f(parametro,x):  # parametros es un vector de 3 componentes\n",
    "    return (parametro[0])/((x-parametro[1])**2 + parametro[2])**parametro[3]\n",
    "\n",
    "def Lfit(parametro,x,y): # funcion de costo MSE (No es la mejor!)\n",
    "    # L = promedio sobre todos los puntos (f(a,b,c;x)-y)^2\n",
    "    # parametros np.array([a,b,c])\n",
    "    deltaY = f(parametro,x) - y\n",
    "    return np.dot(deltaY,deltaY)/len(y)\n",
    "e = 1e-8"
   ]
  },
  {
   "cell_type": "code",
   "execution_count": 29,
   "id": "71c6d63c",
   "metadata": {},
   "outputs": [],
   "source": [
    "res2 = sp.optimize.minimize(fun=Lfit, x0=np.array([0,1,0,0]), args = (x,y), method='L-BFGS-B', tol=e)"
   ]
  },
  {
   "cell_type": "code",
   "execution_count": 30,
   "id": "561471c7",
   "metadata": {},
   "outputs": [
    {
     "data": {
      "text/plain": [
       "array([0.94519587, 1.43859817, 0.7390972 , 1.12724243])"
      ]
     },
     "execution_count": 30,
     "metadata": {},
     "output_type": "execute_result"
    }
   ],
   "source": [
    "res2[\"x\"]"
   ]
  },
  {
   "cell_type": "markdown",
   "id": "5567236a",
   "metadata": {},
   "source": [
    " $a =0.94519587,$ $b = 1.43859817,$ $c = 0.7390972,$ $\\gamma = 1.12724243$."
   ]
  },
  {
   "cell_type": "code",
   "execution_count": 31,
   "id": "b27f7ab5",
   "metadata": {},
   "outputs": [],
   "source": [
    "pre2 = f(res2.x,lx)"
   ]
  },
  {
   "cell_type": "code",
   "execution_count": 32,
   "id": "fe324854",
   "metadata": {},
   "outputs": [
    {
     "data": {
      "text/plain": [
       "0.2950897972713322"
      ]
     },
     "execution_count": 32,
     "metadata": {},
     "output_type": "execute_result"
    }
   ],
   "source": [
    "b = f(res2.x,0)\n",
    "b"
   ]
  },
  {
   "cell_type": "markdown",
   "id": "78c4223b",
   "metadata": {},
   "source": [
    "$f(0)=0.2950897972713322$"
   ]
  },
  {
   "cell_type": "code",
   "execution_count": 33,
   "id": "21f075f2",
   "metadata": {},
   "outputs": [
    {
     "data": {
      "image/png": "[encoded data removed]",
      "text/plain": [
       "<Figure size 432x288 with 1 Axes>"
      ]
     },
     "metadata": {
      "needs_background": "light"
     },
     "output_type": "display_data"
    }
   ],
   "source": [
    "plt.figure()\n",
    "plt.scatter(lx,ly, label = \"Datos\")\n",
    "plt.plot(lx,pre2, c = 'k', label = \"Ajuste\")\n",
    "plt.legend(loc=\"upper left\")\n",
    "plt.title(\"Regresión a un modelo teórico\")\n",
    "plt.ylabel('y')\n",
    "plt.xlabel('x')\n",
    "plt.show()"
   ]
  },
  {
   "cell_type": "markdown",
   "id": "709a00fe",
   "metadata": {},
   "source": [
    "Al comparar este intercepto con los dos anteriores, aplicado al rango completo de datos, se puede ver que son muy similares, ya que todos dieron 0,3 aproximadamente. Cada modelo se ajustó muy bien a los datos, como es mostrado en las gráficas y en los $r^2$, cuyo valor, mientras más cercano a uno, más acertado es el modelo de regresión. De esto se deduce que existen infinitos modelos para correlacionar variables y que hay que observar cuál es el que mejor se ajusta  a través de la comparación de estos. "
   ]
  },
  {
   "cell_type": "code",
   "execution_count": null,
   "id": "05301545",
   "metadata": {},
   "outputs": [],
   "source": []
  }
 ],
 "metadata": {
  "kernelspec": {
   "display_name": "Python 3 (ipykernel)",
   "language": "python",
   "name": "python3"
  },
  "language_info": {
   "codemirror_mode": {
    "name": "ipython",
    "version": 3
   },
   "file_extension": ".py",
   "mimetype": "text/x-python",
   "name": "python",
   "nbconvert_exporter": "python",
   "pygments_lexer": "ipython3",
   "version": "3.9.7"
  },
  "toc-autonumbering": true
 },
 "nbformat": 4,
 "nbformat_minor": 5
}
