{
 "cells": [
  {
   "cell_type": "code",
   "execution_count": 31,
   "id": "53896781",
   "metadata": {},
   "outputs": [],
   "source": [
    "import numpy as np\n",
    "import matplotlib as mpl\n",
    "import pandas as pd\n",
    "import sklearn as sl\n",
    "import scipy as sp\n",
    "import statistics\n",
    "from matplotlib import pyplot as plt\n",
    "from mpl_toolkits.mplot3d import axes3d\n",
    "from matplotlib import cm\n",
    "from pylab import*\n",
    "from scipy import integrate\n",
    "%matplotlib inline\n"
   ]
  },
  {
   "cell_type": "markdown",
   "id": "8cde1837",
   "metadata": {},
   "source": [
    "# Tarea 5 y 6: Ecuación de difusión en 3 dimensiones\n",
    "\n",
    "Uds se preguntarán, ¿por qué vamos a resolver la ecuación de difusión? La respuesta no es muy obvia, pero es interesante: Los procesos de difusión comparten algo muy bonito con los procesos estocásticos. Para ello, vamos a analizar un problema de COVID: el tiempo medio estimado de infección de los viriones.\n",
    "\n",
    "La transmisión de COVID se da preponderamente debido a la aspersión de aerosoles en el aire. Estas partículas *semi*-esféricas -cuyo orden de magnitud es de $\\sim1-10\\,\\mu m$ de radio- están compuestas principalmente por agua, lípidos orgánicos y viriones (se pueden considerar *quasi*-puntuales ya que son del orden de los $\\sim100\\,nm$). Cuando una particula del aerosol entra y se adhiere al tracto respiratorio, el virus toma un tiempo en entrar en contacto con las células para infectar el huésped debido al movimiento Browniano. Los viriones, a diferencia de las bacterias, no cuentan con cilios, flagelos u otros mecanismos para desplazarse en los medios, por lo cual, su única esperanza es que por fluctuaciones térmicas puedan llegar a la superficie de la gota de aerosol para replicar su ADN al entrar en contacto con los tejidos susceptibles. Este proceso es en esencia estocástico y se puede modelar mediante la ecuación de Difusión. Esta ecuación tiene dos partes. La idea es que uds resuelvan el problema de la manera más sencilla. La ecuación es la siguiente,\n",
    "$$\n",
    "\\frac{\\partial\\Psi}{\\partial t}=D\\nabla^2\\Psi,\n",
    "$$\n",
    "donde $D$ es la constante de difusión del medio y $\\Psi$ es la concentración de partículas. La taza de difusión depende de la temperatura y la viscosidad del medio y se puede modelar usando la relación de Einstein-Stokes,\n",
    "$$\n",
    "D=\\frac{k_BT}{6\\pi\\eta a},\n",
    "$$\n",
    "siendo $k_B$ la constante de Boltzmann, $T$ la temperatura en grados Kelvin, $\\eta$ la viscosidad del medio y $a$ el radio de los viriones. En esencia, lo que la ecuación de difusión me está diciendo es que la concentración media de viriones depende de la posición y el tiempo. No obstante, para poder calcular el tiempo que tardaría un virión en alcanzar la superficie se puede modelar en la media usando la siguiente ecuación de difusión,\n",
    "$$\n",
    "-\\nabla^2\\tau=\\frac{1}{D},\n",
    "$$\n",
    "donde $\\tau$ es el tiempo medio que dependería de la posición en la que se encuentra inicialmente."
   ]
  },
  {
   "cell_type": "markdown",
   "id": "129c2d27",
   "metadata": {},
   "source": [
    "## 1. Escriba la ecuación de difusión para el tiempo $\\tau$ en coordenadas esféricas y asuma que $\\tau(r,\\theta,\\phi)\\simeq\\tau(r)$ ya que por simetría esférica sólo dependerá de la posición radial respecto al centro de la gotica (Usar **LaTex**)"
   ]
  },
  {
   "cell_type": "markdown",
   "id": "bbbdeed2",
   "metadata": {},
   "source": [
    "[**Escriba aquí**]\n",
    "\n",
    "Ejemplo de una ecuación:\n",
    "$$\n",
    "f(x)=\\frac{1}{x^2}\n",
    "$$\n",
    "\n",
    "Ecuacion de difusion para el tiempo\n",
    "\n",
    "$\\displaystyle  \\begin{array}{{>{\\displaystyle}l}}\n",
    "-\\nabla ^{2} \\tau =\\frac{1}{D}\\\\\n",
    "\\end{array}$\n",
    "\n",
    "$\\displaystyle -\\nabla ^{2} \\tau =\\frac{6\\pi \\eta a}{k_{B} T}$\n",
    "\n",
    "\n",
    "Tenemos que $\\displaystyle \\nabla ^{2} \\tau $ se puede expresar como \n",
    "\n",
    "\n",
    "\n",
    "$\\displaystyle \\nabla ^{2} \\tau ( r,\\theta ,\\phi ) =\\frac{1}{r^{2}}\\frac{\\partial }{\\partial r}\\left( r^{2}\\frac{\\partial \\tau }{\\partial r}\\right) +\\frac{1}{r^{2} sin\\theta }\\frac{\\partial }{\\partial \\theta }\\left( sin\\theta \\frac{\\partial \\tau }{\\partial \\theta }\\right) +\\frac{1}{r^{2} sen\\theta }\\frac{\\partial ^{2} \\tau }{\\partial \\phi ^{2}}$\n",
    "\n",
    "\n",
    "\n",
    "al tener la relacion $\\displaystyle \\tau ( r,\\theta ,\\phi ) \\approx \\tau ( r)$ se tiene\n",
    "\n",
    "\n",
    "\n",
    "$\\displaystyle \\nabla ^{2} \\tau ( r) =\\frac{1}{r^{2}}\\frac{\\partial }{\\partial r}\\left( r^{2}\\frac{\\partial \\tau }{\\partial r}\\right)$\n",
    "\n",
    "\n",
    "\n",
    "entonces reemplazamos en la ecuacion inicial\n",
    "\n",
    "\n",
    "\n",
    "$\\displaystyle -\\frac{1}{r^{2}}\\frac{\\partial }{\\partial r}\\left( r^{2}\\frac{\\partial \\tau }{\\partial r}\\right) =\\frac{6\\pi \\eta a}{k_{B} T}$\n",
    "\n",
    "\n",
    "\n",
    "$\\displaystyle \\frac{1}{r^{2}}\\left( 2r\\frac{\\partial \\tau }{\\partial r} +r^{2}\\frac{\\partial ^{2} \\tau }{\\partial r^{2}}\\right) =-\\frac{6\\pi \\eta a}{k_{B} T}$\n",
    "\n",
    "\n",
    "\n",
    "$\\displaystyle \\frac{\\partial ^{2} \\tau }{\\partial r^{2}} +\\frac{2}{r}\\frac{\\partial \\tau }{\\partial r} =-\\frac{6\\pi \\eta a}{k_{B} T}$\n",
    "\n",
    "\n",
    "\n",
    "$\\displaystyle \\frac{\\partial ^{2} \\tau }{\\partial r^{2}} +\\frac{2}{r}\\frac{\\partial \\tau }{\\partial r} +\\frac{6\\pi \\eta a}{k_{B} T} =0$\n"
   ]
  },
  {
   "cell_type": "markdown",
   "id": "58cfa4ac",
   "metadata": {},
   "source": [
    "## 2. Resuelva la ecuación diferencial para el tiempo de forma numérica y grafique\n",
    "\n",
    "Asuma las siguientes condiciones iniciales:\n",
    "1. $\\tau(R)=0$ ya que si el virión está en la superficie el tiempo debe ser naturalmente nulo.\n",
    "1. $\\tau^\\prime(r)=0$ ya que por simetría la derivada radial debe ser nula en el origen\n",
    "\n",
    "Suponga las siguientes condiciones:\n",
    "- $R=5\\mu m$ para el radio de la esfera de *quasi* agua (calcula el volumen $V$)\n",
    "- $\\eta_{\\text{H}_2\\text{O}}\\simeq1\\times10^{-3}\\,Pa\\cdot s$ (Pascales por segundo)\n",
    "- $\\frac{\\eta}{\\eta_{\\text{H}_2\\text{O}}}\\approx10^3\\to10^5$\n",
    "- $a\\simeq100\\,nm$\n",
    "- $V=\\frac{4}{3}\\pi a^3$\n",
    "- $k_BT\\simeq4.05\\times10^{-21}J$\n"
   ]
  },
  {
   "cell_type": "code",
   "execution_count": 32,
   "id": "85786e64",
   "metadata": {},
   "outputs": [
    {
     "data": {
      "image/png": "[encoded data removed]",
      "text/plain": [
       "<Figure size 432x288 with 1 Axes>"
      ]
     },
     "metadata": {
      "needs_background": "light"
     },
     "output_type": "display_data"
    },
    {
     "data": {
      "text/plain": [
       "array([ 1.92632630e+05,  1.92632630e+05,  1.92626165e+05,  1.92615392e+05,\n",
       "        1.92600309e+05,  1.92580916e+05,  1.92557214e+05,  1.92529203e+05,\n",
       "        1.92496882e+05,  1.92460251e+05,  1.92419312e+05,  1.92374062e+05,\n",
       "        1.92324504e+05,  1.92270635e+05,  1.92212458e+05,  1.92149971e+05,\n",
       "        1.92083174e+05,  1.92012068e+05,  1.91936653e+05,  1.91856928e+05,\n",
       "        1.91772893e+05,  1.91684549e+05,  1.91591896e+05,  1.91494933e+05,\n",
       "        1.91393661e+05,  1.91288080e+05,  1.91178189e+05,  1.91063988e+05,\n",
       "        1.90945478e+05,  1.90822658e+05,  1.90695530e+05,  1.90564091e+05,\n",
       "        1.90428343e+05,  1.90288286e+05,  1.90143919e+05,  1.89995243e+05,\n",
       "        1.89842257e+05,  1.89684962e+05,  1.89523358e+05,  1.89357444e+05,\n",
       "        1.89187220e+05,  1.89012687e+05,  1.88833845e+05,  1.88650693e+05,\n",
       "        1.88463232e+05,  1.88271461e+05,  1.88075381e+05,  1.87874991e+05,\n",
       "        1.87670292e+05,  1.87461284e+05,  1.87247966e+05,  1.87030338e+05,\n",
       "        1.86808401e+05,  1.86582155e+05,  1.86351599e+05,  1.86116734e+05,\n",
       "        1.85877559e+05,  1.85634075e+05,  1.85386281e+05,  1.85134178e+05,\n",
       "        1.84877765e+05,  1.84617043e+05,  1.84352012e+05,  1.84082671e+05,\n",
       "        1.83809021e+05,  1.83531061e+05,  1.83248791e+05,  1.82962213e+05,\n",
       "        1.82671324e+05,  1.82376127e+05,  1.82076620e+05,  1.81772803e+05,\n",
       "        1.81464677e+05,  1.81152242e+05,  1.80835497e+05,  1.80514442e+05,\n",
       "        1.80189078e+05,  1.79859405e+05,  1.79525422e+05,  1.79187130e+05,\n",
       "        1.78844528e+05,  1.78497617e+05,  1.78146397e+05,  1.77790867e+05,\n",
       "        1.77431027e+05,  1.77066878e+05,  1.76698420e+05,  1.76325652e+05,\n",
       "        1.75948575e+05,  1.75567188e+05,  1.75181492e+05,  1.74791486e+05,\n",
       "        1.74397171e+05,  1.73998546e+05,  1.73595612e+05,  1.73188369e+05,\n",
       "        1.72776816e+05,  1.72360954e+05,  1.71940782e+05,  1.71516300e+05,\n",
       "        1.71087510e+05,  1.70654409e+05,  1.70217000e+05,  1.69775281e+05,\n",
       "        1.69329252e+05,  1.68878914e+05,  1.68424266e+05,  1.67965309e+05,\n",
       "        1.67502043e+05,  1.67034467e+05,  1.66562582e+05,  1.66086387e+05,\n",
       "        1.65605883e+05,  1.65121069e+05,  1.64631946e+05,  1.64138513e+05,\n",
       "        1.63640771e+05,  1.63138720e+05,  1.62632359e+05,  1.62121689e+05,\n",
       "        1.61606709e+05,  1.61087419e+05,  1.60563821e+05,  1.60035912e+05,\n",
       "        1.59503695e+05,  1.58967168e+05,  1.58426331e+05,  1.57881185e+05,\n",
       "        1.57331729e+05,  1.56777964e+05,  1.56219890e+05,  1.55657506e+05,\n",
       "        1.55090813e+05,  1.54519810e+05,  1.53944498e+05,  1.53364876e+05,\n",
       "        1.52780945e+05,  1.52192704e+05,  1.51600154e+05,  1.51003295e+05,\n",
       "        1.50402126e+05,  1.49796647e+05,  1.49186860e+05,  1.48572762e+05,\n",
       "        1.47954355e+05,  1.47331639e+05,  1.46704614e+05,  1.46073278e+05,\n",
       "        1.45437634e+05,  1.44797680e+05,  1.44153416e+05,  1.43504843e+05,\n",
       "        1.42851961e+05,  1.42194769e+05,  1.41533268e+05,  1.40867457e+05,\n",
       "        1.40197337e+05,  1.39522907e+05,  1.38844168e+05,  1.38161119e+05,\n",
       "        1.37473761e+05,  1.36782094e+05,  1.36086117e+05,  1.35385830e+05,\n",
       "        1.34681234e+05,  1.33972329e+05,  1.33259114e+05,  1.32541590e+05,\n",
       "        1.31819756e+05,  1.31093613e+05,  1.30363160e+05,  1.29628398e+05,\n",
       "        1.28889327e+05,  1.28145946e+05,  1.27398255e+05,  1.26646255e+05,\n",
       "        1.25889946e+05,  1.25129327e+05,  1.24364399e+05,  1.23595161e+05,\n",
       "        1.22821614e+05,  1.22043758e+05,  1.21261592e+05,  1.20475116e+05,\n",
       "        1.19684331e+05,  1.18889237e+05,  1.18089833e+05,  1.17286119e+05,\n",
       "        1.16478097e+05,  1.15665764e+05,  1.14849123e+05,  1.14028171e+05,\n",
       "        1.13202911e+05,  1.12373341e+05,  1.11539461e+05,  1.10701272e+05,\n",
       "        1.09858774e+05,  1.09011966e+05,  1.08160849e+05,  1.07305422e+05,\n",
       "        1.06445685e+05,  1.05581640e+05,  1.04713285e+05,  1.03840620e+05,\n",
       "        1.02963646e+05,  1.02082362e+05,  1.01196769e+05,  1.00306867e+05,\n",
       "        9.94126550e+04,  9.85141336e+04,  9.76113028e+04,  9.67041625e+04,\n",
       "        9.57927128e+04,  9.48769536e+04,  9.39568850e+04,  9.30325069e+04,\n",
       "        9.21038194e+04,  9.11708224e+04,  9.02335159e+04,  8.92919000e+04,\n",
       "        8.83459747e+04,  8.73957399e+04,  8.64411956e+04,  8.54823419e+04,\n",
       "        8.45191787e+04,  8.35517060e+04,  8.25799240e+04,  8.16038324e+04,\n",
       "        8.06234314e+04,  7.96387210e+04,  7.86497011e+04,  7.76563717e+04,\n",
       "        7.66587329e+04,  7.56567846e+04,  7.46505269e+04,  7.36399597e+04,\n",
       "        7.26250830e+04,  7.16058969e+04,  7.05824014e+04,  6.95545964e+04,\n",
       "        6.85224819e+04,  6.74860580e+04,  6.64453247e+04,  6.54002818e+04,\n",
       "        6.43509296e+04,  6.32972678e+04,  6.22392966e+04,  6.11770160e+04,\n",
       "        6.01104259e+04,  5.90395263e+04,  5.79643173e+04,  5.68847989e+04,\n",
       "        5.58009709e+04,  5.47128336e+04,  5.36203867e+04,  5.25236305e+04,\n",
       "        5.14225647e+04,  5.03171895e+04,  4.92075049e+04,  4.80935108e+04,\n",
       "        4.69752072e+04,  4.58525942e+04,  4.47256717e+04,  4.35944398e+04,\n",
       "        4.24588984e+04,  4.13190476e+04,  4.01748873e+04,  3.90264176e+04,\n",
       "        3.78736384e+04,  3.67165497e+04,  3.55551516e+04,  3.43894441e+04,\n",
       "        3.32194270e+04,  3.20451006e+04,  3.08664646e+04,  2.96835193e+04,\n",
       "        2.84962644e+04,  2.73047001e+04,  2.61088264e+04,  2.49086432e+04,\n",
       "        2.37041505e+04,  2.24953484e+04,  2.12822368e+04,  2.00648158e+04,\n",
       "        1.88430854e+04,  1.76170454e+04,  1.63866960e+04,  1.51520372e+04,\n",
       "        1.39130689e+04,  1.26697911e+04,  1.14222039e+04,  1.01703073e+04,\n",
       "        8.91410116e+03,  7.65358559e+03,  6.38876056e+03,  5.11962608e+03,\n",
       "        3.84618215e+03,  2.56842876e+03,  1.28636591e+03, -6.38895069e-03])"
      ]
     },
     "execution_count": 32,
     "metadata": {},
     "output_type": "execute_result"
    }
   ],
   "source": [
    "R = 5*(10**-6)\n",
    "n = 100\n",
    "a = 1*(10**-7)\n",
    "kbT = 4.05*(10**-21)\n",
    "N = 300\n",
    "D = kbT/(6*np.pi*n*a)\n",
    "delta = R/N\n",
    "r = np.arange(0, R, delta)\n",
    "\n",
    "ki = 0\n",
    "kn = 0\n",
    "\n",
    "x = np.matrix([np.array([(r[i]-delta if j == i-1 and i > 0 else 0)for j in range(N)])for i in range(N)]) \n",
    "x += np.matrix([np.array([(-r[i]*2 if j == i else 0)for j in range(N)])for i in range(N)]) \n",
    "x += np.matrix([np.array([(r[i]+delta if j == i+1 and i < N-1 else 0)for j in range(N)])for i in range(N)]) \n",
    "\n",
    "x[0,:] = np.zeros(N)\n",
    "x[0,0] = x[-1,-1] = 1\n",
    "x[0,1] = -1\n",
    "\n",
    "k = (-r*(delta**2)/D)\n",
    "k[0] = ki\n",
    "k[-1] = kn\n",
    "k = np.matrix(k).T\n",
    "\n",
    "tiempo = np.array((np.linalg.inv(x)*k).T).flatten()\n",
    "radio = np.arange(0,5,5/N)\n",
    "\n",
    "plt.plot(radio, tiempo, c='r', linewidth=2)\n",
    "plt.xlabel(\"X\")\n",
    "plt.ylabel(\"Y\")\n",
    "\n",
    "plt.show()\n",
    "\n",
    "tiempo\n"
   ]
  },
  {
   "cell_type": "markdown",
   "id": "b020787a",
   "metadata": {},
   "source": [
    "## 3. Si los viriones están distribuidos uniformemente, encuentre el tiempo que tardaría un virión en salir de la gota de aerosol.\n",
    "\n",
    "Tenga presente que debe promediar suponiendo que el virión tiene una distribución uniforme, i.e. $\\rho\\left(\\vec{r}\\right)=1/V$, usando la siguiente relación,\n",
    "$$\n",
    "\\bar{\\tau} = \\int_{\\mathcal{V}}\\tau\\left(\\vec{r}\\right)\\rho\\left(\\vec{r}\\right)\\,\\text{d}\\vec{r} = \\frac{4\\pi}{V}\\int_{0}^{R}\\tau(r)\\,r^2\\text{d}r.\n",
    "$$\n",
    "Realice la integral numéricamente.\n",
    "\n",
    "$$\n",
    "\\frac{4\\pi }{V}R^{2}\\left ( c_{1}\\frac{R}{3}+c_{2}\\frac{1}{2}+\\frac{R^{3}}{30D} \\right )\n",
    "$$"
   ]
  },
  {
   "cell_type": "code",
   "execution_count": 33,
   "id": "e544361c",
   "metadata": {},
   "outputs": [
    {
     "data": {
      "text/plain": [
       "76056.01764731314"
      ]
     },
     "execution_count": 33,
     "metadata": {},
     "output_type": "execute_result"
    }
   ],
   "source": [
    "R = 5*(10**-6)\n",
    "r = 0.000001\n",
    "n = 100\n",
    "a = 1*(10**-7)\n",
    "V = (4/3)*(np.pi*(R**3))\n",
    "kbT = 4.05*(10**-21)\n",
    "N = 10000\n",
    "D = kbT/(6*np.pi*n*a)\n",
    "\n",
    "def t(r):\n",
    "    return(4*np.pi/V)*((R**2/(6*D))-(1/(6*D)*r**2))*(r**2)\n",
    "\n",
    "def  intSimpson(r,R,N,t):\n",
    "    x, dx = np.linspace(r,R,N, retstep= True )\n",
    "    return (dx/3)*(t(x[0]) + 2*np.sum(t(x[2:len(x)-1:2])) + 4*np.sum(t(x[1::2]))+t(x[-1]))\n",
    "\n",
    "value = intSimpson(r,R,N,t)\n",
    "\n",
    "value"
   ]
  },
  {
   "cell_type": "code",
   "execution_count": null,
   "id": "4374b2af-6f4d-491e-b964-9506869a17b3",
   "metadata": {},
   "outputs": [],
   "source": []
  },
  {
   "cell_type": "markdown",
   "id": "40b11e28",
   "metadata": {},
   "source": [
    "## 4. Las cadenas de Markov.\n",
    "\n",
    "Vamos a resolver el problema anterior usando un proceso de Markov. Suponga que ud **divide** la esfera en cubitos de ancho $\\delta x=\\delta y=\\delta z=\\Delta=R/N$ con $N$ un número determinado de particiones. Para nuestro experimento, vamos a suponer que ponemos un virión en una posición inicial $\\vec{r}_0=(\\Delta\\,j, 0, 0)$, determinada por un índice $j\\in\\{0,1,2,\\dots,N\\}$. Ud va a actualizar la posición del virión en la malla discreta siguiendo las reglas a continuación:\n",
    "- Determine el número de divisiones $N$ y calcule $\\Delta$.\n",
    "- Ajuste la escala de tiempo $\\delta t$ y de tal manera que la probabilidad $\\alpha=D\\frac{\\delta t}{\\Delta^2}<\\frac{1}{6}$. (Recomiendo $\\leq1/12$)\n",
    "- Haga una corrida de Markov-Monte Carlo actualizando la posición con la probabilidad de transición $\\alpha$ hacia los primeros vecinos cercanos y calcule el número de pasos de tiempo para llegar a la superficie, i.e. $|\\vec{r}(t_m)|>R-\\Delta$\n",
    "- Repita este experimento para la misma posición un gran número de veces para obtener una estadística (media y desviación estándar).\n",
    "- Repita todos los pasos para todos los índices $j\\in\\{0,1,2,\\dots,N\\}$ y grafique. ¡Compare con los resultados anteriores!"
   ]
  },
  {
   "cell_type": "code",
   "execution_count": 34,
   "id": "9ccd6471",
   "metadata": {},
   "outputs": [
    {
     "data": {
      "image/png": "[encoded data removed]",
      "text/plain": [
       "<Figure size 432x288 with 1 Axes>"
      ]
     },
     "metadata": {
      "needs_background": "light"
     },
     "output_type": "display_data"
    },
    {
     "data": {
      "text/plain": [
       "0.0016071428571428571"
      ]
     },
     "execution_count": 34,
     "metadata": {},
     "output_type": "execute_result"
    }
   ],
   "source": [
    "R = 2\n",
    "N = 30\n",
    "deltax = R/N\n",
    "x = np.arange(0,R,deltax)\n",
    "\n",
    "T = 4\n",
    "D = 1/14\n",
    "deltat = 1*(10**-4)\n",
    "t = np.arange(0,T,deltat)\n",
    "a0 = (D*deltat)/(deltax**2)\n",
    "\n",
    "assert a0 < 1/14\n",
    "\n",
    "def actualizar(r):\n",
    "    global a\n",
    "    \n",
    "    v = np.random.uniform(size = r)\n",
    "    neg = sum(v<a)\n",
    "    pos = sum(v<2*a) - neg\n",
    "    \n",
    "    return (neg,pos)\n",
    "\n",
    "def new_p(p):\n",
    "    deltap = np.array([actualizar(_p) for _p in p]).T\n",
    "    deltap[0,0] = 0\n",
    "    deltap[1,-1] = 0\n",
    "    dpn = np.roll(deltap[0],-1)\n",
    "    dpp = np.roll(deltap[1], 1)\n",
    "    deltap = np.sum(deltap, axis=0)\n",
    "    return p - deltap + dpn + dpp\n",
    "\n",
    "p = np.zeros(N, dtype=np.uint32)\n",
    "p[0] = 50\n",
    "p[N//2] = 150\n",
    "\n",
    "plt.scatter(x, p, c='r')\n",
    "plt.xlabel(\"X\")\n",
    "plt.ylabel(\"Y\")\n",
    "\n",
    "plt.show()\n",
    "\n",
    "a0"
   ]
  },
  {
   "cell_type": "code",
   "execution_count": null,
   "id": "0bd02378",
   "metadata": {
    "scrolled": true
   },
   "outputs": [],
   "source": []
  },
  {
   "cell_type": "code",
   "execution_count": 30,
   "id": "d975664b-050c-4be7-8a52-3121e7cbe1f3",
   "metadata": {},
   "outputs": [
    {
     "data": {
      "image/png": "[encoded data removed]",
      "text/plain": [
       "<Figure size 432x288 with 1 Axes>"
      ]
     },
     "metadata": {
      "needs_background": "light"
     },
     "output_type": "display_data"
    }
   ],
   "source": [
    "R = 2\n",
    "N = 50\n",
    "deltax = R/N\n",
    "x = np.arange(0,R,deltax)\n",
    "\n",
    "T = 4\n",
    "D = 1/14\n",
    "deltat = 1*(10**-4)\n",
    "t = np.arange(0,T,deltat)\n",
    "a1 = (D*deltat)/(deltax**2)\n",
    "\n",
    "assert a1 < 1/14\n",
    "\n",
    "def actualizar(r):\n",
    "    global a\n",
    "    \n",
    "    v = np.random.uniform(size = r)\n",
    "    neg = sum(v<a)\n",
    "    pos = sum(v<2*a) - neg\n",
    "    \n",
    "    return (neg,pos)\n",
    "\n",
    "def new_p(p):\n",
    "    deltap = np.array([actualizar(_p) for _p in p]).T\n",
    "    deltap[0,0] = 0\n",
    "    deltap[1,-1] = 0\n",
    "    dpn = np.roll(deltap[0],-1)\n",
    "    dpp = np.roll(deltap[1], 1)\n",
    "    deltap = np.sum(deltap, axis=0)\n",
    "    return p - deltap + dpn + dpp\n",
    "\n",
    "p = np.zeros(N, dtype=np.uint32)\n",
    "p[0] = 100\n",
    "p[N//2] = 150\n",
    "\n",
    "plt.scatter(x, p, c='r')\n",
    "plt.xlabel(\"X\")\n",
    "plt.ylabel(\"Y\")\n",
    "\n",
    "plt.show()"
   ]
  },
  {
   "cell_type": "markdown",
   "id": "6711799b",
   "metadata": {},
   "source": [
    "## 5. Diseñe un experimento para calcular el numeral (3) usando Markov-Monte Carlo\n"
   ]
  },
  {
   "cell_type": "code",
   "execution_count": null,
   "id": "bb32e8b1",
   "metadata": {},
   "outputs": [],
   "source": []
  }
 ],
 "metadata": {
  "kernelspec": {
   "display_name": "Python 3 (ipykernel)",
   "language": "python",
   "name": "python3"
  },
  "language_info": {
   "codemirror_mode": {
    "name": "ipython",
    "version": 3
   },
   "file_extension": ".py",
   "mimetype": "text/x-python",
   "name": "python",
   "nbconvert_exporter": "python",
   "pygments_lexer": "ipython3",
   "version": "3.7.12"
  }
 },
 "nbformat": 4,
 "nbformat_minor": 5
}
