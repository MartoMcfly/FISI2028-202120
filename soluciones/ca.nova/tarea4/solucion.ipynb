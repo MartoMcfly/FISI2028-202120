{
 "cells": [
  {
   "cell_type": "code",
   "execution_count": 1,
   "id": "856489d1",
   "metadata": {
    "id": "856489d1"
   },
   "outputs": [],
   "source": [
    "import numpy as np\n",
    "import pandas as pd\n",
    "import scipy as sp\n",
    "import sklearn as sl\n",
    "import seaborn as sns; sns.set()\n",
    "import matplotlib as mpl\n",
    "from sklearn.linear_model import LinearRegression\n",
    "from matplotlib import pyplot as plt\n",
    "from mpl_toolkits.mplot3d import axes3d\n",
    "from matplotlib import cm\n",
    "%matplotlib inline"
   ]
  },
  {
   "cell_type": "markdown",
   "id": "97e38dcb",
   "metadata": {
    "id": "97e38dcb"
   },
   "source": [
    "# Tarea 3: Encuentre la regresión\n",
    "\n",
    "Ud recibe unos datos $x$ y $y$ cómo se muestran a continuación. Ud debe responder cuatro preguntas a partir de estos datos. Suponga que ud tiene un modelo tal que $y=f(x)$ más aún desconoce $f$."
   ]
  },
  {
   "cell_type": "code",
   "execution_count": 2,
   "id": "a820f3b6",
   "metadata": {
    "colab": {
     "base_uri": "https://localhost:8080/",
     "height": 357
    },
    "id": "a820f3b6",
    "outputId": "39311897-c039-44d3-ba67-ccfcd0d121bb"
   },
   "outputs": [
    {
     "data": {
      "image/png": "[encoded data removed]",
      "text/plain": [
       "<Figure size 432x288 with 1 Axes>"
      ]
     },
     "metadata": {
      "needs_background": "light"
     },
     "output_type": "display_data"
    },
    {
     "data": {
      "text/html": [
       "<div>\n",
       "<style scoped>\n",
       "    .dataframe tbody tr th:only-of-type {\n",
       "        vertical-align: middle;\n",
       "    }\n",
       "\n",
       "    .dataframe tbody tr th {\n",
       "        vertical-align: top;\n",
       "    }\n",
       "\n",
       "    .dataframe thead th {\n",
       "        text-align: right;\n",
       "    }\n",
       "</style>\n",
       "<table border=\"1\" class=\"dataframe\">\n",
       "  <thead>\n",
       "    <tr style=\"text-align: right;\">\n",
       "      <th></th>\n",
       "      <th>x</th>\n",
       "      <th>y</th>\n",
       "    </tr>\n",
       "  </thead>\n",
       "  <tbody>\n",
       "    <tr>\n",
       "      <th>0</th>\n",
       "      <td>0.065859</td>\n",
       "      <td>0.277413</td>\n",
       "    </tr>\n",
       "    <tr>\n",
       "      <th>1</th>\n",
       "      <td>0.020931</td>\n",
       "      <td>0.202239</td>\n",
       "    </tr>\n",
       "    <tr>\n",
       "      <th>2</th>\n",
       "      <td>0.070312</td>\n",
       "      <td>0.307369</td>\n",
       "    </tr>\n",
       "    <tr>\n",
       "      <th>3</th>\n",
       "      <td>0.206166</td>\n",
       "      <td>0.367530</td>\n",
       "    </tr>\n",
       "    <tr>\n",
       "      <th>4</th>\n",
       "      <td>0.286572</td>\n",
       "      <td>0.491144</td>\n",
       "    </tr>\n",
       "    <tr>\n",
       "      <th>...</th>\n",
       "      <td>...</td>\n",
       "      <td>...</td>\n",
       "    </tr>\n",
       "    <tr>\n",
       "      <th>95</th>\n",
       "      <td>3.922613</td>\n",
       "      <td>0.225565</td>\n",
       "    </tr>\n",
       "    <tr>\n",
       "      <th>96</th>\n",
       "      <td>3.898473</td>\n",
       "      <td>0.000000</td>\n",
       "    </tr>\n",
       "    <tr>\n",
       "      <th>97</th>\n",
       "      <td>3.952111</td>\n",
       "      <td>0.141005</td>\n",
       "    </tr>\n",
       "    <tr>\n",
       "      <th>98</th>\n",
       "      <td>3.939211</td>\n",
       "      <td>0.115500</td>\n",
       "    </tr>\n",
       "    <tr>\n",
       "      <th>99</th>\n",
       "      <td>3.987120</td>\n",
       "      <td>0.048689</td>\n",
       "    </tr>\n",
       "  </tbody>\n",
       "</table>\n",
       "<p>100 rows × 2 columns</p>\n",
       "</div>"
      ],
      "text/plain": [
       "           x         y\n",
       "0   0.065859  0.277413\n",
       "1   0.020931  0.202239\n",
       "2   0.070312  0.307369\n",
       "3   0.206166  0.367530\n",
       "4   0.286572  0.491144\n",
       "..       ...       ...\n",
       "95  3.922613  0.225565\n",
       "96  3.898473  0.000000\n",
       "97  3.952111  0.141005\n",
       "98  3.939211  0.115500\n",
       "99  3.987120  0.048689\n",
       "\n",
       "[100 rows x 2 columns]"
      ]
     },
     "execution_count": 2,
     "metadata": {},
     "output_type": "execute_result"
    }
   ],
   "source": [
    "df = pd.read_pickle('ex1.gz')\n",
    "sns.scatterplot(x='x',y='y',data=df)\n",
    "plt.show()\n",
    "df\n"
   ]
  },
  {
   "cell_type": "markdown",
   "id": "bb797b4c",
   "metadata": {
    "id": "bb797b4c"
   },
   "source": [
    "## (A) Pendiente e intercepto\n",
    "Determine la pendiente de los datos en el intervalo $[0,1.5]$ y el valor del intercepto con el eje $y$. Es decir, $f(0)=?$. ¿Cuál es el valor de $r^2$?"
   ]
  },
  {
   "cell_type": "code",
   "execution_count": 3,
   "id": "15442804",
   "metadata": {
    "colab": {
     "base_uri": "https://localhost:8080/",
     "height": 231
    },
    "id": "15442804",
    "outputId": "646ff10f-0ace-46e4-9d2b-e62fbc210162"
   },
   "outputs": [
    {
     "name": "stdout",
     "output_type": "stream",
     "text": [
      "Intercepto:  [0.18270691]\n",
      "Pendiente:  [[0.81638696]]\n",
      "R^2:  0.9316416262309236\n"
     ]
    }
   ],
   "source": [
    "k = df[(df.x >= 0) & (df.x <= 1.5)]\n",
    "k\n",
    "x1= k['x'].values.reshape(-1,1)\n",
    "x2= k['y'].values.reshape(-1,1)\n",
    "\n",
    "modelo = LinearRegression()\n",
    "modelo.fit(x1,x2)\n",
    "intercepto = modelo.intercept_\n",
    "m = modelo.coef_\n",
    "r2 = modelo.score(x1,x2)\n",
    "\n",
    "print(\"Intercepto: \", intercepto)\n",
    "print(\"Pendiente: \", m)\n",
    "print(\"R^2: \", r2)\n",
    "\n"
   ]
  },
  {
   "cell_type": "markdown",
   "id": "8fab6ffc",
   "metadata": {
    "id": "8fab6ffc"
   },
   "source": [
    "\n",
    "\n",
    "\n",
    "\n",
    "\n",
    "\n",
    "\n",
    "\n",
    "## (B) Regresión polinomial\n",
    "Suponga que quiere realizar la siguiente regresión polinomial,\n",
    "$$y=\\beta_1+\\beta_2x+\\beta_2x^2+\\beta_2x^3+\\beta_2x^4+\\beta_2x^5.$$\n",
    "Plantee la función de costo que le permita calcular los coeficientes y calcule $\\beta_1$, $\\beta_2$, $\\beta_3$, $\\beta_4$, y $\\beta_5$. ¿Cuál es el $r^2$?\n",
    "\n",
    "Calcule $f(0)$ y compare con los resultados anteriores\n",
    "\n",
    "\n"
   ]
  },
  {
   "cell_type": "code",
   "execution_count": 4,
   "id": "GnlR1TqL5jOq",
   "metadata": {
    "id": "GnlR1TqL5jOq"
   },
   "outputs": [],
   "source": [
    "def L(x,A,b):\n",
    "    m,n = A.shape\n",
    "    X = np.matrix(x).T\n",
    "    DeltaB=(A*X-b)\n",
    "    \n",
    "    return (DeltaB.T*DeltaB)[0,0]/m "
   ]
  },
  {
   "cell_type": "code",
   "execution_count": 5,
   "id": "shkUkaOl5mAH",
   "metadata": {
    "colab": {
     "base_uri": "https://localhost:8080/",
     "height": 231
    },
    "id": "shkUkaOl5mAH",
    "outputId": "9706afd0-a4bc-4f58-845a-ff42204a825d"
   },
   "outputs": [],
   "source": [
    "Y = df.loc[:, ['y']]\n",
    "Y\n",
    "\n",
    "X = df.loc[:, ['x']].rename(columns={'x': 'x1'})\n",
    "X.insert(0, 'x0', 1)\n",
    "X['x2'] = X['x1']*X['x1']\n",
    "X['x3'] = X['x1']**3\n",
    "X['x4'] = X['x1']**4\n",
    "X['x5'] = X['x1']**5\n",
    "Xi = X.to_numpy()\n",
    "Yi = Y.to_numpy()"
   ]
  },
  {
   "cell_type": "code",
   "execution_count": 6,
   "id": "HpM0ZcCP5o61",
   "metadata": {
    "colab": {
     "base_uri": "https://localhost:8080/",
     "height": 197
    },
    "id": "HpM0ZcCP5o61",
    "outputId": "4249642b-09b9-4c2e-d7a1-6300c059e60c"
   },
   "outputs": [
    {
     "name": "stdout",
     "output_type": "stream",
     "text": [
      "El valor para los coeficientes es: [ 0.35735903 -0.8426113   3.78480048 -3.00339568  0.858447   -0.08305839]\n",
      "El valor para f(0): 0.35735903460277\n"
     ]
    }
   ],
   "source": [
    "op = sp.optimize.minimize(fun=L,x0=np.zeros(Xi.shape[1]), args = (Xi,Yi), tol=1e-10)\n",
    "print(\"El valor para los coeficientes es:\",op['x'])\n",
    "print(\"El valor para f(0):\",op['x'][0])"
   ]
  },
  {
   "cell_type": "code",
   "execution_count": 7,
   "id": "MliiTfqd5rhG",
   "metadata": {
    "colab": {
     "base_uri": "https://localhost:8080/",
     "height": 231
    },
    "id": "MliiTfqd5rhG",
    "outputId": "8814f3fc-49aa-4a73-977c-a4d73179fe47"
   },
   "outputs": [
    {
     "data": {
      "text/plain": [
       "0.9111078266547238"
      ]
     },
     "execution_count": 7,
     "metadata": {},
     "output_type": "execute_result"
    }
   ],
   "source": [
    "y = df[\"y\"]\n",
    "b = np.linspace(0,4,100)\n",
    "def f(a,b,c,d,e,f,x):\n",
    "    return a*x**5 + b*x**4 + c*x**3 + d*x**2 + e*x + f\n",
    "\n",
    "p = f(op['x'][5],op['x'][4],op['x'][3],op['x'][2],op['x'][1],op['x'][0],b)\n",
    "r2 = 1-np.sum((p-y)**2)/np.sum((y-y.mean())**2)\n",
    "r2"
   ]
  },
  {
   "cell_type": "code",
   "execution_count": 8,
   "id": "9ZNnoYz15v7K",
   "metadata": {
    "colab": {
     "base_uri": "https://localhost:8080/"
    },
    "id": "9ZNnoYz15v7K",
    "outputId": "cd41f286-cd0f-4adc-9662-0940e3dcf240"
   },
   "outputs": [
    {
     "name": "stdout",
     "output_type": "stream",
     "text": [
      "Es posible apreciar un resultado similar al metodo de la polinomial exacta, evidenciando que ambos metodos poseen una buena precision con solo algunas variaciones en cifras decimales\n"
     ]
    }
   ],
   "source": [
    "print(\"Es posible apreciar un resultado similar al metodo de la polinomial exacta, evidenciando que ambos metodos poseen una buena precision con solo algunas variaciones en cifras decimales\")"
   ]
  },
  {
   "cell_type": "markdown",
   "id": "0523e993",
   "metadata": {
    "id": "0523e993"
   },
   "source": [
    "## (C) Regresión polinomial exacta\n",
    "Resulta, que cuando se quiere hacer alguna regresión polinomial esta se puede hacer de forma exacta. ¿Cómo? Suponga que ud va a considerar que su problema en lugar de tener $1$ variable ($x$) tiene $n+1$, siendo $n$ el orden del polinomio a ajustar. Es decir, sus nuevas variables van a ser $\\{x_0,\\,x_1,\\,x_2,\\,x_3,\\dots,\\,x_n\\}$ definiendo $x_j=x^j$. Así pues, siguiendo el mismo procedimiento para la regresión lineal multidimensional que realizamos para el ejercicio de datos inmobiliarios, puede encontrar los valores de los coeficientes $\\beta_1$, $\\beta_2$, $\\beta_3$, $\\beta_4$, y $\\beta_5$. Encuentre estos valores y compare con los resultados en la sección **(B)**.\n",
    "\n",
    "Calcule $f(0)$ y compare con los resultados anteriores.\n",
    "\n",
    "> Si ud se pregunta si esto es posible la respuesta es sí. Inclusive, esto se puede extender a cualquier a cualquier conjunto de funciones, tal que $x_j=f_j(x)$, que represente un conjunto \"linealmente independiente\" (¡Me estoy adelantando a *Fourier*!). Para quienes quieran explorar algunas curiosidades matemáticas, cuando $n+1$ es igual al número de puntos o valores de $x$ (y todos diferentes) la matriz es siempre invertible y resulta ser la inversa de una matriz de Vandermonde."
   ]
  },
  {
   "cell_type": "code",
   "execution_count": 9,
   "id": "669b4a48",
   "metadata": {
    "colab": {
     "base_uri": "https://localhost:8080/",
     "height": 231
    },
    "id": "669b4a48",
    "outputId": "4d4bbf40-d47f-4dc1-bb91-0f8a5abdf4ea"
   },
   "outputs": [
    {
     "name": "stdout",
     "output_type": "stream",
     "text": [
      "los coeficientes son = [0.35644668],[-0.83588268],[3.77276401],[-2.99526012],[0.85614705],[-0.08282854]\n",
      "El valor de f(0) es : [0.35644668]\n"
     ]
    }
   ],
   "source": [
    "rt = np.linalg.inv(Xi.T @ Xi) @ Xi.T @ Yi\n",
    "b0, b1, b2, b3, b4, b5 = rt\n",
    "coefs = str(b0) +','+ str(b1) + ',' + str(b2) + ',' + str(b3) + ',' + str(b4) + ',' + str(b5)\n",
    "\n",
    "print(f\"los coeficientes son = {coefs}\")\n",
    "print(f\"El valor de f(0) es :\", rt[0])"
   ]
  },
  {
   "cell_type": "code",
   "execution_count": 10,
   "id": "9f6aca67",
   "metadata": {
    "colab": {
     "base_uri": "https://localhost:8080/"
    },
    "id": "9f6aca67",
    "outputId": "9a3f1323-437a-4c57-8a12-006b6058c371"
   },
   "outputs": [
    {
     "name": "stdout",
     "output_type": "stream",
     "text": [
      "Se confirma como el valor para f(0) resulta muy preciso al ser comparado con valor de la regresión polinomica y a su vez resulta ser exacto si analizamos lo esperado por la grafica \n"
     ]
    }
   ],
   "source": [
    "print(\"Se confirma como el valor para f(0) resulta muy preciso al ser comparado con valor de la regresión polinomica y a su vez resulta ser exacto si analizamos lo esperado por la grafica \")"
   ]
  },
  {
   "cell_type": "markdown",
   "id": "6427be3f",
   "metadata": {
    "id": "6427be3f"
   },
   "source": [
    "## (D) Regresión a un modelo teórico\n",
    "\n",
    "Suponga que su modelo teórico es el siguiente:\n",
    "$$y=\\frac{a}{\\left[(x-b)^2+c\\right]^\\gamma}.$$\n",
    "Halle $a$, $b$, $c$ y $\\gamma$.\n",
    "\n",
    "Calcule $f(0)$ y compare con los resultados anteriores"
   ]
  },
  {
   "cell_type": "code",
   "execution_count": 11,
   "id": "IPENwyA67zCB",
   "metadata": {
    "id": "IPENwyA67zCB"
   },
   "outputs": [],
   "source": [
    "def f(i,x):\n",
    "    return (i[0])/((x-i[1])**2 + i[2])**i[3]\n",
    "\n",
    "def L(i2,x,y): \n",
    "    dy = f(i2,x) - y\n",
    "    return np.dot(dy,dy)/len(y)\n"
   ]
  },
  {
   "cell_type": "code",
   "execution_count": 12,
   "id": "Tf7hi35172VP",
   "metadata": {
    "colab": {
     "base_uri": "https://localhost:8080/",
     "height": 231
    },
    "id": "Tf7hi35172VP",
    "outputId": "4a49e714-05ec-4427-a88a-95c4f8c49254"
   },
   "outputs": [
    {
     "name": "stdout",
     "output_type": "stream",
     "text": [
      "Los valores de a,b,c y omega son [0.68762883 1.39239679 0.49596189 0.93701312]\n",
      "El valor de f(0) es: 0.2987063706912142\n"
     ]
    }
   ],
   "source": [
    "x = df[\"x\"]\n",
    "op = sp.optimize.minimize(fun=L, x0=np.array([0,0,1,0]), args = (x,y), method='L-BFGS-B', tol=1e-8)\n",
    "\n",
    "print(\"Los valores de a,b,c y omega son\",op['x'])\n",
    "print(\"El valor de f(0) es:\", f(op.x,0))"
   ]
  },
  {
   "cell_type": "code",
   "execution_count": 13,
   "id": "J14UkrvS76-P",
   "metadata": {
    "colab": {
     "base_uri": "https://localhost:8080/"
    },
    "id": "J14UkrvS76-P",
    "outputId": "e11c9e28-5716-4772-935b-aa2540adf1b4"
   },
   "outputs": [
    {
     "name": "stdout",
     "output_type": "stream",
     "text": [
      "Con respecto a los dos anteriores metodos utilizados, este nos arrojo un valor de 0.2987 evidenciando menor presicion y exactitud, por lo que podriamos decir que este metodo es el menos optimo\n"
     ]
    }
   ],
   "source": [
    "print(\"Con respecto a los dos anteriores metodos utilizados, este nos arrojo un valor de 0.2987 evidenciando menor presicion y exactitud, por lo que podriamos decir que este metodo es el menos optimo\")"
   ]
  },
  {
   "cell_type": "markdown",
   "id": "7d46f0d6",
   "metadata": {
    "id": "7d46f0d6"
   },
   "source": [
    "# Tarea 4\n",
    "\n",
    "Con base a los métodos vistos en clase resuelva las siguientes dos preguntas"
   ]
  },
  {
   "cell_type": "markdown",
   "id": "49c62a47",
   "metadata": {
    "id": "49c62a47"
   },
   "source": [
    "## (A) Integrales\n",
    "\n",
    "* $\\int_{0}^{1}x^{-1/2}\\,\\text{d}x$\n",
    "* $\\int_{0}^{\\infty}e^{-x}\\ln{x}\\,\\text{d}x$\n",
    "* $\\int_{0}^{\\infty}\\frac{\\sin{x}}{x}\\,\\text{d}x$"
   ]
  },
  {
   "cell_type": "code",
   "execution_count": 14,
   "id": "84ee26d0",
   "metadata": {
    "id": "84ee26d0"
   },
   "outputs": [],
   "source": [
    "x0 = 0.0000001\n",
    "x1 = 1\n",
    "xi = 0.0000001\n",
    "xf =100\n",
    "\n",
    "n = 1000001\n",
    "\n",
    "def f1(x):\n",
    "    return x**(-1/2)\n",
    "\n",
    "def f2(x):\n",
    "    return np.exp(-x)*np.log(x)\n",
    "\n",
    "def f3(x):\n",
    "    return np.sin(x)/x\n"
   ]
  },
  {
   "cell_type": "code",
   "execution_count": 15,
   "id": "aLHy6ClGBH_P",
   "metadata": {
    "id": "aLHy6ClGBH_P"
   },
   "outputs": [],
   "source": [
    "def integral(ini, fin, n, f1):\n",
    "    x, delta_x = np.linspace( ini, fin, num=n-1 , retstep=True  )\n",
    "    \n",
    "    return (delta_x/3)*(   f1(x[0]) + 2*np.sum(f1(x[2:len(x)-1:2])) + 4*np.sum(f1(x[1::2])) + f1(x[-1]) )"
   ]
  },
  {
   "cell_type": "code",
   "execution_count": 16,
   "id": "Wn-3pxqAcScL",
   "metadata": {
    "colab": {
     "base_uri": "https://localhost:8080/"
    },
    "id": "Wn-3pxqAcScL",
    "outputId": "303e1a84-f79e-45ca-c189-ea756a987214"
   },
   "outputs": [
    {
     "name": "stdout",
     "output_type": "stream",
     "text": [
      "El valor de la primera integral corresponde a: 1.9996587005541837\n"
     ]
    }
   ],
   "source": [
    "f1_int = integral(x0, x1, n, f1)\n",
    "print(f\"El valor de la primera integral corresponde a: {f1_int}\")"
   ]
  },
  {
   "cell_type": "code",
   "execution_count": 17,
   "id": "kKXWLnr7cWTl",
   "metadata": {
    "colab": {
     "base_uri": "https://localhost:8080/"
    },
    "id": "kKXWLnr7cWTl",
    "outputId": "7da1cf25-e809-45b5-c21f-f68329aaa17b"
   },
   "outputs": [
    {
     "name": "stdout",
     "output_type": "stream",
     "text": [
      "El valor de la segunda integral corresponde a: -0.5773605551027813\n"
     ]
    }
   ],
   "source": [
    "f2_int = integral(xi, xf, n, f2)\n",
    "print(f\"El valor de la segunda integral corresponde a: {f2_int}\")"
   ]
  },
  {
   "cell_type": "code",
   "execution_count": 18,
   "id": "wHbPLQ2bcaPs",
   "metadata": {
    "colab": {
     "base_uri": "https://localhost:8080/"
    },
    "id": "wHbPLQ2bcaPs",
    "outputId": "17fdac76-3f8c-4c8f-c830-4a23d95bc81b"
   },
   "outputs": [
    {
     "name": "stdout",
     "output_type": "stream",
     "text": [
      "El valor de la tercera integral corresponde a: 1.5622248605373656\n"
     ]
    }
   ],
   "source": [
    "f3_int = integral(xi, xf, n, f3)\n",
    "print(f\"El valor de la tercera integral corresponde a: {f3_int}\")"
   ]
  },
  {
   "cell_type": "markdown",
   "id": "c26d5604",
   "metadata": {
    "id": "c26d5604"
   },
   "source": [
    "## (B) Fourier\n",
    "\n",
    "Calcule la transformada rápida de Fourier para la función de la **Tarea 3 (D)** en el intervalo $[0,4]$ ($k$ máximo $2\\pi n/L$ para $n=25$). Ajuste la transformada de Fourier para los datos de la **Tarea 3** usando el método de regresión exacto de la **Tarea 3 (C)** y compare con el anterior resultado. Para ambos ejercicios haga una interpolación y grafique para comparar."
   ]
  },
  {
   "cell_type": "code",
   "execution_count": 19,
   "id": "a58a714d",
   "metadata": {
    "colab": {
     "base_uri": "https://localhost:8080/",
     "height": 374
    },
    "id": "a58a714d",
    "outputId": "98f84c52-f8f0-45c8-d67d-58aaf0c800cc"
   },
   "outputs": [],
   "source": [
    "n = 25\n",
    "global x, y\n",
    "\n",
    "def a(j):\n",
    "    \n",
    "    r = 2*np.pi*j/4\n",
    "    y2 = y*np.cos(r*x)\n",
    "   \n",
    "    return sp.integrate.simpson(y2, x)\n",
    "\n",
    "def b(j):\n",
    "    \n",
    "    r = 2*np.pi*j/4\n",
    "    y2 = y*np.sin(r*x)\n",
    "    return sp.integrate.simpson(y2, x)\n",
    "    \n",
    "    \n",
    "a0 = np. array([a(j) for j in range(n)])\n",
    "b0 = np. array([b(j) for j in range(n)])\n"
   ]
  },
  {
   "cell_type": "code",
   "execution_count": 20,
   "id": "dd5b5733",
   "metadata": {
    "id": "dd5b5733"
   },
   "outputs": [
    {
     "data": {
      "image/png": "[encoded data removed]",
      "text/plain": [
       "<Figure size 432x288 with 1 Axes>"
      ]
     },
     "metadata": {
      "needs_background": "light"
     },
     "output_type": "display_data"
    }
   ],
   "source": [
    "\n",
    "x_lim = np.linspace(0, 4, 10000) \n",
    "r = np. array([2*np.pi*j/4 for j in range(n)])\n",
    "y_lim = np.sum([(a0[j]*np.cos(r[j]*x_lim)  +  b0[j]*np.sin(r[j]*x_lim)) for j in range(n)], axis=0)\n",
    "\n",
    "\n",
    "plt.plot(x_lim, (a0[0]*np.cos(r[0]*x_lim)  +  b0[0]*np.sin(r[0]*x_lim)), c=\"r\", linewidth = 2.0)\n",
    "plt.plot(x_lim, (a0[1]*np.cos(r[1]*x_lim)  +  b0[1]*np.sin(r[1]*x_lim)), c=\"g\", linewidth = 2.0 )\n",
    "plt.plot(x_lim, (a0[2]*np.cos(r[2]*x_lim)  +  b0[2]*np.sin(r[2]*x_lim)), c=\"b\", linewidth = 2.0 )\n",
    "plt.xlabel('x')\n",
    "plt.ylabel('y')\n",
    "plt.show()\n"
   ]
  },
  {
   "cell_type": "code",
   "execution_count": 21,
   "id": "72658b30",
   "metadata": {
    "id": "72658b30",
    "outputId": "5735a3e5-edca-47a4-f40d-816d007b2c9a"
   },
   "outputs": [
    {
     "data": {
      "image/png": "[encoded data removed]",
      "text/plain": [
       "<Figure size 432x288 with 1 Axes>"
      ]
     },
     "metadata": {
      "needs_background": "light"
     },
     "output_type": "display_data"
    }
   ],
   "source": [
    "plt.plot(x_lim, y_lim, c = \"r\", linewidth = 2.0)\n",
    "plt.show()\n"
   ]
  },
  {
   "cell_type": "code",
   "execution_count": null,
   "id": "320bf076-9937-488b-ae59-6a141b5b802c",
   "metadata": {},
   "outputs": [],
   "source": []
  },
  {
   "cell_type": "code",
   "execution_count": null,
   "id": "4223fd45-34f6-4cd8-91bd-635c60e4bbec",
   "metadata": {},
   "outputs": [],
   "source": []
  }
 ],
 "metadata": {
  "colab": {
   "name": "NovaCristian_tarea4.ipynb",
   "provenance": []
  },
  "kernelspec": {
   "display_name": "Python [conda env:fisi2028]",
   "language": "python",
   "name": "conda-env-fisi2028-py"
  },
  "language_info": {
   "codemirror_mode": {
    "name": "ipython",
    "version": 3
   },
   "file_extension": ".py",
   "mimetype": "text/x-python",
   "name": "python",
   "nbconvert_exporter": "python",
   "pygments_lexer": "ipython3",
   "version": "3.10.0"
  }
 },
 "nbformat": 4,
 "nbformat_minor": 5
}
