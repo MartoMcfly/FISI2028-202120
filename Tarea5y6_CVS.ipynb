{
 "cells": [
  {
   "cell_type": "code",
   "execution_count": 5,
   "id": "3d1daf68-74f1-40f1-a5ad-23a796c46214",
   "metadata": {},
   "outputs": [],
   "source": [
    "import numpy as np\n",
    "import pandas as pd\n",
    "import scipy as sp\n",
    "import sklearn as sl\n",
    "\n",
    "import matplotlib as mpl\n",
    "from matplotlib import pyplot as plt\n",
    "from mpl_toolkits.mplot3d import axes3d\n",
    "from matplotlib import cm\n",
    "%matplotlib inline"
   ]
  },
  {
   "cell_type": "markdown",
   "id": "cf4c00ca-7c26-4ce5-a533-0432a50ce2c3",
   "metadata": {},
   "source": [
    "1. Escriba la ecuación de difusión para el tiempo  en coordenadas esféricas y asuma que  ya que por simetría esférica sólo dependerá de la posición radial respecto al centro de la gotica (Usar LaTex)"
   ]
  },
  {
   "cell_type": "markdown",
   "id": "da2dc43f-5f82-46b8-80d4-64b84d05e68a",
   "metadata": {},
   "source": [
    "$$\\nabla^2\\tau=-\\frac{6\\pi\\eta a}{k_B T}$$\n",
    "$$\\nabla^2\\tau=\\frac{1}{r^2} \\frac{\\partial}{\\partial_r}(r^2 \\frac{\\partial_t}{\\partial_r})+ \\frac{1}{r^2 \\sin\\theta}\\frac{\\partial}{\\partial_\\theta}(\\sin\\theta \\frac{\\partial_t}{\\partial_\\theta})+\\frac{1}{r^2 \\sin\\theta}(\\frac{\\partial^2 t}{\\partial \\varphi^2})$$\n",
    "$$\\nabla^2\\tau=\\frac{1}{r^2} \\frac{\\partial}{\\partial_r}(r^2 \\frac{\\partial_t}{\\partial_r})+0+0$$\n",
    "$$\\frac{1}{r^2} \\frac{\\partial}{\\partial_r}(r^2 \\frac{\\partial_t}{\\partial_r})=-\\frac{6\\pi\\eta a}{k_B T}$$\n",
    "$$\\frac{1}{r^2}[(2r\\frac{\\partial_t}{\\partial_r}+r^2 \\frac{\\partial_t^2}{\\partial_r^2})]=-\\frac{6\\pi\\eta a}{k_B T}$$\n",
    "$$\\frac{\\partial_t^2}{\\partial_r^2}+\\frac{2\\partial_t}{r\\partial_r}=-\\frac{6\\pi\\eta a}{k_B T}$$\n",
    "$$\\frac{\\partial_t^2}{\\partial_r^2}+\\frac{2\\partial_t}{r\\partial_r}+\\frac{6\\pi\\eta a}{k_B T}=0$$\n"
   ]
  },
  {
   "cell_type": "markdown",
   "id": "c2dd2301-ce64-4ca8-a5fc-f8844bcf86ce",
   "metadata": {},
   "source": [
    "2. Resuelva la ecuación diferencial para el tiempo de forma numérica y grafique"
   ]
  },
  {
   "cell_type": "code",
   "execution_count": 6,
   "id": "242b83be-6ce1-4460-9484-a256aecb18c5",
   "metadata": {},
   "outputs": [],
   "source": [
    "E = 1*10**(-3)*(10**5)\n",
    "A = 1*10**(-7)\n",
    "D = (4.05*10**(-21))/(6*np.pi*E*A)\n",
    "R = 5*10**(-6)\n",
    "N = 200\n",
    "dr = (R)/(N)"
   ]
  },
  {
   "cell_type": "code",
   "execution_count": 7,
   "id": "970233ce-56f3-442b-867a-477a4438b5df",
   "metadata": {},
   "outputs": [],
   "source": [
    "c0 = 0\n",
    "cN = 0\n",
    "r = np.arange(0, R, dr)"
   ]
  },
  {
   "cell_type": "code",
   "execution_count": 8,
   "id": "8341b800-6388-4047-81c5-ec64ebcf8ddc",
   "metadata": {},
   "outputs": [],
   "source": [
    "f = np.matrix([np.array([(r[i]-dr if j == i-1 and i > 0 else 0)for j in range(N)])for i in range(N) ]) # primera fila\n",
    "f = f + np.matrix([np.array([(-2*r[i] if j == i else 0)for j in range(N)])for i in range(N) ]) # primera fila\n",
    "f = f + np.matrix([np.array([(r[i]+dr if j == i+1 and i < N-1 else 0)for j in range(N)])for i in range(N) ]) # última fila\n",
    "\n",
    "f[0,:] = np.zeros(N)\n",
    "f[0,0] = 1\n",
    "f[0,1] = -1\n",
    "f[-1, -1] = 1\n"
   ]
  },
  {
   "cell_type": "code",
   "execution_count": 9,
   "id": "09c99953-262f-49da-b341-3aa82d9ccf36",
   "metadata": {},
   "outputs": [],
   "source": [
    "c = (-r*(dr**2)/D)\n",
    "c[0] = c0\n",
    "c[-1] = cN\n",
    "c = np.matrix(c).T"
   ]
  },
  {
   "cell_type": "code",
   "execution_count": 10,
   "id": "b52324a1-1e12-4e05-9780-26bfff9b3c7d",
   "metadata": {},
   "outputs": [],
   "source": [
    "Tau = np.array((np.linalg.inv(f)*c).T).flatten()\n",
    "r1 = np.arange(0,5,5/N)"
   ]
  },
  {
   "cell_type": "code",
   "execution_count": 11,
   "id": "87454b94-6dde-4cea-af14-700fd904514e",
   "metadata": {},
   "outputs": [
    {
     "data": {
      "text/plain": [
       "Text(0, 0.5, 'Tau')"
      ]
     },
     "execution_count": 11,
     "metadata": {},
     "output_type": "execute_result"
    },
    {
     "data": {
      "image/png": "[encoded data removed]",
      "text/plain": [
       "<Figure size 432x288 with 1 Axes>"
      ]
     },
     "metadata": {
      "needs_background": "light"
     },
     "output_type": "display_data"
    }
   ],
   "source": [
    "plt.plot(r1, Tau, label=\"Solucion\")\n",
    "plt.legend()\n",
    "plt.xlabel(\"r\")\n",
    "plt.ylabel(\"Tau\")"
   ]
  },
  {
   "cell_type": "markdown",
   "id": "1f641725-7224-42d7-ac6b-5435317ed177",
   "metadata": {},
   "source": [
    "3. Si los viriones están distribuidos uniformemente, encuentre el tiempo que tardaría un virión en salir de la gota de aerosol."
   ]
  },
  {
   "cell_type": "code",
   "execution_count": 12,
   "id": "806949df-8bf9-45a2-a9e8-94e156394fba",
   "metadata": {},
   "outputs": [],
   "source": [
    "V = (4/3)*np.pi*(R**3)"
   ]
  },
  {
   "cell_type": "code",
   "execution_count": 13,
   "id": "ec3b81d6-d1ee-4fe1-b28f-dd8fb87c5a76",
   "metadata": {},
   "outputs": [],
   "source": [
    "T = sp.integrate.simpson(4*np.pi*Tau*(r**2)/V, r)"
   ]
  },
  {
   "cell_type": "code",
   "execution_count": 14,
   "id": "647f61d7-31dc-438d-bb43-a02cd117803d",
   "metadata": {},
   "outputs": [
    {
     "name": "stdout",
     "output_type": "stream",
     "text": [
      "75650.1968281572\n"
     ]
    }
   ],
   "source": [
    "print (T)"
   ]
  },
  {
   "cell_type": "markdown",
   "id": "82661594-c46c-4900-8284-57eb0013b004",
   "metadata": {},
   "source": [
    "4. Las cadenas de Markov."
   ]
  },
  {
   "cell_type": "code",
   "execution_count": null,
   "id": "879c069c-7ede-47d9-a088-10e6944ee4a3",
   "metadata": {},
   "outputs": [],
   "source": [
    "N = 100\n",
    "dx = R/N\n",
    "\n",
    "x = np.arange(0,R,dx)\n",
    "dt = 1e-4\n",
    "t = np.arange(0,T,dt)\n",
    "\n",
    "alpha = D*dt/dx**2\n",
    "\n",
    "assert alpha < 1/12\n",
    "\n",
    "print('Resumen:'\n",
    "     f'\\n  alpha={alpha}'\n",
    "     f'\\n  dx={dx}'\n",
    "     f'\\n  dt={dt}')"
   ]
  },
  {
   "cell_type": "code",
   "execution_count": null,
   "id": "424ea633-9198-4e1f-be6e-75506b929b58",
   "metadata": {},
   "outputs": [],
   "source": [
    "def actualiza_objetos(n):\n",
    "    global alpha\n",
    "    # esta funcion me dice de n objetos cuantos van a la izquierda y cuantos a la derecha\n",
    "    v = np.random.uniform(size=n)\n",
    "    izq = sum(v<alpha)\n",
    "    der = sum(v<2*alpha) - izq\n",
    "    return (izq,der)\n",
    "\n",
    "def actualiza_phi(phi):\n",
    "    # calcular cuantos se van a la derecha y cuantos a la izquierda\n",
    "    dphi = np.array([actualiza_objetos(_phi) for _phi in phi]).T\n",
    "    # verificar cuantos hay.... reajustar cuantos se van: condiciones de frontera\n",
    "    dphi[0,0] = 0\n",
    "    dphi[1,-1] = 0\n",
    "    # sumar los q tenia phi0 + los q llegan - los q se van\n",
    "    dphi_izq = np.roll(dphi[0],-1)\n",
    "    dphi_der = np.roll(dphi[1], 1)\n",
    "    dphi = np.sum(dphi, axis=0)\n",
    "    return phi-dphi+dphi_izq+dphi_der"
   ]
  },
  {
   "cell_type": "code",
   "execution_count": null,
   "id": "71d66881-c248-4acf-aec7-9ff80d470877",
   "metadata": {},
   "outputs": [],
   "source": [
    "phi = np.zeros(N, dtype=np.uint32)\n",
    "# condiciones iniciales\n",
    "phi[0] = N*dx\n",
    "phi[N//2] = 15\n",
    "plt.scatter(x, phi)"
   ]
  },
  {
   "cell_type": "code",
   "execution_count": null,
   "id": "002ebd25-939e-4881-bee3-e2ff7f485c7b",
   "metadata": {},
   "outputs": [],
   "source": [
    "phi = np.zeros(N, dtype=np.uint32)\n",
    "# condiciones iniciales\n",
    "phi[0] = N*dx\n",
    "phi[N//-400] = 15\n",
    "plt.scatter(x, phi)"
   ]
  },
  {
   "cell_type": "code",
   "execution_count": null,
   "id": "0dfd2a6c-d497-4bba-8198-d8bba9a97d12",
   "metadata": {},
   "outputs": [],
   "source": [
    "phi = np.zeros(N, dtype=np.uint32)\n",
    "# condiciones iniciales\n",
    "phi[0] = N*dx\n",
    "phi[N//400] = 15\n",
    "plt.scatter(x, phi)"
   ]
  },
  {
   "cell_type": "code",
   "execution_count": null,
   "id": "820c95d2-44e0-4b44-9f90-a6596c1856af",
   "metadata": {},
   "outputs": [],
   "source": [
    "from matplotlib import animation, rc\n",
    "from IPython.display import HTML\n",
    "\n",
    "# First set up the figure, the axis, and the plot element we want to animate\n",
    "fig, ax = plt.subplots()\n",
    "\n",
    "ax.set_xlim(( 0, L))\n",
    "ax.set_ylim((0, max(phi)))\n",
    "ax.set_ylim(auto=True, ymin=0, ymax=max(phi))\n",
    "\n",
    "line, = ax.plot([], [], 'o', lw=2)\n",
    "\n",
    "# initialization function: plot the background of each frame\n",
    "def init():\n",
    "    line.set_data([], [])\n",
    "    return (line,)\n",
    "\n",
    "# animation function. This is called sequentially\n",
    "def animate(i):\n",
    "    global phi\n",
    "    phi = actualiza_phi(phi)\n",
    "    line.set_data(x, phi)\n",
    "    return (line,)\n",
    "\n",
    "### call the animator. blit=True means only re-draw the parts that have changed.\n",
    "\n",
    "anim = animation.FuncAnimation(fig, animate, init_func=init,\n",
    "                               frames=200, interval=40, blit=True)\n",
    "\n",
    "# equivalent to rcParams['animation.html'] = 'html5'\n",
    "rc('animation', html='jshtml')\n",
    "rc\n",
    "tohtml = anim.to_jshtml()\n",
    "plt.clf()\n",
    "\n",
    "HTML(tohtml)"
   ]
  }
 ],
 "metadata": {
  "kernelspec": {
   "display_name": "Python 3 (ipykernel)",
   "language": "python",
   "name": "python3"
  },
  "language_info": {
   "codemirror_mode": {
    "name": "ipython",
    "version": 3
   },
   "file_extension": ".py",
   "mimetype": "text/x-python",
   "name": "python",
   "nbconvert_exporter": "python",
   "pygments_lexer": "ipython3",
   "version": "3.7.12"
  }
 },
 "nbformat": 4,
 "nbformat_minor": 5
}
